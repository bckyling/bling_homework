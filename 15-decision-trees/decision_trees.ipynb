{
 "cells": [
  {
   "cell_type": "markdown",
   "metadata": {
    "slideshow": {
     "slide_type": "slide"
    }
   },
   "source": [
    "<img src=\"http://imgur.com/1ZcRyrc.png\" style=\"float: left; margin: 20px; height: 55px\">\n",
    " \n",
    "# Decision Trees\n",
    " \n",
    "_Author: Joseph Nelson (DC)_\n",
    "\n",
    "*Adapted from Chapter 8 of [An Introduction to Statistical Learning](http://www-bcf.usc.edu/~gareth/ISL/)*\n",
    "\n",
    "---"
   ]
  },
  {
   "cell_type": "markdown",
   "metadata": {
    "slideshow": {
     "slide_type": "slide"
    }
   },
   "source": [
    "## Learning Objectives\n",
    "\n",
    "Students will be able to:\n",
    "\n",
    "- Explain how a decision tree is created.\n",
    "- Build a decision tree model in scikit-learn.\n",
    "- Tune a decision tree model and explain how tuning impacts the model.\n",
    "- Interpret a tree diagram.\n",
    "- Describe the key differences between regression and classification trees.\n",
    "- Decide whether or not a decision tree is an appropriate model for a given problem."
   ]
  },
  {
   "cell_type": "markdown",
   "metadata": {
    "slideshow": {
     "slide_type": "skip"
    }
   },
   "source": [
    "## Lesson Guide\n",
    "\n",
    "- [Introduction](#introduction)\n",
    "\n",
    "\n",
    "- [Part 1: Regression Trees](#part-one)\n",
    "    - [Group Exercise](#group-exercise)\n",
    "    - [Building a Regression Tree by Hand](#by-hand)\n",
    "    - [How Does a Computer build a Regression Tree?](#computer-build)\n",
    "    - [Demo: Choosing the Ideal Cutpoint for a Given Feature](#cutpoint-demo)\n",
    "    - [Building a Regression Tree in `scikit-learn`](#sklearn-tree)\n",
    "    - [What Happens When We Grow a Tree Too Deep?](#too-deep)\n",
    "    - [Tuning a Regression Tree](#tuning-tree)\n",
    "    - [Making Predictions for the Testing Data](#testing-preds)\n",
    "\n",
    "\n",
    "- [Part 2: Classification Trees](#part-two)\n",
    "    - [Comparing Regression Trees and Classification Trees](#comparing-trees)\n",
    "    - [Splitting Criteria for Classification Trees](#splitting-criteria)\n",
    "    - [Building a Classification Tree in `scikit-learn`](#sklearn-ctree)\n",
    "\n",
    "\n",
    "- [Summary: Comparing Decision Trees With Other Models](#part-three)"
   ]
  },
  {
   "cell_type": "markdown",
   "metadata": {
    "slideshow": {
     "slide_type": "slide"
    }
   },
   "source": [
    "<a id=\"introduction\"></a>\n",
    "## Introduction\n",
    "\n",
    "In this lesson, we will be exploring **decision trees** and **random forests**. These are non-parametric models that can either be used for regression or classification. \n",
    "\n",
    "You are likely very familiar with decision trees already! For example, take this graphic from the New York Times. It explains how to predict whether Barack Obama or Hillary Clinton will win the Democratic primary in a particular county in 2008. At the same time, it informs which features might be most important to predict an Obama or Clinton win:\n",
    "\n",
    "![Obama-Clinton decision tree](assets/obama_clinton_tree.jpg)\n",
    "\n",
    "**Random forests** are groups of decision trees created using different subsets and feature sets of the training data. Each tree \"votes\" on a classification."
   ]
  },
  {
   "cell_type": "markdown",
   "metadata": {
    "slideshow": {
     "slide_type": "slide"
    }
   },
   "source": [
    "### Why are we learning about decision trees?\n",
    "\n",
    "- They can be applied to both regression and classification problems.\n",
    "- They are easy to explain to others (interpretable).\n",
    "- They are very popular among data scientists.\n",
    "- They are the basis for more sophisticated models.\n",
    "- They have a different way of \"thinking\" than the other models we have studied."
   ]
  },
  {
   "cell_type": "markdown",
   "metadata": {
    "slideshow": {
     "slide_type": "slide"
    }
   },
   "source": [
    "<a id=\"part-one\"></a>\n",
    "# Part 1: Regression Trees\n",
    "\n",
    "In this section, we will make decision trees that predict numeric data. Instead of returning a class, we will return a single numeric value for each set of conditions.\n",
    "\n",
    "For example, the following tree predicts Major League Baseball salaries based on Years playing in the major leagues and Hits the previous year. Only three different salaries are ever predicted (the average salaries of players that meet each set of conditions): \n",
    "\n",
    "![Salary tree](assets/salary_tree.png)\n",
    "\n",
    "The salary has been divided by 1,000 and log-normalized, for example a salary of \\$166,000 refers to the number:\n",
    "\n",
    "$$5.11 = \\ln(\\$166000/1000)$$\n",
    "\n",
    "Similarly, 6.00 is \\$403,000, and 6.74 is \\$846,000. A natural log transform was made because some salaries are much higher than others, leading to a non-ideal long-tail distribution.\n",
    "\n",
    "\n",
    "Our dataset will be Major League Baseball player data from 1986–87:\n",
    "\n",
    "- **Years** (x-axis): Number of years playing in the major leagues.\n",
    "- **Hits** (y-axis): Number of hits in the previous year.\n",
    "- **Salary** (color): Low salary is blue/green, high salary is red/yellow."
   ]
  },
  {
   "cell_type": "markdown",
   "metadata": {
    "slideshow": {
     "slide_type": "slide"
    }
   },
   "source": [
    "![Salary data](assets/salary_color.png)"
   ]
  },
  {
   "cell_type": "markdown",
   "metadata": {
    "slideshow": {
     "slide_type": "slide"
    }
   },
   "source": [
    "<a id=\"group-exercise\"></a>\n",
    "### Group Exercise\n",
    "\n",
    "- The data set above is our **training data**.\n",
    "- We want to build a model that predicts the salary of **future players** based on years and hits.\n",
    "- We are going to \"segment\" the feature space into regions, and then use the **mean salary in each region** as the predicted Salary for future players.\n",
    "- Intuitively, you want to **maximize** the similarity (or \"homogeneity\") within a given region, and **minimize** the similarity between different regions.\n",
    "\n",
    "#### Rules for Segmenting\n",
    "\n",
    "- You can only use **straight lines** that are drawn one at a time.\n",
    "- Your line must either be **vertical or horizontal**.\n",
    "- Your line **stops** when it hits an existing line.\n",
    "\n",
    "---"
   ]
  },
  {
   "cell_type": "markdown",
   "metadata": {
    "slideshow": {
     "slide_type": "slide"
    }
   },
   "source": [
    "**Solution (only look AFTER the group exercise!):** [Salary regions](assets/salary_regions.png)"
   ]
  },
  {
   "cell_type": "markdown",
   "metadata": {
    "slideshow": {
     "slide_type": "slide"
    }
   },
   "source": [
    "As shown in the solution above, the regions created by a computer are:\n",
    "\n",
    "- $R_1$: Players with **less than 5 years** of experience and a mean salary of **\\$166,000**.\n",
    "- $R_2$: Players with **5 or more years** of experience and **less than 118 hits** and mean salary of **\\$403,000**.\n",
    "- $R_3$: Players with **5 or more years** of experience and **118 hits or more** and mean Salary of **\\$846,000**.\n",
    "\n",
    "**Note:** Years and hits are both integers, but the convention is to use the **midpoint** between adjacent values to label a split.\n",
    "\n",
    "These regions are used to make predictions for **out-of-sample data**. Thus, there are only three possible predictions! (Is this different from how **linear regression** makes predictions?)\n",
    "\n",
    "Below is the equivalent regression tree:"
   ]
  },
  {
   "cell_type": "markdown",
   "metadata": {
    "slideshow": {
     "slide_type": "slide"
    }
   },
   "source": [
    "![Salary tree](assets/salary_tree.png)"
   ]
  },
  {
   "cell_type": "markdown",
   "metadata": {
    "slideshow": {
     "slide_type": "slide"
    }
   },
   "source": [
    "The first split is **years < 4.5**, thus that split goes at the top of the tree. When a splitting rule is **true**, you follow the left branch. When a splitting rule is **false**, you follow the right branch.\n",
    "\n",
    "For players in the **left branch**, the mean salary is \\$166,000, thus you label it with that value. (Salary has been divided by 1,000 and log-transformed to 5.11.)\n",
    "\n",
    "For players in the **right branch**, there is a further split on **hits < 117.5**, dividing players into two more salary regions: \\$403,000 (transformed to 6.00), and \\$846,000 (transformed to 6.74)."
   ]
  },
  {
   "cell_type": "markdown",
   "metadata": {
    "slideshow": {
     "slide_type": "slide"
    }
   },
   "source": [
    "![Salary tree annotated](assets/salary_tree_annotated.png)"
   ]
  },
  {
   "cell_type": "markdown",
   "metadata": {
    "slideshow": {
     "slide_type": "slide"
    }
   },
   "source": [
    "**What does this tree tell you about your data?**\n",
    "\n",
    "- Years is the most important factor determining salary, with a lower number of years corresponding to a lower salary.\n",
    "- For a player with a lower number of years, hits is not an important factor in determining salary.\n",
    "- For a player with a higher number of years, hits is an important factor in determining salary, with a greater number of hits corresponding to a higher salary.\n",
    "\n",
    "**Question:** What do you like and dislike about decision trees so far?"
   ]
  },
  {
   "cell_type": "markdown",
   "metadata": {
    "slideshow": {
     "slide_type": "slide"
    }
   },
   "source": [
    "<a id=\"by-hand\"></a>\n",
    "## Building a Regression Tree by Hand\n",
    "\n",
    "Your **training data** is a tiny data set of [used vehicle sale prices](./data/vehicles_train.csv). Your goal is to **predict price** for testing data.\n",
    "\n",
    "1. Read the data into a Pandas DataFrame.\n",
    "2. Explore the data by sorting, plotting, or performing split-apply-combine (a.k.a. `group_by`).\n",
    "3. Decide which feature is the most important predictor, and use that to create your first splitting rule.\n",
    "    - Only binary splits are allowed.\n",
    "4. After making your first split, split your DataFrame into two parts and then explore each part to figure out what other splits to make.\n",
    "5. Stop making splits once you are convinced that it strikes a good balance between underfitting and overfitting.\n",
    "    - Your goal is to build a model that generalizes well.\n",
    "    - You are allowed to split on the same variable multiple times.\n",
    "6. Draw your tree, labeling the leaves with the mean price for the observations in that region.\n",
    "    - Make sure nothing is backwards: You follow the **left branch** if the rule is true and the **right branch** if the rule is false."
   ]
  },
  {
   "cell_type": "markdown",
   "metadata": {
    "slideshow": {
     "slide_type": "slide"
    }
   },
   "source": [
    "<a id=\"computer-build\"></a>\n",
    "## How Does a Computer Build a Regression Tree?\n",
    "\n",
    "**Ideal approach:** Considering every possible partition of the feature space (computationally infeasible).\n",
    "\n",
    "**\"Good enough\" approach:** Recursive binary splitting.\n",
    "\n",
    "1. Begin at the top of the tree.\n",
    "2. For **every feature**, examine **every possible cutpoint**, and choose the feature and cutpoint so that the resulting tree has the lowest possible mean squared error (MSE). Make that split.\n",
    "3. Examine the two resulting regions. Once again, make a **single split** (in one of the regions) to minimize the MSE.\n",
    "4. Keep repeating Step 3 until a **stopping criterion** is met:\n",
    "    - Maximum tree depth (maximum number of splits required to arrive at a leaf).\n",
    "    - Minimum number of observations in a leaf.\n",
    "\n",
    "---\n",
    "\n",
    "This is a **greedy algorithm** because it makes locally optimal decisions -- it takes the best split at each step. A greedy algorithm hopes that a series of locally optimal decisions might be optimal overall; however, this is not always the case. For example:\n",
    "\n",
    "- Always eating cookies to maximize your immediate happiness (greedy) might not lead to optimal overall happiness.\n",
    "\n",
    "- In our case, reorganizing parts of the tree already constructed based on future splits might result in a better model overall. "
   ]
  },
  {
   "cell_type": "markdown",
   "metadata": {
    "slideshow": {
     "slide_type": "slide"
    }
   },
   "source": [
    "<a id=\"cutpoint-demo\"></a>\n",
    "### Demo: Choosing the Ideal Cutpoint for a Given Feature"
   ]
  },
  {
   "cell_type": "code",
   "execution_count": 1,
   "metadata": {
    "slideshow": {
     "slide_type": "slide"
    }
   },
   "outputs": [],
   "source": [
    "import pandas as pd\n",
    "import matplotlib.pyplot as plt\n",
    "\n",
    "# allow plots to appear in the notebook\n",
    "%matplotlib inline\n",
    "plt.rcParams['figure.figsize'] = (6, 4)\n",
    "plt.rcParams['font.size'] = 14\n",
    "\n",
    "# Vehicle data\n",
    "path = './data/vehicles_train.csv'\n",
    "train = pd.read_csv(path)"
   ]
  },
  {
   "cell_type": "code",
   "execution_count": 2,
<<<<<<< HEAD
   "metadata": {},
||||||| merged common ancestors
   "metadata": {
    "collapsed": false
   },
=======
   "metadata": {
    "slideshow": {
     "slide_type": "slide"
    }
   },
>>>>>>> upstream/master
   "outputs": [
    {
     "data": {
      "text/html": [
       "<div>\n",
       "<style scoped>\n",
       "    .dataframe tbody tr th:only-of-type {\n",
       "        vertical-align: middle;\n",
       "    }\n",
       "\n",
       "    .dataframe tbody tr th {\n",
       "        vertical-align: top;\n",
       "    }\n",
       "\n",
       "    .dataframe thead th {\n",
       "        text-align: right;\n",
       "    }\n",
       "</style>\n",
       "<table border=\"1\" class=\"dataframe\">\n",
       "  <thead>\n",
       "    <tr style=\"text-align: right;\">\n",
       "      <th></th>\n",
       "      <th>price</th>\n",
       "      <th>year</th>\n",
       "      <th>miles</th>\n",
       "      <th>doors</th>\n",
       "      <th>vtype</th>\n",
       "      <th>prediction</th>\n",
       "    </tr>\n",
       "  </thead>\n",
       "  <tbody>\n",
       "    <tr>\n",
       "      <th>0</th>\n",
       "      <td>22000</td>\n",
       "      <td>2012</td>\n",
       "      <td>13000</td>\n",
       "      <td>2</td>\n",
       "      <td>car</td>\n",
       "      <td>6571.428571</td>\n",
       "    </tr>\n",
       "    <tr>\n",
       "      <th>1</th>\n",
       "      <td>14000</td>\n",
       "      <td>2010</td>\n",
       "      <td>30000</td>\n",
       "      <td>2</td>\n",
       "      <td>car</td>\n",
       "      <td>6571.428571</td>\n",
       "    </tr>\n",
       "    <tr>\n",
       "      <th>2</th>\n",
       "      <td>13000</td>\n",
       "      <td>2010</td>\n",
       "      <td>73500</td>\n",
       "      <td>4</td>\n",
       "      <td>car</td>\n",
       "      <td>6571.428571</td>\n",
       "    </tr>\n",
       "    <tr>\n",
       "      <th>3</th>\n",
       "      <td>9500</td>\n",
       "      <td>2009</td>\n",
       "      <td>78000</td>\n",
       "      <td>4</td>\n",
       "      <td>car</td>\n",
       "      <td>6571.428571</td>\n",
       "    </tr>\n",
       "    <tr>\n",
       "      <th>4</th>\n",
       "      <td>9000</td>\n",
       "      <td>2007</td>\n",
       "      <td>47000</td>\n",
       "      <td>4</td>\n",
       "      <td>car</td>\n",
       "      <td>6571.428571</td>\n",
       "    </tr>\n",
       "    <tr>\n",
       "      <th>5</th>\n",
       "      <td>4000</td>\n",
       "      <td>2006</td>\n",
       "      <td>124000</td>\n",
       "      <td>2</td>\n",
       "      <td>car</td>\n",
       "      <td>6571.428571</td>\n",
       "    </tr>\n",
       "    <tr>\n",
       "      <th>6</th>\n",
       "      <td>3000</td>\n",
       "      <td>2004</td>\n",
       "      <td>177000</td>\n",
       "      <td>4</td>\n",
       "      <td>car</td>\n",
       "      <td>6571.428571</td>\n",
       "    </tr>\n",
       "    <tr>\n",
       "      <th>7</th>\n",
       "      <td>2000</td>\n",
       "      <td>2004</td>\n",
       "      <td>209000</td>\n",
       "      <td>4</td>\n",
       "      <td>truck</td>\n",
       "      <td>6571.428571</td>\n",
       "    </tr>\n",
       "    <tr>\n",
       "      <th>8</th>\n",
       "      <td>3000</td>\n",
       "      <td>2003</td>\n",
       "      <td>138000</td>\n",
       "      <td>2</td>\n",
       "      <td>car</td>\n",
       "      <td>6571.428571</td>\n",
       "    </tr>\n",
       "    <tr>\n",
       "      <th>9</th>\n",
       "      <td>1900</td>\n",
       "      <td>2003</td>\n",
       "      <td>160000</td>\n",
       "      <td>4</td>\n",
       "      <td>car</td>\n",
       "      <td>6571.428571</td>\n",
       "    </tr>\n",
       "    <tr>\n",
       "      <th>10</th>\n",
       "      <td>2500</td>\n",
       "      <td>2003</td>\n",
       "      <td>190000</td>\n",
       "      <td>2</td>\n",
       "      <td>truck</td>\n",
       "      <td>6571.428571</td>\n",
       "    </tr>\n",
       "    <tr>\n",
       "      <th>11</th>\n",
       "      <td>5000</td>\n",
       "      <td>2001</td>\n",
       "      <td>62000</td>\n",
       "      <td>4</td>\n",
       "      <td>car</td>\n",
       "      <td>6571.428571</td>\n",
       "    </tr>\n",
       "    <tr>\n",
       "      <th>12</th>\n",
       "      <td>1800</td>\n",
       "      <td>1999</td>\n",
       "      <td>163000</td>\n",
       "      <td>2</td>\n",
       "      <td>truck</td>\n",
       "      <td>6571.428571</td>\n",
       "    </tr>\n",
       "    <tr>\n",
       "      <th>13</th>\n",
       "      <td>1300</td>\n",
       "      <td>1997</td>\n",
       "      <td>138000</td>\n",
       "      <td>4</td>\n",
       "      <td>car</td>\n",
       "      <td>6571.428571</td>\n",
       "    </tr>\n",
       "  </tbody>\n",
       "</table>\n",
       "</div>"
      ],
      "text/plain": [
       "    price  year   miles  doors  vtype   prediction\n",
       "0   22000  2012   13000      2    car  6571.428571\n",
       "1   14000  2010   30000      2    car  6571.428571\n",
       "2   13000  2010   73500      4    car  6571.428571\n",
       "3    9500  2009   78000      4    car  6571.428571\n",
       "4    9000  2007   47000      4    car  6571.428571\n",
       "5    4000  2006  124000      2    car  6571.428571\n",
       "6    3000  2004  177000      4    car  6571.428571\n",
       "7    2000  2004  209000      4  truck  6571.428571\n",
       "8    3000  2003  138000      2    car  6571.428571\n",
       "9    1900  2003  160000      4    car  6571.428571\n",
       "10   2500  2003  190000      2  truck  6571.428571\n",
       "11   5000  2001   62000      4    car  6571.428571\n",
       "12   1800  1999  163000      2  truck  6571.428571\n",
       "13   1300  1997  138000      4    car  6571.428571"
      ]
     },
     "execution_count": 2,
     "metadata": {},
     "output_type": "execute_result"
    }
   ],
   "source": [
    "# Before splitting anything, just predict the mean of the entire data set.\n",
    "train['prediction'] = train.price.mean()\n",
    "train"
   ]
  },
  {
   "cell_type": "code",
   "execution_count": 3,
<<<<<<< HEAD
   "metadata": {},
||||||| merged common ancestors
   "metadata": {
    "collapsed": false
   },
=======
   "metadata": {
    "slideshow": {
     "slide_type": "slide"
    }
   },
>>>>>>> upstream/master
   "outputs": [
    {
     "data": {
      "text/plain": [
       "5936.981985995983"
      ]
     },
     "execution_count": 3,
     "metadata": {},
     "output_type": "execute_result"
    }
   ],
   "source": [
    "# Calculate RMSE for those predictions.\n",
    "from sklearn import metrics\n",
    "import numpy as np\n",
    "\n",
    "np.sqrt(metrics.mean_squared_error(train.price, train.prediction))"
   ]
  },
  {
   "cell_type": "code",
   "execution_count": 4,
   "metadata": {
    "slideshow": {
     "slide_type": "slide"
    }
   },
   "outputs": [],
   "source": [
    "# Define a function that calculates the RMSE for a given split of miles.\n",
    "def mileage_split(miles):\n",
    "    lower_mileage_price = train[train.miles < miles].price.mean()\n",
    "    higher_mileage_price = train[train.miles >= miles].price.mean()\n",
    "    train['prediction'] = np.where(train.miles < miles, \n",
    "                                   lower_mileage_price, \n",
    "                                   higher_mileage_price)\n",
    "    return np.sqrt(metrics.mean_squared_error(train.price, train.prediction))"
   ]
  },
  {
   "cell_type": "code",
   "execution_count": 5,
<<<<<<< HEAD
   "metadata": {},
||||||| merged common ancestors
   "metadata": {
    "collapsed": false
   },
=======
   "metadata": {
    "slideshow": {
     "slide_type": "slide"
    }
   },
>>>>>>> upstream/master
   "outputs": [
    {
     "name": "stdout",
     "output_type": "stream",
     "text": [
      "RMSE: 3984.0917425414564\n"
     ]
    },
    {
     "data": {
      "text/html": [
       "<div>\n",
       "<style scoped>\n",
       "    .dataframe tbody tr th:only-of-type {\n",
       "        vertical-align: middle;\n",
       "    }\n",
       "\n",
       "    .dataframe tbody tr th {\n",
       "        vertical-align: top;\n",
       "    }\n",
       "\n",
       "    .dataframe thead th {\n",
       "        text-align: right;\n",
       "    }\n",
       "</style>\n",
       "<table border=\"1\" class=\"dataframe\">\n",
       "  <thead>\n",
       "    <tr style=\"text-align: right;\">\n",
       "      <th></th>\n",
       "      <th>price</th>\n",
       "      <th>year</th>\n",
       "      <th>miles</th>\n",
       "      <th>doors</th>\n",
       "      <th>vtype</th>\n",
       "      <th>prediction</th>\n",
       "    </tr>\n",
       "  </thead>\n",
       "  <tbody>\n",
       "    <tr>\n",
       "      <th>0</th>\n",
       "      <td>22000</td>\n",
       "      <td>2012</td>\n",
       "      <td>13000</td>\n",
       "      <td>2</td>\n",
       "      <td>car</td>\n",
       "      <td>15000.000000</td>\n",
       "    </tr>\n",
       "    <tr>\n",
       "      <th>1</th>\n",
       "      <td>14000</td>\n",
       "      <td>2010</td>\n",
       "      <td>30000</td>\n",
       "      <td>2</td>\n",
       "      <td>car</td>\n",
       "      <td>15000.000000</td>\n",
       "    </tr>\n",
       "    <tr>\n",
       "      <th>2</th>\n",
       "      <td>13000</td>\n",
       "      <td>2010</td>\n",
       "      <td>73500</td>\n",
       "      <td>4</td>\n",
       "      <td>car</td>\n",
       "      <td>4272.727273</td>\n",
       "    </tr>\n",
       "    <tr>\n",
       "      <th>3</th>\n",
       "      <td>9500</td>\n",
       "      <td>2009</td>\n",
       "      <td>78000</td>\n",
       "      <td>4</td>\n",
       "      <td>car</td>\n",
       "      <td>4272.727273</td>\n",
       "    </tr>\n",
       "    <tr>\n",
       "      <th>4</th>\n",
       "      <td>9000</td>\n",
       "      <td>2007</td>\n",
       "      <td>47000</td>\n",
       "      <td>4</td>\n",
       "      <td>car</td>\n",
       "      <td>15000.000000</td>\n",
       "    </tr>\n",
       "    <tr>\n",
       "      <th>5</th>\n",
       "      <td>4000</td>\n",
       "      <td>2006</td>\n",
       "      <td>124000</td>\n",
       "      <td>2</td>\n",
       "      <td>car</td>\n",
       "      <td>4272.727273</td>\n",
       "    </tr>\n",
       "    <tr>\n",
       "      <th>6</th>\n",
       "      <td>3000</td>\n",
       "      <td>2004</td>\n",
       "      <td>177000</td>\n",
       "      <td>4</td>\n",
       "      <td>car</td>\n",
       "      <td>4272.727273</td>\n",
       "    </tr>\n",
       "    <tr>\n",
       "      <th>7</th>\n",
       "      <td>2000</td>\n",
       "      <td>2004</td>\n",
       "      <td>209000</td>\n",
       "      <td>4</td>\n",
       "      <td>truck</td>\n",
       "      <td>4272.727273</td>\n",
       "    </tr>\n",
       "    <tr>\n",
       "      <th>8</th>\n",
       "      <td>3000</td>\n",
       "      <td>2003</td>\n",
       "      <td>138000</td>\n",
       "      <td>2</td>\n",
       "      <td>car</td>\n",
       "      <td>4272.727273</td>\n",
       "    </tr>\n",
       "    <tr>\n",
       "      <th>9</th>\n",
       "      <td>1900</td>\n",
       "      <td>2003</td>\n",
       "      <td>160000</td>\n",
       "      <td>4</td>\n",
       "      <td>car</td>\n",
       "      <td>4272.727273</td>\n",
       "    </tr>\n",
       "    <tr>\n",
       "      <th>10</th>\n",
       "      <td>2500</td>\n",
       "      <td>2003</td>\n",
       "      <td>190000</td>\n",
       "      <td>2</td>\n",
       "      <td>truck</td>\n",
       "      <td>4272.727273</td>\n",
       "    </tr>\n",
       "    <tr>\n",
       "      <th>11</th>\n",
       "      <td>5000</td>\n",
       "      <td>2001</td>\n",
       "      <td>62000</td>\n",
       "      <td>4</td>\n",
       "      <td>car</td>\n",
       "      <td>4272.727273</td>\n",
       "    </tr>\n",
       "    <tr>\n",
       "      <th>12</th>\n",
       "      <td>1800</td>\n",
       "      <td>1999</td>\n",
       "      <td>163000</td>\n",
       "      <td>2</td>\n",
       "      <td>truck</td>\n",
       "      <td>4272.727273</td>\n",
       "    </tr>\n",
       "    <tr>\n",
       "      <th>13</th>\n",
       "      <td>1300</td>\n",
       "      <td>1997</td>\n",
       "      <td>138000</td>\n",
       "      <td>4</td>\n",
       "      <td>car</td>\n",
       "      <td>4272.727273</td>\n",
       "    </tr>\n",
       "  </tbody>\n",
       "</table>\n",
       "</div>"
      ],
      "text/plain": [
       "    price  year   miles  doors  vtype    prediction\n",
       "0   22000  2012   13000      2    car  15000.000000\n",
       "1   14000  2010   30000      2    car  15000.000000\n",
       "2   13000  2010   73500      4    car   4272.727273\n",
       "3    9500  2009   78000      4    car   4272.727273\n",
       "4    9000  2007   47000      4    car  15000.000000\n",
       "5    4000  2006  124000      2    car   4272.727273\n",
       "6    3000  2004  177000      4    car   4272.727273\n",
       "7    2000  2004  209000      4  truck   4272.727273\n",
       "8    3000  2003  138000      2    car   4272.727273\n",
       "9    1900  2003  160000      4    car   4272.727273\n",
       "10   2500  2003  190000      2  truck   4272.727273\n",
       "11   5000  2001   62000      4    car   4272.727273\n",
       "12   1800  1999  163000      2  truck   4272.727273\n",
       "13   1300  1997  138000      4    car   4272.727273"
      ]
     },
     "execution_count": 5,
     "metadata": {},
     "output_type": "execute_result"
    }
   ],
   "source": [
    "# Calculate RMSE for tree that splits on miles < 50,000.\n",
    "print('RMSE:', mileage_split(50000))\n",
    "train"
   ]
  },
  {
   "cell_type": "code",
   "execution_count": 6,
<<<<<<< HEAD
   "metadata": {},
||||||| merged common ancestors
   "metadata": {
    "collapsed": false
   },
=======
   "metadata": {
    "slideshow": {
     "slide_type": "slide"
    }
   },
>>>>>>> upstream/master
   "outputs": [
    {
     "name": "stdout",
     "output_type": "stream",
     "text": [
      "RMSE: 3530.146530076269\n"
     ]
    },
    {
     "data": {
      "text/html": [
       "<div>\n",
       "<style scoped>\n",
       "    .dataframe tbody tr th:only-of-type {\n",
       "        vertical-align: middle;\n",
       "    }\n",
       "\n",
       "    .dataframe tbody tr th {\n",
       "        vertical-align: top;\n",
       "    }\n",
       "\n",
       "    .dataframe thead th {\n",
       "        text-align: right;\n",
       "    }\n",
       "</style>\n",
       "<table border=\"1\" class=\"dataframe\">\n",
       "  <thead>\n",
       "    <tr style=\"text-align: right;\">\n",
       "      <th></th>\n",
       "      <th>price</th>\n",
       "      <th>year</th>\n",
       "      <th>miles</th>\n",
       "      <th>doors</th>\n",
       "      <th>vtype</th>\n",
       "      <th>prediction</th>\n",
       "    </tr>\n",
       "  </thead>\n",
       "  <tbody>\n",
       "    <tr>\n",
       "      <th>0</th>\n",
       "      <td>22000</td>\n",
       "      <td>2012</td>\n",
       "      <td>13000</td>\n",
       "      <td>2</td>\n",
       "      <td>car</td>\n",
       "      <td>12083.333333</td>\n",
       "    </tr>\n",
       "    <tr>\n",
       "      <th>1</th>\n",
       "      <td>14000</td>\n",
       "      <td>2010</td>\n",
       "      <td>30000</td>\n",
       "      <td>2</td>\n",
       "      <td>car</td>\n",
       "      <td>12083.333333</td>\n",
       "    </tr>\n",
       "    <tr>\n",
       "      <th>2</th>\n",
       "      <td>13000</td>\n",
       "      <td>2010</td>\n",
       "      <td>73500</td>\n",
       "      <td>4</td>\n",
       "      <td>car</td>\n",
       "      <td>12083.333333</td>\n",
       "    </tr>\n",
       "    <tr>\n",
       "      <th>3</th>\n",
       "      <td>9500</td>\n",
       "      <td>2009</td>\n",
       "      <td>78000</td>\n",
       "      <td>4</td>\n",
       "      <td>car</td>\n",
       "      <td>12083.333333</td>\n",
       "    </tr>\n",
       "    <tr>\n",
       "      <th>4</th>\n",
       "      <td>9000</td>\n",
       "      <td>2007</td>\n",
       "      <td>47000</td>\n",
       "      <td>4</td>\n",
       "      <td>car</td>\n",
       "      <td>12083.333333</td>\n",
       "    </tr>\n",
       "    <tr>\n",
       "      <th>5</th>\n",
       "      <td>4000</td>\n",
       "      <td>2006</td>\n",
       "      <td>124000</td>\n",
       "      <td>2</td>\n",
       "      <td>car</td>\n",
       "      <td>2437.500000</td>\n",
       "    </tr>\n",
       "    <tr>\n",
       "      <th>6</th>\n",
       "      <td>3000</td>\n",
       "      <td>2004</td>\n",
       "      <td>177000</td>\n",
       "      <td>4</td>\n",
       "      <td>car</td>\n",
       "      <td>2437.500000</td>\n",
       "    </tr>\n",
       "    <tr>\n",
       "      <th>7</th>\n",
       "      <td>2000</td>\n",
       "      <td>2004</td>\n",
       "      <td>209000</td>\n",
       "      <td>4</td>\n",
       "      <td>truck</td>\n",
       "      <td>2437.500000</td>\n",
       "    </tr>\n",
       "    <tr>\n",
       "      <th>8</th>\n",
       "      <td>3000</td>\n",
       "      <td>2003</td>\n",
       "      <td>138000</td>\n",
       "      <td>2</td>\n",
       "      <td>car</td>\n",
       "      <td>2437.500000</td>\n",
       "    </tr>\n",
       "    <tr>\n",
       "      <th>9</th>\n",
       "      <td>1900</td>\n",
       "      <td>2003</td>\n",
       "      <td>160000</td>\n",
       "      <td>4</td>\n",
       "      <td>car</td>\n",
       "      <td>2437.500000</td>\n",
       "    </tr>\n",
       "    <tr>\n",
       "      <th>10</th>\n",
       "      <td>2500</td>\n",
       "      <td>2003</td>\n",
       "      <td>190000</td>\n",
       "      <td>2</td>\n",
       "      <td>truck</td>\n",
       "      <td>2437.500000</td>\n",
       "    </tr>\n",
       "    <tr>\n",
       "      <th>11</th>\n",
       "      <td>5000</td>\n",
       "      <td>2001</td>\n",
       "      <td>62000</td>\n",
       "      <td>4</td>\n",
       "      <td>car</td>\n",
       "      <td>12083.333333</td>\n",
       "    </tr>\n",
       "    <tr>\n",
       "      <th>12</th>\n",
       "      <td>1800</td>\n",
       "      <td>1999</td>\n",
       "      <td>163000</td>\n",
       "      <td>2</td>\n",
       "      <td>truck</td>\n",
       "      <td>2437.500000</td>\n",
       "    </tr>\n",
       "    <tr>\n",
       "      <th>13</th>\n",
       "      <td>1300</td>\n",
       "      <td>1997</td>\n",
       "      <td>138000</td>\n",
       "      <td>4</td>\n",
       "      <td>car</td>\n",
       "      <td>2437.500000</td>\n",
       "    </tr>\n",
       "  </tbody>\n",
       "</table>\n",
       "</div>"
      ],
      "text/plain": [
       "    price  year   miles  doors  vtype    prediction\n",
       "0   22000  2012   13000      2    car  12083.333333\n",
       "1   14000  2010   30000      2    car  12083.333333\n",
       "2   13000  2010   73500      4    car  12083.333333\n",
       "3    9500  2009   78000      4    car  12083.333333\n",
       "4    9000  2007   47000      4    car  12083.333333\n",
       "5    4000  2006  124000      2    car   2437.500000\n",
       "6    3000  2004  177000      4    car   2437.500000\n",
       "7    2000  2004  209000      4  truck   2437.500000\n",
       "8    3000  2003  138000      2    car   2437.500000\n",
       "9    1900  2003  160000      4    car   2437.500000\n",
       "10   2500  2003  190000      2  truck   2437.500000\n",
       "11   5000  2001   62000      4    car  12083.333333\n",
       "12   1800  1999  163000      2  truck   2437.500000\n",
       "13   1300  1997  138000      4    car   2437.500000"
      ]
     },
     "execution_count": 6,
     "metadata": {},
     "output_type": "execute_result"
    }
   ],
   "source": [
    "# Calculate RMSE for tree that splits on miles < 100,000.\n",
    "print('RMSE:', mileage_split(100000))\n",
    "train"
   ]
  },
  {
   "cell_type": "code",
   "execution_count": 8,
   "metadata": {
    "slideshow": {
     "slide_type": "slide"
    }
   },
   "outputs": [],
   "source": [
    "# Check all possible mileage splits.\n",
    "mileage_range = list(range(train.miles.min(), train.miles.max(), 1000))\n",
    "RMSE = [mileage_split(miles) for miles in mileage_range]"
   ]
  },
  {
   "cell_type": "code",
<<<<<<< HEAD
   "execution_count": 9,
   "metadata": {},
||||||| merged common ancestors
   "execution_count": 8,
   "metadata": {
    "collapsed": false
   },
=======
   "execution_count": 8,
   "metadata": {
    "slideshow": {
     "slide_type": "slide"
    }
   },
>>>>>>> upstream/master
   "outputs": [
    {
     "data": {
<<<<<<< HEAD
      "image/png": "iVBORw0KGgoAAAANSUhEUgAAAZwAAAESCAYAAADJ+2ORAAAABHNCSVQICAgIfAhkiAAAAAlwSFlz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\n0TNyAAAAAElFTkSuQmCC\n",
||||||| merged common ancestors
      "image/png": "iVBORw0KGgoAAAANSUhEUgAAAZwAAAESCAYAAADJ+2ORAAAABHNCSVQICAgIfAhkiAAAAAlwSFlz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\nQmCC\n",
=======
      "image/png": "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\n",
>>>>>>> upstream/master
      "text/plain": [
<<<<<<< HEAD
       "<matplotlib.figure.Figure at 0x1bbb3f9b7f0>"
||||||| merged common ancestors
       "<matplotlib.figure.Figure at 0x1026c9e10>"
=======
       "<Figure size 432x288 with 1 Axes>"
>>>>>>> upstream/master
      ]
     },
     "metadata": {},
     "output_type": "display_data"
    }
   ],
   "source": [
    "# Plot mileage cutpoint (x-axis) versus RMSE (y-axis).\n",
    "plt.plot(mileage_range, RMSE);\n",
    "plt.xlabel('Mileage cutpoint');\n",
    "plt.ylabel('RMSE (lower is better)');"
   ]
  },
  {
   "cell_type": "markdown",
   "metadata": {
    "slideshow": {
     "slide_type": "slide"
    }
   },
   "source": [
    "**Recap:** Before every split, we repeat this process for every feature and choose the feature and cutpoint that produce the lowest MSE."
   ]
  },
  {
   "cell_type": "markdown",
   "metadata": {
    "slideshow": {
     "slide_type": "slide"
    }
   },
   "source": [
    "<a id=\"sklearn-tree\"></a>\n",
    "## Building a Regression Tree in `scikit-learn`"
   ]
  },
  {
   "cell_type": "code",
   "execution_count": 10,
   "metadata": {
    "slideshow": {
     "slide_type": "slide"
    }
   },
   "outputs": [],
   "source": [
    "# Encode car as 0 and truck as 1.\n",
    "train['vtype'] = train.vtype.map({'car':0, 'truck':1})"
   ]
  },
  {
   "cell_type": "code",
   "execution_count": 11,
   "metadata": {
    "slideshow": {
     "slide_type": "slide"
    }
   },
   "outputs": [],
   "source": [
    "# Define X and y.\n",
    "feature_cols = ['year', 'miles', 'doors', 'vtype']\n",
    "\n",
    "X = train[feature_cols]\n",
    "y = train.price"
   ]
  },
  {
   "cell_type": "code",
<<<<<<< HEAD
   "execution_count": 12,
   "metadata": {},
||||||| merged common ancestors
   "execution_count": 11,
   "metadata": {
    "collapsed": false
   },
=======
   "execution_count": 11,
   "metadata": {
    "slideshow": {
     "slide_type": "slide"
    }
   },
>>>>>>> upstream/master
   "outputs": [
    {
     "data": {
      "text/plain": [
       "DecisionTreeRegressor(criterion='mse', max_depth=None, max_features=None,\n",
       "           max_leaf_nodes=None, min_impurity_decrease=0.0,\n",
       "           min_impurity_split=None, min_samples_leaf=1,\n",
       "           min_samples_split=2, min_weight_fraction_leaf=0.0,\n",
       "           presort=False, random_state=1, splitter='best')"
      ]
     },
     "execution_count": 12,
     "metadata": {},
     "output_type": "execute_result"
    }
   ],
   "source": [
    "# Instantiate a DecisionTreeRegressor (with random_state=1).\n",
    "from sklearn.tree import DecisionTreeRegressor\n",
    "\n",
    "treereg = DecisionTreeRegressor(random_state=1)\n",
    "treereg"
   ]
  },
  {
   "cell_type": "code",
<<<<<<< HEAD
   "execution_count": 13,
   "metadata": {},
||||||| merged common ancestors
   "execution_count": 12,
   "metadata": {
    "collapsed": false
   },
=======
   "execution_count": 12,
   "metadata": {
    "slideshow": {
     "slide_type": "slide"
    }
   },
>>>>>>> upstream/master
   "outputs": [
    {
     "data": {
      "text/plain": [
       "3107.1428571428573"
      ]
     },
     "execution_count": 13,
     "metadata": {},
     "output_type": "execute_result"
    }
   ],
   "source": [
    "# Use leave-one-out cross-validation (LOOCV) to estimate the RMSE for this model.\n",
    "from sklearn.model_selection import cross_val_score\n",
    "scores = cross_val_score(treereg, X, y, cv=14, scoring='neg_mean_squared_error')\n",
    "np.mean(np.sqrt(-scores))"
   ]
  },
  {
   "cell_type": "markdown",
   "metadata": {
    "slideshow": {
     "slide_type": "slide"
    }
   },
   "source": [
    "<a id=\"too-deep\"></a>\n",
    "## What Happens When We Grow a Tree Too Deep?\n",
    "\n",
    "- **On the left:** A regression tree for salary that is **grown deeper**.\n",
    "- **On the right:** A comparison of the **training, testing, and cross-validation errors** for trees with different numbers of leaves."
   ]
  },
  {
   "cell_type": "markdown",
   "metadata": {
    "slideshow": {
     "slide_type": "slide"
    }
   },
   "source": [
    "![Salary tree grown deep](assets/salary_tree_deep.png)"
   ]
  },
  {
   "cell_type": "markdown",
   "metadata": {
    "slideshow": {
     "slide_type": "slide"
    }
   },
   "source": [
    "The **training error** continues to go down as the tree size increases (due to overfitting), but the lowest **cross-validation error** occurs for a tree with three leaves. \n",
    "\n",
    "Note that if we make a **complete tree** (where every data point is boxed into its own region), then we will achieve perfect training accuracy. However, then outliers in the training data will greatly affect the model."
   ]
  },
  {
   "cell_type": "markdown",
   "metadata": {
    "slideshow": {
     "slide_type": "slide"
    }
   },
   "source": [
    "<a id=\"#tuning-tree\"></a>\n",
    "## Tuning a Regression Tree\n",
    "\n",
    "Let's try to reduce the RMSE by tuning the **max_depth** parameter:"
   ]
  },
  {
   "cell_type": "code",
<<<<<<< HEAD
   "execution_count": 14,
   "metadata": {},
||||||| merged common ancestors
   "execution_count": 13,
   "metadata": {
    "collapsed": false
   },
=======
   "execution_count": 13,
   "metadata": {
    "slideshow": {
     "slide_type": "slide"
    }
   },
>>>>>>> upstream/master
   "outputs": [
    {
     "data": {
      "text/plain": [
       "4050.1443001443"
      ]
     },
     "execution_count": 14,
     "metadata": {},
     "output_type": "execute_result"
    }
   ],
   "source": [
    "# Try different values one by one.\n",
    "treereg = DecisionTreeRegressor(max_depth=1, random_state=1)\n",
    "scores = cross_val_score(treereg, X, y, cv=14, scoring='neg_mean_squared_error')\n",
    "np.mean(np.sqrt(-scores))"
   ]
  },
  {
   "cell_type": "markdown",
   "metadata": {
    "slideshow": {
     "slide_type": "slide"
    }
   },
   "source": [
    "Or, we could write a loop to try a range of values:"
   ]
  },
  {
   "cell_type": "code",
   "execution_count": 15,
   "metadata": {
    "slideshow": {
     "slide_type": "slide"
    }
   },
   "outputs": [],
   "source": [
    "# List of values to try:\n",
    "max_depth_range = list(range(1, 8))\n",
    "\n",
    "# List to store the average RMSE for each value of max_depth:\n",
    "RMSE_scores = []\n",
    "\n",
    "# Use LOOCV with each value of max_depth.\n",
    "for depth in max_depth_range:\n",
    "    treereg = DecisionTreeRegressor(max_depth=depth, random_state=1)\n",
    "    MSE_scores = cross_val_score(treereg, X, y, cv=14, scoring='neg_mean_squared_error')\n",
    "    RMSE_scores.append(np.mean(np.sqrt(-MSE_scores)))"
   ]
  },
  {
   "cell_type": "code",
<<<<<<< HEAD
   "execution_count": 16,
   "metadata": {},
||||||| merged common ancestors
   "execution_count": 15,
   "metadata": {
    "collapsed": false
   },
=======
   "execution_count": 15,
   "metadata": {
    "slideshow": {
     "slide_type": "slide"
    }
   },
>>>>>>> upstream/master
   "outputs": [
    {
     "data": {
<<<<<<< HEAD
      "image/png": "iVBORw0KGgoAAAANSUhEUgAAAZwAAAESCAYAAADJ+2ORAAAABHNCSVQICAgIfAhkiAAAAAlwSFlz\nAAALEgAACxIB0t1+/AAAADl0RVh0U29mdHdhcmUAbWF0cGxvdGxpYiB2ZXJzaW9uIDIuMS4wLCBo\ndHRwOi8vbWF0cGxvdGxpYi5vcmcvpW3flQAAIABJREFUeJzt3Xl8FPX9x/HXO4GEGwQCARIuD0C5\niQcqeNKqeAvUs9VabdXW1taj/myrvaxWaz3rVVutYlXU4l28qihSa4IcAqIIyH2J3FcSPr8/ZqLr\nGsgu2d3JJp/n4zGP7M58Z+YzHvnkO99LZoZzzjmXbjlRB+Ccc65h8ITjnHMuIzzhOOecywhPOM45\n5zLCE45zzrmM8ITjnHMuIzzhOOecywhPOM455zLCE45zzrmMaBR1AHVJ+/btrXv37lGH4ZxzWaWs\nrGy1mRXUVM4TTozu3btTWloadRjOOZdVJH2aSDl/peaccy4jPOE455zLCE84zjnnMsITjnPOuYzw\nhOOccy4jPOE455zLCE84zjnnMsITTgqsXL+Vnzz2PqUL1kQdinPO1Vk+8DMFWjRpxKuzV9IoN4eS\n7m2jDsc55+okr+GkQLO8RhzfvxMvzljGxm0VUYfjnHN1kiecFBldUszm7ZW8OH1Z1KE451yd5Akn\nRQZ3bcOeBc15onRR1KE451yd5AknRSQxuqSY0k8/Z96qjVGH45xzdY4nnBQ6dVAXcnPEuLLFUYfi\nnHN1TmQJR9L/STJJd8bsk6TrJC2VtEXSG5L2iztvD0kPS1oXbg9LahNXpp+kN8NrLJH0K0lK9zN1\naNWEw/cp4KmyxVRU7kj37ZxzLqtEknAkHQRcAEyPO3Ql8DPgR8D+wErgFUktY8o8CgwGjgWOCT8/\nHHPtVsArwIrwGpcCVwA/TcezxBtdUszKDdt46+PVmbidc85ljYwnHEmtgbHA+cDnMfsF/AS4wcye\nMrMPgO8ALYEzwzJ9CJLMhWb2jplNBr4PHC+pV3ips4BmwHfM7AMzewq4EfhpJmo5R/buQLvmed55\nwDnn4kRRw7kPeNLMXo/b3wMoBF6u2mFmW4CJwMHhrqHARuCdmPMmAZviyrwVnltlAtAZ6J6aR9i5\nvEY5nDyoC6/OXsGaTdvTfTvnnMsaGU04ki4A9gJ+Wc3hwvDnirj9K2KOFQKrzMyqDoafV8aVqe4a\nsfeIjelCSaWSSletWpXoo+zSmJJiyiuN8e8vScn1nHOuPshYwglfeV0PnGVmu/rT3+K+K25f/PFE\nymgn+zGz+8ysxMxKCgoKdhFW4noVtmRAUWueKF1ETG50zrkGLZM1nKFAe+ADSRWSKoDDgIvDz5+F\n5eJrIR34soayHOgQ2xYTfi6IK1PdNeDrNZ+0GVVSzIfLN/DBkvWZuqVzztVpmUw444F+wMCYrRR4\nLPz8EUGyGFF1gqQmwDC+bLOZDLQgSF5VhgLN48oMC8+tMgJYCixI5QPtyokDOpPfKIdxZd55wDnn\nIIMJx8zWhr3GvtgIGvvXhN8NuBX4uaRTJfUFHiToJPBoeI3ZwL+BeyUdJGkocC/wvJnNCW/1KLAZ\neFBSX0mnAj8HbrEMvt9q3bQxx/QtZPz7S9haXpmp2zrnXJ1V12Ya+CNwC3AXQe2nE/ANM9sQU+Ys\nYBpBb7YJ4edzqg6a2TqCGk3n8Bp3AX8Kr5tRo4cUs35rBS/PytibPOecq7PkjdpfKikpsdLS0pRd\nb8cOY9gf/0PPguY8fP6BKbuuc87VJZLKzKykpnJ1rYZTr+TkiFFDinh77mqWrN1S8wnOOVePecJJ\ns1FDijCDp31CT+dcA+cJJ82K2zbj4D3bMa5sMTt2+OtL51zD5QknA8aUFLNwzWbenb8m6lCccy4y\nnnAy4Jv7FdIyv5GPyXHONWiecDKgaV4uJwzszIszlrFha3nU4TjnXCSSSjiSekg6QtJxkvaPG83v\ndmFMSTFby3fw/PRlUYfinHORqDHhSOou6UZJC4G5wGvA88C7wFpJr0gaLclrS7swoKg1e3dowThf\nJ8c510DtMklIuo1gJH9P4BpgX6A1kEcwQeZxwNvAb4HpkvZPa7RZTBJjSoqZsnAtc1duqPkE55yr\nZ2qqlWwH9jSz0Wb2sJnNMbMNZlZhZivN7HUz+7WZ9SZYHrpb+kPOXicP6kJujhhX6mNynHMNzy4T\njpldYWarJeVI2ldS812UfdHMnkx9iPVHQct8juzdgaemLKG8ckfU4TjnXEYl2u5iwFSCyTRdLYwp\nKWb1xm28OSc1q4s651y2SCjhhNP6zyFY6MzVwuG9CmjfIo8nvPOAc66BSaZn2ZXATZIGxq646ZLT\nODeHUwcX8fqHK1m9cVvU4TjnXMYkk3CeAA4EyoCtktbHbukJr34aPaSIih3G+PeXRB2Kc85lTKMk\nyv4wbVE0MHt3bMnA4jY8UbqI8w/tgVcYnXMNQcIJx8weSmcgDc2YkmL+718zmL54HQOK20QdjnPO\npV2yU9t0lHS5pLsltQ/3HSKpR3rCq7+OH9CJJo1zvPOAc67BSDjhSBpC0FPtLOB8oFV4aATw+9SH\nVr+1atKYY/t24tlpS9laXhl1OM45l3bJ1HBuBm4zs0FAbPeqCcAhKY2qgRhdUsSGrRVMmLk86lCc\ncy7tkkk4Q4Dq2nGWAR1TE07DclCPdhS3beqv1ZxzDUIyCWcLsEc1+3sDK1MTTsOSkyNGDS7mnU8+\nY9GazVGH45xzaZVMwnkGuFZSfvjdJHUHbgSeSnFcDcZpQ7oA8NQUn9DTOVe/JZNwLgfaAquAZgTL\nEswF1gK/SH1oDUPRHs04dK/2jCtdzI4dFnU4zjmXNgknHDNbb2aHAicDVwG3AceY2WFmtildATYE\no4YUsWTtFv4777OoQ3HOubRJplv0tyXlh2vg3GxmfzSzVyXlSfp2OoOs7765XyGtmjTyzgPOuXot\nmVdqfydY7TNey/DYLkm6RNL0mPnXJksaGXO8haQ7JC2WtEXSHEmXxV0jPyyzWtImSc9KKoor01XS\nc+Hx1ZJul5SXxHNmXJPGuZw0sAsvfbCcdVvKow7HOefSIpmEI4J1ceJ1BdYlcP5igldxg4ES4HVg\nvKT+4fFbgJHAOUAfgsGkN0g6J+YatwKnAWcAwwgGnz4vKRcg/PkCQRIcFpYbBfwp4aeMyOiSIrZV\n7OD56UujDsU559KixrnUJM0gSDQGvCmpIuZwLsGy0i/WdB0zeyZu1zWSLgKGAtOBg4GHzew/4fEF\nks4nmKH6YUmtCWY4OM/MXgljOwf4FDiaYADqN4D9gG5mtigscyXwV0nXmFmdndW6X5fW9C5syROl\niznrQF+p2zlX/yRSw3mSoNuzCGoPT8VsjwAXAGcnc1NJuZJOB1oA74S73wZOkFQcljkYGAj8Ozw+\nBGgMvFx1nTCpzCZIVhAkr9lVySY0AcgPz6+zJDFqSBHTFq3loxUbog7HOedSrsYajpn9GkDSAuAx\nM9vtVcMk9QMmA02AjcApZjYjPHwpcA+wMKYW9SMzez78XAhUAqvjLrsiPFZVZkXc8dXheYVUQ9KF\nwIUAXbt23Y2nSp1TBnXhhpc+ZFzpIq4ZuW+ksTjnXKol04ZzLUGN5CsktZE0L8FrzCGotRwE3A08\nJKlveOxHBHOynUhQG7kMuFnSMTVcM75taWeDWardb2b3mVmJmZUUFES7gna7Fvkc3acjT09ZQnnl\njkhjcc65VEsm4XQnaLOJlw90SeQCZrbdzOaaWamZXQ1MBS6T1BT4A3ClmT1nZtPN7E7gMYIBpwDL\nw/u3j7tsB76s1Szn6zWZ9uF58TWfOml0SRGfbdrO6x/6bEHOufolkU4Dp8Z8HSkptkdaLnAUsGA3\n759DkLAah1v8PP2VfJkUy4ByguUQHg1jKyLo0VbVDjQZ+IWkIjOrmitmBMHs1mW7GWNGHbZPAQUt\n8xlXuphv7lftW0DnnMtKiaz4+WT404AH4o6VEySbn9V0EUk3EHQ6WETQbflM4HBgpJmtl/QmQTfo\njQQ9zw4Dvg1cCWBm6yQ9ANwkaSXwGUFX6unAq+FtXgZmAv+Q9DOgHXATcH9d7qEWq1FuDqcNLuL+\nt+axcsNWOrRsEnVIzjmXEjW+UjOzHDPLARYCHaq+h1u+mfWKadjflUKCXm1zgNeA/YFjzeyl8Pjp\nwHvAWGAW8HPgl8CdMde4DHgaeByYRNDx4AQzqwxjrSQYy7M5PP54WP5yssjokiIqdxjj318SdSjO\nOZcyMvMJI6uUlJRYaWlp1GEAcNrd77BuSzmvXDYcSVGH45xzOyWpzMxKaiqXTKcBJF0saaakzZJ6\nhvt+LmnM7gbqqjempIi5Kzfy/qK1UYfinHMpkczknT8hWIbgPoKuyFWWAD9McVwN3sj+nWnaOJdx\npb5OjnOufkimhvMD4AIzuw2Ind5mCsF0Mi6FWuQ34rh+nXhu2lK2bI/vvOecc9knmYTTDfigmv3l\nQNPUhONijSkpYuO2Cl76YFnUoTjnXK0lk3DmEcz0HO84gl5lLsUO6NGWbu2a+Ws151y9kEzCuRm4\nU9JZBG04QyVdS7CMwE3pCK6hk8ToIUVMnvcZCz/bHHU4zjlXK8ksMf134DrgeqAZ8DDwPeBSM3s8\nLdE5ThtShARPlvlqoM657JZUt2gzu9/MuhHMX1ZoZsVmFj/7gEuhTq2bMmzvAp4sW0zlDh8z5ZzL\nXkklHABJexLM9nxA1Vgcl15jSopYum4r73wSvzKDc85lj2TG4bSTNB74GBgfbh9LekZSu3QF6GDE\nvh1p06wxT3jnAedcFkumhvNXYC9gGMECak2A4UAP4P7Uh+aq5DfK5aQBnZkwcznrNpdHHY5zzu2W\nZBLONwkGfk4ys4pwmwR8Pzzm0mh0STHbK3bw7DSf0NM5l52SSTirgE3V7N9MsFSAS6O+XVrTp1Mr\nf63mnMtaySSc3wC3Svpidc/w85/CYy7NxpQUMWPJOmYvy4qlfZxz7it2mXAkzZA0XdJ04McEa9gs\nkLRA0gKCxdcOBC5Nd6AOTh7YhbzcHJ95wDmXlWpa8fPJGo67DNqjeR5H79uB8VOX8PNje5PXKOle\n7c45F5ldJhwz+3WmAnGJGV1SzIszlvP6hys4pm+nqMNxzrmE+Z/IWWb43gUUtmrinQecc1nHE06W\nyc0Rpw7uwhtzVrJi/daow3HOuYR5wslCo0uK2WHw9BQfk+Ocyx6ecLJQj/bNOaB7W8aVLsLMJ/R0\nzmWHWiUcSY1TFYhLzqiSIuat3sSUhZ9HHYpzziUkmck7L5V0Wsz3B4AtkuZI6pWW6NxOjezXiWZ5\nuTzxnncecM5lh2RqOJcSTG+DpOHAGOBMYCrBbAMug5rnN+L4/p14fvpSNm+viDoc55yrUTIJpwvB\nzAIAJwDjzOwJglVAD0ptWC4Ro0uK2bS9khdnLI86FOecq1EyCWc9UBB+HgG8Fn4uJ1iqwGVYSbc9\n6NG+OU+U+vLTzrm6L5mE8zJwf9h2sxfwUrh/P2B+qgNzNZPE6JIi/jd/DQtWVzeRt3PO1R3JJJxL\ngElAe2CUma0J9w8G/lnTyZIuCScCXR9ukyWNjCuzj6SnJa2VtFnSFEl9Yo7nS7pD0mpJmyQ9K6ko\n7hpdJT0XHl8t6XZJeUk8Z1Y5bXAROYIny7zzgHOubqtp8s4vmNl64EfV7L82wUssBq4iWKI6B/gO\nMF7SEDObLqkHQUL7B3AksBboDWyMucatwEnAGQRr8NwCPB9eo1JSLvBCeGwY0A54CFB1sdcHHVs1\n4bB9CniybDGXjdiH3BxFHZJzzlVLuxo4KKltVU1GUttdXSimxpP4zaU1wNVmdq+kR4PL2Fk7Kdua\noJfceWY2NtxXDHwKHGtmEyQdS5BwupnZorDM2QTLY3cIk+ZOlZSUWGlpabKPEbmXZizjorFTePC8\n/Tm8V4eow3HONTCSysyspKZyNb1SWyWp6jfYaoJf+PFb1f5kgsuVdDrQAnhHUg5Bz7dZkv4taZWk\n9yR9K+a0IUBjgrYkAMKkMhs4ONw1FJhdlWxCE4D88Px66ag+HdmjWWPG+Ws151wdVtMrtSOBqprL\nEbW9maR+wGSCXm0bgVPMbIakQoLk83/AL4Gfh/ceK2mTmT0PFAKVBAku1orwGOHPFXHHV4fnFVIN\nSRcCFwJ07dq1Vs8XlbxGOZw8qAtj/7uQzzdtZ4/m9bbJyjmXxWpaD+fN6j7XwhxgINAGOA14SNLh\nfJnUnjGzW8LPUyWVEHRWeH4X1xQQ+15wZ+8Iq91vZvcB90HwSi2BZ6iTRg8p5u+TFvDM1CWce0iP\nqMNxzrmvyejknWa23czmmlmpmV1NMEvBZQS1kApgVtwps4GqasdyIJegl1ysDnxZq1nO12sy7cPz\n4ms+9cq+nVvRt0srf63mnKuzop4tOgfIN7PtwHtA/Jxs+xB0CgAoIxhkOqLqYNglug/wTrhrMtAn\nrqv0CGBbeH69NqakmJlL1zNz6bqoQ3HOua/JWMKRdIOkYZK6S+on6Q/A4cDYsMgfgW9JulDSXpIu\nAE4H7gIws3XAA8BNko6WNAh4GJgOvBpe42VgJvAPSYMkHQ3cBNxfUw+1+uDEAZ3Jy81hnK8G6pyr\ngzJZwykEHiFox3kN2J+gO/NLAGY2nqDx/nJgBsG4mW+b2Qsx17gMeBp4nGDMzkbgBDOrDK9RCYwE\nNofHHw/LX57uh6sL2jTL4xv7dWT81CVsq6iMOhznnPuKXY7D+aJQsO7NIuAoM5uZ9qgikq3jcGJN\n/GgV3/7b/7jrzMGM7N8p6nCccw1AqsbhAGBm5QTtJ1nbi6uhOGSv9nRq3YRxZT6hp3Oubknmldod\nwNWSEp4Ox2Vebo4YNaSIiR+tYtm6LVGH45xzX0gm4QwjmMdsiaTXwokzv9jSFJ/bDaOGFLHD4Okp\nS6IOxTnnvpBMwlkNPAW8CCwkmCAzdnN1RLd2zTmwR1vGlS4ikTY655zLhGRmiz4vnYG41BpTUszP\nxk3jvQWfc0CPXc676pxzGZF0t2hJJZK+Jal5+L25t+vUPcf2K6RFfiNfDdQ5V2cknHAkdZT0LvA/\n4FGgY3joFuBPaYjN1UKzvEYc378TL85YxsZtFVGH45xzSdVw/kwwV1k7goGVVcYB30hlUC41RpcU\ns3l7JS9OXxZ1KM45l1TCOQq4xsw+j9v/CV9OsOnqkMFd27BnQXN/reacqxOSSThNge3V7C8AtqYm\nHJdKkhhdUkzpp58zb9XGmk9wzrk0SibhTATOjfluknKBqwjmRnN10KmDupCbI1+2wDkXuWQSzpXA\nBZJeIViy+U8E69ccAlydhthcCnRo1YQjehXwVNliKip3RB2Oc64BSzjhmNksoB/B2jMvEywTPQ4Y\nZGafpCc8lwqjhhSzcsM23vo4fnVu55zLnKTGz5jZcuDaNMXi0uTI3h1o1zyPJ0oXcUTvDlGH45xr\noJIZhzNB0tWSDgrbblyWyGuUwymDuvDq7BWs2VRdvw/nnEu/ZNpwSgkWN3sTWBuTgIZ6Aqr7RpcU\nU15pjH/fJ/R0zkUjmTaca8zsUKANcArwHl8moPixOa6O6VXYkgFFrXnCJ/R0zkVkd5aYbkUw20AB\n0AGoBMpSGZRLj1ElxXy4fAMzl66POhTnXAOUTBvOXZJmAfOAHwDLgAuBNmZ2RJricyl04oDO5DfK\n8ZkHnHORSKaGcxFBzeYG4Arg12b2hpltS0tkLuVaN23MMX0LGf/+EraWV0YdjnOugUkm4ewDXAP0\nAv4FrJH0nKSfShqcluhcyo0eUsz6rRW8MmtF1KE45xqYZDoNzDWzv5rZ2WZWDBxMsArojQQdCFwW\nOHjPdnRp09RfqznnMi7hgZ+ScoAS4AjgcIIpbZoQdBj4TzqCc6mXkyNGDSni9tc/ZsnaLXRp0zTq\nkJxzDUQyr9TWAm8RdImeBowB9jCzg8zM51LLIqOGFGEGT/uEns65DEpmapsxwFtmtildwbjMKG7b\njIP3bMe4ssVccsRe5OQo6pCccw1AMm04/zazTZKaSOoraT9JTdIZnEufMSXFLFyzmXfnr4k6FOdc\nA5HMOJxGkm4imFVgGjAD+FzSHyU1TleALj2+uV8hLfMbMa7MOw845zIjmTacPwJnEwz63AfYm2Bs\nzjnAH2o6WdIlkqZLWh9ukyWN3EnZ+ySZpMvj9udLukPSakmbJD0rqSiuTNewu/amsNztkvKSeM4G\noWleLicM7MyLM5axYWt51OE45xqAZBLOmcD5ZvaQmX0Sbg8C3wPOSuD8xQSrgw4m6O32OjBeUv/Y\nQpJGAfsDS6u5xq3AacAZwDCCaXaer5o8NPz5AtAyPH4GMIpgsTgXZ0xJMVvLd/D89GVRh+KcawCS\nSTitgeoWWvuEYELPXTKzZ8zspXA8z0dmdg2wARhaVUZSN+A2guT2lT+7JbUGzgeuMLNXzGwKQe2q\nP3B0WOwbwH7AOWY2xcxe4cuVSlsl8awNwoCi1uzdoQXjfEyOcy4Dkkk404BLq9n/Y2BqMjeVlCvp\ndKAFwQqiSGoE/BP4nZnNrua0IUBjgtVGATCzRcBsgkGoECSv2eH+KhMIlsQekkyMDYEkxpQUM2Xh\nWuau3BB1OM65ei6ZhHMl8B1JH0l6SNKDkuYQtOtckcgFJPWTtBHYBtwDnGJmM8LDvwY+M7O7d3J6\nIcHM1PHrJK8Ij1WViZ+zZXV4XiHVkHShpFJJpatWrUrkMeqVkwd1oVGOGOdjcpxzaZZMt+iJBJ0F\nxhHUTFqFn3uZ2dsJXmYOMBA4CLgbeCjsYn0YcC7w3cRD/4KA2AVedrbYS7X7zew+Mysxs5KCgoLd\nuH12K2iZzxG9O/BU2RLKK3dEHY5zrh5LZuAnZraUYALP3WJm24G54ddSSfsDlwGLgE7AMumLQYi5\nwI2SfmJmRcDycF97ILYq0gGYGH5eTjDlTqz24Xk+W+VOjCkp5pVZK3hzziqO3rdj1OE45+qpXSac\nZGaBDhvxk5VD0L7yF+DJuGMTCNp07g+/lxF0JBgBPBrGVwT0IWwHAiYDv5BUZGZV74hGELzC80Xi\nduLwXgW0b5HPuLJFnnCcc2lTUw2nlOBVVE1znxhBLWKnJN1A0GV5EUG35TMJJgEdaWYrgZVx5cuB\n5WY2B8DM1kl6ALhJ0krgM+AWYDrwanjay8BM4B+Sfkawfs9NwP1m5stc7kTj3BxOHdyFv709n9Ub\nt9G+RX7UITnn6qGaEk6PFN6rEHgk/LmOIFEca2YTkrjGZUAF8DjQFHgN+LaZVQKYWWU4mPQvwCRg\nC0Ft6PLqL+eqjB5SxH0T5zH+/SV8b1jPqMNxztVDMttZG3vDU1JSYqWlpVGHEZmT75rE5u0VTPjJ\ncGLa0pxzbpcklZlZSU3ldtlLTVLCNRwFihMt7+qeMSXFfLRiI9MXr4s6FOdcPVRTt+jJkh6QNHRn\nBSTtIekiYBZwUkqjcxl1/IBONGmc46uBOufSoqY2nN4E3aBfkFRJ0NNrGbAV2APYl6CX2P+AnyTZ\nHuPqmFZNGnNs3048O20pVx/Xhxb5SfWad865XdplDcfM1prZFUAXgpmhPySYN60HQeP9Q8AgMzvE\nk0398J2Du7NpWwVXPjkNb99zzqVSQn/CmtkWgnEy8WNlXD0zsLgNVx3Tmz+89CH3vzWPC4fvGXVI\nzrl6Ipm51FwDceHwnhzbt5AbXvqQdz6Jn7rOOed2jycc9zWSuGn0AHq0b86PHn2fZeu2RB2Sc64e\n8ITjqtUivxH3nlPC1vJKLnpkCtsqKqMOyTmX5TzhuJ3aq0MLbh49gKmL1vKb52ZFHY5zLst5wnG7\ndGy/Tnz/sJ6MfXehrwzqnKuVGhOOpOslNYv5fpykpjHfW0n6R7oCdNG74hu9GNqzHb8Y/wEfLPFZ\nCJxzuyeRGs5VBAuuVXmMYO2aKk2Bs1IZlKtbGuXmcMeZg2jbPI8fPFLG55u2Rx2Scy4LJZJw4mdx\n9FkdG6D2LfK5++whrFy/jR8/PpXKHT4o1DmXHG/DcQkbWNyG607cj4kfreK2Vz+KOhznXJbxhOOS\ncsYBxYwpKeL21+fy6ixftds5l7hEZ2f8gaSNMeecL+mz8HvL1Ifl6ipJ/Oakvsxatp7LnpjKcz88\nlO7tm0cdlnMuC9S4AJukBQRLSO+SmaVyddBINPQF2JKxaM1mTrjzbTq2bMK/LjmYZnk+s7RzDVVK\nFmADMLPuZtajpi01YbtsUdy2GbefPoiPVm7g6qdn+MzSzrkaeRuO223D9yng8m/04pmpS3nwnQVR\nh+Ocq+MSGfg5QNIRcfvOkjRP0kpJ90jKS1+Iri676LA9ObpPR37/wmzeW7Am6nCcc3VYIjWc3wGH\nVn2RtC/wd+Bj4J8Egz6vSkt0rs7LyRG3fGsAxW2bcfHYKaxcvzXqkJxzdVQiCWcw8ErM99OBWWb2\nTTP7MfAT4FvpCM5lh1ZNGnPP2UPYuLWCi8dOYXvFjqhDcs7VQYkknHbAkpjvw4HnYr6/AXRNYUwu\nC/UqbMmNo/pT+unnXP/i7KjDcc7VQYkknFVAFwBJucAQ4N2Y43mA/0nrOHFAZ757SA8efGcBz0xd\nUvMJzrkGJZGE8wZwraSewM/Cff+JOb4vsCC1YblsdfVxvTmgR1uuemo6s5etjzoc51wdkkjC+SWw\nNzAX+D1wpZltijl+DvBaGmJzWahxbg53njmI1k0b84NHyli3pTzqkJxzdUQiAz8XAL2BQUA3M7s7\nrsi1wPU1XUfSJZKmS1ofbpMljQyPNZZ0Y3h8k6Rlkh6V1DXuGvmS7pC0Oiz3rKSiuDJdJT0XHl8t\n6Xbvtp1ZHVo24S9nDWbJ51v46eNT2eEzSzvnSHDgp5lVmNk0M1tazbFpZvZZdefFWUzQfXowUAK8\nDoyX1B9oFu7/ffjzJKAY+Lek2DlTbgVOA84AhgGtgOfDtqWqNqYXCOZ3GxaWGwX8KZHndKkzpFtb\nfnn8vrz24Uru/M/cqMNxztUBicyl9tNELmRmtyR9c2kNcLWZ3VvNsX2BmUB/M5shqTVBB4bzzGxs\nWKYY+BQ41swmSDqWIOF0M7NFYZmzgb8CHcxsl40KPpdaapkZP31iGuOnLuFv5+7PEb06RB2Scy4N\nEp1LLZEZF28GVgMb2fniawYf2cMWAAAU1UlEQVQknHDCmshogpVE39lJsVbhz8/Dn0OAxsDLX9zU\nbJGk2cDBwARgKDC7KtmEJgD54fmxnR1cmkni+lP68eHyDfzksWBm6a7tmtV8onOuXkrklVopwSuv\nN4FzdjJ5Z89EbiapX7jMwTbgHuAUM5tRTbk8gtdgz5nZ4nB3IVBJkPxirQiPVZWJX6RldXheIdWQ\ndKGkUkmlq1atSuQxXBKa5uVyz9mDMTN+8EgZW8srow7JOReRRDoNHAAcSFDTeFrSHElXSuq4G/eb\nAwwEDgLuBh6S1De2QNhm8wjQBjgvgWuKry6fsLN3hNXuN7P7zKzEzEoKCgoSuJ1LVrd2zbn19IHM\nWraea/71gc8s7VwDlWingZlm9lOCAaDXAIcDCyQ9Iyk/0ZuZ2XYzm2tmpWZ2NTAVuKzqeJhs/gn0\nB46K64ywHMgF2sddtgNf1mqW8/WaTPvwPF+eMkJH9u7Ij4/am6emLOaRdxdGHY5zLgJJLU9gZuVm\n9iRBb7F3gZFA01rePx+CrtHA4wTJ5ggzWx5XtgwoB0ZU7Qi7RPfhy3agyUCfuK7SIwhe4ZXVIk6X\nAj8+am+O6FXAb56bSdmnn9d8gnOuXkk44UjqLuk3kj4F7gfeAvY2s7UJnn+DpGHhdfpJ+gNBTWls\nWLMZR/Cq7QzAJBWGW1MAM1sHPADcJOloSYOAh4HpwKvhbV4m6Nn2D0mDJB0N3ATcX1MPNZd+OTni\n1m8NolPrplw8toxVG7ZFHZJzLoMSWQ/nTEmvAbOAXsD3ge5m9kszm5/EvQoJ2mbmEMxMsD9Bd+aX\ngCKCsTedCWoiy2K22JmoLwOeJqgJTSLoOXeCmVUChD9HApvD44+H5S9PIk6XRq2bBTNLr91czg8f\nnUJFpU/D51xDkcg4nB3AQuBRvt5D7Au7Mw6nrvFxOJnz9JTF/PSJaVwwrAfXjNw36nCcc7WQynE4\nCwl6eJ2xizJJjcNx7tTBRUxdtJb735rPgOI2HN+/c9QhOefSrMaEY2bdMxCHa4B+MXJfZi5dz5VP\nTmefji3Zp2PLqENyzqVRUr3UdiacYsa5pOQ1yuEvZw2mWV4jfvBwGRu2+szSztVntUo4YS+yu4CP\nUhSPa2A6tmrCnWcO4tM1m7l83DQfFOpcPZZIL7U2ksZKWiVpqaRLFbgWmAccAHw37ZG6euugnu24\n+tjeTJi5grvf/CTqcJxzaZJIp4HrgeHAQ8AxwJ8JBlM2J+jW/Gb6wnMNxfmH9mDqorXcPGEO/bu0\n4dC94yeUcM5lu0ReqY0kWBLgcuBEgrnLPjGzIz3ZuFSRxI2n9WevDi340T+nsGTtlqhDqlO2bK9k\n7ebtVPpidi6LJVLD6Uww6BMzmydpK8FMA86lVPP8Rtxz9hBOunMSFz1SxhPfH0qTxrlRhxWpRWs2\n88Db83n8vUVsKa9Eghb5jWjdtHG1W6ud7K86lpuzsxVGnEu/RBJODsEcZlUqCUbyO5dyPQta8Kcx\nA7jw4TKue3YmN5zWP+qQIjF98VrumziPF2csIzdHnDigC/t2bsW6LeWs31LOupjt45Ubv/i8vWLX\nMze0zG9UfVJqtuuE1apJIxrlpqRTq2vAEkk4Ah6RVDXxVRPgfklfSTpmdmKqg3MN0zf2K+SSI/bk\nrv98wsDiNpx+QNeoQ8qIHTuMNz9axb0TP+G/89bQMr8RFwzvyXkH96CwdZOErrG1vPIryWjd5q8m\np/iE9cmqL5PVthqSVVXNKkhK1deydpawPFk5SCzhPBT3/ZF0BOJcrJ+O6MX0xev41TMz6dOpFQOK\n20QdUtpsq6jkmalLuX/iPD5euZFOrZtwzXF9OP2AYlo2aZzUtZo0zqVJ41w6tkosQcXaWl75tdpT\ndVtVmfmrN32xb2v5rpNV87zcLxJSq6aNaeSv9uqcvTq04Dcn9a25YC0kMtNAIougOZdSuTnittMH\nccIdb3PRI2U8f+kw2jbPizqslFq3pZxH313I3yfNZ+WGbfQubMmfvzWA4/t3pnEENYKqZNVhN5LV\ntorKal/3BTWsiq8mrK3llPukrXVOeWX6O6TUOHlnQ+KTd9Y9Mxav47R73uGA7m156LsH1ItG7yVr\nt/C3t+fz2P8Wsml7JYfu1Z4Lh/dk2N7tkbL/+VzDk8rJO52LTL+i1vzupL5c+dR0bn55Dlcd0zvq\nkHbbzKXruH/iPJ6bvgyAE/p34oLhPdmvc+uII3MuMzzhuDpvzP7FvL9oLXe/8QkDitpwTN/4VcTr\nLjPjrY9Xc9/Eebw9dzXN83I57+DunHdoD7q0qc1iuc5lH084Litcd+K+zFq6jsvHTWPvji3Ys6BF\n1CHtUnnlDp6btpT7Js7jw+Ub6NAyn6uO6c2ZB3alddPkOgI4V194G04Mb8Op25au3cLxd7xNu+Z5\njL/kEJrn172/lzZsLeex/y3ib5Pms2zdVvbp2IILhvXkpIFdyGvkXYNd/eRtOK7e6dymKXeeMYiz\nH3iXK5+czp1nDqozjezL123l75Pm8+i7C9mwrYKDerbl+lP6cXivgjoTo3NR84TjssrBe7XnymN6\nc8NLHzLwrTZcMLxnpPHMWb6B+ybO49lpS6jcYRzXrxMXDu9J/6L6O27Iud3lCcdlne8P78nUhWu5\n4d8f0rdLa4bu2S6j9zczJn/yGfdOnMebH62iaeNczjqwG+cf2oPits0yGotz2cTbcGJ4G0722LC1\nnJPvmsS6LeU896ND6dQ6/T2+Kip38MKMZdz/1jw+WLKe9i3yOPfg7px9UDfaNKtfg1KdS4a34bh6\nrWWTxtx7TjCz9MVjp/DYhQeR3yg9M0tv2lbB4+8t4oG357Nk7RZ6FjTnhlP7cfKgLg1+NmvnkuEJ\nx2WtvTq05KbRA7h47BR++/wsfndyv5Ref+WGrTw4aQGP/PdT1m+tYP/ue3DdiftxVO8O5NSDGQ+c\nyzRPOC6rHdevE98f3pN7J85jYPEejBpSVOtrzl25gfsnzudf7y+hfMcOjtmvkAuG92Rw1z1SELFz\nDZcnHJf1rvhmMLP0Nf+aQe/ClvTtkvxUMWbG/+av4b6J83jtw5XkN8phzP5FfO/QnnRv3zwNUTvX\n8HingRjeaSB7rd64jRPueJtGueK5Hx6acCN+5Q5jwszl3DtxHtMWraVt8zy+PbQb5xzUjXYt8tMc\ntXP1g3cacA1K+xb5/OWswXzr3v/y48em8rdz99/lzNJbtlcyrmwRf31rPgvXbKZbu2b89uS+jBpc\nRNM87wjgXDpkbK4NSZdImi5pfbhNljQy5rgkXSdpqaQtkt6QtF/cNfaQ9LCkdeH2sKQ2cWX6SXoz\nvMYSSb+SD/VuEAZ13YNrT9yXNz9axW2vflRtmdUbt3HLy3M4+IbX+NUzM2nXIo97zh7M6z87nHMO\n6ubJxrk0ymQNZzFwFfAxQaL7DjBe0hAzmw5cCfwMOBeYA/wKeEVSLzPbEF7jUaArcCxgwF+Bh4ET\nACS1Al4BJgL7A72AB4FNwJ/S/oQucmce0JX3F67l9tfnMqC4DUf16QjAvFUb+evb83mqbDHbKnZw\ndJ+OfP+wnpR028OnnnEuQyJtw5G0BrgauA9YCtxpZr8PjzUFVgKXm9m9kvoAs4BDzWxSWOZQ4C2g\nt5nNkXQRcCPQ0cy2hGV+AVwEFFkND+ttOPXD1vJKRt3zDp9+tpkbT+vP+PeX8MrsFTTOzeG0wV34\n3rCedX62aeeySaJtOJFMXyspV9LpQAvgHaAHUAi8XFUmTBgTgYPDXUOBjWH5KpMIai+xZd6qSjah\nCUBnoHvKH8TVSU0a53L3WUPIzREXj53Cu/PX8MMj9mLSVUfyh1P7e7JxLiIZ7TQgqR8wGWhCkDxO\nMbMZkqoSxoq4U1YAXcLPhcCq2FqKmZmkleGxqjKLq7lG1bH51cR0IXAhQNeuXXfnsVwdVNy2GQ+d\ndwCzlq3npIGdaZbn/WOci1qm/y+cAwwE2gCnAQ9JOjzmePwrL8Xtq+6VWE1ltJP9wU6z+whe6VFS\nUuJ9xOuRAcVtGFDsszY7V1dk9JWamW03s7lmVmpmVwNTgcuA5WGR+LWDO/BlDWU50CG2x1n4uSCu\nTHXXgK/XnpxzzmVQ1EsQ5gD5BK+6lgMjqg5IagIM48s2m8kEbT5DY84fCjSPKzMsPLfKCIIOCQtS\nH75zzrlEZXIczg2ShknqHo6V+QNwODA2bJe5Ffi5pFMl9SXozryRoCs0ZjYb+Ddwr6SDJA0F7gWe\nN7M54W0eBTYDD0rqK+lU4OfALTX1UHPOOZdemWzDKQQeCX+uA6YDx5rZhPD4H4GmwF3AHsC7wDdi\nxuAAnAXczpe92Z4Fflh10MzWSRoRXqMU+Jxg/M0taXom55xzCfK51GL4OBznnEtenR6H45xzruHx\nhOOccy4jPOE455zLCG/DiSFpFfBpLS7RHlidonCiVF+eA/xZ6qr68iz15Tmgds/SzcwKairkCSeF\nJJUm0nBW19WX5wB/lrqqvjxLfXkOyMyz+Cs155xzGeEJxznnXEZ4wkmt+6IOIEXqy3OAP0tdVV+e\npb48B2TgWbwNxznnXEZ4Dcc551xGeMJxzjmXEZ5waknScEnPSloiySSdG3VMu0PS1ZLek7Re0ipJ\nz4WzdmcdSZdImh4+y3pJkyWNjDqu2pL0f+F/Y3dGHUuyJF0Xxh67La/5zLpJUidJD4X/r2yVNEvS\nYVHHlSxJC6r592KSXkjH/Tzh1F4L4APgx8CWiGOpjcOBvwAHA0cCFcCrktpGGdRuWgxcBQwGSoDX\ngfGS+kcaVS1IOgi4gGCW9Ww1B+gUs/WLNpzdI6kNMIlgNeGRQB/gR8DKKOPaTfvz1X8ngwlWR34i\nHTfzhd5rycxeBF4EkPRgtNHsPjP7Zux3SecQLCNxCPBcJEHtJjN7Jm7XNZIuIliwL+t+YUtqDYwF\nzgd+FXE4tVFhZllbq4lxJbDMzL4ds29+VMHUhpmtiv0u6XxgPTAuHffzGo7bmZYE/318HnUgtSEp\nV9LpBDXRd2oqX0fdBzxpZq9HHUgt9QxfPc+X9JiknlEHtJtOBt6V9LiklZKmSvphuOR91grjPx94\nxMw2p+MennDcztwGTCVYtjvrhKvKbgS2AfcAp5jZjIjDSpqkC4C9gF9GHUstvQucCxxL8GqwEHhH\nUrsog9pNPYGLgXnANwn+X7kBuCTKoFJgBNAD+Gu6buCv1NzXSLoFOBQ41Mwqo45nN80BBgJtgNOA\nhyQdbmYfRBtW4iT1Aq4HhpnZ9qjjqQ0zeyn2u6T/EvzC/g7ZtyJvDlBqZleH39+XtDdBwsm6Dh0x\nLgDeM7Op6bqB13DcV0j6M3AGcKSZzYs6nt1lZtvNbK6ZVf1imApcFnVcSRpKMIPvB5IqJFUAhwEX\nh9/zow1v95nZRmAmsHfUseyGZcCsuH2zga4RxJISkjoAJwH3p/M+XsNxX5B0G3A6cLiZfRh1PCmW\nA2TbL+jxQPya538HPiao+WRtrUdSE6A38J+oY9kNk4Becfv2oXZLm0TtPILXz4+l8yaecGpJUguC\nd+wQ/FLrKmkgsMbMFkYXWXIk3QWcQ9Ag+rmkwvDQxvCv0awh6QbgBWARQeeHMwm6fWfVWBwzWwus\njd0naRPBf1tZ82oQQNLNBL0dFwIdCNqkmgMPRRnXbvozQfvTNcDjwCDgUuD/Io1qN4WdBb4HPGZm\nG9J6L59LrXYkHU71f6U9ZGbnZjaa3SdpZ/8h/NrMrstkLLUVdk8/gqBheh1BV+ibzGxClHGlgqQ3\ngA/M7IdRx5IMSY8BwwleEa4C/gv80sziX01lhXAg8fUENZ2FBG03d1gW/kKVdATBWLUDzex/ab1X\nFv7zcc45l4W804BzzrmM8ITjnHMuIzzhOOecywhPOM455zLCE45zzrmM8ITjnHMuIzzhOJeFJJWE\nC2V1z8C9zg0nQnWuVjzhOOe+EK4AeXnUcbj6yROOc865jPCE41wcSW9IulvSnyStCdet/7GkfEl3\nSVoraWG4KmrVOTdImiNpS1hL+GM4QSUKvCLp1apFuiS1kPSxpISms5d0jKQPJW2V9BbBZJHxZQ6W\n9KakzeFCZ3dLahX3XPdIuk3S5+F2k6ScquNAN+CmqrXt465/lKQPJG2S9B9JPZL/p+saMk84zlXv\nLGADcCDB4lq3Esze/BFQQjDp5F8ldQ7LbwK+S7C+/cUEs25fAxDOr/UdgvV5ql5X3U4w2/MVNQUi\nqTi89yvhNe4A/hhXph/wMvAsMAA4NSz7t2qeK4dg6YPvAxcCPwmPnQosBn7Dl2vcV8kHrg6fcSjB\nOkP31BS7c19hZr755lvMBrwBTI75LoIJJ5+N2deYIGGM2sk1fgDMjdt3MsEU8L8Nfw5IMJ7rCRKd\nYvb9AjCge/j9H8ADcecNDMt0iHmu6q6zOOb7AuDyuOucG16nV8y+s8Lnz4n635dv2bN5Dce56k2v\n+mBmBqwEZsTsKwc+J5hqH0mjJL0taXnYo+vPxC3IZWbjgUcJfsn/wsymJRhLH+C/YRxV4pf+HgKc\nLWlj1UawbgvAnjHlqrtOl9hXbzuxzczmxHxfSpB02yT4DM75ejjO7UR53Hfbyb4cSQcRLFz1a4JV\nRdcCJwI3xxYO23T2Byr5cg2lRCiBMjkEa9H/uZpjS5K4185UxH2vSlr+R6tLmCcc52rvEGCJmf22\naoekbtWUu4mgLWQEMEHSi2b2TALXnwWcJkkxtZOD4spMAfYzs7k1XOvAaq6z1MzWh9+3A7kJxORc\n0vyvE+dq7yOC11JnSeop6SLgjNgCko4haKQ/28z+A1xH0Omg8GtX+7p7gO7ArZJ6SRpF0EYU60bg\ngLAX2iBJe0k6XtK9ceU6x13nCr5aK1oADJPURVL7BGJzLmGecJyrJTN7jqD2citB288I4FdVxyUV\nAA8CvzOzd8PdNwAzgb9XdZXexfUXEvQgOwaYRvDa7udxZaYTrKjZHXgzLPcHYEXc5cYS1GDeBe4H\nHuCrCedXQDHwCUFHCedSxlf8dK6ByNblqV394TUc55xzGeEJx7mIhe0uG3ey+eBKV2/4KzXnIiap\nA7CzcTDrzWxlJuNxLl084TjnnMsIf6XmnHMuIzzhOOecywhPOM455zLCE45zzrmM8ITjnHMuI/4f\nsWhS1TMrspAAAAAASUVORK5CYII=\n",
||||||| merged common ancestors
      "image/png": "iVBORw0KGgoAAAANSUhEUgAAAZwAAAESCAYAAADJ+2ORAAAABHNCSVQICAgIfAhkiAAAAAlwSFlz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\nSUVORK5CYII=\n",
=======
      "image/png": "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\n",
>>>>>>> upstream/master
      "text/plain": [
<<<<<<< HEAD
       "<matplotlib.figure.Figure at 0x1bbb44ee7b8>"
||||||| merged common ancestors
       "<matplotlib.figure.Figure at 0x11024d748>"
=======
       "<Figure size 432x288 with 1 Axes>"
>>>>>>> upstream/master
      ]
     },
     "metadata": {},
     "output_type": "display_data"
    }
   ],
   "source": [
    "# Plot max_depth (x-axis) versus RMSE (y-axis).\n",
    "plt.plot(max_depth_range, RMSE_scores);\n",
    "plt.xlabel('max_depth');\n",
    "plt.ylabel('RMSE (lower is better)');"
   ]
  },
  {
   "cell_type": "code",
<<<<<<< HEAD
   "execution_count": 17,
   "metadata": {},
||||||| merged common ancestors
   "execution_count": 16,
   "metadata": {
    "collapsed": false
   },
=======
   "execution_count": 16,
   "metadata": {
    "slideshow": {
     "slide_type": "slide"
    }
   },
>>>>>>> upstream/master
   "outputs": [
    {
     "data": {
      "text/plain": [
       "DecisionTreeRegressor(criterion='mse', max_depth=3, max_features=None,\n",
       "           max_leaf_nodes=None, min_impurity_decrease=0.0,\n",
       "           min_impurity_split=None, min_samples_leaf=1,\n",
       "           min_samples_split=2, min_weight_fraction_leaf=0.0,\n",
       "           presort=False, random_state=1, splitter='best')"
      ]
     },
     "execution_count": 17,
     "metadata": {},
     "output_type": "execute_result"
    }
   ],
   "source": [
    "# max_depth=3 was best, so fit a tree using that parameter.\n",
    "treereg = DecisionTreeRegressor(max_depth=3, random_state=1)\n",
    "treereg.fit(X, y)"
   ]
  },
  {
   "cell_type": "code",
<<<<<<< HEAD
   "execution_count": 18,
   "metadata": {},
||||||| merged common ancestors
   "execution_count": 17,
   "metadata": {
    "collapsed": false
   },
=======
   "execution_count": 17,
   "metadata": {
    "slideshow": {
     "slide_type": "slide"
    }
   },
>>>>>>> upstream/master
   "outputs": [
    {
     "data": {
      "text/html": [
       "<div>\n",
       "<style scoped>\n",
       "    .dataframe tbody tr th:only-of-type {\n",
       "        vertical-align: middle;\n",
       "    }\n",
       "\n",
       "    .dataframe tbody tr th {\n",
       "        vertical-align: top;\n",
       "    }\n",
       "\n",
       "    .dataframe thead th {\n",
       "        text-align: right;\n",
       "    }\n",
       "</style>\n",
       "<table border=\"1\" class=\"dataframe\">\n",
       "  <thead>\n",
       "    <tr style=\"text-align: right;\">\n",
       "      <th></th>\n",
       "      <th>feature</th>\n",
       "      <th>importance</th>\n",
       "    </tr>\n",
       "  </thead>\n",
       "  <tbody>\n",
       "    <tr>\n",
       "      <th>0</th>\n",
       "      <td>year</td>\n",
       "      <td>0.798744</td>\n",
       "    </tr>\n",
       "    <tr>\n",
       "      <th>1</th>\n",
       "      <td>miles</td>\n",
       "      <td>0.201256</td>\n",
       "    </tr>\n",
       "    <tr>\n",
       "      <th>2</th>\n",
       "      <td>doors</td>\n",
       "      <td>0.000000</td>\n",
       "    </tr>\n",
       "    <tr>\n",
       "      <th>3</th>\n",
       "      <td>vtype</td>\n",
       "      <td>0.000000</td>\n",
       "    </tr>\n",
       "  </tbody>\n",
       "</table>\n",
       "</div>"
      ],
      "text/plain": [
       "  feature  importance\n",
       "0    year    0.798744\n",
       "1   miles    0.201256\n",
       "2   doors    0.000000\n",
       "3   vtype    0.000000"
      ]
     },
     "execution_count": 18,
     "metadata": {},
     "output_type": "execute_result"
    }
   ],
   "source": [
    "# \"Gini importance\" of each feature: the (normalized) total reduction of error brought by that feature.\n",
    "pd.DataFrame({'feature':feature_cols, \n",
    "              'importance':treereg.feature_importances_})"
   ]
  },
  {
   "cell_type": "markdown",
   "metadata": {
    "slideshow": {
     "slide_type": "slide"
    }
   },
   "source": [
    "### Creating a Tree Diagram"
   ]
  },
  {
   "cell_type": "markdown",
   "metadata": {
    "slideshow": {
     "slide_type": "slide"
    }
   },
   "source": [
    "To create a tree diagram, we will use the Graphviz library for displaying graph data structures. \n",
    "\n",
    "Surprisingly, every tree is just a graph in disguise! A graph is a tree only if there is exactly one vertex with no incoming edge (the root), while all other vertices have exactly one incoming edge (representing its parent)."
   ]
  },
  {
   "cell_type": "code",
<<<<<<< HEAD
   "execution_count": 20,
   "metadata": {},
||||||| merged common ancestors
   "execution_count": 18,
   "metadata": {
    "collapsed": false
   },
=======
   "execution_count": 18,
   "metadata": {
    "slideshow": {
     "slide_type": "slide"
    }
   },
>>>>>>> upstream/master
   "outputs": [],
   "source": [
    "# Create a Graphviz file.\n",
    "from sklearn.tree import export_graphviz\n",
    "export_graphviz(treereg, out_file='./assets/tree_vehicles.dot', feature_names=feature_cols)\n",
    "\n",
    "# At the command line, run this to convert to PNG:\n",
    "#   dot -Tpng tree_vehicles.dot -o tree_vehicles.png\n",
    "\n",
    "# Or, you can drag the image below to your desktop or Powerpoint!"
   ]
  },
  {
   "cell_type": "markdown",
   "metadata": {
    "slideshow": {
     "slide_type": "slide"
    }
   },
   "source": [
    "![Tree for vehicle data](assets/tree_vehicles.png)"
   ]
  },
  {
   "cell_type": "markdown",
   "metadata": {
    "slideshow": {
     "slide_type": "slide"
    }
   },
   "source": [
    "Reading the internal nodes:\n",
    "\n",
    "- **samples:** Number of observations in that node before splitting.\n",
    "- **mse:** MSE calculated by comparing the actual response values in that node against the mean response value in that node.\n",
    "- **rule:** Rule used to split that node (go left if true, go right if false).\n",
    "\n",
    "Reading the leaves:\n",
    "\n",
    "- **samples:** Number of observations in that node.\n",
    "- **value:** Mean response value in that node.\n",
    "- **mse:** MSE calculated by comparing the actual response values in that node against \"value.\""
   ]
  },
  {
   "cell_type": "markdown",
   "metadata": {
    "slideshow": {
     "slide_type": "slide"
    }
   },
   "source": [
    "<a id=\"testing-preds\"></a>\n",
    "## Making Predictions for the Testing Data"
   ]
  },
  {
   "cell_type": "code",
<<<<<<< HEAD
   "execution_count": 21,
   "metadata": {},
||||||| merged common ancestors
   "execution_count": 19,
   "metadata": {
    "collapsed": false
   },
=======
   "execution_count": 19,
   "metadata": {
    "slideshow": {
     "slide_type": "slide"
    }
   },
>>>>>>> upstream/master
   "outputs": [
    {
     "data": {
      "text/html": [
       "<div>\n",
       "<style scoped>\n",
       "    .dataframe tbody tr th:only-of-type {\n",
       "        vertical-align: middle;\n",
       "    }\n",
       "\n",
       "    .dataframe tbody tr th {\n",
       "        vertical-align: top;\n",
       "    }\n",
       "\n",
       "    .dataframe thead th {\n",
       "        text-align: right;\n",
       "    }\n",
       "</style>\n",
       "<table border=\"1\" class=\"dataframe\">\n",
       "  <thead>\n",
       "    <tr style=\"text-align: right;\">\n",
       "      <th></th>\n",
       "      <th>price</th>\n",
       "      <th>year</th>\n",
       "      <th>miles</th>\n",
       "      <th>doors</th>\n",
       "      <th>vtype</th>\n",
       "    </tr>\n",
       "  </thead>\n",
       "  <tbody>\n",
       "    <tr>\n",
       "      <th>0</th>\n",
       "      <td>3000</td>\n",
       "      <td>2003</td>\n",
       "      <td>130000</td>\n",
       "      <td>4</td>\n",
       "      <td>1</td>\n",
       "    </tr>\n",
       "    <tr>\n",
       "      <th>1</th>\n",
       "      <td>6000</td>\n",
       "      <td>2005</td>\n",
       "      <td>82500</td>\n",
       "      <td>4</td>\n",
       "      <td>0</td>\n",
       "    </tr>\n",
       "    <tr>\n",
       "      <th>2</th>\n",
       "      <td>12000</td>\n",
       "      <td>2010</td>\n",
       "      <td>60000</td>\n",
       "      <td>2</td>\n",
       "      <td>0</td>\n",
       "    </tr>\n",
       "  </tbody>\n",
       "</table>\n",
       "</div>"
      ],
      "text/plain": [
       "   price  year   miles  doors  vtype\n",
       "0   3000  2003  130000      4      1\n",
       "1   6000  2005   82500      4      0\n",
       "2  12000  2010   60000      2      0"
      ]
     },
     "execution_count": 21,
     "metadata": {},
     "output_type": "execute_result"
    }
   ],
   "source": [
    "# Read the testing data.\n",
    "path = './data/vehicles_test.csv'\n",
    "\n",
    "test = pd.read_csv(path)\n",
    "test['vtype'] = test.vtype.map({'car':0, 'truck':1})\n",
    "test"
   ]
  },
  {
   "cell_type": "markdown",
   "metadata": {
    "slideshow": {
     "slide_type": "slide"
    }
   },
   "source": [
    "**Question:** Using the tree diagram above, what predictions will the model make for each observation?"
   ]
  },
  {
   "cell_type": "code",
   "execution_count": 20,
<<<<<<< HEAD
   "metadata": {},
||||||| merged common ancestors
   "metadata": {
    "collapsed": false
   },
=======
   "metadata": {
    "slideshow": {
     "slide_type": "slide"
    }
   },
>>>>>>> upstream/master
   "outputs": [
    {
     "data": {
      "text/plain": [
       "array([ 4000.,  5000., 13500.])"
      ]
     },
     "execution_count": 20,
     "metadata": {},
     "output_type": "execute_result"
    }
   ],
   "source": [
    "# Use fitted model to make predictions on testing data.\n",
    "X_test = test[feature_cols]\n",
    "y_test = test.price\n",
    "y_pred = treereg.predict(X_test)\n",
    "\n",
    "y_pred"
   ]
  },
  {
   "cell_type": "code",
   "execution_count": 21,
<<<<<<< HEAD
   "metadata": {},
||||||| merged common ancestors
   "metadata": {
    "collapsed": false
   },
=======
   "metadata": {
    "slideshow": {
     "slide_type": "slide"
    }
   },
>>>>>>> upstream/master
   "outputs": [
    {
     "data": {
      "text/plain": [
       "1190.2380714238084"
      ]
     },
     "execution_count": 21,
     "metadata": {},
     "output_type": "execute_result"
    }
   ],
   "source": [
    "# Calculate RMSE\n",
    "np.sqrt(metrics.mean_squared_error(y_test, y_pred))"
   ]
  },
  {
   "cell_type": "code",
   "execution_count": 22,
<<<<<<< HEAD
   "metadata": {},
||||||| merged common ancestors
   "metadata": {
    "collapsed": false
   },
=======
   "metadata": {
    "slideshow": {
     "slide_type": "slide"
    }
   },
>>>>>>> upstream/master
   "outputs": [
    {
     "data": {
      "text/plain": [
       "7937.253933193771"
      ]
     },
     "execution_count": 22,
     "metadata": {},
     "output_type": "execute_result"
    }
   ],
   "source": [
    "# Calculate RMSE for your own tree.\n",
    "y_test = [3000, 6000, 12000]\n",
    "y_pred = [0, 0, 0]\n",
    "\n",
    "from sklearn import metrics\n",
    "np.sqrt(metrics.mean_squared_error(y_test, y_pred))"
   ]
  },
  {
   "cell_type": "markdown",
   "metadata": {
    "slideshow": {
     "slide_type": "slide"
    }
   },
   "source": [
    "<a id=\"part-two\"></a>\n",
    "# Part 2: Classification Trees\n",
    "\n",
    "**Example:** Predict whether or not Barack Obama or Hillary Clinton will win the Democratic primary in a particular county in 2008 (from the New York Times)."
   ]
  },
  {
   "cell_type": "markdown",
   "metadata": {
    "slideshow": {
     "slide_type": "slide"
    }
   },
   "source": [
    "![Obama-Clinton decision tree](assets/obama_clinton_tree.jpg)"
   ]
  },
  {
   "cell_type": "markdown",
   "metadata": {
    "slideshow": {
     "slide_type": "slide"
    }
   },
   "source": [
    "**Questions:**\n",
    "\n",
    "- What are the observations? How many observations are there?\n",
    "- What is the response variable?\n",
    "- What are the features?\n",
    "- What is the most predictive feature?\n",
    "- Why does the tree split on high school graduation rate twice in a row?\n",
    "- What is the class prediction for the following county: 15 percent African American, 90 percent high school graduation rate, located in the South, high poverty, high population density?\n",
    "- What is the predicted probability for that same county?"
   ]
  },
  {
   "cell_type": "markdown",
   "metadata": {
    "slideshow": {
     "slide_type": "slide"
    }
   },
   "source": [
    "<a id=\"comparing-trees\"></a>\n",
    "## Comparing Regression Trees and Classification Trees\n",
    "\n",
    "|Regression Trees|Classification Trees|\n",
    "|---|---|\n",
    "|Predict a continuous response.|Predict a categorical response.|\n",
    "|Predict using mean response of each leaf.|Predict using most commonly occurring class of each leaf.|\n",
    "|Splits are chosen to minimize MSE.|Splits are chosen to minimize Gini index (discussed below).|"
   ]
  },
  {
   "cell_type": "markdown",
   "metadata": {
    "slideshow": {
     "slide_type": "slide"
    }
   },
   "source": [
    "<a id=\"splitting-criteria\"></a>\n",
    "## Splitting Criteria for Classification Trees\n",
    "\n",
    "Common options for the splitting criteria:\n",
    "\n",
    "- **Classification error rate:** The fraction of training observations in a region that don't belong to the most common class.\n",
    "- **Gini index:** The measure of total variance across classes in a region."
   ]
  },
  {
   "cell_type": "markdown",
   "metadata": {
    "slideshow": {
     "slide_type": "slide"
    }
   },
   "source": [
    "### Example: Classification Error Rate\n",
    "\n",
    "Pretend we are predicting whether or not someone will buy an iPhone or an Android:\n",
    "\n",
    "- At a particular node, there are **25 observations** (phone buyers) of whom **10 bought iPhones and 15 bought Androids**.\n",
    "- As the majority class is **Android**, that's our prediction for all 25 observations, and thus the classification error rate is **10/25 = 40%**.\n",
    "\n",
    "Our goal in making splits is to **reduce the classification error rate**. Let's try splitting on gender:\n",
    "\n",
    "- **Males:** Two iPhones and 12 Androids, thus the predicted class is Android.\n",
    "- **Females:** Eight iPhones and three Androids, thus the predicted class is iPhone.\n",
    "- Classification error rate after this split would be **5/25 = 20%**.\n",
    "\n",
    "Compare that with a split on age:\n",
    "\n",
    "- **30 or younger:** Four iPhones and eight Androids, thus the predicted class is Android.\n",
    "- **31 or older:** Six iPhones and seven Androids, thus the predicted class is Android.\n",
    "- Classification error rate after this split would be **10/25 = 40%**.\n",
    "\n",
    "The decision tree algorithm will try **every possible split across all features** and choose the one that **reduces the error rate the most.**"
   ]
  },
  {
   "cell_type": "markdown",
   "metadata": {
    "slideshow": {
     "slide_type": "slide"
    }
   },
   "source": [
    "### Example: Gini Index\n",
    "\n",
    "Calculate the Gini index before making a split:\n",
    "\n",
    "$$1 - \\left(\\frac {iPhone} {Total}\\right)^2 - \\left(\\frac {Android} {Total}\\right)^2 = 1 - \\left(\\frac {10} {25}\\right)^2 - \\left(\\frac {15} {25}\\right)^2 = 0.48$$\n",
    "\n",
    "- The **maximum value** of the Gini index is 0.5 and occurs when the classes are perfectly balanced in a node.\n",
    "- The **minimum value** of the Gini index is 0 and occurs when there is only one class represented in a node.\n",
    "- A node with a lower Gini index is said to be more \"pure.\"\n",
    "\n",
    "Evaluating the split on **gender** using the Gini index:\n",
    "\n",
    "$$\\text{Males: } 1 - \\left(\\frac {2} {14}\\right)^2 - \\left(\\frac {12} {14}\\right)^2 = 0.24$$\n",
    "$$\\text{Females: } 1 - \\left(\\frac {8} {11}\\right)^2 - \\left(\\frac {3} {11}\\right)^2 = 0.40$$\n",
    "$$\\text{Weighted Average: } 0.24 \\left(\\frac {14} {25}\\right) + 0.40 \\left(\\frac {11} {25}\\right) = 0.31$$\n",
    "\n",
    "Evaluating the split on **age** using the Gini index:\n",
    "\n",
    "$$\\text{30 or younger: } 1 - \\left(\\frac {4} {12}\\right)^2 - \\left(\\frac {8} {12}\\right)^2 = 0.44$$\n",
    "$$\\text{31 or older: } 1 - \\left(\\frac {6} {13}\\right)^2 - \\left(\\frac {7} {13}\\right)^2 = 0.50$$\n",
    "$$\\text{Weighted Average: } 0.44 \\left(\\frac {12} {25}\\right) + 0.50 \\left(\\frac {13} {25}\\right) = 0.47$$\n",
    "\n",
    "Again, the decision tree algorithm will try **every possible split** and will choose the one that **reduces the Gini index (and thus increases the \"node purity\") the most**.\n",
    "\n",
    "You can think of this as each split increasing the accuracy of predictions. If there is some error at a node, then splitting at that node will result in two nodes with a higher average \"node purity\" than the original. So, we ensure continually better fits to the training data by continually splitting nodes."
   ]
  },
  {
   "cell_type": "markdown",
   "metadata": {
    "slideshow": {
     "slide_type": "slide"
    }
   },
   "source": [
    "### Comparing Classification Error Rate and Gini Index\n",
    "\n",
    "- Gini index is generally preferred because it will make splits that **increase node purity**, even if that split does not change the classification error rate.\n",
    "- Node purity is important because we're interested in the **class proportions** in each region, as that's how we calculate the **predicted probability** of each class.\n",
    "- scikit-learn's default splitting criteria for classification trees is Gini index.\n",
    "\n",
    "**Note:** There is another common splitting criteria called **cross-entropy**. It's numerically similar to Gini index but slower to compute. So, it's not as popular as Gini index."
   ]
  },
  {
   "cell_type": "markdown",
   "metadata": {
    "slideshow": {
     "slide_type": "slide"
    }
   },
   "source": [
    "<a id=\"sklearn-ctree\"></a>\n",
    "## Building a Classification Tree in `scikit-learn`"
   ]
  },
  {
   "cell_type": "markdown",
   "metadata": {
    "slideshow": {
     "slide_type": "slide"
    }
   },
   "source": [
    "We'll build a classification tree using the Titanic survival data set:"
   ]
  },
  {
   "cell_type": "code",
<<<<<<< HEAD
   "execution_count": 22,
   "metadata": {},
||||||| merged common ancestors
   "execution_count": 23,
   "metadata": {
    "collapsed": false
   },
=======
   "execution_count": 23,
   "metadata": {
    "slideshow": {
     "slide_type": "slide"
    }
   },
>>>>>>> upstream/master
   "outputs": [
    {
     "data": {
      "text/html": [
       "<div>\n",
       "<style scoped>\n",
       "    .dataframe tbody tr th:only-of-type {\n",
       "        vertical-align: middle;\n",
       "    }\n",
       "\n",
       "    .dataframe tbody tr th {\n",
       "        vertical-align: top;\n",
       "    }\n",
       "\n",
       "    .dataframe thead th {\n",
       "        text-align: right;\n",
       "    }\n",
       "</style>\n",
       "<table border=\"1\" class=\"dataframe\">\n",
       "  <thead>\n",
       "    <tr style=\"text-align: right;\">\n",
       "      <th></th>\n",
       "      <th>PassengerId</th>\n",
       "      <th>Survived</th>\n",
       "      <th>Pclass</th>\n",
       "      <th>Name</th>\n",
       "      <th>Sex</th>\n",
       "      <th>Age</th>\n",
       "      <th>SibSp</th>\n",
       "      <th>Parch</th>\n",
       "      <th>Ticket</th>\n",
       "      <th>Fare</th>\n",
       "      <th>Cabin</th>\n",
       "      <th>Embarked</th>\n",
       "      <th>Embarked_Q</th>\n",
       "      <th>Embarked_S</th>\n",
       "    </tr>\n",
       "  </thead>\n",
       "  <tbody>\n",
       "    <tr>\n",
       "      <th>0</th>\n",
       "      <td>1</td>\n",
       "      <td>0</td>\n",
       "      <td>3</td>\n",
       "      <td>Braund, Mr. Owen Harris</td>\n",
       "      <td>1</td>\n",
       "      <td>22.0</td>\n",
       "      <td>1</td>\n",
       "      <td>0</td>\n",
       "      <td>A/5 21171</td>\n",
       "      <td>7.2500</td>\n",
       "      <td>NaN</td>\n",
       "      <td>S</td>\n",
       "      <td>0</td>\n",
       "      <td>1</td>\n",
       "    </tr>\n",
       "    <tr>\n",
       "      <th>1</th>\n",
       "      <td>2</td>\n",
       "      <td>1</td>\n",
       "      <td>1</td>\n",
       "      <td>Cumings, Mrs. John Bradley (Florence Briggs Th...</td>\n",
       "      <td>0</td>\n",
       "      <td>38.0</td>\n",
       "      <td>1</td>\n",
       "      <td>0</td>\n",
       "      <td>PC 17599</td>\n",
       "      <td>71.2833</td>\n",
       "      <td>C85</td>\n",
       "      <td>C</td>\n",
       "      <td>0</td>\n",
       "      <td>0</td>\n",
       "    </tr>\n",
       "    <tr>\n",
       "      <th>2</th>\n",
       "      <td>3</td>\n",
       "      <td>1</td>\n",
       "      <td>3</td>\n",
       "      <td>Heikkinen, Miss. Laina</td>\n",
       "      <td>0</td>\n",
       "      <td>26.0</td>\n",
       "      <td>0</td>\n",
       "      <td>0</td>\n",
       "      <td>STON/O2. 3101282</td>\n",
       "      <td>7.9250</td>\n",
       "      <td>NaN</td>\n",
       "      <td>S</td>\n",
       "      <td>0</td>\n",
       "      <td>1</td>\n",
       "    </tr>\n",
       "    <tr>\n",
       "      <th>3</th>\n",
       "      <td>4</td>\n",
       "      <td>1</td>\n",
       "      <td>1</td>\n",
       "      <td>Futrelle, Mrs. Jacques Heath (Lily May Peel)</td>\n",
       "      <td>0</td>\n",
       "      <td>35.0</td>\n",
       "      <td>1</td>\n",
       "      <td>0</td>\n",
       "      <td>113803</td>\n",
       "      <td>53.1000</td>\n",
       "      <td>C123</td>\n",
       "      <td>S</td>\n",
       "      <td>0</td>\n",
       "      <td>1</td>\n",
       "    </tr>\n",
       "    <tr>\n",
       "      <th>4</th>\n",
       "      <td>5</td>\n",
       "      <td>0</td>\n",
       "      <td>3</td>\n",
       "      <td>Allen, Mr. William Henry</td>\n",
       "      <td>1</td>\n",
       "      <td>35.0</td>\n",
       "      <td>0</td>\n",
       "      <td>0</td>\n",
       "      <td>373450</td>\n",
       "      <td>8.0500</td>\n",
       "      <td>NaN</td>\n",
       "      <td>S</td>\n",
       "      <td>0</td>\n",
       "      <td>1</td>\n",
       "    </tr>\n",
       "  </tbody>\n",
       "</table>\n",
       "</div>"
      ],
      "text/plain": [
       "   PassengerId  Survived  Pclass  \\\n",
       "0            1         0       3   \n",
       "1            2         1       1   \n",
       "2            3         1       3   \n",
       "3            4         1       1   \n",
       "4            5         0       3   \n",
       "\n",
       "                                                Name  Sex   Age  SibSp  Parch  \\\n",
       "0                            Braund, Mr. Owen Harris    1  22.0      1      0   \n",
       "1  Cumings, Mrs. John Bradley (Florence Briggs Th...    0  38.0      1      0   \n",
       "2                             Heikkinen, Miss. Laina    0  26.0      0      0   \n",
       "3       Futrelle, Mrs. Jacques Heath (Lily May Peel)    0  35.0      1      0   \n",
       "4                           Allen, Mr. William Henry    1  35.0      0      0   \n",
       "\n",
       "             Ticket     Fare Cabin Embarked  Embarked_Q  Embarked_S  \n",
       "0         A/5 21171   7.2500   NaN        S           0           1  \n",
       "1          PC 17599  71.2833   C85        C           0           0  \n",
       "2  STON/O2. 3101282   7.9250   NaN        S           0           1  \n",
       "3            113803  53.1000  C123        S           0           1  \n",
       "4            373450   8.0500   NaN        S           0           1  "
      ]
     },
     "execution_count": 22,
     "metadata": {},
     "output_type": "execute_result"
    }
   ],
   "source": [
    "# Read in the data.\n",
    "path = './data/titanic.csv'\n",
    "titanic = pd.read_csv(path)\n",
    "\n",
    "# Encode female as 0 and male as 1.\n",
    "titanic['Sex'] = titanic.Sex.map({'female':0, 'male':1})\n",
    "\n",
    "# Fill in the missing values for age with the median age.\n",
    "titanic.Age.fillna(titanic.Age.median(), inplace=True)\n",
    "\n",
    "# Create a DataFrame of dummy variables for Embarked.\n",
    "embarked_dummies = pd.get_dummies(titanic.Embarked, prefix='Embarked')\n",
    "embarked_dummies.drop(embarked_dummies.columns[0], axis=1, inplace=True)\n",
    "\n",
    "# Concatenate the original DataFrame and the dummy DataFrame.\n",
    "titanic = pd.concat([titanic, embarked_dummies], axis=1)\n",
    "\n",
    "# Print the updated DataFrame.\n",
    "titanic.head()"
   ]
  },
  {
   "cell_type": "markdown",
   "metadata": {
    "slideshow": {
     "slide_type": "slide"
    }
   },
   "source": [
    "- **Survived:** 0=died, 1=survived (response variable)\n",
    "- **Pclass:** 1=first class, 2=second class, 3=third class\n",
    "    - What will happen if the tree splits on this feature?\n",
    "- **Sex:** 0=female, 1=male\n",
    "- **Age:** Numeric value\n",
    "- **Embarked:** C or Q or S"
   ]
  },
  {
   "cell_type": "code",
   "execution_count": 23,
   "metadata": {
    "slideshow": {
     "slide_type": "slide"
    }
   },
   "outputs": [],
   "source": [
    "# Define X and y.\n",
    "feature_cols = ['Pclass', 'Sex', 'Age', 'Embarked_Q', 'Embarked_S']\n",
    "\n",
    "X = titanic[feature_cols]\n",
    "y = titanic.Survived"
   ]
  },
  {
   "cell_type": "code",
<<<<<<< HEAD
   "execution_count": 24,
   "metadata": {},
||||||| merged common ancestors
   "execution_count": 25,
   "metadata": {
    "collapsed": false
   },
=======
   "execution_count": 25,
   "metadata": {
    "slideshow": {
     "slide_type": "slide"
    }
   },
>>>>>>> upstream/master
   "outputs": [
    {
     "data": {
      "text/plain": [
       "DecisionTreeClassifier(class_weight=None, criterion='gini', max_depth=3,\n",
       "            max_features=None, max_leaf_nodes=None,\n",
       "            min_impurity_decrease=0.0, min_impurity_split=None,\n",
       "            min_samples_leaf=1, min_samples_split=2,\n",
       "            min_weight_fraction_leaf=0.0, presort=False, random_state=1,\n",
       "            splitter='best')"
      ]
     },
     "execution_count": 24,
     "metadata": {},
     "output_type": "execute_result"
    }
   ],
   "source": [
    "# Fit a classification tree with max_depth=3 on all data.\n",
    "from sklearn.tree import DecisionTreeClassifier\n",
    "\n",
    "treeclf = DecisionTreeClassifier(max_depth=3, random_state=1)\n",
    "treeclf.fit(X, y)"
   ]
  },
  {
   "cell_type": "code",
<<<<<<< HEAD
   "execution_count": 25,
   "metadata": {},
||||||| merged common ancestors
   "execution_count": 26,
   "metadata": {
    "collapsed": false
   },
=======
   "execution_count": 26,
   "metadata": {
    "slideshow": {
     "slide_type": "slide"
    }
   },
>>>>>>> upstream/master
   "outputs": [],
   "source": [
    "# Create a Graphviz file.\n",
    "export_graphviz(treeclf, out_file='./assets/tree_titanic.dot', feature_names=feature_cols)\n",
    "\n",
    "# At the command line, run this to convert to PNG:\n",
    "#   dot -Tpng tree_titanic.dot -o tree_titanic.png\n",
    "\n",
    "# Or, just drag this image to your desktop or Powerpoint."
   ]
  },
  {
   "cell_type": "markdown",
   "metadata": {
    "slideshow": {
     "slide_type": "slide"
    }
   },
   "source": [
    "![Tree for Titanic data](assets/tree_titanic.png)"
   ]
  },
  {
   "cell_type": "markdown",
   "metadata": {
    "slideshow": {
     "slide_type": "slide"
    }
   },
   "source": [
    "Notice the split in the bottom right; the **same class** is predicted in both of its leaves. That split didn't affect the **classification error rate**, although it did increase the **node purity**. This is important because it increases the accuracy of our predicted probabilities.\n",
    "\n",
    "A useful side effect of measures such as the Gini index is that they can be used give some indication of feature importance:"
   ]
  },
  {
   "cell_type": "code",
<<<<<<< HEAD
   "execution_count": 26,
   "metadata": {},
||||||| merged common ancestors
   "execution_count": 27,
   "metadata": {
    "collapsed": false
   },
=======
   "execution_count": 27,
   "metadata": {
    "slideshow": {
     "slide_type": "slide"
    }
   },
>>>>>>> upstream/master
   "outputs": [
    {
     "data": {
      "text/html": [
       "<div>\n",
       "<style scoped>\n",
       "    .dataframe tbody tr th:only-of-type {\n",
       "        vertical-align: middle;\n",
       "    }\n",
       "\n",
       "    .dataframe tbody tr th {\n",
       "        vertical-align: top;\n",
       "    }\n",
       "\n",
       "    .dataframe thead th {\n",
       "        text-align: right;\n",
       "    }\n",
       "</style>\n",
       "<table border=\"1\" class=\"dataframe\">\n",
       "  <thead>\n",
       "    <tr style=\"text-align: right;\">\n",
       "      <th></th>\n",
       "      <th>feature</th>\n",
       "      <th>importance</th>\n",
       "    </tr>\n",
       "  </thead>\n",
       "  <tbody>\n",
       "    <tr>\n",
       "      <th>0</th>\n",
       "      <td>Pclass</td>\n",
       "      <td>0.242664</td>\n",
       "    </tr>\n",
       "    <tr>\n",
       "      <th>1</th>\n",
       "      <td>Sex</td>\n",
       "      <td>0.655584</td>\n",
       "    </tr>\n",
       "    <tr>\n",
       "      <th>2</th>\n",
       "      <td>Age</td>\n",
       "      <td>0.064494</td>\n",
       "    </tr>\n",
       "    <tr>\n",
       "      <th>3</th>\n",
       "      <td>Embarked_Q</td>\n",
       "      <td>0.000000</td>\n",
       "    </tr>\n",
       "    <tr>\n",
       "      <th>4</th>\n",
       "      <td>Embarked_S</td>\n",
       "      <td>0.037258</td>\n",
       "    </tr>\n",
       "  </tbody>\n",
       "</table>\n",
       "</div>"
      ],
      "text/plain": [
       "      feature  importance\n",
       "0      Pclass    0.242664\n",
       "1         Sex    0.655584\n",
       "2         Age    0.064494\n",
       "3  Embarked_Q    0.000000\n",
       "4  Embarked_S    0.037258"
      ]
     },
     "execution_count": 26,
     "metadata": {},
     "output_type": "execute_result"
    }
   ],
   "source": [
    "# Compute the feature importances (the Gini index at each node).\n",
    "\n",
    "pd.DataFrame({'feature':feature_cols, \n",
    "              'importance':treeclf.feature_importances_})"
   ]
  },
  {
   "cell_type": "markdown",
   "metadata": {
    "slideshow": {
     "slide_type": "slide"
    }
   },
   "source": [
    "<a id=\"part-three\"></a>\n",
    "# Summary: Comparing Decision Trees With Other Models\n",
    "\n",
    "**Advantages of decision trees:**\n",
    "\n",
    "- They can be used for regression or classification.\n",
    "- They can be displayed graphically.\n",
    "- They are highly interpretable.\n",
    "- They can be specified as a series of rules, and more closely approximate human decision-making than other models.\n",
    "- Prediction is fast.\n",
    "- Their features don't need scaling.\n",
    "- They authomatically learn feature interactions.\n",
    "- Tends to ignore irrelevant features.\n",
    "- They are non-parametric (i.e. will outperform linear models if the relationship between features and response is highly non-linear)."
   ]
  },
  {
   "cell_type": "markdown",
   "metadata": {
    "slideshow": {
     "slide_type": "slide"
    }
   },
   "source": [
    "![Trees versus linear models](assets/tree_vs_linear.png)"
   ]
  },
  {
   "cell_type": "markdown",
   "metadata": {
    "slideshow": {
     "slide_type": "slide"
    }
   },
   "source": [
    "**Disadvantages of decision trees:**\n",
    "\n",
    "- Their performance is (generally) not competitive with the best supervised learning methods.\n",
    "- They can easily overfit the training data (tuning is required).\n",
    "- Small variations in the data can result in a completely different tree (high variance).\n",
    "- Recursive binary splitting makes \"locally optimal\" decisions that may not result in a globally optimal tree.\n",
    "- They don't tend to work well if the classes are highly unbalanced.\n",
    "- They don't tend to work well with very small data sets."
   ]
  },
  {
   "cell_type": "code",
   "execution_count": null,
   "metadata": {
    "slideshow": {
     "slide_type": "slide"
    }
   },
   "outputs": [],
   "source": []
  }
 ],
 "metadata": {
  "anaconda-cloud": {},
  "celltoolbar": "Slideshow",
  "kernelspec": {
   "display_name": "Python 3",
   "language": "python",
   "name": "python3"
  },
  "language_info": {
   "codemirror_mode": {
    "name": "ipython",
    "version": 3
   },
   "file_extension": ".py",
   "mimetype": "text/x-python",
   "name": "python",
   "nbconvert_exporter": "python",
   "pygments_lexer": "ipython3",
<<<<<<< HEAD
   "version": "3.6.3"
||||||| merged common ancestors
   "version": "3.6"
=======
   "version": "3.5.2"
>>>>>>> upstream/master
  }
 },
 "nbformat": 4,
 "nbformat_minor": 1
}
