{
 "cells": [
  {
   "cell_type": "markdown",
   "metadata": {
    "slideshow": {
     "slide_type": "slide"
    }
   },
   "source": [
    "<img src=\"http://imgur.com/1ZcRyrc.png\" style=\"float: left; margin: 20px; height: 55px\">\n",
    " \n",
    "# Natural Language Processing\n",
    " \n",
    "_Authors: Kiefer Katovich (San Francisco), Joseph Nelson (Washington, D.C.)_\n",
    " \n",
    "---\n"
   ]
  },
  {
   "cell_type": "markdown",
   "metadata": {
    "slideshow": {
     "slide_type": "skip"
    }
   },
   "source": [
    "<a id='textblob_install'></a>\n",
    "\n",
    "### Install TextBlob\n",
    "\n",
    "The TextBlob Python library provides a simplified interface for exploring common NLP tasks including part-of-speech tagging, noun phrase extraction, sentiment analysis, classification, translation, and more.\n",
    "\n",
    "To proceed with the lesson, first install TextBlob, as explained below. We tend to prefer Anaconda-based installations, since they tend to be tested with our other Anaconda packages.\n",
    "\n",
    "**To install textblob run:**\n",
    "\n",
    "> `conda install -c https://conda.anaconda.org/sloria textblob`\n",
    "\n",
    "**Or:**\n",
    "\n",
    "> `pip install textblob`\n",
    "\n",
    "> `python -m textblob.download_corpora lite`"
   ]
  },
  {
   "cell_type": "markdown",
   "metadata": {
    "slideshow": {
     "slide_type": "slide"
    }
   },
   "source": [
    "### Learning Objectives\n",
    "- Discuss the major tasks involved with natural language processing.\n",
    "- Discuss, on a low level, the components of natural language processing.\n",
    "- Identify why natural language processing is difficult.\n",
    "- Demonstrate text classification.\n",
    "- Demonstrate common text preprocessing techniques."
   ]
  },
  {
   "cell_type": "markdown",
   "metadata": {
    "slideshow": {
     "slide_type": "slide"
    }
   },
   "source": [
    "### How Do We Use NLP in Data Science?\n",
    "\n",
    "In data science, we are often asked to analyze unstructured text or make a predictive model using it. Unfortunately, most data science techniques require numeric data. NLP libraries provide a tool set of methods to convert unstructured text into meaningful numeric data.\n",
    "\n",
    "- **Analysis:** NLP techniques provide tools to allow us to understand and analyze large amounts of text. For example:\n",
    "\n",
    "    - Analyze the positivity/negativity of comments on different websites. \n",
    "    - Extract key words from meeting notes and visualize how meeting topics change over time.\n",
    "\n",
    "- **Vectorizing for machine learning:** When building a machine learning model, we typically must transform our data into numeric features. This process of transforming non-numeric data such as natural language into numeric features is called vectorization. For example:\n",
    "\n",
    "    - Understanding related words. Using stemming, NLP lets us know that \"swim\", \"swims\", and \"swimming\" all refer to the same base word. This allows us to reduce the number of features used in our model.\n",
    "    - Identifying important and unique words. Using TF-IDF (term frequency-inverse document frequency), we can identify which words are most likely to be meaningful in a document."
   ]
  },
  {
   "cell_type": "markdown",
   "metadata": {
    "slideshow": {
     "slide_type": "skip"
    }
   },
   "source": [
    "## Lesson Guide\n",
    "\n",
    "- [Introduction to Natural Language Processing](#intro)\n",
    "- [Reading Yelp reviews With NLP](#yelp_rev)\n",
    "- [Text Classification](#text_class)\n",
    "- [Count Vectorization](#count_vec)\n",
    "    - [Using CountVectorizer in a Model](#countvectorizer-model)\n",
    "    - [N-Grams](#ngrams)\n",
    "    - [Stop-Word Removal](#stopwords)\n",
    "\t- [Count Vector Options](#cvec_opt)\n",
    "- [Intro to TextBlob](#textblob)\n",
    "\t- [Stemming and Lemmatization](#stem)\n",
    "- [Term Frequency–Inverse Document Frequency Vectorization](#tfidf)\n",
    "\t- [Yelp Summary Using TF–IDF](#yelp_tfidf)\n",
    "- [Sentiment Analysis](#sentiment)\n",
    "- [BONUS: Adding Features to a Document-Term Matrix](#add_feat)\n",
    "- [BONUS: More TextBlob Features](#more_textblob)\n",
    "- [APPENDIX: Intro to Naive Bayes and Text Classification](#bayes)\n",
    "- [Conclusion](#conclusion)"
   ]
  },
  {
   "cell_type": "markdown",
   "metadata": {
    "slideshow": {
     "slide_type": "slide"
    }
   },
   "source": [
    "<a id='intro'></a>\n",
    "\n",
    "## Introduction\n",
    "\n",
    "*Adapted from [NLP Crash Course](http://files.meetup.com/7616132/DC-NLP-2013-09%20Charlie%20Greenbacker.pdf) by Charlie Greenbacker and [Introduction to NLP](http://spark-public.s3.amazonaws.com/nlp/slides/intro.pdf) by Dan Jurafsky*"
   ]
  },
  {
   "cell_type": "markdown",
   "metadata": {
    "slideshow": {
     "slide_type": "slide"
    }
   },
   "source": [
    "### What Is Natural Language Processing (NLP)?\n",
    "\n",
    "- Using computers to process (analyze, understand, generate) natural human languages.\n",
    "- Making sense of human knowledge stored as unstructured text.\n",
    "- Building probabilistic models using data about a language."
   ]
  },
  {
   "cell_type": "markdown",
   "metadata": {
    "slideshow": {
     "slide_type": "slide"
    }
   },
   "source": [
    "### What Are Some of the Higher-Level Task Areas?\n",
    "\n",
    "- **Objective:** Discuss the major tasks involved with natural language processing.\n",
    "\n",
    "We often hope that computers can solve many high-level problems involving natural language. Unfortunately, due to the difficulty of understanding human language, many of these problems are still not well solved. That said, existing solutions to these problems all involve utilizing the lower-level components of NLP discussed in the next section. Some higher-level tasks include:"
   ]
  },
  {
   "cell_type": "markdown",
   "metadata": {
    "slideshow": {
     "slide_type": "slide"
    }
   },
   "source": [
    "- **Chatbots:** Understand natural language from the user and return intelligent responses.\n",
    "    - [Api.ai](https://api.ai/)\n",
    "- **Information retrieval:** Find relevant results and similar results.\n",
    "    - [Google](https://www.google.com/)    \n",
    "- **Information extraction:** Structured information from unstructured documents.\n",
    "    - [Events from Gmail](https://support.google.com/calendar/answer/6084018?hl=en)\n",
    "- **Machine translation:** One language to another.\n",
    "    - [Google Translate](https://translate.google.com/)\n",
    "- **Text simplification:** Preserve the meaning of text, but simplify the grammar and vocabulary.\n",
    "    - [Rewordify](https://rewordify.com/)\n",
    "    - [Simple English Wikipedia](https://simple.wikipedia.org/wiki/Main_Page)\n",
    "- **Predictive text input:** Faster or easier typing.\n",
    "    - [Phrase completion application](https://justmarkham.shinyapps.io/textprediction/)\n",
    "    - [A much better application](https://farsite.shinyapps.io/swiftkey-cap/)"
   ]
  },
  {
   "cell_type": "markdown",
   "metadata": {
    "slideshow": {
     "slide_type": "slide"
    }
   },
   "source": [
    "- **Sentiment analysis:** Attitude of speaker.\n",
    "    - [Hater News](https://medium.com/@KevinMcAlear/building-hater-news-62062c58325c)\n",
    "- **Automatic summarization:** Extractive or abstractive summarization.\n",
    "    - [autotldr](https://www.reddit.com/r/technology/comments/35brc8/21_million_people_still_use_aol_dialup/cr2zzj0)\n",
    "- **Natural language generation:** Generate text from data.\n",
    "    - [How a computer describes a sports match](http://www.bbc.com/news/technology-34204052)\n",
    "    - [Publishers withdraw more than 120 gibberish papers](http://www.nature.com/news/publishers-withdraw-more-than-120-gibberish-papers-1.14763)\n",
    "- **Speech recognition and generation:** Speech-to-text, text-to-speech.\n",
    "    - [Google's Web Speech API demo](https://www.google.com/intl/en/chrome/demos/speech.html)\n",
    "    - [Vocalware Text-to-Speech demo](https://www.vocalware.com/index/demo)\n",
    "- **Question answering:** Determine the intent of the question, match query with knowledge base, evaluate hypotheses.\n",
    "    - [How did supercomputer Watson beat Jeopardy champion Ken Jennings?](http://blog.ted.com/how-did-supercomputer-watson-beat-jeopardy-champion-ken-jennings-experts-discuss/)\n",
    "    - [IBM's Watson Trivia Challenge](http://www.nytimes.com/interactive/2010/06/16/magazine/watson-trivia-game.html)\n",
    "    - [The AI Behind Watson](http://www.aaai.org/Magazine/Watson/watson.php)"
   ]
  },
  {
   "cell_type": "markdown",
   "metadata": {
    "slideshow": {
     "slide_type": "slide"
    }
   },
   "source": [
    "### What Are Some of the Lower-Level Components?\n",
    "\n",
    "Unfortunately, the NLP programming libraries typically do not provide direct solutions for the high-level tasks above. Instead, they provide low-level building blocks that enable us to craft our own solutions. These include:\n",
    "\n",
    "- **Tokenization:** Breaking text into tokens (words, sentences, n-grams)\n",
    "- **Stop-word removal:** a/an/the\n",
    "- **Stemming and lemmatization:** root word\n",
    "- **TF-IDF:** word importance\n",
    "- **Part-of-speech tagging:** noun/verb/adjective\n",
    "- **Named entity recognition:** person/organization/location\n",
    "- **Spelling correction:** \"New Yrok City\"\n",
    "- **Word sense disambiguation:** \"buy a mouse\"\n",
    "- **Segmentation:** \"New York City subway\"\n",
    "- **Language detection:** \"translate this page\"\n",
    "- **Machine learning:** specialized models that work well with text"
   ]
  },
  {
   "cell_type": "markdown",
   "metadata": {
    "slideshow": {
     "slide_type": "slide"
    }
   },
   "source": [
    "### Why is NLP hard?\n",
    "\n",
    "- **Objective:** Identify why natural language processing is difficult.\n",
    "\n",
    "Natural language processing requires an understanding of the language and the world. Several limitations of NLP are:\n",
    "\n",
    "- **Ambiguity**:\n",
    "    - Hospitals Are Sued by 7 Foot Doctors\n",
    "    - Juvenile Court to Try Shooting Defendant\n",
    "    - Local High School Dropouts Cut in Half\n",
    "- **Non-standard English:** text messages\n",
    "- **Idioms:** \"throw in the towel\"\n",
    "- **Newly coined words:** \"retweet\"\n",
    "- **Tricky entity names:** \"Where is A Bug's Life playing?\"\n",
    "- **World knowledge:** \"Mary and Sue are sisters\", \"Mary and Sue are mothers\""
   ]
  },
  {
   "cell_type": "markdown",
   "metadata": {
    "slideshow": {
     "slide_type": "slide"
    }
   },
   "source": [
    "<a id='yelp_rev'></a>\n",
    "\n",
    "## Reading in the Yelp Reviews"
   ]
  },
  {
   "cell_type": "markdown",
   "metadata": {
    "slideshow": {
     "slide_type": "slide"
    }
   },
   "source": [
    "Throughout this lesson, we will use Yelp reviews to practice and discover common low-level NLP techniques.\n",
    "\n",
    "You should be familiar with these terms, as they are frequently used in NLP:\n",
    "- **corpus**: a collection of documents (derived from the Latin word for \"body\")\n",
    "- **corpora**: plural form of corpus\n",
    "\n",
    "Throughout this lesson, we will use a model very popular for text classification called Naive Bayes (the \"NB\" in `BinomialNB` and `MultinomialNB` below). "
   ]
  },
  {
   "cell_type": "code",
   "execution_count": 72,
   "metadata": {
    "slideshow": {
     "slide_type": "slide"
    }
   },
   "outputs": [],
   "source": [
    "import pandas as pd\n",
    "import numpy as np\n",
    "import scipy as sp\n",
    "from sklearn.model_selection import train_test_split\n",
    "from sklearn.feature_extraction.text import CountVectorizer, TfidfVectorizer\n",
    "from sklearn.naive_bayes import MultinomialNB         # Naive Bayes\n",
    "from sklearn.linear_model import LogisticRegression\n",
    "from sklearn import metrics\n",
    "from textblob import TextBlob, Word\n",
    "from nltk.stem.snowball import SnowballStemmer\n",
    "\n",
    "%matplotlib inline"
   ]
  },
  {
   "cell_type": "code",
   "execution_count": 2,
   "metadata": {
    "slideshow": {
     "slide_type": "slide"
    }
   },
   "outputs": [
    {
     "name": "stdout",
     "output_type": "stream",
     "text": [
      "<class 'pandas.core.frame.DataFrame'>\n",
      "RangeIndex: 10000 entries, 0 to 9999\n",
      "Data columns (total 10 columns):\n",
      "business_id    10000 non-null object\n",
      "date           10000 non-null object\n",
      "review_id      10000 non-null object\n",
      "stars          10000 non-null int64\n",
      "text           10000 non-null object\n",
      "type           10000 non-null object\n",
      "user_id        10000 non-null object\n",
      "cool           10000 non-null int64\n",
      "useful         10000 non-null int64\n",
      "funny          10000 non-null int64\n",
      "dtypes: int64(4), object(6)\n",
      "memory usage: 781.3+ KB\n"
     ]
    }
   ],
   "source": [
    "# Read yelp.csv into a DataFrame.\n",
    "path = r'./data/yelp.csv'\n",
    "yelp = pd.read_csv(path)\n",
    "yelp.info()"
   ]
  },
  {
   "cell_type": "code",
   "execution_count": 3,
   "metadata": {
    "slideshow": {
     "slide_type": "slide"
    }
   },
   "outputs": [
    {
     "data": {
      "text/html": [
       "<div>\n",
       "<style scoped>\n",
       "    .dataframe tbody tr th:only-of-type {\n",
       "        vertical-align: middle;\n",
       "    }\n",
       "\n",
       "    .dataframe tbody tr th {\n",
       "        vertical-align: top;\n",
       "    }\n",
       "\n",
       "    .dataframe thead th {\n",
       "        text-align: right;\n",
       "    }\n",
       "</style>\n",
       "<table border=\"1\" class=\"dataframe\">\n",
       "  <thead>\n",
       "    <tr style=\"text-align: right;\">\n",
       "      <th></th>\n",
       "      <th>business_id</th>\n",
       "      <th>date</th>\n",
       "      <th>review_id</th>\n",
       "      <th>stars</th>\n",
       "      <th>text</th>\n",
       "      <th>type</th>\n",
       "      <th>user_id</th>\n",
       "      <th>cool</th>\n",
       "      <th>useful</th>\n",
       "      <th>funny</th>\n",
       "    </tr>\n",
       "  </thead>\n",
       "  <tbody>\n",
       "    <tr>\n",
       "      <th>0</th>\n",
       "      <td>9yKzy9PApeiPPOUJEtnvkg</td>\n",
       "      <td>2011-01-26</td>\n",
       "      <td>fWKvX83p0-ka4JS3dc6E5A</td>\n",
       "      <td>5</td>\n",
       "      <td>My wife took me here on my birthday for breakf...</td>\n",
       "      <td>review</td>\n",
       "      <td>rLtl8ZkDX5vH5nAx9C3q5Q</td>\n",
       "      <td>2</td>\n",
       "      <td>5</td>\n",
       "      <td>0</td>\n",
       "    </tr>\n",
       "    <tr>\n",
       "      <th>1</th>\n",
       "      <td>ZRJwVLyzEJq1VAihDhYiow</td>\n",
       "      <td>2011-07-27</td>\n",
       "      <td>IjZ33sJrzXqU-0X6U8NwyA</td>\n",
       "      <td>5</td>\n",
       "      <td>I have no idea why some people give bad review...</td>\n",
       "      <td>review</td>\n",
       "      <td>0a2KyEL0d3Yb1V6aivbIuQ</td>\n",
       "      <td>0</td>\n",
       "      <td>0</td>\n",
       "      <td>0</td>\n",
       "    </tr>\n",
       "    <tr>\n",
       "      <th>2</th>\n",
       "      <td>6oRAC4uyJCsJl1X0WZpVSA</td>\n",
       "      <td>2012-06-14</td>\n",
       "      <td>IESLBzqUCLdSzSqm0eCSxQ</td>\n",
       "      <td>4</td>\n",
       "      <td>love the gyro plate. Rice is so good and I als...</td>\n",
       "      <td>review</td>\n",
       "      <td>0hT2KtfLiobPvh6cDC8JQg</td>\n",
       "      <td>0</td>\n",
       "      <td>1</td>\n",
       "      <td>0</td>\n",
       "    </tr>\n",
       "    <tr>\n",
       "      <th>3</th>\n",
       "      <td>_1QQZuf4zZOyFCvXc0o6Vg</td>\n",
       "      <td>2010-05-27</td>\n",
       "      <td>G-WvGaISbqqaMHlNnByodA</td>\n",
       "      <td>5</td>\n",
       "      <td>Rosie, Dakota, and I LOVE Chaparral Dog Park!!...</td>\n",
       "      <td>review</td>\n",
       "      <td>uZetl9T0NcROGOyFfughhg</td>\n",
       "      <td>1</td>\n",
       "      <td>2</td>\n",
       "      <td>0</td>\n",
       "    </tr>\n",
       "    <tr>\n",
       "      <th>4</th>\n",
       "      <td>6ozycU1RpktNG2-1BroVtw</td>\n",
       "      <td>2012-01-05</td>\n",
       "      <td>1uJFq2r5QfJG_6ExMRCaGw</td>\n",
       "      <td>5</td>\n",
       "      <td>General Manager Scott Petello is a good egg!!!...</td>\n",
       "      <td>review</td>\n",
       "      <td>vYmM4KTsC8ZfQBg-j5MWkw</td>\n",
       "      <td>0</td>\n",
       "      <td>0</td>\n",
       "      <td>0</td>\n",
       "    </tr>\n",
       "  </tbody>\n",
       "</table>\n",
       "</div>"
      ],
      "text/plain": [
       "              business_id        date               review_id  stars  \\\n",
       "0  9yKzy9PApeiPPOUJEtnvkg  2011-01-26  fWKvX83p0-ka4JS3dc6E5A      5   \n",
       "1  ZRJwVLyzEJq1VAihDhYiow  2011-07-27  IjZ33sJrzXqU-0X6U8NwyA      5   \n",
       "2  6oRAC4uyJCsJl1X0WZpVSA  2012-06-14  IESLBzqUCLdSzSqm0eCSxQ      4   \n",
       "3  _1QQZuf4zZOyFCvXc0o6Vg  2010-05-27  G-WvGaISbqqaMHlNnByodA      5   \n",
       "4  6ozycU1RpktNG2-1BroVtw  2012-01-05  1uJFq2r5QfJG_6ExMRCaGw      5   \n",
       "\n",
       "                                                text    type  \\\n",
       "0  My wife took me here on my birthday for breakf...  review   \n",
       "1  I have no idea why some people give bad review...  review   \n",
       "2  love the gyro plate. Rice is so good and I als...  review   \n",
       "3  Rosie, Dakota, and I LOVE Chaparral Dog Park!!...  review   \n",
       "4  General Manager Scott Petello is a good egg!!!...  review   \n",
       "\n",
       "                  user_id  cool  useful  funny  \n",
       "0  rLtl8ZkDX5vH5nAx9C3q5Q     2       5      0  \n",
       "1  0a2KyEL0d3Yb1V6aivbIuQ     0       0      0  \n",
       "2  0hT2KtfLiobPvh6cDC8JQg     0       1      0  \n",
       "3  uZetl9T0NcROGOyFfughhg     1       2      0  \n",
       "4  vYmM4KTsC8ZfQBg-j5MWkw     0       0      0  "
      ]
     },
     "execution_count": 3,
     "metadata": {},
     "output_type": "execute_result"
    }
   ],
   "source": [
    "# The head of the original data\n",
    "yelp.head()"
   ]
  },
  {
   "cell_type": "code",
   "execution_count": 6,
   "metadata": {
    "slideshow": {
     "slide_type": "slide"
    }
   },
   "outputs": [],
   "source": [
    "# Create a new DataFrame that only contains the 5-star and 1-star reviews.\n",
    "yelp_best_worst = yelp[(yelp.stars==5) | (yelp.stars==1)]\n",
    "\n",
    "# Define X and y.\n",
    "X = yelp_best_worst.text\n",
    "y = yelp_best_worst.stars\n",
    "\n",
    "# Split the new DataFrame into training and testing sets.\n",
    "X_train, X_test, y_train, y_test = train_test_split(X, y, random_state=1)"
   ]
  },
  {
   "cell_type": "markdown",
   "metadata": {
    "slideshow": {
     "slide_type": "slide"
    }
   },
   "source": [
    "<a id='text_class'></a>\n",
    "\n",
    "\n",
    "# Introduction: Text Classification"
   ]
  },
  {
   "cell_type": "markdown",
   "metadata": {
    "slideshow": {
     "slide_type": "slide"
    }
   },
   "source": [
    "As you proceed through this section, note that text classification is done in the same way as all other classification models. First, the text is vectorized into a set of numeric features. Then, a standard machine learning classifier is applied. NLP libraries often include vectorizers and ML models that work particularly well with text.\n",
    "\n",
    "> We will refer to each piece of text we are trying to classify as a document.\n",
    "> - For example, a document could refer to an email, book chapter, tweet, article, or text message."
   ]
  },
  {
   "cell_type": "markdown",
   "metadata": {
    "slideshow": {
     "slide_type": "slide"
    }
   },
   "source": [
    "**Text classification is the task of predicting which category or topic a text sample is from.**\n",
    "\n",
    "We may want to identify:\n",
    "- Is an article a sports or business story?\n",
    "- Does an email have positive or negative sentiment?\n",
    "- Is the rating of a recipe 1, 2, 3, 4, or 5 stars?"
   ]
  },
  {
   "cell_type": "markdown",
   "metadata": {
    "slideshow": {
     "slide_type": "slide"
    }
   },
   "source": [
    "**Predictions are often made by using the words as features and the label as the target output.**\n",
    "\n",
    "Starting out, we will make each unique word (across all documents) a single feature. In any given corpora, we may have hundreds of thousands of unique words, so we may have hundreds of thousands of features!\n",
    "\n",
    "- For a given document, the numeric value of each feature could be the number of times the word appears in the document.\n",
    "- So, most features will have a value of zero, resulting in a sparse matrix of features.\n",
    "\n",
    "- This technique for vectorizing text is referred to as a bag-of-words model because the document's structure is lost.\n",
    "- The first step to creating a bag-of-words model is to create a vocabulary of all possible words in the corpora.\n",
    "\n",
    "> Alternatively, we could make each column an indicator column, which is 1 if the word is present in the document (no matter how many times) and 0 if not. This vectorization could be used to reduce the importance of repeated words. For example, a website search engine would be susceptible to spammers who load websites with repeated words. So, the search engine might use indicator columns as features rather than word counts."
   ]
  },
  {
   "cell_type": "markdown",
   "metadata": {
    "slideshow": {
     "slide_type": "slide"
    }
   },
   "source": [
    "**We need to consider several things to decide if bag-of-words is appropriate.**\n",
    "\n",
    "- Does order of words matter?\n",
    "- Does punctuation matter?\n",
    "- Does upper or lower case matter?"
   ]
  },
  {
   "cell_type": "markdown",
   "metadata": {
    "slideshow": {
     "slide_type": "slide"
    }
   },
   "source": [
    "## Demo: Text Processing in scikit-learn\n",
    "\n",
    "- **Objective:** Demonstrate text classification."
   ]
  },
  {
   "cell_type": "markdown",
   "metadata": {
    "slideshow": {
     "slide_type": "slide"
    }
   },
   "source": [
    "<a id='count_vec'></a>\n",
    "\n",
    "\n",
    "### Creating Features Using CountVectorizer\n",
    "\n",
    "- **What:** Converts each document into a set of words and their counts.\n",
    "- **Why:** To use a machine learning model, we must convert unstructured text into numeric features.\n",
    "- **Notes:** Relatively easy with English language text, not as easy with some languages."
   ]
  },
  {
   "cell_type": "code",
   "execution_count": 73,
   "metadata": {
    "slideshow": {
     "slide_type": "slide"
    }
   },
   "outputs": [],
   "source": [
    "# Use CountVectorizer to create document-term matrices from X_train and X_test.\n",
    "vect = CountVectorizer()\n",
    "X_train_dtm = vect.fit_transform(X_train)\n",
    "X_test_dtm = vect.transform(X_test)"
   ]
  },
  {
   "cell_type": "code",
   "execution_count": 8,
   "metadata": {
    "slideshow": {
     "slide_type": "slide"
    }
   },
   "outputs": [
    {
     "data": {
      "text/plain": [
       "(3064, 16825)"
      ]
     },
     "execution_count": 8,
     "metadata": {},
     "output_type": "execute_result"
    }
   ],
   "source": [
    "# Rows are documents, \n",
    "# columns are terms (\"tokens\" or \"features\", individual words).\n",
    "X_train_dtm.shape"
   ]
  },
  {
   "cell_type": "code",
   "execution_count": 9,
   "metadata": {
    "slideshow": {
     "slide_type": "slide"
    }
   },
   "outputs": [
    {
     "name": "stdout",
     "output_type": "stream",
     "text": [
      "['yyyyy', 'z11', 'za', 'zabba', 'zach', 'zam', 'zanella', 'zankou', 'zappos', 'zatsiki', 'zen', 'zero', 'zest', 'zexperience', 'zha', 'zhou', 'zia', 'zihuatenejo', 'zilch', 'zin', 'zinburger', 'zinburgergeist', 'zinc', 'zinfandel', 'zing', 'zip', 'zipcar', 'zipper', 'zippers', 'zipps', 'ziti', 'zoe', 'zombi', 'zombies', 'zone', 'zones', 'zoning', 'zoo', 'zoyo', 'zucca', 'zucchini', 'zuchinni', 'zumba', 'zupa', 'zuzu', 'zwiebel', 'zzed', 'éclairs', 'école', 'ém']\n"
     ]
    }
   ],
   "source": [
    "# Last 50 features\n",
    "print((vect.get_feature_names()[-50:]))"
   ]
  },
  {
   "cell_type": "code",
   "execution_count": 10,
   "metadata": {
    "slideshow": {
     "slide_type": "slide"
    }
   },
   "outputs": [
    {
     "data": {
      "text/plain": [
       "CountVectorizer(analyzer='word', binary=False, decode_error='strict',\n",
       "        dtype=<class 'numpy.int64'>, encoding='utf-8', input='content',\n",
       "        lowercase=True, max_df=1.0, max_features=None, min_df=1,\n",
       "        ngram_range=(1, 1), preprocessor=None, stop_words=None,\n",
       "        strip_accents=None, token_pattern='(?u)\\\\b\\\\w\\\\w+\\\\b',\n",
       "        tokenizer=None, vocabulary=None)"
      ]
     },
     "execution_count": 10,
     "metadata": {},
     "output_type": "execute_result"
    }
   ],
   "source": [
    "# Show vectorizer options.\n",
    "vect"
   ]
  },
  {
   "cell_type": "markdown",
   "metadata": {
    "slideshow": {
     "slide_type": "slide"
    }
   },
   "source": [
    "[CountVectorizer documentation](http://scikit-learn.org/stable/modules/generated/sklearn.feature_extraction.text.CountVectorizer.html)"
   ]
  },
  {
   "cell_type": "markdown",
   "metadata": {
    "slideshow": {
     "slide_type": "slide"
    }
   },
   "source": [
    "One common method of reducing the number of features is converting all text to lowercase before generating features! Note that to a computer, `aPPle` is a different token/\"word\" than `apple`. So, by converting both to lowercase letters, it ensures fewer features will be generated. It might be useful not to convert them to lowercase if capitalization matters."
   ]
  },
  {
   "cell_type": "code",
   "execution_count": 11,
   "metadata": {
    "slideshow": {
     "slide_type": "slide"
    }
   },
   "outputs": [
    {
     "data": {
      "text/plain": [
       "['zoning',\n",
       " 'zoo',\n",
       " 'zucchini',\n",
       " 'zuchinni',\n",
       " 'zupa',\n",
       " 'zwiebel',\n",
       " 'zzed',\n",
       " 'École',\n",
       " 'éclairs',\n",
       " 'ém']"
      ]
     },
     "execution_count": 11,
     "metadata": {},
     "output_type": "execute_result"
    }
   ],
   "source": [
    "# Don't convert to lowercase.\n",
    "vect = CountVectorizer(lowercase=False)\n",
    "X_train_dtm = vect.fit_transform(X_train)\n",
    "X_train_dtm.shape\n",
    "vect.get_feature_names()[-10:]"
   ]
  },
  {
   "cell_type": "markdown",
   "metadata": {
    "slideshow": {
     "slide_type": "slide"
    }
   },
   "source": [
    "<a id='countvectorizer-model'></a>\n",
    "\n",
    "\n",
    "### Using CountVectorizer in a Model\n",
    "![DTM](images/DTM.png)"
   ]
  },
  {
   "cell_type": "markdown",
   "metadata": {
    "slideshow": {
     "slide_type": "slide"
    }
   },
   "source": [
    "<a id=\"bayes\"></a>\n",
    "\n",
    "## Naive Bayes and Text Classification\n",
    "\n",
    "Naive Bayes is a very popular classifier because it has minimal storage requirements, is fast, can be tuned easily with more data, and has found very useful applications in text classificaton. E.g., Paul Graham originally proposed using Naive Bayes to detect spam in his [Plan for Spam](http://www.paulgraham.com/spam.html).\n",
    "\n",
    "What exactly are Naive Bayes classifiers? \n",
    "\n",
    "**What is Bayes?**  \n",
    "Bayes, or Bayes' Theorem, is a different way to assess probability. It considers prior information in order to more accurately assess the situation.\n",
    "\n",
    "**Example:** You are playing roulette.\n",
    "\n",
    "As you approach the table, you see that the last number the ball landed on was Red-3. With a frequentist mindset, you know that the ball is just as likely to land on Red-3 again given that every slot on the wheel has an equal opportunity of 1 in 37.\n",
    "\n",
    "However, it is against your intuition to bet on red on the next roll. You think that because it was red this time it is more likely to be black next time. You don't know why, but in the back of your mind you believe that the ball is more likely to land on black given it landed on red previously than it is to land on red twice in a row.\n",
    "\n",
    "This is what Bayes is all about — adjusting probabilities as more data is gathered!"
   ]
  },
  {
   "cell_type": "markdown",
   "metadata": {
    "slideshow": {
     "slide_type": "slide"
    }
   },
   "source": [
    "Below is the equation for Bayes.  \n",
    "\n",
    "$$P(A \\ | \\ B) = \\frac {P(B \\ | \\ A) \\times P(A)} {P(B)}$$\n",
    "\n",
    "- **$P(A \\ | \\ B)$** : Probability of `Event A` occurring given `Event B` has occurred.\n",
    "- **$P(B \\ | \\ A)$** : Probability of `Event B` occurring given `Event A` has occurred.\n",
    "- **$P(A)$** : Probability of `Event A` occurring.\n",
    "- **$P(B)$** : Probability of `Event B` occurring."
   ]
  },
  {
   "cell_type": "markdown",
   "metadata": {
    "slideshow": {
     "slide_type": "slide"
    }
   },
   "source": [
    "\n",
    "\n",
    "## Applying Naive Bayes Classification to Spam Filtering\n",
    "\n",
    "Let's pretend we have an email with three words: \"Send money now.\" We'll use Naive Bayes to classify it as **ham or spam.** (\"Ham\" just means not spam. It can include emails that look like spam but that you opt into!)\n",
    "\n",
    "$$P(spam \\ | \\ \\text{send money now}) = \\frac {P(\\text{send money now} \\ | \\ spam) \\times P(spam)} {P(\\text{send money now})}$$\n",
    "\n",
    "By assuming that the features (the words) are conditionally independent, we can simplify the likelihood function:\n",
    "\n",
    "$$P(spam \\ | \\ \\text{send money now}) \\approx \\frac {P(\\text{send} \\ | \\ spam) \\times P(\\text{money} \\ | \\ spam) \\times P(\\text{now} \\ | \\ spam) \\times P(spam)} {P(\\text{send money now})}$$\n",
    "\n",
    "Note that each conditional probability in the numerator is easily calculated directly from the training data!\n",
    "\n",
    "So, we can calculate all of the values in the numerator by examining a corpus of spam email:\n",
    "\n",
    "$$P(spam \\ | \\ \\text{send money now}) \\approx \\frac {0.2 \\times 0.1 \\times 0.1 \\times 0.9} {P(\\text{send money now})} = \\frac {0.0018} {P(\\text{send money now})}$$\n",
    "\n",
    "We would repeat this process with a corpus of ham email:\n",
    "\n",
    "$$P(ham \\ | \\ \\text{send money now}) \\approx \\frac {0.05 \\times 0.01 \\times 0.1 \\times 0.1} {P(\\text{send money now})} = \\frac {0.000005} {P(\\text{send money now})}$$\n",
    "\n",
    "All we care about is whether spam or ham has the higher probability, and so we predict that the email is spam."
   ]
  },
  {
   "cell_type": "markdown",
   "metadata": {
    "slideshow": {
     "slide_type": "slide"
    }
   },
   "source": [
    "### Key Takeaways\n",
    "\n",
    "- The \"naive\" assumption of Naive Bayes (that the features are conditionally independent) is critical to making these calculations simple.\n",
    "- The normalization constant (the denominator) can be ignored since it's the same for all classes.\n",
    "- The prior probability is much less relevant once you have a lot of features."
   ]
  },
  {
   "cell_type": "markdown",
   "metadata": {
    "slideshow": {
     "slide_type": "slide"
    }
   },
   "source": [
    "### Comparing Naive Bayes With Other Models\n",
    "\n",
    "Advantages of Naive Bayes:\n",
    "\n",
    "- Model training and prediction are very fast.\n",
    "- It's somewhat interpretable.\n",
    "- No tuning is required.\n",
    "- Features don't need scaling.\n",
    "- It's insensitive to irrelevant features (with enough observations).\n",
    "- It performs better than logistic regression when the training set is very small.\n",
    "\n",
    "Disadvantages of Naive Bayes:\n",
    "\n",
    "- If \"spam\" is dependent on non-independent combinations of individual words, it may not work well.\n",
    "- Predicted probabilities are not well calibrated.\n",
    "- Correlated features can be problematic (due to the independence assumption).\n",
    "- It can't handle negative features (with Multinomial Naive Bayes).\n",
    "- It has a higher \"asymptotic error\" than logistic regression.\n"
   ]
  },
  {
   "cell_type": "code",
   "execution_count": 12,
   "metadata": {
    "slideshow": {
     "slide_type": "slide"
    }
   },
   "outputs": [
    {
     "name": "stdout",
     "output_type": "stream",
     "text": [
      "0.9187866927592955\n"
     ]
    }
   ],
   "source": [
    "# Use default options for CountVectorizer.\n",
    "vect = CountVectorizer()\n",
    "\n",
    "# Create document-term matrices.\n",
    "X_train_dtm = vect.fit_transform(X_train)\n",
    "X_test_dtm = vect.transform(X_test)\n",
    "\n",
    "# Use Naive Bayes to predict the star rating.\n",
    "nb = MultinomialNB()\n",
    "nb.fit(X_train_dtm, y_train)\n",
    "y_pred_class = nb.predict(X_test_dtm)\n",
    "\n",
    "# Calculate accuracy.\n",
    "print((metrics.accuracy_score(y_test, y_pred_class)))"
   ]
  },
  {
   "cell_type": "code",
   "execution_count": 13,
   "metadata": {
    "slideshow": {
     "slide_type": "slide"
    }
   },
   "outputs": [
    {
     "data": {
      "text/plain": [
       "5    838\n",
       "1    184\n",
       "Name: stars, dtype: int64"
      ]
     },
     "execution_count": 13,
     "metadata": {},
     "output_type": "execute_result"
    }
   ],
   "source": [
    "y_test.value_counts()"
   ]
  },
  {
   "cell_type": "code",
   "execution_count": 14,
   "metadata": {
    "slideshow": {
     "slide_type": "slide"
    }
   },
   "outputs": [
    {
     "name": "stdout",
     "output_type": "stream",
     "text": [
      "Percent 5 Stars: 0.8199608610567515\n",
      "Percent 1 Stars: 0.18003913894324852\n"
     ]
    }
   ],
   "source": [
    "# Calculate null accuracy.\n",
    "y_test_binary = np.where(y_test==5, 1, 0) # five stars become 1, one stars become 0\n",
    "print('Percent 5 Stars:', y_test_binary.mean())\n",
    "print('Percent 1 Stars:', 1 - y_test_binary.mean())"
   ]
  },
  {
   "cell_type": "markdown",
   "metadata": {
    "slideshow": {
     "slide_type": "slide"
    }
   },
   "source": [
    "Our model predicted ~92% accuracy, which is an improvement over this baseline 82% accuracy (assuming our model always predicts 5 stars).\n",
    "\n",
    "Let's look more into how the vectorizer works."
   ]
  },
  {
   "cell_type": "code",
   "execution_count": 15,
   "metadata": {
    "slideshow": {
     "slide_type": "slide"
    }
   },
   "outputs": [
    {
     "data": {
      "text/plain": [
       "<3064x16825 sparse matrix of type '<class 'numpy.int64'>'\n",
       "\twith 237720 stored elements in Compressed Sparse Row format>"
      ]
     },
     "execution_count": 15,
     "metadata": {},
     "output_type": "execute_result"
    }
   ],
   "source": [
    "# Notice how the data was transformed into this sparse matrix with 1,022 datapoints and 16,825 features!\n",
    "#   - Recall that vectorizations of text will be mostly zeros, since only a few unique words are in each document.\n",
    "#   - For that reason, instead of storing all the zeros we only store non-zero values (inside the 'sparse matrix' data structure!).\n",
    "#   - We have 3064 Yelp reviews in our training set.\n",
    "#   - 16,825 unique words were found across all documents.\n",
    "\n",
    "X_train_dtm"
   ]
  },
  {
   "cell_type": "code",
   "execution_count": 16,
   "metadata": {
    "slideshow": {
     "slide_type": "slide"
    }
   },
   "outputs": [
    {
     "data": {
      "text/plain": [
       "{'pulls': 11757,\n",
       " 'worldwide': 16590,\n",
       " 'lane': 8459,\n",
       " 'honeslty': 7303,\n",
       " 'irritate': 7951,\n",
       " 'jars': 8040,\n",
       " 'day': 4064,\n",
       " 'decade': 4114,\n",
       " 'expectaions': 5436,\n",
       " 'starbuck': 14147,\n",
       " 'adjust': 485,\n",
       " 'lateral': 8499,\n",
       " 'petsmart': 11016,\n",
       " 'childhood': 2867,\n",
       " 'christ': 2956,\n",
       " 'range': 11954,\n",
       " 'driving': 4814,\n",
       " 'pile': 11115,\n",
       " 'export': 5474,\n",
       " 'herbs': 7147,\n",
       " 'lait': 8434,\n",
       " 'palms': 10671,\n",
       " 'enthusiastically': 5210,\n",
       " 'alterations': 723,\n",
       " 'receptionist': 12077,\n",
       " 'july': 8170,\n",
       " 'chancer': 2736,\n",
       " 'ntn': 10187,\n",
       " 'what': 16377,\n",
       " 'crispy': 3817,\n",
       " 'operating': 10390,\n",
       " 'marginal': 9145,\n",
       " 'precise': 11459,\n",
       " 'manuel': 9117,\n",
       " 'etouffee': 5310,\n",
       " 'handful': 6916,\n",
       " 'abuse': 361,\n",
       " 'hells': 7121,\n",
       " 'gallons': 6317,\n",
       " 'dishonest': 4543,\n",
       " 'alot': 716,\n",
       " 'offered': 10294,\n",
       " 'aging': 585,\n",
       " 'vanity': 15948,\n",
       " 'summitt': 14520,\n",
       " 'sephora': 13172,\n",
       " 'guides': 6814,\n",
       " 'suffering': 14487,\n",
       " 'sando': 12854,\n",
       " 'jazz': 8047,\n",
       " 'fee': 5672,\n",
       " 'spice': 13972,\n",
       " 'paso': 10772,\n",
       " 'priveledge': 11596,\n",
       " 'james': 8023,\n",
       " 'regulars': 12199,\n",
       " 'saltimbocca': 12822,\n",
       " 'fabric': 5523,\n",
       " 'mixes': 9606,\n",
       " 'advocate': 536,\n",
       " 'tenders': 14956,\n",
       " 'escaping': 5271,\n",
       " 'commerce': 3257,\n",
       " 'trusting': 15515,\n",
       " 'jerky': 8074,\n",
       " 'extensive': 5490,\n",
       " 'peppers': 10939,\n",
       " 'bialy': 1689,\n",
       " 'dam': 3994,\n",
       " 'darius': 4034,\n",
       " 'built': 2242,\n",
       " 'househunting': 7393,\n",
       " 'enthusiastic': 5209,\n",
       " 'diddly': 4410,\n",
       " 'shabby': 13220,\n",
       " 'hate': 7008,\n",
       " 'hearing': 7067,\n",
       " 'sumibiyaki': 14512,\n",
       " 'studio': 14398,\n",
       " 'saw': 12934,\n",
       " 'slang': 13571,\n",
       " 'primarily': 11571,\n",
       " 'notable': 10149,\n",
       " 'terrain': 14978,\n",
       " 'ashtanga': 1094,\n",
       " 'overflowing': 10544,\n",
       " 'portion': 11367,\n",
       " 'september': 13173,\n",
       " 'beginners': 1587,\n",
       " 'sexiness': 13215,\n",
       " 'community': 3278,\n",
       " 'sally': 12808,\n",
       " 'muffin': 9813,\n",
       " 'thier': 15073,\n",
       " 'confusing': 3424,\n",
       " 'mins': 9539,\n",
       " 'clint': 3097,\n",
       " 'negatives': 9979,\n",
       " 'cube': 3881,\n",
       " 'harp': 6988,\n",
       " 'ideas': 7523,\n",
       " 'patch': 10801,\n",
       " 'secured': 13107,\n",
       " 'responses': 12402,\n",
       " 'capture': 2504,\n",
       " 'insecurities': 7782,\n",
       " 'growler': 6778,\n",
       " 'those': 15101,\n",
       " 'specifc': 13947,\n",
       " 'min': 9513,\n",
       " 'from': 6195,\n",
       " 'outnumbered': 10517,\n",
       " 'mam': 9077,\n",
       " 'vino': 16088,\n",
       " 'connery': 3441,\n",
       " 'track': 15369,\n",
       " 'pitches': 11167,\n",
       " 'dbg': 4075,\n",
       " 'population': 11351,\n",
       " 'foccacia': 5981,\n",
       " 'carries': 2565,\n",
       " 'reader': 12023,\n",
       " 'definitly': 4190,\n",
       " 'independent': 7671,\n",
       " 'diabolical': 4386,\n",
       " 'graciousness': 6629,\n",
       " 'denied': 4264,\n",
       " 'oreganata': 10436,\n",
       " 'retain': 12431,\n",
       " 'euthanize': 5320,\n",
       " 'strictly': 14350,\n",
       " 'rolled': 12622,\n",
       " 'pursuit': 11803,\n",
       " 'tablespoons': 14714,\n",
       " 'discriminatory': 4523,\n",
       " 'qualities': 11832,\n",
       " 'experimental': 5453,\n",
       " 'marshmallows': 9190,\n",
       " 'that': 15027,\n",
       " 'reps': 12341,\n",
       " 'determining': 4358,\n",
       " 'busan': 2294,\n",
       " '2nd': 157,\n",
       " 'braille': 2032,\n",
       " 'crowded': 3841,\n",
       " 'fab': 5522,\n",
       " 'browsing': 2172,\n",
       " 'vineyard': 16085,\n",
       " 'locating': 8813,\n",
       " 'puddle': 11742,\n",
       " 'distinctive': 4598,\n",
       " 'poppy': 11346,\n",
       " 'newland': 10021,\n",
       " 'chronicles': 2964,\n",
       " 'pinto': 11145,\n",
       " 'exclamation': 5393,\n",
       " 'ricotta': 12501,\n",
       " 'hyped': 7495,\n",
       " 'powerful': 11431,\n",
       " 'fructose': 6213,\n",
       " 'cordially': 3591,\n",
       " 'deli': 4210,\n",
       " 'garage': 6336,\n",
       " 'accomodating': 389,\n",
       " 'frappes': 6121,\n",
       " 'danielle': 4019,\n",
       " 'quicker': 11862,\n",
       " 'kabuki': 8202,\n",
       " 'vinagerette': 16075,\n",
       " 'ff': 5723,\n",
       " 'culinary': 3897,\n",
       " 'after': 563,\n",
       " 'zin': 16794,\n",
       " 'movement': 9788,\n",
       " 'lick': 8661,\n",
       " 'rio': 12536,\n",
       " 'playlist': 11234,\n",
       " 'cooler': 3567,\n",
       " 'where': 16391,\n",
       " 'mozz': 9796,\n",
       " 'induce': 7697,\n",
       " 'sorta': 13853,\n",
       " 'seamlessly': 13067,\n",
       " 'faster': 5620,\n",
       " 'marinated': 9157,\n",
       " 'würze': 16646,\n",
       " 'memorabilia': 9379,\n",
       " 'pound': 11417,\n",
       " 'terrific': 14984,\n",
       " 'plumbing': 11263,\n",
       " 'blowdry': 1844,\n",
       " 'laws': 8522,\n",
       " 'sprinkling': 14059,\n",
       " 'vig': 16066,\n",
       " 'latched': 8495,\n",
       " 'believer': 1606,\n",
       " 'stuffed': 14403,\n",
       " 'pampered': 10677,\n",
       " 'attend': 1189,\n",
       " 'replacement': 12323,\n",
       " 'secret': 13097,\n",
       " 'alfredo': 670,\n",
       " 'starbucks': 14148,\n",
       " 'tang': 14778,\n",
       " 'deck': 4139,\n",
       " 'whaat': 16373,\n",
       " 'paul': 10832,\n",
       " 'organize': 10449,\n",
       " 'november': 10177,\n",
       " 'dose': 4712,\n",
       " 'locale': 8806,\n",
       " 'california': 2396,\n",
       " 'jobot': 8108,\n",
       " 'eggplants': 5027,\n",
       " 'heather': 7085,\n",
       " 'cigars': 2992,\n",
       " 'bounced': 1996,\n",
       " 'churches': 2975,\n",
       " 'thursday': 15145,\n",
       " 'salek': 12797,\n",
       " 'comped': 3303,\n",
       " 'paneer': 10689,\n",
       " 'bearable': 1530,\n",
       " 'valentine': 15926,\n",
       " 'pinapple': 11129,\n",
       " 'invading': 7898,\n",
       " 'flimsiest': 5909,\n",
       " 'couldn': 3656,\n",
       " 'hateful': 7010,\n",
       " 'refers': 12147,\n",
       " 'nites': 10078,\n",
       " 'snapped': 13698,\n",
       " 'perrier': 10981,\n",
       " 'shadow': 13227,\n",
       " 'sunken': 14536,\n",
       " 'smacking': 13636,\n",
       " 'bellini': 1615,\n",
       " 'opi': 10394,\n",
       " 'edgier': 4985,\n",
       " 'pointing': 11286,\n",
       " 'breathed': 2081,\n",
       " 'bergesson': 1645,\n",
       " 'pappadeaux': 10715,\n",
       " 'agwa': 597,\n",
       " 'how': 7404,\n",
       " 'abuelo': 358,\n",
       " 'roadshow': 12576,\n",
       " 'bocca': 1884,\n",
       " 'body': 1888,\n",
       " 'himself': 7210,\n",
       " 'wolverine': 16547,\n",
       " 'edu': 4994,\n",
       " 'papas': 10709,\n",
       " 'to': 15228,\n",
       " 'whales': 16376,\n",
       " 'vignettes': 16068,\n",
       " 'players': 11230,\n",
       " 'toasted': 15230,\n",
       " 'documents': 4641,\n",
       " 'hmmph': 7243,\n",
       " 'vampiro': 15942,\n",
       " 'seeds': 13116,\n",
       " 'theodosopoulos': 15048,\n",
       " 'preform': 11481,\n",
       " 'locked': 8817,\n",
       " 'results': 12428,\n",
       " 'supplements': 14563,\n",
       " 'satiate': 12894,\n",
       " 'camping': 2431,\n",
       " 'loads': 8797,\n",
       " 'kristin': 8382,\n",
       " 'tonic': 15276,\n",
       " 'benefit': 1635,\n",
       " 'intangible': 7833,\n",
       " 'blasphemy': 1790,\n",
       " 'attribute': 1210,\n",
       " 'proceeding': 11611,\n",
       " 'fights': 5747,\n",
       " 'granted': 6658,\n",
       " 'yawning': 16670,\n",
       " 'coffe': 3181,\n",
       " 'boba': 1880,\n",
       " 'tail': 14733,\n",
       " 'scheme': 12982,\n",
       " 'expands': 5430,\n",
       " 'parka': 10737,\n",
       " 'shindig': 13311,\n",
       " 'predominantly': 11466,\n",
       " 'ignorance': 7538,\n",
       " 'stir': 14265,\n",
       " 'wooed': 16572,\n",
       " 'hazelnuts': 7036,\n",
       " 'prize': 11600,\n",
       " 'goddamn': 6543,\n",
       " 'wigs': 16454,\n",
       " 'volumes': 16135,\n",
       " 'list': 8755,\n",
       " 'nothing': 10155,\n",
       " 'tostadas': 15323,\n",
       " 'humidity': 7447,\n",
       " 'performance': 10957,\n",
       " 'hip': 7214,\n",
       " 'conversations': 3541,\n",
       " 'directed': 4477,\n",
       " 'airconditioned': 620,\n",
       " 'solve': 13790,\n",
       " 'suv': 14628,\n",
       " 'facts': 5546,\n",
       " 'sunset': 14542,\n",
       " 'eastside': 4946,\n",
       " 'veal': 15969,\n",
       " 'zuchinni': 16816,\n",
       " 'heed': 7096,\n",
       " 'encountered': 5144,\n",
       " 'audience': 1216,\n",
       " 'safeway': 12772,\n",
       " 'lifting': 8681,\n",
       " 'trout': 15500,\n",
       " 'laborers': 8412,\n",
       " 'subsequent': 14442,\n",
       " '1956': 87,\n",
       " 'womens': 16550,\n",
       " 'manners': 9112,\n",
       " 'dull': 4867,\n",
       " 'lessons': 8629,\n",
       " 'hmmmmm': 7241,\n",
       " 'andrea': 808,\n",
       " 'thankfully': 15021,\n",
       " 'shampoos': 13244,\n",
       " 'our': 10493,\n",
       " 'active': 438,\n",
       " 'cutting': 3963,\n",
       " 'petrified': 11012,\n",
       " 'jewel': 8083,\n",
       " 'decked': 4140,\n",
       " 'brasserie': 2049,\n",
       " 'natale': 9922,\n",
       " 'washingtons': 16264,\n",
       " 'sneaker': 13707,\n",
       " 'retarded': 12432,\n",
       " 'cracks': 3732,\n",
       " 'atypical': 1212,\n",
       " 'discussion': 4528,\n",
       " 'french': 6142,\n",
       " 'deserted': 4316,\n",
       " 'workmanship': 16584,\n",
       " 'shirts': 13327,\n",
       " '2pm': 158,\n",
       " 'torta': 15310,\n",
       " 'jungles': 8181,\n",
       " 'easiy': 4941,\n",
       " 'clatter': 3051,\n",
       " 'entertaining': 5205,\n",
       " 'breathing': 2082,\n",
       " 'imax': 7566,\n",
       " 'miranda': 9550,\n",
       " 'publication': 11733,\n",
       " 'piercings': 11105,\n",
       " 'beaver': 1546,\n",
       " 'nazi': 9947,\n",
       " 'flashlights': 5874,\n",
       " 'bffs': 1682,\n",
       " 'osetra': 10475,\n",
       " 'bell': 1611,\n",
       " 'outlying': 10516,\n",
       " 'appreciative': 965,\n",
       " 'facility': 5538,\n",
       " 'groupon': 6768,\n",
       " 'matching': 9241,\n",
       " '0l': 15,\n",
       " 'escape': 5269,\n",
       " 'snacking': 13690,\n",
       " 'separating': 13169,\n",
       " 'confit': 3415,\n",
       " 'beats': 1541,\n",
       " 'slaw': 13582,\n",
       " 'obstruction': 10253,\n",
       " 'form': 6055,\n",
       " 'action': 435,\n",
       " 'demise': 4256,\n",
       " 'arousal': 1034,\n",
       " 'attributes': 1211,\n",
       " 'spray': 14048,\n",
       " 'ensenada': 5195,\n",
       " 'jefferson': 8058,\n",
       " 'horrendous': 7350,\n",
       " 'robb': 12590,\n",
       " 'cheerfully': 2814,\n",
       " 'mismatched': 9574,\n",
       " 'ahwatukee': 607,\n",
       " 'poetic': 11282,\n",
       " 'martinez': 9194,\n",
       " 'does': 4647,\n",
       " 'demand': 4247,\n",
       " 'bucatini': 2203,\n",
       " 'breakfasts': 2070,\n",
       " 'pampering': 10678,\n",
       " 'hankering': 6945,\n",
       " 'affiliation': 551,\n",
       " 'encompass': 5141,\n",
       " 'vic': 16047,\n",
       " 'chiles': 2874,\n",
       " 'doodles': 4696,\n",
       " 'packages': 10614,\n",
       " 'serene': 13177,\n",
       " 'aloo': 714,\n",
       " 'hanny': 6946,\n",
       " 'metrosexuality': 9437,\n",
       " 'broken': 2151,\n",
       " 'richardson': 12493,\n",
       " 'shoes': 13345,\n",
       " 'inconvenient': 7659,\n",
       " 'incapable': 7630,\n",
       " 'starting': 14163,\n",
       " 'bs': 2197,\n",
       " 'si': 13421,\n",
       " 'marching': 9131,\n",
       " 'coal': 3148,\n",
       " 'mouth': 9782,\n",
       " 'downer': 4733,\n",
       " 'weights': 16343,\n",
       " 'potato': 11403,\n",
       " 'worthy': 16604,\n",
       " 'fails': 5552,\n",
       " 'pours': 11424,\n",
       " 'thailand': 15014,\n",
       " 'harvil': 6998,\n",
       " 'paved': 10836,\n",
       " 'microscopically': 9463,\n",
       " 'pley': 11256,\n",
       " 'gonzales': 6567,\n",
       " 'bpa': 2023,\n",
       " 'negative': 9978,\n",
       " 'evident': 5347,\n",
       " 'sandwich': 12860,\n",
       " 'locker': 8818,\n",
       " 'mouse': 9780,\n",
       " 'tabasco': 14708,\n",
       " 'canteloupe': 2472,\n",
       " 'competently': 3311,\n",
       " 'quick': 11860,\n",
       " 'tina': 15196,\n",
       " 'brow': 2164,\n",
       " 'subs': 14439,\n",
       " 'ripped': 12544,\n",
       " 'typically': 15609,\n",
       " 'bajillion': 1357,\n",
       " '8yo': 301,\n",
       " 'achievement': 415,\n",
       " 'punctual': 11771,\n",
       " 'simple': 13474,\n",
       " 'interrupt': 7864,\n",
       " 'bits': 1757,\n",
       " 'researched': 12363,\n",
       " 'sacrificed': 12764,\n",
       " 'death': 4099,\n",
       " 'vantage': 15950,\n",
       " 'estimation': 5297,\n",
       " 'cereal': 2686,\n",
       " 'empire': 5114,\n",
       " 'cast': 2601,\n",
       " 'gets': 6435,\n",
       " 'goats': 6537,\n",
       " 'accidentally': 381,\n",
       " 'water': 16280,\n",
       " 'clock': 3102,\n",
       " 'boil': 1892,\n",
       " 'ensembles': 5194,\n",
       " 'voice': 16127,\n",
       " 'loraco': 8868,\n",
       " 'feelings': 5680,\n",
       " 'smashboxx': 13647,\n",
       " 'odyssey': 10285,\n",
       " 'bucks': 2216,\n",
       " 'court': 3682,\n",
       " 'ok': 10322,\n",
       " 'duo': 4884,\n",
       " 'superb': 14546,\n",
       " 'dissertation': 4590,\n",
       " 'tortillas': 15315,\n",
       " 'says': 12941,\n",
       " 'removal': 12285,\n",
       " 'favorite': 5643,\n",
       " 'take': 14743,\n",
       " 'dick': 4406,\n",
       " 'bang': 1402,\n",
       " 'razpado': 12007,\n",
       " 'tight': 15170,\n",
       " 'pressure': 11528,\n",
       " 'promptly': 11672,\n",
       " 'expressions': 5482,\n",
       " 'yup': 16765,\n",
       " 'importantly': 7596,\n",
       " 'preparation': 11495,\n",
       " 'bark': 1444,\n",
       " 'loooooove': 8857,\n",
       " 'becuz': 1556,\n",
       " 'lots': 8883,\n",
       " 'hefe': 7100,\n",
       " 'unemployment': 15719,\n",
       " 'loo': 8849,\n",
       " 'rnr': 12569,\n",
       " 'exchanged': 5385,\n",
       " 'drama': 4757,\n",
       " 'riders': 12508,\n",
       " 'snobby': 13726,\n",
       " 'dryng': 4843,\n",
       " 'dremel': 4782,\n",
       " 'horatio': 7344,\n",
       " 'properties': 11682,\n",
       " 'amicable': 775,\n",
       " 'winners': 16501,\n",
       " 'cradling': 3734,\n",
       " 'tainted': 14740,\n",
       " 'toned': 15270,\n",
       " 'rival': 12560,\n",
       " 'fines': 5797,\n",
       " 'mistos': 9594,\n",
       " 'misleading': 9570,\n",
       " 'pier': 11101,\n",
       " 'happen': 6953,\n",
       " 'shifts': 13306,\n",
       " 'flushes': 5962,\n",
       " 'con': 3361,\n",
       " 'stomp': 14281,\n",
       " 'timer': 15188,\n",
       " 'corners': 3605,\n",
       " 'icon': 7516,\n",
       " 'priority': 11589,\n",
       " 'warmed': 16234,\n",
       " 'sliders': 13600,\n",
       " 'vegetable': 15976,\n",
       " '755891987': 278,\n",
       " 'homeless': 7285,\n",
       " 'maz': 9277,\n",
       " 'undercooked': 15688,\n",
       " 'ahi': 605,\n",
       " 'frills': 6180,\n",
       " 'pistols': 11160,\n",
       " 'bandages': 1392,\n",
       " 'dramatically': 4759,\n",
       " 'btw': 2198,\n",
       " 'window': 16485,\n",
       " 'baeley': 1332,\n",
       " 'elote': 5077,\n",
       " 'adios': 482,\n",
       " 'terrified': 14985,\n",
       " 'planks': 11202,\n",
       " 'drive': 4809,\n",
       " 'pacific': 10607,\n",
       " 'veggies': 15981,\n",
       " 'philippines': 11034,\n",
       " 'analysis': 799,\n",
       " 'sore': 13847,\n",
       " 'technical': 14889,\n",
       " 'toast': 15229,\n",
       " 'armando': 1024,\n",
       " 'atleast': 1168,\n",
       " 'vinyl': 16090,\n",
       " 'wards': 16229,\n",
       " '43': 208,\n",
       " 'opinion': 10395,\n",
       " 'ulta': 15629,\n",
       " '1928': 81,\n",
       " 'welcome': 16352,\n",
       " 'uppers': 15857,\n",
       " 'br': 2024,\n",
       " 'proprietors': 11688,\n",
       " 'yeah': 16674,\n",
       " 'repeatedly': 12317,\n",
       " 'hobbies': 7250,\n",
       " 'connection': 3439,\n",
       " 'pancetta': 10684,\n",
       " 'bndmaps': 1867,\n",
       " 'meet': 9347,\n",
       " 'rockin': 12608,\n",
       " 'auto': 1236,\n",
       " 'hits': 7234,\n",
       " 'clump': 3135,\n",
       " 'apologize': 905,\n",
       " 'loudly': 8888,\n",
       " 'enough': 5189,\n",
       " 'convince': 3551,\n",
       " 'greta': 6717,\n",
       " 'raunchy': 11989,\n",
       " 'reminders': 12270,\n",
       " 'excited': 5387,\n",
       " 'writers': 16634,\n",
       " 'jennifer': 8066,\n",
       " '52': 234,\n",
       " 'barbecue': 1427,\n",
       " 'galore': 6318,\n",
       " 'hall': 6892,\n",
       " 'ensuing': 5196,\n",
       " 'do': 4631,\n",
       " 'costumes': 3643,\n",
       " 'waters': 16288,\n",
       " 'irritating': 7954,\n",
       " 'mediocre': 9341,\n",
       " 'mel': 9359,\n",
       " 'scottsdaley': 13018,\n",
       " 'skimpy': 13552,\n",
       " 'pesto': 11006,\n",
       " 'healing': 7055,\n",
       " 'cheeseburger': 2820,\n",
       " 'recommending': 12101,\n",
       " 'teapot': 14880,\n",
       " 'wrinkles': 16628,\n",
       " 'rush': 12737,\n",
       " 'fritto': 6192,\n",
       " 'badass': 1327,\n",
       " 'cindy': 2997,\n",
       " 'dwellers': 4906,\n",
       " 'courtyard': 3688,\n",
       " 'pretension': 11539,\n",
       " 'lsu': 8920,\n",
       " 'kaigen': 8206,\n",
       " 'studded': 14393,\n",
       " '79': 280,\n",
       " 'posing': 11380,\n",
       " 'rural': 12736,\n",
       " 'fran': 6105,\n",
       " 'torched': 15302,\n",
       " 'rugged': 12716,\n",
       " 'greatest': 6695,\n",
       " 'chiptole': 2902,\n",
       " 'peeps': 10904,\n",
       " 'bevmo': 1675,\n",
       " 'british': 2135,\n",
       " 'girly': 6474,\n",
       " 'mastro': 9235,\n",
       " 'refine': 12152,\n",
       " 'discusting': 4529,\n",
       " 'plethora': 11252,\n",
       " 'suggests': 14500,\n",
       " 'tori': 15304,\n",
       " 'tgw': 15009,\n",
       " 'least': 8566,\n",
       " 'onto': 10367,\n",
       " 'baskets': 1482,\n",
       " 'motel': 9759,\n",
       " 'partying': 10769,\n",
       " 'boasts': 1876,\n",
       " 'contains': 3502,\n",
       " 'commented': 3254,\n",
       " 'platters': 11225,\n",
       " 'nearby': 9954,\n",
       " 'die': 4413,\n",
       " 'regional': 12187,\n",
       " 'gomen': 6562,\n",
       " 'arcane': 996,\n",
       " 'escebeche': 5272,\n",
       " 'felt': 5690,\n",
       " 'flowing': 5950,\n",
       " 'computing': 3359,\n",
       " 'version': 16028,\n",
       " 'goood': 6587,\n",
       " 'roach': 12570,\n",
       " 'debbie': 4107,\n",
       " '623': 256,\n",
       " 'dumping': 4876,\n",
       " 'terra': 14977,\n",
       " '28': 152,\n",
       " 'smoke': 13668,\n",
       " 'lately': 8497,\n",
       " 'cooling': 3570,\n",
       " 'corwn': 3626,\n",
       " 'yea': 16673,\n",
       " 'groceries': 6753,\n",
       " 'artesian': 1057,\n",
       " 'grinded': 6736,\n",
       " 'trainers': 15391,\n",
       " 'amidst': 776,\n",
       " 'gary': 6355,\n",
       " 'about': 343,\n",
       " 'attended': 1193,\n",
       " 'recharging': 12081,\n",
       " 'neat': 9957,\n",
       " 'retarted': 12434,\n",
       " 'scored': 13010,\n",
       " 'apologists': 904,\n",
       " 'enticing': 5214,\n",
       " 'cleavage': 3074,\n",
       " 'opera': 10386,\n",
       " 'nhat': 10035,\n",
       " 'tame': 14768,\n",
       " 'byo': 2348,\n",
       " 'ponied': 11324,\n",
       " 'are': 1003,\n",
       " 'solution': 13788,\n",
       " 'communicator': 3275,\n",
       " 'unsuccessfully': 15813,\n",
       " 'landscape': 8456,\n",
       " 'dia': 4382,\n",
       " 'teamwork': 14879,\n",
       " 'kyoto': 8402,\n",
       " 'haunted': 7017,\n",
       " 'raising': 11931,\n",
       " 'mns': 9628,\n",
       " 'ti': 15149,\n",
       " 'tallest': 14763,\n",
       " 'bag': 1335,\n",
       " 'wildest': 16464,\n",
       " 'bleacher': 1799,\n",
       " 'insult': 7824,\n",
       " 'smiling': 13666,\n",
       " 'moon': 9723,\n",
       " 'bra': 2025,\n",
       " 'species': 13946,\n",
       " 'cfls': 2702,\n",
       " 'anti': 860,\n",
       " 'multiplier': 9826,\n",
       " 'novelty': 10176,\n",
       " 'kansas': 8214,\n",
       " 'entry': 5228,\n",
       " 'warmers': 16236,\n",
       " 'trumpet': 15510,\n",
       " 'threatening': 15115,\n",
       " 'mitts': 9600,\n",
       " 'inspirational': 7800,\n",
       " 'payment': 10850,\n",
       " 'ansel': 852,\n",
       " 'injuries': 7759,\n",
       " 'ihop': 7543,\n",
       " 'everyday': 5338,\n",
       " 'varietals': 15956,\n",
       " 'beautifully': 1544,\n",
       " 'uncouth': 15678,\n",
       " 'panic': 10695,\n",
       " '_c': 321,\n",
       " 'savvy': 12933,\n",
       " 'expansions': 5432,\n",
       " 'wierd': 16448,\n",
       " 'attire': 1201,\n",
       " 'tend': 14947,\n",
       " 'waster': 16271,\n",
       " 'curry': 3929,\n",
       " 'scarier': 12966,\n",
       " 'calamari': 2389,\n",
       " 'intent': 7843,\n",
       " 'dodger': 4644,\n",
       " 'flask': 5875,\n",
       " 'sinsr': 13500,\n",
       " 'detroit': 4361,\n",
       " 'korea': 8370,\n",
       " 'jonathan': 8131,\n",
       " 'markeplace': 9163,\n",
       " 'miagi': 9447,\n",
       " 'disposable': 4576,\n",
       " 'gosh': 6601,\n",
       " 'janis': 8032,\n",
       " 'crostini': 3837,\n",
       " 'gray': 6686,\n",
       " 'sickest': 13426,\n",
       " 'uruguay': 15878,\n",
       " 'mickie': 9457,\n",
       " 'contentment': 3507,\n",
       " '1k': 103,\n",
       " 'thyme': 15148,\n",
       " 'chugged': 2969,\n",
       " 'boa': 1869,\n",
       " 'ofthe': 10307,\n",
       " 'informed': 7734,\n",
       " 'curtain': 3934,\n",
       " 'warriors': 16249,\n",
       " 'dough': 4722,\n",
       " 'sundae': 14525,\n",
       " 'diabetes': 4383,\n",
       " 'meetings': 9349,\n",
       " 'refills': 12151,\n",
       " 'onset': 10364,\n",
       " 'cheated': 2795,\n",
       " 'society': 13751,\n",
       " 'chiropractor': 2905,\n",
       " 'reno': 12295,\n",
       " 'bilinis': 1719,\n",
       " 'hyatt': 7483,\n",
       " 'tells': 14928,\n",
       " 'peeling': 10901,\n",
       " 'harley': 6983,\n",
       " 'eden': 4982,\n",
       " 'couldnt': 3657,\n",
       " 'carrabba': 2560,\n",
       " 'preparations': 11496,\n",
       " 'invited': 7918,\n",
       " 'tank': 14783,\n",
       " 'dobson': 4634,\n",
       " 'tops': 15300,\n",
       " 'kräuter': 8385,\n",
       " 'appalachians': 914,\n",
       " 'portrait': 11374,\n",
       " 'metropolitan': 9436,\n",
       " 'realrider': 12039,\n",
       " 'fulfill': 6250,\n",
       " 'read': 12022,\n",
       " 'bert': 1651,\n",
       " 'karve': 8226,\n",
       " 'starts': 14166,\n",
       " 'margherita': 9143,\n",
       " 'requests': 12353,\n",
       " 'mind': 9515,\n",
       " 'jc': 8049,\n",
       " 'logo': 8828,\n",
       " 'samples': 12840,\n",
       " 'yelled': 16682,\n",
       " 'pivotal': 11173,\n",
       " 'flavorgasm': 5887,\n",
       " 'unfriendliness': 15737,\n",
       " 'yorkie': 16726,\n",
       " 'competitors': 3318,\n",
       " 'grown': 6781,\n",
       " 'baileys': 1352,\n",
       " 'phlegm': 11038,\n",
       " 'labeled': 8407,\n",
       " 'pamper': 10676,\n",
       " 'strolled': 14373,\n",
       " 'incentives': 7633,\n",
       " 'waldorf': 16192,\n",
       " '12': 47,\n",
       " 'citizen': 3019,\n",
       " 'masala': 9206,\n",
       " 'hardcore': 6970,\n",
       " 'spices': 13974,\n",
       " 'impession': 7589,\n",
       " 'purchaser': 11786,\n",
       " 'publicized': 11735,\n",
       " 'unusable': 15822,\n",
       " '8v': 300,\n",
       " 'feature': 5662,\n",
       " 'russell': 12741,\n",
       " 'update': 15842,\n",
       " 'baked': 1359,\n",
       " 'woodlands': 16569,\n",
       " 'patrol': 10817,\n",
       " 'lingering': 8733,\n",
       " 'unanswered': 15653,\n",
       " 'reflections': 12159,\n",
       " 'picazzo': 11076,\n",
       " 'gyoza': 6856,\n",
       " 'sophie': 13839,\n",
       " 'contribute': 3524,\n",
       " 'evaluations': 5323,\n",
       " 'bingsoo': 1731,\n",
       " 'fillet': 5768,\n",
       " 'accurately': 406,\n",
       " 'ages': 583,\n",
       " 'samuri': 12844,\n",
       " 'furrowed': 6282,\n",
       " 'refined': 12153,\n",
       " 'pallet': 10668,\n",
       " 'tasteful': 14826,\n",
       " 'overdoing': 10542,\n",
       " 'jay': 8046,\n",
       " 'sera': 13175,\n",
       " 'childhoods': 2868,\n",
       " 'ganache': 6328,\n",
       " 'walked': 16197,\n",
       " 'sunridge': 14538,\n",
       " 'suggestion': 14498,\n",
       " 'yelped': 16689,\n",
       " 'pak': 10649,\n",
       " 'velvet': 15990,\n",
       " 'wants': 16225,\n",
       " 'heart': 7069,\n",
       " 'pursued': 11802,\n",
       " 'coworkers': 3708,\n",
       " 'demo': 4257,\n",
       " 'socializing': 13750,\n",
       " 'lava': 8515,\n",
       " 'promos': 11662,\n",
       " 'tske': 15524,\n",
       " 'pole': 11297,\n",
       " 'surrounds': 14606,\n",
       " 'extending': 5488,\n",
       " 'crucifix': 3849,\n",
       " 'flannel': 5868,\n",
       " 'ixtapa': 7989,\n",
       " 'kale': 8209,\n",
       " 'distance': 4592,\n",
       " 'theory': 15049,\n",
       " 'bushes': 2298,\n",
       " 'scrambling': 13030,\n",
       " 'humbly': 7443,\n",
       " 'allergies': 688,\n",
       " 'brunch': 2179,\n",
       " 'yakaguru': 16659,\n",
       " 'infestations': 7719,\n",
       " 'ch': 2703,\n",
       " 'elusive': 5081,\n",
       " 'biltmore': 1725,\n",
       " 'bread': 2060,\n",
       " 'innocuous': 7767,\n",
       " 'feeders': 5675,\n",
       " 'tipping': 15210,\n",
       " 'approaching': 972,\n",
       " '147': 58,\n",
       " 'berg': 1644,\n",
       " 'imported': 7597,\n",
       " 'earliest': 4925,\n",
       " 'subpar': 14438,\n",
       " 'excitement': 5389,\n",
       " 'mmmmmmmm': 9622,\n",
       " 'puff': 11746,\n",
       " 'surfing': 14589,\n",
       " 'salivate': 12805,\n",
       " 'playing': 11233,\n",
       " 'blues': 1856,\n",
       " 'teharu': 14917,\n",
       " 'cracked': 3724,\n",
       " 'chambord': 2725,\n",
       " 'peppercorns': 10933,\n",
       " 'hue': 7424,\n",
       " 'rey': 12476,\n",
       " 'sequence': 13174,\n",
       " 'answering': 855,\n",
       " 'exclaimed': 5391,\n",
       " 'indians': 7679,\n",
       " 'funky': 6271,\n",
       " 'toothbrush': 15288,\n",
       " 'chace': 2705,\n",
       " 'hokokum': 7263,\n",
       " 'solidly': 13782,\n",
       " 'unappealing': 15656,\n",
       " 'sober': 13745,\n",
       " 'dizzy': 4624,\n",
       " 'mignon': 9483,\n",
       " 'order': 10427,\n",
       " 'dara': 4027,\n",
       " 'bees': 1572,\n",
       " 'ripe': 12540,\n",
       " 'environmental': 5236,\n",
       " 'wary': 16251,\n",
       " 'treachery': 15440,\n",
       " 'reviewers': 12463,\n",
       " 'erin': 5257,\n",
       " 'carrying': 2570,\n",
       " 'uber': 15614,\n",
       " 'hrs': 7411,\n",
       " 'jump': 8175,\n",
       " 'rabbit': 11888,\n",
       " 'mauves': 9264,\n",
       " 'products': 11624,\n",
       " 'soups': 13869,\n",
       " 'creativity': 3780,\n",
       " 'mailbox': 9030,\n",
       " 'businessmen': 2303,\n",
       " 'karanish': 8219,\n",
       " 'humane': 7437,\n",
       " 'ought': 10490,\n",
       " 'dangers': 4017,\n",
       " 'footlongs': 6026,\n",
       " 'soap': 13742,\n",
       " 'norman': 10133,\n",
       " 'scottsdale': 13017,\n",
       " 'chumps': 2970,\n",
       " 'stage': 14111,\n",
       " 'poivre': 11293,\n",
       " 'steelhead': 14209,\n",
       " 'curls': 3920,\n",
       " 'sangria': 12867,\n",
       " 'silly': 13462,\n",
       " '200lbs': 117,\n",
       " 'doubt': 4717,\n",
       " 'recite': 12087,\n",
       " 'stylists': 14425,\n",
       " 'afterward': 571,\n",
       " 'down': 4732,\n",
       " 'noted': 10153,\n",
       " 'ecstatic': 4975,\n",
       " 'hills': 7204,\n",
       " 'gila': 6452,\n",
       " 'plateful': 11219,\n",
       " 'famous': 5583,\n",
       " 'lemony': 8609,\n",
       " 'finishing': 5811,\n",
       " 'menu': 9396,\n",
       " 'greetings': 6712,\n",
       " 'admitted': 494,\n",
       " 'happens': 6957,\n",
       " 'uncles': 15670,\n",
       " 'tableau': 14710,\n",
       " 'harmful': 6985,\n",
       " 'scented': 12977,\n",
       " 'pussycat': 11812,\n",
       " 'boars': 1875,\n",
       " 'sriracha': 14094,\n",
       " 'sensitive': 13159,\n",
       " 'capable': 2481,\n",
       " 'refinement': 12154,\n",
       " 'sapling': 12879,\n",
       " 'madras': 9004,\n",
       " 'bad': 1326,\n",
       " 'tones': 15272,\n",
       " 'sites': 13512,\n",
       " 'fingerprinting': 5804,\n",
       " 'project': 11652,\n",
       " 'tigers': 15169,\n",
       " 'oggie': 10308,\n",
       " 'mustachio': 9857,\n",
       " 'situation': 13517,\n",
       " ...}"
      ]
     },
     "execution_count": 16,
     "metadata": {},
     "output_type": "execute_result"
    }
   ],
   "source": [
    "# Let's take a look at the vocabulary that was generated, containing 16,825 unique words.\n",
    "#   'vocabulary_' is a dictionary that converts each word to its index in the sparse matrix.\n",
    "#   - For example, the word \"four\" is index #3230 in the sparse matrix.\n",
    "\n",
    "vect.vocabulary_"
   ]
  },
  {
   "cell_type": "code",
   "execution_count": 17,
   "metadata": {
    "slideshow": {
     "slide_type": "slide"
    }
   },
   "outputs": [
    {
     "data": {
      "text/plain": [
       "array([[0, 0, 0, ..., 0, 0, 0],\n",
       "       [0, 0, 0, ..., 0, 0, 0],\n",
       "       [0, 0, 0, ..., 0, 0, 0],\n",
       "       ...,\n",
       "       [0, 0, 0, ..., 0, 0, 0],\n",
       "       [0, 0, 0, ..., 0, 0, 0],\n",
       "       [0, 0, 0, ..., 0, 0, 0]])"
      ]
     },
     "execution_count": 17,
     "metadata": {},
     "output_type": "execute_result"
    }
   ],
   "source": [
    "# Finally, let's convert the sparse matrix to a typical ndarray using .toarray()\n",
    "#   - Remember, this takes up a lot more memory than the sparse matrix! However, this conversion is sometimes necessary.\n",
    "\n",
    "X_test_dtm.toarray()"
   ]
  },
  {
   "cell_type": "code",
   "execution_count": 18,
   "metadata": {
    "slideshow": {
     "slide_type": "slide"
    }
   },
   "outputs": [],
   "source": [
    "# We will use this function below for simplicity.\n",
    "\n",
    "# Define a function that accepts a vectorizer and calculates the accuracy.\n",
    "def tokenize_test(vect):\n",
    "    X_train_dtm = vect.fit_transform(X_train)\n",
    "    print(('Features: ', X_train_dtm.shape[1]))\n",
    "    X_test_dtm = vect.transform(X_test)\n",
    "    nb = MultinomialNB()\n",
    "    nb.fit(X_train_dtm, y_train)\n",
    "    y_pred_class = nb.predict(X_test_dtm)\n",
    "    print(('Accuracy: ', metrics.accuracy_score(y_test, y_pred_class)))"
   ]
  },
  {
   "cell_type": "code",
   "execution_count": 19,
   "metadata": {
    "slideshow": {
     "slide_type": "slide"
    }
   },
   "outputs": [
    {
     "name": "stdout",
     "output_type": "stream",
     "text": [
      "('Features: ', 8783)\n",
      "('Accuracy: ', 0.9246575342465754)\n"
     ]
    }
   ],
   "source": [
    "# min_df ignores words that occur less than twice ('df' means \"document frequency\").\n",
    "vect = CountVectorizer(min_df=2, max_features=10000)\n",
    "tokenize_test(vect)"
   ]
  },
  {
   "cell_type": "markdown",
   "metadata": {
    "slideshow": {
     "slide_type": "slide"
    }
   },
   "source": [
    "<a id='ngrams'></a>\n",
    "### N-Grams\n",
    "\n",
    "N-grams are features which consist of N consecutive words. This is useful because using the bag-of-words model, treating `data scientist` as a single feature has more meaning than having two independent features `data` and `scientist`!\n",
    "\n",
    "Example:\n",
    "```\n",
    "my cat is awesome\n",
    "Unigrams (1-grams): 'my', 'cat', 'is', 'awesome'\n",
    "Bigrams (2-grams): 'my cat', 'cat is', 'is awesome'\n",
    "Trigrams (3-grams): 'my cat is', 'cat is awesome'\n",
    "4-grams: 'my cat is awesome'\n",
    "```\n",
    "\n",
    "- **ngram_range:** tuple (min_n, max_n)\n",
    "- The lower and upper boundary of the range of n-values for different n-grams to be extracted. All values of n such that min_n <= n <= max_n will be used."
   ]
  },
  {
   "cell_type": "code",
   "execution_count": 20,
   "metadata": {
    "slideshow": {
     "slide_type": "slide"
    }
   },
   "outputs": [
    {
     "data": {
      "text/plain": [
       "(3064, 169847)"
      ]
     },
     "execution_count": 20,
     "metadata": {},
     "output_type": "execute_result"
    }
   ],
   "source": [
    "# Include 1-grams and 2-grams.\n",
    "vect = CountVectorizer(ngram_range=(1, 2))\n",
    "X_train_dtm = vect.fit_transform(X_train)\n",
    "X_train_dtm.shape"
   ]
  },
  {
   "cell_type": "markdown",
   "metadata": {
    "slideshow": {
     "slide_type": "slide"
    }
   },
   "source": [
    "We can start to see how supplementing our features with n-grams can lead to more feature columns. When we produce n-grams from a document with $W$ words, we add an additional $(n-W+1)$ features (at most). That said, be careful — when we compute n-grams from an entire corpus, the number of _unique_ n-grams could be vastly higher than the number of _unique_ unigrams! This could cause an undesired feature explosion.\n",
    "\n",
    "Although we sometimes add important new features that have meaning such as `data scientist`, many of the new features will just be noise. So, particularly if we do not have much data, adding n-grams can actually decrease model performance. This is because if each n-gram is only present once or twice in the training set, we are effectively adding mostly noisy features to the mix."
   ]
  },
  {
   "cell_type": "code",
   "execution_count": 21,
   "metadata": {
    "scrolled": true,
    "slideshow": {
     "slide_type": "slide"
    }
   },
   "outputs": [
    {
     "name": "stdout",
     "output_type": "stream",
     "text": [
      "['zone out', 'zone when', 'zones', 'zones dolls', 'zoning', 'zoning issues', 'zoo', 'zoo and', 'zoo is', 'zoo not', 'zoo the', 'zoo ve', 'zoyo', 'zoyo for', 'zucca', 'zucca appetizer', 'zucchini', 'zucchini and', 'zucchini bread', 'zucchini broccoli', 'zucchini carrots', 'zucchini fries', 'zucchini pieces', 'zucchini strips', 'zucchini veal', 'zucchini very', 'zucchini with', 'zuchinni', 'zuchinni again', 'zuchinni the', 'zumba', 'zumba class', 'zumba or', 'zumba yogalates', 'zupa', 'zupa flavors', 'zuzu', 'zuzu in', 'zuzu is', 'zuzu the', 'zwiebel', 'zwiebel kräuter', 'zzed', 'zzed in', 'éclairs', 'éclairs napoleons', 'école', 'école lenôtre', 'ém', 'ém all']\n"
     ]
    }
   ],
   "source": [
    "# Last 50 features\n",
    "print((vect.get_feature_names()[-50:]))"
   ]
  },
  {
   "cell_type": "markdown",
   "metadata": {
    "slideshow": {
     "slide_type": "slide"
    }
   },
   "source": [
    "<a id='stopwords'></a>\n",
    "\n",
    "### Stop-Word Removal\n",
    "\n",
    "- **What:** This process is used to remove common words that will likely appear in any text.\n",
    "- **Why:** Because common words exist in most documents, they likely only add noise to your model and should be removed.\n",
    "\n",
    "**What are stop words?**\n",
    "Stop words are some of the most common words in a language. They are used so that a sentence makes sense grammatically, such as prepositions and determiners, e.g., \"to,\" \"the,\" \"and.\" However, they are so commonly used that they are generally worthless for predicting the class of a document. Since \"a\" appears in spam and non-spam emails, for example, it would only contribute noise to our model.\n",
    "\n",
    "Example: \n",
    "\n",
    "> 1. Original sentence: \"The dog jumped over the fence\"  \n",
    "> 2. After stop-word removal: \"dog jumped over fence\"\n",
    "\n",
    "The fact that there is a fence and a dog jumped over it can be derived with or without stop words."
   ]
  },
  {
   "cell_type": "code",
   "execution_count": 22,
   "metadata": {
    "slideshow": {
     "slide_type": "slide"
    }
   },
   "outputs": [
    {
     "data": {
      "text/plain": [
       "CountVectorizer(analyzer='word', binary=False, decode_error='strict',\n",
       "        dtype=<class 'numpy.int64'>, encoding='utf-8', input='content',\n",
       "        lowercase=True, max_df=1.0, max_features=None, min_df=1,\n",
       "        ngram_range=(1, 2), preprocessor=None, stop_words=None,\n",
       "        strip_accents=None, token_pattern='(?u)\\\\b\\\\w\\\\w+\\\\b',\n",
       "        tokenizer=None, vocabulary=None)"
      ]
     },
     "execution_count": 22,
     "metadata": {},
     "output_type": "execute_result"
    }
   ],
   "source": [
    "# Show vectorizer options.\n",
    "vect"
   ]
  },
  {
   "cell_type": "markdown",
   "metadata": {
    "slideshow": {
     "slide_type": "slide"
    }
   },
   "source": [
    "- **stop_words:** string {`english`}, list, or None (default)\n",
    "- If `english`, a built-in stop word list for English is used.\n",
    "- If a list, that list is assumed to contain stop words, all of which will be removed from the resulting tokens.\n",
    "- If None, no stop words will be used. `max_df` can be set to a value in the range [0.7, 1.0) to automatically detect and filter stop words based on intra corpus document frequency of terms. (If `max_df` = 0.7, then if > 70% of documents contain a word it will not be included in the feature set!)"
   ]
  },
  {
   "cell_type": "code",
   "execution_count": 23,
   "metadata": {
    "slideshow": {
     "slide_type": "slide"
    }
   },
   "outputs": [
    {
     "name": "stdout",
     "output_type": "stream",
     "text": [
      "('Features: ', 16528)\n",
      "('Accuracy: ', 0.9158512720156555)\n"
     ]
    },
    {
     "data": {
      "text/plain": [
       "{'analyzer': 'word',\n",
       " 'binary': False,\n",
       " 'decode_error': 'strict',\n",
       " 'dtype': numpy.int64,\n",
       " 'encoding': 'utf-8',\n",
       " 'input': 'content',\n",
       " 'lowercase': True,\n",
       " 'max_df': 1.0,\n",
       " 'max_features': None,\n",
       " 'min_df': 1,\n",
       " 'ngram_range': (1, 1),\n",
       " 'preprocessor': None,\n",
       " 'stop_words': 'english',\n",
       " 'strip_accents': None,\n",
       " 'token_pattern': '(?u)\\\\b\\\\w\\\\w+\\\\b',\n",
       " 'tokenizer': None,\n",
       " 'vocabulary': None}"
      ]
     },
     "execution_count": 23,
     "metadata": {},
     "output_type": "execute_result"
    }
   ],
   "source": [
    "# Remove English stop words.\n",
    "vect = CountVectorizer(stop_words='english')\n",
    "tokenize_test(vect)\n",
    "vect.get_params()"
   ]
  },
  {
   "cell_type": "code",
   "execution_count": 24,
   "metadata": {
    "slideshow": {
     "slide_type": "slide"
    }
   },
   "outputs": [
    {
     "name": "stdout",
     "output_type": "stream",
     "text": [
      "frozenset({'although', 'fifteen', 'least', 'nobody', 'onto', 'much', 'both', 'seeming', 'here', 'keep', 'upon', 'mill', 'amoungst', 'bill', 'cant', 'due', 'over', 'before', 'con', 'somewhere', 'system', 'it', 'being', 'afterwards', 'except', 'through', 'as', 'only', 'yet', 'empty', 'side', 'each', 'am', 'became', 'couldnt', 'may', 'has', 'whether', 'yourself', 'thick', 'whose', 'or', 'had', 'he', 'in', 'his', 'been', 'noone', 'nor', 'they', 'was', 'beyond', 'toward', 'also', 'three', 'above', 'now', 'what', 'should', 'mine', 'anything', 'beforehand', 'sincere', 'under', 'across', 'of', 'ourselves', 'else', 'my', 'somehow', 'something', 'them', 'rather', 'then', 'together', 'nothing', 'twelve', 'us', 'hereby', 'were', 'is', 'back', 'thin', 'either', 'full', 'very', 'anyway', 'less', 'have', 'which', 'detail', 'front', 'twenty', 'every', 'almost', 'about', 'already', 'sometimes', 'go', 'who', 'will', 'themselves', 'among', 'up', 'cannot', 'fill', 'herself', 'their', 'whereas', 'further', 'again', 'meanwhile', 'eight', 'between', 'a', 'by', 'four', 'latterly', 'off', 'others', 'such', 'two', 'yourselves', 'find', 'first', 'i', 'last', 'many', 'still', 'co', 'these', 'one', 'found', 'however', 'any', 'mostly', 'whence', 'some', 'fifty', 'amongst', 'too', 'because', 'indeed', 'ours', 'are', 'therefore', 'everyone', 'namely', 'thereafter', 'for', 'anyone', 'whereupon', 'forty', 'never', 'below', 'nevertheless', 'hereafter', 'more', 'few', 'without', 'everywhere', 'though', 'move', 'therein', 'nine', 'this', 'must', 'herein', 'otherwise', 'eleven', 'own', 'hence', 'him', 'enough', 'our', 'see', 'anyhow', 'anywhere', 'call', 'against', 'always', 'please', 'an', 'but', 'down', 'into', 'when', 'myself', 'none', 'until', 'top', 'de', 'whoever', 'describe', 'bottom', 'become', 'there', 'so', 'than', 'once', 'behind', 'the', 'beside', 'give', 'your', 'often', 'thru', 'via', 'whenever', 'during', 'do', 'former', 'towards', 'nowhere', 'part', 'wherein', 'thus', 'ie', 'even', 'throughout', 'out', 'moreover', 'seem', 'hereupon', 'six', 'next', 'third', 'wherever', 'might', 'seemed', 'serious', 'un', 'can', 'we', 'where', 'thence', 'would', 'cry', 'name', 'becomes', 'show', 'interest', 'thereupon', 'why', 'how', 'done', 'no', 'those', 'all', 'put', 'becoming', 'whither', 'himself', 'from', 'whole', 'besides', 'neither', 'sometime', 'made', 'since', 'could', 'on', 'ever', 'if', 'take', 'be', 'thereby', 'whereafter', 'hundred', 'alone', 'ltd', 'yours', 'inc', 'elsewhere', 'to', 'while', 'eg', 'well', 'whom', 'perhaps', 'whereby', 'get', 'along', 'you', 'sixty', 'ten', 'after', 'hers', 'fire', 'and', 'at', 'its', 'around', 'itself', 'latter', 'someone', 'with', 'five', 'hasnt', 'me', 'amount', 'whatever', 'she', 'another', 'formerly', 'within', 'seems', 'most', 'other', 'per', 'not', 'her', 'same', 'that', 're', 'etc', 'everything', 'several'})\n"
     ]
    }
   ],
   "source": [
    "# Set of stop words\n",
    "print((vect.get_stop_words()))"
   ]
  },
  {
   "cell_type": "markdown",
   "metadata": {
    "slideshow": {
     "slide_type": "slide"
    }
   },
   "source": [
    "<a id='cvec_opt'></a>\n",
    "### Other CountVectorizer Options"
   ]
  },
  {
   "cell_type": "markdown",
   "metadata": {
    "slideshow": {
     "slide_type": "slide"
    }
   },
   "source": [
    "- `max_features`: int or None, default=None\n",
    "- If not None, build a vocabulary that only consider the top `max_features` ordered by term frequency across the corpus. This allows us to keep more common n-grams and remove ones that may appear once. If we include words that only occur once, this can lead to said features being highly associated with a class and cause overfitting."
   ]
  },
  {
   "cell_type": "code",
   "execution_count": 25,
   "metadata": {
    "slideshow": {
     "slide_type": "slide"
    }
   },
   "outputs": [
    {
     "name": "stdout",
     "output_type": "stream",
     "text": [
      "('Features: ', 100)\n",
      "('Accuracy: ', 0.8698630136986302)\n"
     ]
    }
   ],
   "source": [
    "# Remove English stop words and only keep 100 features.\n",
    "vect = CountVectorizer(stop_words='english', max_features=100)\n",
    "tokenize_test(vect)"
   ]
  },
  {
   "cell_type": "code",
   "execution_count": 26,
   "metadata": {
    "slideshow": {
     "slide_type": "slide"
    }
   },
   "outputs": [
    {
     "name": "stdout",
     "output_type": "stream",
     "text": [
      "['amazing', 'area', 'atmosphere', 'awesome', 'bad', 'bar', 'best', 'better', 'big', 'came', 'cheese', 'chicken', 'clean', 'coffee', 'come', 'day', 'definitely', 'delicious', 'did', 'didn', 'dinner', 'don', 'eat', 'excellent', 'experience', 'favorite', 'feel', 'food', 'free', 'fresh', 'friendly', 'friends', 'going', 'good', 'got', 'great', 'happy', 'home', 'hot', 'hour', 'just', 'know', 'like', 'little', 'll', 'location', 'long', 'looking', 'lot', 'love', 'lunch', 'make', 'meal', 'menu', 'minutes', 'need', 'new', 'nice', 'night', 'order', 'ordered', 'people', 'perfect', 'phoenix', 'pizza', 'place', 'pretty', 'prices', 'really', 'recommend', 'restaurant', 'right', 'said', 'salad', 'sandwich', 'sauce', 'say', 'service', 'staff', 'store', 'sure', 'table', 'thing', 'things', 'think', 'time', 'times', 'took', 'town', 'tried', 'try', 've', 'wait', 'want', 'way', 'went', 'wine', 'work', 'worth', 'years']\n"
     ]
    }
   ],
   "source": [
    "# All 100 features\n",
    "print((vect.get_feature_names()))"
   ]
  },
  {
   "cell_type": "markdown",
   "metadata": {
    "slideshow": {
     "slide_type": "slide"
    }
   },
   "source": [
    "Just like with all other models, more features does not mean a better model. So, we must tune our feature generator to remove features whose predictive capability is none or very low.\n",
    "\n",
    "In this case, there is roughly a 1.6% increase in accuracy when we double the n-gram size and increase our max features by 1,000-fold. Note that if we restrict it to only unigrams, then the accuracy increases even more! So, bigrams were very likely adding more noise than signal. \n",
    "\n",
    "In the end, by only using 16,000 unigram features we came away with a much smaller, simpler, and easier-to-think-about model which also resulted in higher accuracy."
   ]
  },
  {
   "cell_type": "code",
   "execution_count": 27,
   "metadata": {
    "slideshow": {
     "slide_type": "slide"
    }
   },
   "outputs": [
    {
     "name": "stdout",
     "output_type": "stream",
     "text": [
      "1-grams and 2-grams, up to 100K features:\n",
      "('Features: ', 100000)\n",
      "('Accuracy: ', 0.8855185909980431)\n",
      "\n",
      "1-grams only, up to 100K features:\n",
      "('Features: ', 16825)\n",
      "('Accuracy: ', 0.9187866927592955)\n"
     ]
    }
   ],
   "source": [
    "# Include 1-grams and 2-grams, and limit the number of features.\n",
    "\n",
    "print('1-grams and 2-grams, up to 100K features:')\n",
    "vect = CountVectorizer(ngram_range=(1, 2), max_features=100000)\n",
    "tokenize_test(vect)\n",
    "\n",
    "print()\n",
    "print('1-grams only, up to 100K features:')\n",
    "vect = CountVectorizer(ngram_range=(1, 1), max_features=100000)\n",
    "tokenize_test(vect)"
   ]
  },
  {
   "cell_type": "markdown",
   "metadata": {
    "slideshow": {
     "slide_type": "slide"
    }
   },
   "source": [
    "- `min_df`: Float in range [0.0, 1.0] or int, default=1\n",
    "- When building the vocabulary ignore terms that have a document frequency strictly lower than the given threshold. This value is also called cut-off in the literature. If float, the parameter represents a proportion of documents, integer absolute counts."
   ]
  },
  {
   "cell_type": "code",
   "execution_count": 28,
   "metadata": {
    "scrolled": true,
    "slideshow": {
     "slide_type": "slide"
    }
   },
   "outputs": [
    {
     "name": "stdout",
     "output_type": "stream",
     "text": [
      "('Features: ', 43957)\n",
      "('Accuracy: ', 0.9324853228962818)\n"
     ]
    }
   ],
   "source": [
    "# Include 1-grams and 2-grams, and only include terms that appear at least two times.\n",
    "vect = CountVectorizer(ngram_range=(1, 2), min_df=2)\n",
    "tokenize_test(vect)"
   ]
  },
  {
   "cell_type": "markdown",
   "metadata": {
    "slideshow": {
     "slide_type": "slide"
    }
   },
   "source": [
    "<a id='textblob'></a>\n",
    "## Introduction to TextBlob\n",
    "\n",
    "You should already have downloaded TextBlob, a Python library used to explore common NLP tasks. If you haven’t, please return to [this step](#textblob_install) for instructions on how to do so. We’ll be using this to organize our corpora for analysis.\n",
    "\n",
    "As mentioned earlier, you can read more on the [TextBlob website](https://textblob.readthedocs.io/en/dev/)."
   ]
  },
  {
   "cell_type": "code",
   "execution_count": 29,
   "metadata": {
    "scrolled": true,
    "slideshow": {
     "slide_type": "slide"
    }
   },
   "outputs": [
    {
     "name": "stdout",
     "output_type": "stream",
     "text": [
      "My wife took me here on my birthday for breakfast and it was excellent.  The weather was perfect which made sitting outside overlooking their grounds an absolute pleasure.  Our waitress was excellent and our food arrived quickly on the semi-busy Saturday morning.  It looked like the place fills up pretty quickly so the earlier you get here the better.\n",
      "\n",
      "Do yourself a favor and get their Bloody Mary.  It was phenomenal and simply the best I've ever had.  I'm pretty sure they only use ingredients from their garden and blend them fresh when you order it.  It was amazing.\n",
      "\n",
      "While EVERYTHING on the menu looks excellent, I had the white truffle scrambled eggs vegetable skillet and it was tasty and delicious.  It came with 2 pieces of their griddled bread with was amazing and it absolutely made the meal complete.  It was the best \"toast\" I've ever had.\n",
      "\n",
      "Anyway, I can't wait to go back!\n"
     ]
    }
   ],
   "source": [
    "# Print the first review.\n",
    "print((yelp_best_worst.text[0]))"
   ]
  },
  {
   "cell_type": "code",
   "execution_count": 30,
   "metadata": {
    "slideshow": {
     "slide_type": "slide"
    }
   },
   "outputs": [],
   "source": [
    "# Save it as a TextBlob object.\n",
    "review = TextBlob(yelp_best_worst.text[0])"
   ]
  },
  {
   "cell_type": "code",
   "execution_count": 31,
   "metadata": {
    "slideshow": {
     "slide_type": "slide"
    }
   },
   "outputs": [
    {
     "data": {
      "text/plain": [
       "WordList(['My', 'wife', 'took', 'me', 'here', 'on', 'my', 'birthday', 'for', 'breakfast', 'and', 'it', 'was', 'excellent', 'The', 'weather', 'was', 'perfect', 'which', 'made', 'sitting', 'outside', 'overlooking', 'their', 'grounds', 'an', 'absolute', 'pleasure', 'Our', 'waitress', 'was', 'excellent', 'and', 'our', 'food', 'arrived', 'quickly', 'on', 'the', 'semi-busy', 'Saturday', 'morning', 'It', 'looked', 'like', 'the', 'place', 'fills', 'up', 'pretty', 'quickly', 'so', 'the', 'earlier', 'you', 'get', 'here', 'the', 'better', 'Do', 'yourself', 'a', 'favor', 'and', 'get', 'their', 'Bloody', 'Mary', 'It', 'was', 'phenomenal', 'and', 'simply', 'the', 'best', 'I', \"'ve\", 'ever', 'had', 'I', \"'m\", 'pretty', 'sure', 'they', 'only', 'use', 'ingredients', 'from', 'their', 'garden', 'and', 'blend', 'them', 'fresh', 'when', 'you', 'order', 'it', 'It', 'was', 'amazing', 'While', 'EVERYTHING', 'on', 'the', 'menu', 'looks', 'excellent', 'I', 'had', 'the', 'white', 'truffle', 'scrambled', 'eggs', 'vegetable', 'skillet', 'and', 'it', 'was', 'tasty', 'and', 'delicious', 'It', 'came', 'with', '2', 'pieces', 'of', 'their', 'griddled', 'bread', 'with', 'was', 'amazing', 'and', 'it', 'absolutely', 'made', 'the', 'meal', 'complete', 'It', 'was', 'the', 'best', 'toast', 'I', \"'ve\", 'ever', 'had', 'Anyway', 'I', 'ca', \"n't\", 'wait', 'to', 'go', 'back'])"
      ]
     },
     "execution_count": 31,
     "metadata": {},
     "output_type": "execute_result"
    }
   ],
   "source": [
    "# List the words.\n",
    "review.words"
   ]
  },
  {
   "cell_type": "code",
   "execution_count": 32,
   "metadata": {
    "slideshow": {
     "slide_type": "slide"
    }
   },
   "outputs": [
    {
     "data": {
      "text/plain": [
       "[Sentence(\"My wife took me here on my birthday for breakfast and it was excellent.\"),\n",
       " Sentence(\"The weather was perfect which made sitting outside overlooking their grounds an absolute pleasure.\"),\n",
       " Sentence(\"Our waitress was excellent and our food arrived quickly on the semi-busy Saturday morning.\"),\n",
       " Sentence(\"It looked like the place fills up pretty quickly so the earlier you get here the better.\"),\n",
       " Sentence(\"Do yourself a favor and get their Bloody Mary.\"),\n",
       " Sentence(\"It was phenomenal and simply the best I've ever had.\"),\n",
       " Sentence(\"I'm pretty sure they only use ingredients from their garden and blend them fresh when you order it.\"),\n",
       " Sentence(\"It was amazing.\"),\n",
       " Sentence(\"While EVERYTHING on the menu looks excellent, I had the white truffle scrambled eggs vegetable skillet and it was tasty and delicious.\"),\n",
       " Sentence(\"It came with 2 pieces of their griddled bread with was amazing and it absolutely made the meal complete.\"),\n",
       " Sentence(\"It was the best \"toast\" I've ever had.\"),\n",
       " Sentence(\"Anyway, I can't wait to go back!\")]"
      ]
     },
     "execution_count": 32,
     "metadata": {},
     "output_type": "execute_result"
    }
   ],
   "source": [
    "# List the sentences.\n",
    "review.sentences"
   ]
  },
  {
   "cell_type": "code",
   "execution_count": 33,
   "metadata": {
    "slideshow": {
     "slide_type": "slide"
    }
   },
   "outputs": [
    {
     "data": {
      "text/plain": [
       "TextBlob(\"my wife took me here on my birthday for breakfast and it was excellent.  the weather was perfect which made sitting outside overlooking their grounds an absolute pleasure.  our waitress was excellent and our food arrived quickly on the semi-busy saturday morning.  it looked like the place fills up pretty quickly so the earlier you get here the better.\n",
       "\n",
       "do yourself a favor and get their bloody mary.  it was phenomenal and simply the best i've ever had.  i'm pretty sure they only use ingredients from their garden and blend them fresh when you order it.  it was amazing.\n",
       "\n",
       "while everything on the menu looks excellent, i had the white truffle scrambled eggs vegetable skillet and it was tasty and delicious.  it came with 2 pieces of their griddled bread with was amazing and it absolutely made the meal complete.  it was the best \"toast\" i've ever had.\n",
       "\n",
       "anyway, i can't wait to go back!\")"
      ]
     },
     "execution_count": 33,
     "metadata": {},
     "output_type": "execute_result"
    }
   ],
   "source": [
    "# Some string methods are available.\n",
    "review.lower()"
   ]
  },
  {
   "cell_type": "markdown",
   "metadata": {
    "slideshow": {
     "slide_type": "slide"
    }
   },
   "source": [
    "<a id='stem'></a>\n",
    "## Stemming and Lemmatization\n",
    "\n",
    "Stemming is a crude process of removing common endings from sentences, such as \"s\", \"es\", \"ly\", \"ing\", and \"ed\".\n",
    "\n",
    "- **What:** Reduce a word to its base/stem/root form.\n",
    "- **Why:** This intelligently reduces the number of features by grouping together (hopefully) related words.\n",
    "- **Notes:**\n",
    "    - Stemming uses a simple and fast rule-based approach.\n",
    "    - Stemmed words are usually not shown to users (used for analysis/indexing).\n",
    "    - Some search engines treat words with the same stem as synonyms."
   ]
  },
  {
   "cell_type": "code",
   "execution_count": 34,
   "metadata": {
    "slideshow": {
     "slide_type": "slide"
    }
   },
   "outputs": [
    {
     "name": "stdout",
     "output_type": "stream",
     "text": [
      "['my', 'wife', 'took', 'me', 'here', 'on', 'my', 'birthday', 'for', 'breakfast', 'and', 'it', 'was', 'excel', 'the', 'weather', 'was', 'perfect', 'which', 'made', 'sit', 'outsid', 'overlook', 'their', 'ground', 'an', 'absolut', 'pleasur', 'our', 'waitress', 'was', 'excel', 'and', 'our', 'food', 'arriv', 'quick', 'on', 'the', 'semi-busi', 'saturday', 'morn', 'it', 'look', 'like', 'the', 'place', 'fill', 'up', 'pretti', 'quick', 'so', 'the', 'earlier', 'you', 'get', 'here', 'the', 'better', 'do', 'yourself', 'a', 'favor', 'and', 'get', 'their', 'bloodi', 'mari', 'it', 'was', 'phenomen', 'and', 'simpli', 'the', 'best', 'i', 've', 'ever', 'had', 'i', \"'m\", 'pretti', 'sure', 'they', 'onli', 'use', 'ingredi', 'from', 'their', 'garden', 'and', 'blend', 'them', 'fresh', 'when', 'you', 'order', 'it', 'it', 'was', 'amaz', 'while', 'everyth', 'on', 'the', 'menu', 'look', 'excel', 'i', 'had', 'the', 'white', 'truffl', 'scrambl', 'egg', 'veget', 'skillet', 'and', 'it', 'was', 'tasti', 'and', 'delici', 'it', 'came', 'with', '2', 'piec', 'of', 'their', 'griddl', 'bread', 'with', 'was', 'amaz', 'and', 'it', 'absolut', 'made', 'the', 'meal', 'complet', 'it', 'was', 'the', 'best', 'toast', 'i', 've', 'ever', 'had', 'anyway', 'i', 'ca', \"n't\", 'wait', 'to', 'go', 'back']\n"
     ]
    }
   ],
   "source": [
    "# Initialize stemmer.\n",
    "stemmer = SnowballStemmer('english')\n",
    "\n",
    "# Stem each word.\n",
    "print([stemmer.stem(word) for word in review.words])"
   ]
  },
  {
   "cell_type": "markdown",
   "metadata": {
    "slideshow": {
     "slide_type": "slide"
    }
   },
   "source": [
    "Some examples you can see are \"excellent\" stemmed to \"excel\" and \"amazing\" stemmed to \"amaz\"."
   ]
  },
  {
   "cell_type": "markdown",
   "metadata": {
    "slideshow": {
     "slide_type": "slide"
    }
   },
   "source": [
    "Lemmatization is a more refined process that uses specific language and grammar rules to derive the root of a word.  \n",
    "\n",
    "This is useful for words that do not share an obvious root such as \"better\" and \"best\".\n",
    "\n",
    "- **What:** Lemmatization derives the canonical form (\"lemma\") of a word.\n",
    "- **Why:** It can be better than stemming.\n",
    "- **Notes:** Uses a dictionary-based approach (slower than stemming)."
   ]
  },
  {
   "cell_type": "code",
   "execution_count": 35,
   "metadata": {
    "slideshow": {
     "slide_type": "slide"
    }
   },
   "outputs": [
    {
     "name": "stdout",
     "output_type": "stream",
     "text": [
      "['My', 'wife', 'took', 'me', 'here', 'on', 'my', 'birthday', 'for', 'breakfast', 'and', 'it', 'wa', 'excellent', 'The', 'weather', 'wa', 'perfect', 'which', 'made', 'sitting', 'outside', 'overlooking', 'their', 'ground', 'an', 'absolute', 'pleasure', 'Our', 'waitress', 'wa', 'excellent', 'and', 'our', 'food', 'arrived', 'quickly', 'on', 'the', 'semi-busy', 'Saturday', 'morning', 'It', 'looked', 'like', 'the', 'place', 'fill', 'up', 'pretty', 'quickly', 'so', 'the', 'earlier', 'you', 'get', 'here', 'the', 'better', 'Do', 'yourself', 'a', 'favor', 'and', 'get', 'their', 'Bloody', 'Mary', 'It', 'wa', 'phenomenal', 'and', 'simply', 'the', 'best', 'I', \"'ve\", 'ever', 'had', 'I', \"'m\", 'pretty', 'sure', 'they', 'only', 'use', 'ingredient', 'from', 'their', 'garden', 'and', 'blend', 'them', 'fresh', 'when', 'you', 'order', 'it', 'It', 'wa', 'amazing', 'While', 'EVERYTHING', 'on', 'the', 'menu', 'look', 'excellent', 'I', 'had', 'the', 'white', 'truffle', 'scrambled', 'egg', 'vegetable', 'skillet', 'and', 'it', 'wa', 'tasty', 'and', 'delicious', 'It', 'came', 'with', '2', 'piece', 'of', 'their', 'griddled', 'bread', 'with', 'wa', 'amazing', 'and', 'it', 'absolutely', 'made', 'the', 'meal', 'complete', 'It', 'wa', 'the', 'best', 'toast', 'I', \"'ve\", 'ever', 'had', 'Anyway', 'I', 'ca', \"n't\", 'wait', 'to', 'go', 'back']\n"
     ]
    }
   ],
   "source": [
    "# Assume every word is a noun.\n",
    "print([word.lemmatize() for word in review.words])"
   ]
  },
  {
   "cell_type": "markdown",
   "metadata": {
    "slideshow": {
     "slide_type": "slide"
    }
   },
   "source": [
    "Some examples you can see are \"filled\" lemmatized to \"fill\" and \"was\" lemmatized to \"wa\".\n"
   ]
  },
  {
   "cell_type": "code",
   "execution_count": 36,
   "metadata": {
    "slideshow": {
     "slide_type": "slide"
    }
   },
   "outputs": [
    {
     "name": "stdout",
     "output_type": "stream",
     "text": [
      "['My', 'wife', 'take', 'me', 'here', 'on', 'my', 'birthday', 'for', 'breakfast', 'and', 'it', 'be', 'excellent', 'The', 'weather', 'be', 'perfect', 'which', 'make', 'sit', 'outside', 'overlook', 'their', 'ground', 'an', 'absolute', 'pleasure', 'Our', 'waitress', 'be', 'excellent', 'and', 'our', 'food', 'arrive', 'quickly', 'on', 'the', 'semi-busy', 'Saturday', 'morning', 'It', 'look', 'like', 'the', 'place', 'fill', 'up', 'pretty', 'quickly', 'so', 'the', 'earlier', 'you', 'get', 'here', 'the', 'better', 'Do', 'yourself', 'a', 'favor', 'and', 'get', 'their', 'Bloody', 'Mary', 'It', 'be', 'phenomenal', 'and', 'simply', 'the', 'best', 'I', \"'ve\", 'ever', 'have', 'I', \"'m\", 'pretty', 'sure', 'they', 'only', 'use', 'ingredients', 'from', 'their', 'garden', 'and', 'blend', 'them', 'fresh', 'when', 'you', 'order', 'it', 'It', 'be', 'amaze', 'While', 'EVERYTHING', 'on', 'the', 'menu', 'look', 'excellent', 'I', 'have', 'the', 'white', 'truffle', 'scramble', 'egg', 'vegetable', 'skillet', 'and', 'it', 'be', 'tasty', 'and', 'delicious', 'It', 'come', 'with', '2', 'piece', 'of', 'their', 'griddle', 'bread', 'with', 'be', 'amaze', 'and', 'it', 'absolutely', 'make', 'the', 'meal', 'complete', 'It', 'be', 'the', 'best', 'toast', 'I', \"'ve\", 'ever', 'have', 'Anyway', 'I', 'ca', \"n't\", 'wait', 'to', 'go', 'back']\n"
     ]
    }
   ],
   "source": [
    "# Assume every word is a verb.\n",
    "print([word.lemmatize(pos='v') for word in review.words])"
   ]
  },
  {
   "cell_type": "markdown",
   "metadata": {
    "slideshow": {
     "slide_type": "slide"
    }
   },
   "source": [
    "Some examples you can see are \"was\" lemmatized to \"be\" and \"arrived\" lemmatized to \"arrive\"."
   ]
  },
  {
   "cell_type": "markdown",
   "metadata": {
    "slideshow": {
     "slide_type": "slide"
    }
   },
   "source": [
    "**More Lemmatization and Stemming Examples**\n",
    "\n",
    "|Lemmatization|Stemming|\n",
    "|-------------|---------|\n",
    "|shouted → shout|badly → bad|\n",
    "|best → good|computing → comput|\n",
    "|better → good|computed → comput|\n",
    "|good → good|wipes → wip|\n",
    "|wiping → wipe|wiped → wip|\n",
    "|hidden → hide|wiping → wip|"
   ]
  },
  {
   "cell_type": "code",
   "execution_count": 37,
   "metadata": {
    "slideshow": {
     "slide_type": "slide"
    }
   },
   "outputs": [],
   "source": [
    "# Define a function that accepts text and returns a list of lemmas.\n",
    "def split_into_lemmas(text):\n",
    "    words = TextBlob(text.lower()).words\n",
    "    return [word.lemmatize() for word in words]"
   ]
  },
  {
   "cell_type": "code",
   "execution_count": 38,
   "metadata": {
    "slideshow": {
     "slide_type": "slide"
    }
   },
   "outputs": [
    {
     "name": "stdout",
     "output_type": "stream",
     "text": [
      "('Features: ', 16452)\n",
      "('Accuracy: ', 0.9207436399217221)\n"
     ]
    }
   ],
   "source": [
    "# Use split_into_lemmas as the feature extraction function (Warning: SLOW!).\n",
    "vect = CountVectorizer(analyzer=split_into_lemmas, decode_error='replace')\n",
    "tokenize_test(vect)"
   ]
  },
  {
   "cell_type": "code",
   "execution_count": 39,
   "metadata": {
    "slideshow": {
     "slide_type": "slide"
    }
   },
   "outputs": [
    {
     "name": "stdout",
     "output_type": "stream",
     "text": [
      "['yuyuyummy', 'yuzu', 'z', 'z-grill', 'z11', 'zach', 'zam', 'zanella', 'zankou', 'zappos', 'zatsiki', 'zen', 'zen-like', 'zero', 'zero-star', 'zest', 'zexperience', 'zha', 'zhou', 'zia', 'zilch', 'zin', 'zinburger', 'zinburgergeist', 'zinc', 'zinfandel', 'zing', 'zip', 'zipcar', 'zipper', 'zipps', 'ziti', 'zoe', 'zombi', 'zombie', 'zone', 'zoning', 'zoo', 'zoyo', 'zucca', 'zucchini', 'zuchinni', 'zumba', 'zupa', 'zuzu', 'zwiebel-kräuter', 'zzed', 'éclairs', 'école', 'ém']\n"
     ]
    }
   ],
   "source": [
    "# Last 50 features\n",
    "print((vect.get_feature_names()[-50:]))"
   ]
  },
  {
   "cell_type": "markdown",
   "metadata": {
    "slideshow": {
     "slide_type": "slide"
    }
   },
   "source": [
    "With all the available options for `CountVectorizer()`, you may wonder how to decide which to use! It's true that you can sometimes reason about which preprocessing techniques might work best. However, you will often not know for sure without trying out many different combinations and comparing their accuracies. \n",
    "\n",
    "> Keep in mind that you should constantly be thinking about the result of each preprocessing step instead of blindly trying them without thinking. Does each type of preprocessing \"makes sense\" with the input data you are using? Is it likely to keep intact the signal and remove noise?"
   ]
  },
  {
   "cell_type": "markdown",
   "metadata": {
    "slideshow": {
     "slide_type": "slide"
    }
   },
   "source": [
    "<a id='tfidf'></a>\n",
    "## Term Frequency–Inverse Document Frequency (TF–IDF)\n",
    "\n",
    "While a Count Vectorizer simply totals up the number of times a \"word\" appears in a document, the more complex TF-IDF Vectorizer analyzes the uniqueness of words between documents to find distinguishing characteristics. \n",
    "     \n",
    "- **What:** Term frequency–inverse document frequency (TF–IDF) computes the \"relative frequency\" with which a word appears in a document, compared to its frequency across all documents.\n",
    "- **Why:** It's more useful than \"term frequency\" for identifying \"important\" words in each document (high frequency in that document, low frequency in other documents).\n",
    "- **Notes:** It's used for search-engine scoring, text summarization, and document clustering."
   ]
  },
  {
   "cell_type": "code",
   "execution_count": 40,
   "metadata": {
    "slideshow": {
     "slide_type": "slide"
    }
   },
   "outputs": [],
   "source": [
    "# Example documents\n",
    "simple_train = ['call you tonight', 'Call me a cab', 'please call me... PLEASE!']"
   ]
  },
  {
   "cell_type": "code",
   "execution_count": 41,
   "metadata": {
    "slideshow": {
     "slide_type": "slide"
    }
   },
   "outputs": [
    {
     "data": {
      "text/html": [
       "<div>\n",
       "<style scoped>\n",
       "    .dataframe tbody tr th:only-of-type {\n",
       "        vertical-align: middle;\n",
       "    }\n",
       "\n",
       "    .dataframe tbody tr th {\n",
       "        vertical-align: top;\n",
       "    }\n",
       "\n",
       "    .dataframe thead th {\n",
       "        text-align: right;\n",
       "    }\n",
       "</style>\n",
       "<table border=\"1\" class=\"dataframe\">\n",
       "  <thead>\n",
       "    <tr style=\"text-align: right;\">\n",
       "      <th></th>\n",
       "      <th>cab</th>\n",
       "      <th>call</th>\n",
       "      <th>me</th>\n",
       "      <th>please</th>\n",
       "      <th>tonight</th>\n",
       "      <th>you</th>\n",
       "    </tr>\n",
       "  </thead>\n",
       "  <tbody>\n",
       "    <tr>\n",
       "      <th>0</th>\n",
       "      <td>0</td>\n",
       "      <td>1</td>\n",
       "      <td>0</td>\n",
       "      <td>0</td>\n",
       "      <td>1</td>\n",
       "      <td>1</td>\n",
       "    </tr>\n",
       "    <tr>\n",
       "      <th>1</th>\n",
       "      <td>1</td>\n",
       "      <td>1</td>\n",
       "      <td>1</td>\n",
       "      <td>0</td>\n",
       "      <td>0</td>\n",
       "      <td>0</td>\n",
       "    </tr>\n",
       "    <tr>\n",
       "      <th>2</th>\n",
       "      <td>0</td>\n",
       "      <td>1</td>\n",
       "      <td>1</td>\n",
       "      <td>2</td>\n",
       "      <td>0</td>\n",
       "      <td>0</td>\n",
       "    </tr>\n",
       "  </tbody>\n",
       "</table>\n",
       "</div>"
      ],
      "text/plain": [
       "   cab  call  me  please  tonight  you\n",
       "0    0     1   0       0        1    1\n",
       "1    1     1   1       0        0    0\n",
       "2    0     1   1       2        0    0"
      ]
     },
     "execution_count": 41,
     "metadata": {},
     "output_type": "execute_result"
    }
   ],
   "source": [
    "# Term frequency\n",
    "vect = CountVectorizer()\n",
    "tf = pd.DataFrame(vect.fit_transform(simple_train).toarray(), columns=vect.get_feature_names())\n",
    "tf"
   ]
  },
  {
   "cell_type": "code",
   "execution_count": 42,
   "metadata": {
    "slideshow": {
     "slide_type": "slide"
    }
   },
   "outputs": [
    {
     "data": {
      "text/html": [
       "<div>\n",
       "<style scoped>\n",
       "    .dataframe tbody tr th:only-of-type {\n",
       "        vertical-align: middle;\n",
       "    }\n",
       "\n",
       "    .dataframe tbody tr th {\n",
       "        vertical-align: top;\n",
       "    }\n",
       "\n",
       "    .dataframe thead th {\n",
       "        text-align: right;\n",
       "    }\n",
       "</style>\n",
       "<table border=\"1\" class=\"dataframe\">\n",
       "  <thead>\n",
       "    <tr style=\"text-align: right;\">\n",
       "      <th></th>\n",
       "      <th>cab</th>\n",
       "      <th>call</th>\n",
       "      <th>me</th>\n",
       "      <th>please</th>\n",
       "      <th>tonight</th>\n",
       "      <th>you</th>\n",
       "    </tr>\n",
       "  </thead>\n",
       "  <tbody>\n",
       "    <tr>\n",
       "      <th>0</th>\n",
       "      <td>1</td>\n",
       "      <td>3</td>\n",
       "      <td>2</td>\n",
       "      <td>1</td>\n",
       "      <td>1</td>\n",
       "      <td>1</td>\n",
       "    </tr>\n",
       "  </tbody>\n",
       "</table>\n",
       "</div>"
      ],
      "text/plain": [
       "   cab  call  me  please  tonight  you\n",
       "0    1     3   2       1        1    1"
      ]
     },
     "execution_count": 42,
     "metadata": {},
     "output_type": "execute_result"
    }
   ],
   "source": [
    "# Document frequency\n",
    "vect = CountVectorizer(binary=True)\n",
    "df = vect.fit_transform(simple_train).toarray().sum(axis=0)\n",
    "pd.DataFrame(df.reshape(1, 6), columns=vect.get_feature_names())"
   ]
  },
  {
   "cell_type": "code",
   "execution_count": 43,
   "metadata": {
    "slideshow": {
     "slide_type": "slide"
    }
   },
   "outputs": [
    {
     "data": {
      "text/html": [
       "<div>\n",
       "<style scoped>\n",
       "    .dataframe tbody tr th:only-of-type {\n",
       "        vertical-align: middle;\n",
       "    }\n",
       "\n",
       "    .dataframe tbody tr th {\n",
       "        vertical-align: top;\n",
       "    }\n",
       "\n",
       "    .dataframe thead th {\n",
       "        text-align: right;\n",
       "    }\n",
       "</style>\n",
       "<table border=\"1\" class=\"dataframe\">\n",
       "  <thead>\n",
       "    <tr style=\"text-align: right;\">\n",
       "      <th></th>\n",
       "      <th>cab</th>\n",
       "      <th>call</th>\n",
       "      <th>me</th>\n",
       "      <th>please</th>\n",
       "      <th>tonight</th>\n",
       "      <th>you</th>\n",
       "    </tr>\n",
       "  </thead>\n",
       "  <tbody>\n",
       "    <tr>\n",
       "      <th>0</th>\n",
       "      <td>0.0</td>\n",
       "      <td>0.333333</td>\n",
       "      <td>0.0</td>\n",
       "      <td>0.0</td>\n",
       "      <td>1.0</td>\n",
       "      <td>1.0</td>\n",
       "    </tr>\n",
       "    <tr>\n",
       "      <th>1</th>\n",
       "      <td>1.0</td>\n",
       "      <td>0.333333</td>\n",
       "      <td>0.5</td>\n",
       "      <td>0.0</td>\n",
       "      <td>0.0</td>\n",
       "      <td>0.0</td>\n",
       "    </tr>\n",
       "    <tr>\n",
       "      <th>2</th>\n",
       "      <td>0.0</td>\n",
       "      <td>0.333333</td>\n",
       "      <td>0.5</td>\n",
       "      <td>2.0</td>\n",
       "      <td>0.0</td>\n",
       "      <td>0.0</td>\n",
       "    </tr>\n",
       "  </tbody>\n",
       "</table>\n",
       "</div>"
      ],
      "text/plain": [
       "   cab      call   me  please  tonight  you\n",
       "0  0.0  0.333333  0.0     0.0      1.0  1.0\n",
       "1  1.0  0.333333  0.5     0.0      0.0  0.0\n",
       "2  0.0  0.333333  0.5     2.0      0.0  0.0"
      ]
     },
     "execution_count": 43,
     "metadata": {},
     "output_type": "execute_result"
    }
   ],
   "source": [
    "# Term frequency–inverse document frequency (simple version)\n",
    "tf/df"
   ]
  },
  {
   "cell_type": "markdown",
   "metadata": {
    "slideshow": {
     "slide_type": "slide"
    }
   },
   "source": [
    "The higher the TF–IDF value, the more \"important\" the word is to that specific document. Here, \"cab\" is the most important and unique word in document 1, while \"please\" is the most important and unique word in document 2. TF–IDF is often used for training as a replacement for word count."
   ]
  },
  {
   "cell_type": "code",
   "execution_count": 74,
   "metadata": {
    "slideshow": {
     "slide_type": "slide"
    }
   },
   "outputs": [
    {
     "data": {
      "text/html": [
       "<div>\n",
       "<style scoped>\n",
       "    .dataframe tbody tr th:only-of-type {\n",
       "        vertical-align: middle;\n",
       "    }\n",
       "\n",
       "    .dataframe tbody tr th {\n",
       "        vertical-align: top;\n",
       "    }\n",
       "\n",
       "    .dataframe thead th {\n",
       "        text-align: right;\n",
       "    }\n",
       "</style>\n",
       "<table border=\"1\" class=\"dataframe\">\n",
       "  <thead>\n",
       "    <tr style=\"text-align: right;\">\n",
       "      <th></th>\n",
       "      <th>cab</th>\n",
       "      <th>call</th>\n",
       "      <th>me</th>\n",
       "      <th>please</th>\n",
       "      <th>tonight</th>\n",
       "      <th>you</th>\n",
       "    </tr>\n",
       "  </thead>\n",
       "  <tbody>\n",
       "    <tr>\n",
       "      <th>0</th>\n",
       "      <td>0.000000</td>\n",
       "      <td>0.385372</td>\n",
       "      <td>0.000000</td>\n",
       "      <td>0.000000</td>\n",
       "      <td>0.652491</td>\n",
       "      <td>0.652491</td>\n",
       "    </tr>\n",
       "    <tr>\n",
       "      <th>1</th>\n",
       "      <td>0.720333</td>\n",
       "      <td>0.425441</td>\n",
       "      <td>0.547832</td>\n",
       "      <td>0.000000</td>\n",
       "      <td>0.000000</td>\n",
       "      <td>0.000000</td>\n",
       "    </tr>\n",
       "    <tr>\n",
       "      <th>2</th>\n",
       "      <td>0.000000</td>\n",
       "      <td>0.266075</td>\n",
       "      <td>0.342620</td>\n",
       "      <td>0.901008</td>\n",
       "      <td>0.000000</td>\n",
       "      <td>0.000000</td>\n",
       "    </tr>\n",
       "  </tbody>\n",
       "</table>\n",
       "</div>"
      ],
      "text/plain": [
       "        cab      call        me    please   tonight       you\n",
       "0  0.000000  0.385372  0.000000  0.000000  0.652491  0.652491\n",
       "1  0.720333  0.425441  0.547832  0.000000  0.000000  0.000000\n",
       "2  0.000000  0.266075  0.342620  0.901008  0.000000  0.000000"
      ]
     },
     "execution_count": 74,
     "metadata": {},
     "output_type": "execute_result"
    }
   ],
   "source": [
    "# TfidfVectorizer (uses smoothing hence values different)\n",
    "vect = TfidfVectorizer()\n",
    "pd.DataFrame(vect.fit_transform(simple_train).toarray(), columns=vect.get_feature_names())"
   ]
  },
  {
   "cell_type": "markdown",
   "metadata": {
    "slideshow": {
     "slide_type": "slide"
    }
   },
   "source": [
    "**More details:** [TF–IDF is about what matters](http://planspace.org/20150524-tfidf_is_about_what_matters/)"
   ]
  },
  {
   "cell_type": "markdown",
   "metadata": {
    "slideshow": {
     "slide_type": "slide"
    }
   },
   "source": [
    "<a id='yelp_tfidf'></a>\n",
    "## Using TF–IDF to Summarize a Yelp Review\n",
    "\n",
    "Reddit's autotldr uses the [SMMRY](http://smmry.com/about) algorithm, which is based on TF–IDF."
   ]
  },
  {
   "cell_type": "code",
   "execution_count": 45,
   "metadata": {
    "slideshow": {
     "slide_type": "slide"
    }
   },
   "outputs": [
    {
     "data": {
      "text/plain": [
       "(10000, 28880)"
      ]
     },
     "execution_count": 45,
     "metadata": {},
     "output_type": "execute_result"
    }
   ],
   "source": [
    "# Create a document-term matrix using TF–IDF.\n",
    "vect = TfidfVectorizer(stop_words='english')\n",
    "\n",
    "# Fit transform Yelp data.\n",
    "dtm = vect.fit_transform(yelp.text)\n",
    "features = vect.get_feature_names()\n",
    "dtm.shape"
   ]
  },
  {
   "cell_type": "code",
   "execution_count": 46,
   "metadata": {
    "slideshow": {
     "slide_type": "slide"
    }
   },
   "outputs": [],
   "source": [
    "def summarize():\n",
    "    # Choose a random review that is at least 300 characters.\n",
    "    review_length = 0\n",
    "    while review_length < 300:\n",
    "        review_id = np.random.randint(0, len(yelp))\n",
    "        review_text = yelp.text[review_id]\n",
    "        #review_text = unicode(yelp.text[review_id], 'utf-8')\n",
    "        review_length = len(review_text)\n",
    "    \n",
    "    # Create a dictionary of words and their TF–IDF scores.\n",
    "    word_scores = {}\n",
    "    for word in TextBlob(review_text).words:\n",
    "        word = word.lower()\n",
    "        if word in features:\n",
    "            word_scores[word] = dtm[review_id, features.index(word)]\n",
    "    \n",
    "    # Print words with the top five TF–IDF scores.\n",
    "    print('TOP SCORING WORDS:')\n",
    "    top_scores = sorted(list(word_scores.items()), key=lambda x: x[1], reverse=True)[:5]\n",
    "    for word, score in top_scores:\n",
    "        print(word)\n",
    "    \n",
    "    # Print five random words.\n",
    "    print(('\\n' + 'RANDOM WORDS:'))\n",
    "    random_words = np.random.choice(list(word_scores.keys()), size=5, replace=False)\n",
    "    for word in random_words:\n",
    "        print(word)\n",
    "    \n",
    "    # Print the review.\n",
    "    print(('\\n' + review_text))"
   ]
  },
  {
   "cell_type": "code",
   "execution_count": 47,
   "metadata": {
    "slideshow": {
     "slide_type": "slide"
    }
   },
   "outputs": [
    {
     "name": "stdout",
     "output_type": "stream",
     "text": [
      "TOP SCORING WORDS:\n",
      "lobster\n",
      "tamale\n",
      "margarita\n",
      "chimmichunga\n",
      "burden\n",
      "\n",
      "RANDOM WORDS:\n",
      "thought\n",
      "snow\n",
      "dish\n",
      "bother\n",
      "night\n",
      "\n",
      "I rarely disagree with the average yelp ratings... I tried Blue Adobe based on great reviews but was greatly disappointed.\n",
      "\n",
      "I really can't find a redeeming quality about the night... I had their \"killer margarita\" which is a cheaper house margarita, it was lousy, i was a bartender for some time myself, there is no reason to make a margarita that bad, you can do better, especially here in AZ we are a mecca of citrus!\n",
      "\n",
      "The bean and cheese dip appetizer was uninspired, nothing special... I saw lobster tamales on the menu and couldn't get past them, i could not think of a way that someone could make a tamale with lobster and make it well, so i was really excited to see how they do it... poorly was how they did it, lobster was over cooked there was very little of it in the tamale and the biggest issue was exactly what i thought it would be, the corn masa just overpowered the little lobster that was in the tamale... they could have put imitation crab in there and saved them self a bunch of money and it would taste the same... it just doesn't work! There was a raspberry chipotle sauce on the side that was very good, but again this too took away from the whole point of the dish: the lobster.  \n",
      "\n",
      "tried a chimmichunga, whatever, not special.  \n",
      "\n",
      "service was no good, our waitress was very frantic, I felt like i was a burden or a bother to her (and no, I'm not. I've spent years in food service, makes you very kind to your server)\n",
      "\n",
      "It seems like snow birds keep this place in business, the restaurant was full of them... they must forget what their experience was like over the summers...\n"
     ]
    }
   ],
   "source": [
    "summarize()"
   ]
  },
  {
   "cell_type": "markdown",
   "metadata": {
    "slideshow": {
     "slide_type": "slide"
    }
   },
   "source": [
    "<a id='sentiment'></a>\n",
    "## Sentiment Analysis\n",
    "\n",
    "Understanding how positive or negative a review is. There are many ways in practice to compute a sentiment value. For example:\n",
    "\n",
    "- Have a list of \"positive\" words and a list of \"negative\" words and count how many occur in a document. \n",
    "- Train a classifier given many examples of \"positive\" documents and \"negative\" documents. \n",
    "    - Note that this technique is often just an automated way to derive the first (e.g., using bag-of-words with logistic regression, a coefficient is assigned to each word!).\n",
    "\n",
    "For the most accurate sentiment analysis, you will want to train a custom sentiment model based on documents that are particular to your application. Generic models (such as the one we are about to use!) often do not work as well as hoped.\n",
    "\n",
    "As we will do below, always make sure you double-check that the algorithm is working by manually verifying that scores correctly correspond to positive/negative reviews! Otherwise, you may be using numbers that are not accurate."
   ]
  },
  {
   "cell_type": "code",
   "execution_count": 48,
   "metadata": {
    "slideshow": {
     "slide_type": "slide"
    }
   },
   "outputs": [
    {
     "name": "stdout",
     "output_type": "stream",
     "text": [
      "My wife took me here on my birthday for breakfast and it was excellent.  The weather was perfect which made sitting outside overlooking their grounds an absolute pleasure.  Our waitress was excellent and our food arrived quickly on the semi-busy Saturday morning.  It looked like the place fills up pretty quickly so the earlier you get here the better.\n",
      "\n",
      "Do yourself a favor and get their Bloody Mary.  It was phenomenal and simply the best I've ever had.  I'm pretty sure they only use ingredients from their garden and blend them fresh when you order it.  It was amazing.\n",
      "\n",
      "While EVERYTHING on the menu looks excellent, I had the white truffle scrambled eggs vegetable skillet and it was tasty and delicious.  It came with 2 pieces of their griddled bread with was amazing and it absolutely made the meal complete.  It was the best \"toast\" I've ever had.\n",
      "\n",
      "Anyway, I can't wait to go back!\n"
     ]
    }
   ],
   "source": [
    "print(review)"
   ]
  },
  {
   "cell_type": "code",
   "execution_count": 49,
   "metadata": {
    "slideshow": {
     "slide_type": "slide"
    }
   },
   "outputs": [
    {
     "data": {
      "text/plain": [
       "0.40246913580246907"
      ]
     },
     "execution_count": 49,
     "metadata": {},
     "output_type": "execute_result"
    }
   ],
   "source": [
    "# Polarity ranges from -1 (most negative) to 1 (most positive).\n",
    "review.sentiment.polarity"
   ]
  },
  {
   "cell_type": "code",
   "execution_count": 50,
   "metadata": {
    "slideshow": {
     "slide_type": "slide"
    }
   },
   "outputs": [
    {
     "data": {
      "text/html": [
       "<div>\n",
       "<style scoped>\n",
       "    .dataframe tbody tr th:only-of-type {\n",
       "        vertical-align: middle;\n",
       "    }\n",
       "\n",
       "    .dataframe tbody tr th {\n",
       "        vertical-align: top;\n",
       "    }\n",
       "\n",
       "    .dataframe thead th {\n",
       "        text-align: right;\n",
       "    }\n",
       "</style>\n",
       "<table border=\"1\" class=\"dataframe\">\n",
       "  <thead>\n",
       "    <tr style=\"text-align: right;\">\n",
       "      <th></th>\n",
       "      <th>business_id</th>\n",
       "      <th>date</th>\n",
       "      <th>review_id</th>\n",
       "      <th>stars</th>\n",
       "      <th>text</th>\n",
       "      <th>type</th>\n",
       "      <th>user_id</th>\n",
       "      <th>cool</th>\n",
       "      <th>useful</th>\n",
       "      <th>funny</th>\n",
       "      <th>length</th>\n",
       "    </tr>\n",
       "  </thead>\n",
       "  <tbody>\n",
       "    <tr>\n",
       "      <th>0</th>\n",
       "      <td>9yKzy9PApeiPPOUJEtnvkg</td>\n",
       "      <td>2011-01-26</td>\n",
       "      <td>fWKvX83p0-ka4JS3dc6E5A</td>\n",
       "      <td>5</td>\n",
       "      <td>My wife took me here on my birthday for breakf...</td>\n",
       "      <td>review</td>\n",
       "      <td>rLtl8ZkDX5vH5nAx9C3q5Q</td>\n",
       "      <td>2</td>\n",
       "      <td>5</td>\n",
       "      <td>0</td>\n",
       "      <td>889</td>\n",
       "    </tr>\n",
       "  </tbody>\n",
       "</table>\n",
       "</div>"
      ],
      "text/plain": [
       "              business_id        date               review_id  stars  \\\n",
       "0  9yKzy9PApeiPPOUJEtnvkg  2011-01-26  fWKvX83p0-ka4JS3dc6E5A      5   \n",
       "\n",
       "                                                text    type  \\\n",
       "0  My wife took me here on my birthday for breakf...  review   \n",
       "\n",
       "                  user_id  cool  useful  funny  length  \n",
       "0  rLtl8ZkDX5vH5nAx9C3q5Q     2       5      0     889  "
      ]
     },
     "execution_count": 50,
     "metadata": {},
     "output_type": "execute_result"
    }
   ],
   "source": [
    "# Understanding the apply method\n",
    "yelp['length'] = yelp.text.apply(len)\n",
    "yelp.head(1)"
   ]
  },
  {
   "cell_type": "code",
   "execution_count": 51,
   "metadata": {
    "slideshow": {
     "slide_type": "slide"
    }
   },
   "outputs": [],
   "source": [
    "# Define a function that accepts text and returns the polarity.\n",
    "def detect_sentiment(text):\n",
    "    return TextBlob(text).sentiment.polarity"
   ]
  },
  {
   "cell_type": "code",
   "execution_count": 52,
   "metadata": {
    "slideshow": {
     "slide_type": "slide"
    }
   },
   "outputs": [],
   "source": [
    "# Create a new DataFrame column for sentiment (Warning: SLOW!).\n",
    "yelp['sentiment'] = yelp.text.apply(detect_sentiment)"
   ]
  },
  {
   "cell_type": "code",
   "execution_count": 75,
   "metadata": {
    "slideshow": {
     "slide_type": "slide"
    }
   },
   "outputs": [
    {
     "data": {
      "image/png": "[encoded data removed]",
      "text/plain": [
       "<Figure size 432x288 with 1 Axes>"
      ]
     },
     "metadata": {},
     "output_type": "display_data"
    }
   ],
   "source": [
    "# Box plot of sentiment grouped by stars\n",
    "yelp.boxplot(column='sentiment', by='stars');"
   ]
  },
  {
   "cell_type": "code",
   "execution_count": 54,
   "metadata": {
    "slideshow": {
     "slide_type": "slide"
    }
   },
   "outputs": [
    {
     "data": {
      "text/plain": [
       "254    Our server Gary was awesome. Food was amazing....\n",
       "347    3 syllables for this place. \\nA-MAZ-ING!\\n\\nTh...\n",
       "420                                    LOVE the food!!!!\n",
       "459    Love it!!! Wish we still lived in Arizona as C...\n",
       "679                                     Excellent burger\n",
       "Name: text, dtype: object"
      ]
     },
     "execution_count": 54,
     "metadata": {},
     "output_type": "execute_result"
    }
   ],
   "source": [
    "# Reviews with most positive sentiment\n",
    "yelp[yelp.sentiment == 1].text.head()"
   ]
  },
  {
   "cell_type": "code",
   "execution_count": 55,
   "metadata": {
    "slideshow": {
     "slide_type": "slide"
    }
   },
   "outputs": [
    {
     "data": {
      "text/plain": [
       "773     This was absolutely horrible. I got the suprem...\n",
       "1517                  Nasty workers and over priced trash\n",
       "3266    Absolutely awful... these guys have NO idea wh...\n",
       "4766                                       Very bad food!\n",
       "5812        I wouldn't send my worst enemy to this place.\n",
       "Name: text, dtype: object"
      ]
     },
     "execution_count": 55,
     "metadata": {},
     "output_type": "execute_result"
    }
   ],
   "source": [
    "# Reviews with most negative sentiment\n",
    "yelp[yelp.sentiment == -1].text.head()"
   ]
  },
  {
   "cell_type": "code",
   "execution_count": 56,
   "metadata": {
    "slideshow": {
     "slide_type": "slide"
    }
   },
   "outputs": [],
   "source": [
    "# Widen the column display.\n",
    "pd.set_option('max_colwidth', 500)"
   ]
  },
  {
   "cell_type": "code",
   "execution_count": 57,
   "metadata": {
    "slideshow": {
     "slide_type": "slide"
    }
   },
   "outputs": [
    {
     "data": {
      "text/html": [
       "<div>\n",
       "<style scoped>\n",
       "    .dataframe tbody tr th:only-of-type {\n",
       "        vertical-align: middle;\n",
       "    }\n",
       "\n",
       "    .dataframe tbody tr th {\n",
       "        vertical-align: top;\n",
       "    }\n",
       "\n",
       "    .dataframe thead th {\n",
       "        text-align: right;\n",
       "    }\n",
       "</style>\n",
       "<table border=\"1\" class=\"dataframe\">\n",
       "  <thead>\n",
       "    <tr style=\"text-align: right;\">\n",
       "      <th></th>\n",
       "      <th>business_id</th>\n",
       "      <th>date</th>\n",
       "      <th>review_id</th>\n",
       "      <th>stars</th>\n",
       "      <th>text</th>\n",
       "      <th>type</th>\n",
       "      <th>user_id</th>\n",
       "      <th>cool</th>\n",
       "      <th>useful</th>\n",
       "      <th>funny</th>\n",
       "      <th>length</th>\n",
       "      <th>sentiment</th>\n",
       "    </tr>\n",
       "  </thead>\n",
       "  <tbody>\n",
       "    <tr>\n",
       "      <th>390</th>\n",
       "      <td>106JT5p8e8Chtd0CZpcARw</td>\n",
       "      <td>2009-08-06</td>\n",
       "      <td>KowGVoP_gygzdSu6Mt3zKQ</td>\n",
       "      <td>5</td>\n",
       "      <td>RIP AZ Coffee Connection.  :(  I stopped by two days ago unaware that they had closed.  I am severely bummed.  This place is irreplaceable!  Damn you, Starbucks and McDonalds!</td>\n",
       "      <td>review</td>\n",
       "      <td>jKeaOrPyJ-dI9SNeVqrbww</td>\n",
       "      <td>1</td>\n",
       "      <td>0</td>\n",
       "      <td>0</td>\n",
       "      <td>175</td>\n",
       "      <td>-0.302083</td>\n",
       "    </tr>\n",
       "  </tbody>\n",
       "</table>\n",
       "</div>"
      ],
      "text/plain": [
       "                business_id        date               review_id  stars  \\\n",
       "390  106JT5p8e8Chtd0CZpcARw  2009-08-06  KowGVoP_gygzdSu6Mt3zKQ      5   \n",
       "\n",
       "                                                                                                                                                                                text  \\\n",
       "390  RIP AZ Coffee Connection.  :(  I stopped by two days ago unaware that they had closed.  I am severely bummed.  This place is irreplaceable!  Damn you, Starbucks and McDonalds!   \n",
       "\n",
       "       type                 user_id  cool  useful  funny  length  sentiment  \n",
       "390  review  jKeaOrPyJ-dI9SNeVqrbww     1       0      0     175  -0.302083  "
      ]
     },
     "execution_count": 57,
     "metadata": {},
     "output_type": "execute_result"
    }
   ],
   "source": [
    "# Negative sentiment in a 5-star review\n",
    "yelp[(yelp.stars == 5) & (yelp.sentiment < -0.3)].head(1)"
   ]
  },
  {
   "cell_type": "code",
   "execution_count": 58,
   "metadata": {
    "slideshow": {
     "slide_type": "slide"
    }
   },
   "outputs": [
    {
     "data": {
      "text/html": [
       "<div>\n",
       "<style scoped>\n",
       "    .dataframe tbody tr th:only-of-type {\n",
       "        vertical-align: middle;\n",
       "    }\n",
       "\n",
       "    .dataframe tbody tr th {\n",
       "        vertical-align: top;\n",
       "    }\n",
       "\n",
       "    .dataframe thead th {\n",
       "        text-align: right;\n",
       "    }\n",
       "</style>\n",
       "<table border=\"1\" class=\"dataframe\">\n",
       "  <thead>\n",
       "    <tr style=\"text-align: right;\">\n",
       "      <th></th>\n",
       "      <th>business_id</th>\n",
       "      <th>date</th>\n",
       "      <th>review_id</th>\n",
       "      <th>stars</th>\n",
       "      <th>text</th>\n",
       "      <th>type</th>\n",
       "      <th>user_id</th>\n",
       "      <th>cool</th>\n",
       "      <th>useful</th>\n",
       "      <th>funny</th>\n",
       "      <th>length</th>\n",
       "      <th>sentiment</th>\n",
       "    </tr>\n",
       "  </thead>\n",
       "  <tbody>\n",
       "    <tr>\n",
       "      <th>1781</th>\n",
       "      <td>53YGfwmbW73JhFiemNeyzQ</td>\n",
       "      <td>2012-06-22</td>\n",
       "      <td>Gi-4O3EhE175vujbFGDIew</td>\n",
       "      <td>1</td>\n",
       "      <td>If you like the stuck up Scottsdale vibe this is a good place for you. The food isn't impressive. Nice outdoor seating.</td>\n",
       "      <td>review</td>\n",
       "      <td>Hqgx3IdJAAaoQjvrUnbNvw</td>\n",
       "      <td>0</td>\n",
       "      <td>1</td>\n",
       "      <td>2</td>\n",
       "      <td>119</td>\n",
       "      <td>0.766667</td>\n",
       "    </tr>\n",
       "  </tbody>\n",
       "</table>\n",
       "</div>"
      ],
      "text/plain": [
       "                 business_id        date               review_id  stars  \\\n",
       "1781  53YGfwmbW73JhFiemNeyzQ  2012-06-22  Gi-4O3EhE175vujbFGDIew      1   \n",
       "\n",
       "                                                                                                                         text  \\\n",
       "1781  If you like the stuck up Scottsdale vibe this is a good place for you. The food isn't impressive. Nice outdoor seating.   \n",
       "\n",
       "        type                 user_id  cool  useful  funny  length  sentiment  \n",
       "1781  review  Hqgx3IdJAAaoQjvrUnbNvw     0       1      2     119   0.766667  "
      ]
     },
     "execution_count": 58,
     "metadata": {},
     "output_type": "execute_result"
    }
   ],
   "source": [
    "# Positive sentiment in a 1-star review\n",
    "yelp[(yelp.stars == 1) & (yelp.sentiment > 0.5)].head(1)"
   ]
  },
  {
   "cell_type": "code",
   "execution_count": 59,
   "metadata": {
    "slideshow": {
     "slide_type": "slide"
    }
   },
   "outputs": [],
   "source": [
    "# Reset the column display width.\n",
    "pd.reset_option('max_colwidth')"
   ]
  },
  {
   "cell_type": "markdown",
   "metadata": {
    "slideshow": {
     "slide_type": "slide"
    }
   },
   "source": [
    "<a id='add_feat'></a>\n",
    "## Bonus: Adding Features to a Document-Term Matrix"
   ]
  },
  {
   "cell_type": "markdown",
   "metadata": {
    "slideshow": {
     "slide_type": "slide"
    }
   },
   "source": [
    "Here, we will add additional features to our `CountVectorizer()`-generated feature set to hopefully improve our model.\n",
    "\n",
    "To make the best models, you will want to supplement the auto-generated features with new features you think might be important. After all, `CountVectorizer()` typically lowercases text and removes all associations between words. Or, you may have metadata to add in addition to just the text.\n",
    "\n",
    "> Remember: Although you may have hundreds of thousands of features, each data point is extremely sparse. So, if you add in a new feature, e.g., one that detects if the text is all capital letters, this new feature can still have a huge effect on the model outcome!"
   ]
  },
  {
   "cell_type": "code",
   "execution_count": 60,
   "metadata": {
    "slideshow": {
     "slide_type": "slide"
    }
   },
   "outputs": [],
   "source": [
    "# Create a DataFrame that only contains the 5-star and 1-star reviews.\n",
    "yelp_best_worst = yelp[(yelp.stars==5) | (yelp.stars==1)]\n",
    "\n",
    "# define X and y\n",
    "feature_cols = ['text', 'sentiment', 'cool', 'useful', 'funny']\n",
    "X = yelp_best_worst[feature_cols]\n",
    "y = yelp_best_worst.stars\n",
    "\n",
    "# split into training and testing sets\n",
    "X_train, X_test, y_train, y_test = train_test_split(X, y, random_state=1)"
   ]
  },
  {
   "cell_type": "code",
   "execution_count": 61,
   "metadata": {
    "slideshow": {
     "slide_type": "slide"
    }
   },
   "outputs": [
    {
     "name": "stdout",
     "output_type": "stream",
     "text": [
      "(3064, 16825)\n",
      "(1022, 16825)\n"
     ]
    }
   ],
   "source": [
    "# Use CountVectorizer with text column only.\n",
    "vect = CountVectorizer()\n",
    "X_train_dtm = vect.fit_transform(X_train.text)\n",
    "X_test_dtm = vect.transform(X_test.text)\n",
    "print((X_train_dtm.shape))\n",
    "print((X_test_dtm.shape))"
   ]
  },
  {
   "cell_type": "code",
   "execution_count": 62,
   "metadata": {
    "slideshow": {
     "slide_type": "slide"
    }
   },
   "outputs": [
    {
     "data": {
      "text/plain": [
       "(3064, 4)"
      ]
     },
     "execution_count": 62,
     "metadata": {},
     "output_type": "execute_result"
    }
   ],
   "source": [
    "# Shape of other four feature columns\n",
    "X_train.drop('text', axis=1).shape"
   ]
  },
  {
   "cell_type": "code",
   "execution_count": 63,
   "metadata": {
    "slideshow": {
     "slide_type": "slide"
    }
   },
   "outputs": [
    {
     "data": {
      "text/plain": [
       "(3064, 4)"
      ]
     },
     "execution_count": 63,
     "metadata": {},
     "output_type": "execute_result"
    }
   ],
   "source": [
    "# Cast other feature columns to float and convert to a sparse matrix.\n",
    "extra = sp.sparse.csr_matrix(X_train.drop('text', axis=1).astype(float))\n",
    "extra.shape"
   ]
  },
  {
   "cell_type": "code",
   "execution_count": 64,
   "metadata": {
    "slideshow": {
     "slide_type": "slide"
    }
   },
   "outputs": [
    {
     "data": {
      "text/plain": [
       "(3064, 16829)"
      ]
     },
     "execution_count": 64,
     "metadata": {},
     "output_type": "execute_result"
    }
   ],
   "source": [
    "# Combine sparse matrices.\n",
    "X_train_dtm_extra = sp.sparse.hstack((X_train_dtm, extra))\n",
    "X_train_dtm_extra.shape"
   ]
  },
  {
   "cell_type": "code",
   "execution_count": 65,
   "metadata": {
    "slideshow": {
     "slide_type": "slide"
    }
   },
   "outputs": [
    {
     "data": {
      "text/plain": [
       "(1022, 16829)"
      ]
     },
     "execution_count": 65,
     "metadata": {},
     "output_type": "execute_result"
    }
   ],
   "source": [
    "# Repeat for testing set.\n",
    "extra = sp.sparse.csr_matrix(X_test.drop('text', axis=1).astype(float))\n",
    "X_test_dtm_extra = sp.sparse.hstack((X_test_dtm, extra))\n",
    "X_test_dtm_extra.shape"
   ]
  },
  {
   "cell_type": "code",
   "execution_count": 66,
   "metadata": {
    "slideshow": {
     "slide_type": "slide"
    }
   },
   "outputs": [
    {
     "name": "stdout",
     "output_type": "stream",
     "text": [
      "0.9178082191780822\n"
     ]
    }
   ],
   "source": [
    "# Use logistic regression with text column only.\n",
    "logreg = LogisticRegression(C=1e9)\n",
    "logreg.fit(X_train_dtm, y_train)\n",
    "y_pred_class = logreg.predict(X_test_dtm)\n",
    "print((metrics.accuracy_score(y_test, y_pred_class)))"
   ]
  },
  {
   "cell_type": "code",
   "execution_count": 67,
   "metadata": {
    "slideshow": {
     "slide_type": "slide"
    }
   },
   "outputs": [
    {
     "name": "stdout",
     "output_type": "stream",
     "text": [
      "0.9227005870841487\n"
     ]
    }
   ],
   "source": [
    "# Use logistic regression with all features.\n",
    "logreg = LogisticRegression(C=1e9)\n",
    "logreg.fit(X_train_dtm_extra, y_train)\n",
    "y_pred_class = logreg.predict(X_test_dtm_extra)\n",
    "print((metrics.accuracy_score(y_test, y_pred_class)))"
   ]
  },
  {
   "cell_type": "markdown",
   "metadata": {
    "slideshow": {
     "slide_type": "slide"
    }
   },
   "source": [
    "<a id='more_textblob'></a>\n",
    "## Bonus: Fun TextBlob Features"
   ]
  },
  {
   "cell_type": "code",
   "execution_count": 68,
   "metadata": {
    "slideshow": {
     "slide_type": "slide"
    }
   },
   "outputs": [
    {
     "data": {
      "text/plain": [
       "TextBlob(\"15 minutes late\")"
      ]
     },
     "execution_count": 68,
     "metadata": {},
     "output_type": "execute_result"
    }
   ],
   "source": [
    "# Spelling correction\n",
    "TextBlob('15 minuets late').correct()"
   ]
  },
  {
   "cell_type": "code",
   "execution_count": 69,
   "metadata": {
    "slideshow": {
     "slide_type": "slide"
    }
   },
   "outputs": [
    {
     "data": {
      "text/plain": [
       "[('part', 0.9929478138222849), ('parrot', 0.007052186177715092)]"
      ]
     },
     "execution_count": 69,
     "metadata": {},
     "output_type": "execute_result"
    }
   ],
   "source": [
    "# Spellcheck\n",
    "Word('parot').spellcheck()"
   ]
  },
  {
   "cell_type": "code",
   "execution_count": 70,
   "metadata": {
    "slideshow": {
     "slide_type": "slide"
    }
   },
   "outputs": [
    {
     "data": {
      "text/plain": [
       "['tip laterally',\n",
       " 'enclose with a bank',\n",
       " 'do business with a bank or keep an account at a bank',\n",
       " 'act as the banker in a game or in gambling',\n",
       " 'be in the banking business',\n",
       " 'put into a bank account',\n",
       " 'cover with ashes so to control the rate of burning',\n",
       " 'have confidence or faith in']"
      ]
     },
     "execution_count": 70,
     "metadata": {},
     "output_type": "execute_result"
    }
   ],
   "source": [
    "# Definitions\n",
    "Word('bank').define('v')"
   ]
  },
  {
   "cell_type": "code",
   "execution_count": 71,
   "metadata": {
    "slideshow": {
     "slide_type": "slide"
    }
   },
   "outputs": [
    {
     "data": {
      "text/plain": [
       "'es'"
      ]
     },
     "execution_count": 71,
     "metadata": {},
     "output_type": "execute_result"
    }
   ],
   "source": [
    "# Language identification\n",
    "TextBlob('Hola amigos').detect_language()"
   ]
  },
  {
   "cell_type": "markdown",
   "metadata": {
    "slideshow": {
     "slide_type": "slide"
    }
   },
   "source": [
    "<a id='conclusion'></a>\n",
    "## Conclusion\n",
    "\n",
    "- NLP is a gigantic field.\n",
    "- Understanding the basics broadens the types of data you can work with.\n",
    "- Simple techniques go a long way.\n",
    "- Use scikit-learn for NLP whenever possible.\n",
    "\n",
    "While we used SKLearn and TextBlob today, another popular python NLP library is [Spacy](https://spacy.io)."
   ]
  }
 ],
 "metadata": {
  "celltoolbar": "Slideshow",
  "kernelspec": {
   "display_name": "Python 3",
   "language": "python",
   "name": "python3"
  },
  "language_info": {
   "codemirror_mode": {
    "name": "ipython",
    "version": 3
   },
   "file_extension": ".py",
   "mimetype": "text/x-python",
   "name": "python",
   "nbconvert_exporter": "python",
   "pygments_lexer": "ipython3",
   "version": "3.5.2"
  }
 },
 "nbformat": 4,
 "nbformat_minor": 2
}
