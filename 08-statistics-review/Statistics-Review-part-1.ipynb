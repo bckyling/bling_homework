{
 "cells": [
  {
   "cell_type": "markdown",
   "metadata": {},
   "source": [
    "<img src=\"http://imgur.com/1ZcRyrc.png\" style=\"float: left; margin: 20px; height: 55px\">\n",
    "\n",
    "# Statistics Fundamentals, Part 1\n",
    "\n",
    "_Authors: Alexander Egorenkov (DC), Amy Roberts (NYC)_\n",
    "\n",
    "---"
   ]
  },
  {
   "cell_type": "markdown",
   "metadata": {},
   "source": [
    "<a id=\"learning-objectives\"></a>\n",
    "## Learning Objectives\n",
    "- Compute dot products, matrix multiplications, and vector norms by hand and using NumPy.\n",
    "- Code summary statistics using NumPy and Pandas: mean, median, mode, max, min, quartile, inter-quartile range, variance, standard deviation, and correlation.\n",
    "- Create basic data visualizations, including scatterplots, box plots, and histograms.\n",
    "- Describe characteristics and trends in a data set using visualizations.\n",
    "- Describe the bias and variance of statistical estimators.\n",
    "- Identify a normal distribution within a data set using summary statistics and data visualizations."
   ]
  },
  {
   "cell_type": "markdown",
   "metadata": {},
   "source": [
    "### Lesson Guide\n",
    "- [Where Are We in the Data Science Workflow?](#where-are-we-in-the-data-science-workflow)\n",
    "- [Linear Algebra Review](#linear-algebra-review)\n",
    "    - [Scalars, Vectors, and Matrices](#scalars-vectors-and-matrices)\n",
    "\t- [Basic Matrix Algebra](#basic-matrix-algebra)\n",
    "\t- [Dot Product](#dot-product)\n",
    "\t- [Matrix Multiplication](#matrix-multiplication)\n",
    "\t- [N-Dimensional Space](#n-dimensional-space)\n",
    "\t- [Vector Norm](#vector-norm)\n",
    "- [Linear Algebra Applications to Machine Learning](#linear-algebra-applications-to-machine-learning)\n",
    "\t- [Distance Between Actual Values and Predicted Values](#distance-between-actual-values-and-predicted-values)\n",
    "\t- [Mean Squared Error](#mean-squared-error)\n",
    "\t- [Least Squares](#least-squares)\n",
    "- [Code-Along: Examining the Titanic Data Set](#codealong-examining-the-titanic-dataset)\n",
    "- [Descriptive Statistics Fundamentals](#descriptive-statistics-fundamentals)\n",
    "\t- [Measures of Central Tendency](#measures-of-central-tendency)\n",
    "\t- [Math Review](#math-review)\n",
    "\t- [Measures of Dispersion: Standard Deviation and Variance](#measures-of-dispersion-standard-deviation-and-variance)\n",
    "- [Our First Model](#our-first-model)\n",
    "- [A Short Introduction to Model Bias and Variance](#a-short-introduction-to-model-bias-and-variance)\n",
    "\t- [Bias-Variance Decomposition](#bias-variance-decomposition)\n",
    "\t- [Example Using Bessel's Correction](#example-using-bessels-correction)\n",
    "- [Correlation and Association](#correlation-and-association)\n",
    "\t- [Code-Along: Correlation in Pandas](#codealong-correlation-in-pandas)\n",
    "- [The Normal Distribution](#the-normal-distribution)\n",
    "\t- [What is the Normal Distribution?](#what-is-the-normal-distribution)\n",
    "\t- [Skewness](#skewness)\n",
    "\t- [Kurtosis](#kurtosis)\n",
    "- [Determining the Distribution of Your Data](#determining-the-distribution-of-your-data)\n",
    "\t- [Exercise](#exercise)\n",
    "- [Lesson Review](#topic-review)"
   ]
  },
  {
   "cell_type": "code",
   "execution_count": 33,
   "metadata": {
    "ExecuteTime": {
     "end_time": "2018-04-12T21:45:20.676460Z",
     "start_time": "2018-04-12T21:45:19.057054Z"
    }
   },
   "outputs": [],
   "source": [
    "import pandas as pd\n",
    "import seaborn as sns\n",
    "import numpy as np\n",
    "import matplotlib.pyplot as plt\n",
    "from ipywidgets import interact\n",
    "plt.style.use('fivethirtyeight')\n",
    "\n",
    "# This makes sure that graphs render in your notebook.\n",
    "%matplotlib inline"
   ]
  },
  {
   "cell_type": "markdown",
   "metadata": {},
   "source": [
    "<a id=\"where-are-we-in-the-data-science-workflow\"></a>\n",
    "## Where Are We in the Data Science Workflow?"
   ]
  },
  {
   "cell_type": "markdown",
   "metadata": {},
   "source": [
    "![Data Science Workflow](./assets/images/data-science-workflow.png)"
   ]
  },
  {
   "cell_type": "markdown",
   "metadata": {},
   "source": [
    "<a id=\"linear-algebra-review\"></a>\n",
    "## Linear Algebra Review\n",
    "---\n",
    "**Objective:** Compute dot products, matrix multiplications, and vector norms by hand and using NumPy."
   ]
  },
  {
   "cell_type": "markdown",
   "metadata": {},
   "source": [
    "<a id=\"why-linear-algebra\"></a>\n",
    "### Why Use Linear Algebra in Data Science?\n",
    "\n",
    "Linear models are efficient and well understood. They can often closely approximate nonlinear solutions, and they scale to high dimensions without difficulty.\n",
    "\n",
    "Because of these desirable properties, linear algebra is a need-to-know subject for machine learning. In fact, it forms the basis of foundational models such as linear regression, logistic regression, and principal component analysis (PCA). \n",
    "\n",
    "Unsurprisingly, advanced models such as neural networks and support vector machines rely on linear algebra as their \"trick\" for impressive speedups. Modern-day GPUs are essentially linear algebra supercomputers. And, to utilize their power on a GPU, models must often be carefully formulated in terms of vectors and matrices.\n",
    "\n",
    "More than that, todya's advanced models build upon the simpler foundational models. Each neuron in a neural net is essentially a logistic regressor! Support vector machines utilize a kernel trick to craftily make problems linear that would not otherwise appear to be.\n",
    "\n",
    "Although we do not have time in this course to comprehensively discuss linear algebra, we highly recommend you become fluent!"
   ]
  },
  {
   "cell_type": "markdown",
   "metadata": {},
   "source": [
    "<a id=\"scalars-vectors-and-matrices\"></a>\n",
    "### Scalars, Vectors, and Matrices\n",
    "\n",
    "A **scalar** is a single number. Here, symbols that are lowercase single letters refer to scalars. For example, the symbols $a$ and $v$ are scalars that might refer to arbitrary numbers such as $5.328$ or $7$. An example scalar would be:\n",
    "\n",
    "$$a$$\n",
    "\n",
    "A **vector** is an ordered sequence of numbers. Here, symbols that are lowercase single letters with an arrow — such as $\\vec{u}$ — refer to vectors. An example vector would be:\n",
    "\n",
    "$$\\vec{u} = \\left[ \\begin{array}{c}\n",
    "1&3&7\n",
    "\\end{array} \\right]$$"
   ]
  },
  {
   "cell_type": "code",
<<<<<<< HEAD
   "execution_count": 51,
   "metadata": {
    "ExecuteTime": {
     "end_time": "2018-04-12T23:12:15.914859Z",
     "start_time": "2018-04-12T23:12:15.896810Z"
    }
   },
=======
   "execution_count": 4,
   "metadata": {},
>>>>>>> :wq
   "outputs": [
    {
     "data": {
      "text/plain": [
       "(3,)"
      ]
     },
<<<<<<< HEAD
     "execution_count": 51,
     "metadata": {},
     "output_type": "execute_result"
    }
   ],
   "source": [
    "# Create a vector using np.array.\n",
    "u = np.array([1, 3, 7])\n",
    "u.shape"
   ]
  },
  {
   "cell_type": "code",
   "execution_count": 53,
   "metadata": {
    "ExecuteTime": {
     "end_time": "2018-04-12T23:12:58.550175Z",
     "start_time": "2018-04-12T23:12:58.519080Z"
    }
   },
   "outputs": [
    {
     "data": {
      "text/plain": [
       "0    1\n",
       "1    3\n",
       "2    7\n",
       "dtype: int64"
      ]
     },
     "execution_count": 53,
=======
     "execution_count": 4,
>>>>>>> :wq
     "metadata": {},
     "output_type": "execute_result"
    }
   ],
   "source": [
<<<<<<< HEAD
    "pd.Series([1, 3, 7])"
=======
    "# Create a vector using np.array.\n",
    "u = np.array([1,3,7])\n",
    "u.shape"
   ]
  },
  {
   "cell_type": "code",
   "execution_count": 6,
   "metadata": {},
   "outputs": [
    {
     "data": {
      "text/plain": [
       "(3,)"
      ]
     },
     "execution_count": 6,
     "metadata": {},
     "output_type": "execute_result"
    }
   ],
   "source": [
    "v = pd.Series([1,3,7])\n",
    "v.shape"
>>>>>>> :wq
   ]
  },
  {
   "cell_type": "markdown",
   "metadata": {},
   "source": [
    "An $m$ x $n$ **matrix** is a rectangular array of numbers with $m$ rows and $n$ columns. Each number in the matrix is an entry. Entries can be denoted $a_{ij}$, where $i$ denotes the row number and $j$ denotes the column number. Note that, because each entry $a_{ij}$ is a lowercase single letter, a matrix is an array of scalars:\n",
    "\n",
    "$$\\mathbf{A}= \\left[ \\begin{array}{c}\n",
    "a_{11} & a_{12} & ... & a_{1n}  \\\\\n",
    "a_{21} & a_{22} & ... & a_{2n}  \\\\\n",
    "... & ... & ... & ... \\\\\n",
    "a_{m1} & a_{m2} & ... & a_{mn}\n",
    "\\end{array} \\right]$$\n",
    "\n",
    "Matrices are referred to using bold uppercase letters, such as $\\mathbf{A}$. A bold font face is used to distinguish matrices from sets."
   ]
  },
  {
   "cell_type": "code",
<<<<<<< HEAD
   "execution_count": 56,
   "metadata": {
    "ExecuteTime": {
     "end_time": "2018-04-12T23:14:13.711032Z",
     "start_time": "2018-04-12T23:14:13.691454Z"
    }
   },
   "outputs": [
    {
     "data": {
      "text/plain": [
       "(3, 2)"
      ]
     },
     "execution_count": 56,
     "metadata": {},
     "output_type": "execute_result"
    }
   ],
   "source": [
    "# Create a matrix using np.array.\n",
    "a = np.array([[1, 2], [3, 4], [5, 6]])\n",
    "a.shape"
   ]
  },
  {
   "cell_type": "code",
   "execution_count": 57,
   "metadata": {
    "ExecuteTime": {
     "end_time": "2018-04-12T23:14:20.409131Z",
     "start_time": "2018-04-12T23:14:20.393339Z"
    }
   },
=======
   "execution_count": 11,
   "metadata": {},
>>>>>>> :wq
   "outputs": [
    {
     "data": {
      "text/plain": [
       "array([[1, 2],\n",
       "       [3, 4],\n",
       "       [5, 6]])"
      ]
     },
<<<<<<< HEAD
     "execution_count": 57,
=======
     "execution_count": 11,
>>>>>>> :wq
     "metadata": {},
     "output_type": "execute_result"
    }
   ],
   "source": [
<<<<<<< HEAD
=======
    "# Create a matrix using np.array.\n",
    "a = np.array([[1,2],[3,4],[5,6]])\n",
    "a.shape\n",
>>>>>>> :wq
    "a"
   ]
  },
  {
   "cell_type": "markdown",
   "metadata": {},
   "source": [
    "Note that in Python, a matrix is just a list of lists! The outermost list is a list of rows."
   ]
  },
  {
   "cell_type": "markdown",
   "metadata": {},
   "source": [
    "<a id=\"basic-matrix-algebra\"></a>\n",
    "### Basic Matrix Algebra\n"
   ]
  },
  {
   "cell_type": "markdown",
   "metadata": {},
   "source": [
    "#### Addition and Subtraction\n",
    "Vector **addition** is straightforward. If two vectors are of equal dimensions (The vectors are shown here as column vectors for convenience only):\n",
    "\n",
    "$\\vec{v} = \\left[ \\begin{array}{c}\n",
    "1 \\\\\n",
    "3 \\\\\n",
    "7\n",
    "\\end{array} \\right],  \\vec{w} = \\left[ \\begin{array}{c}\n",
    "1 \\\\\n",
    "0 \\\\\n",
    "1\n",
    "\\end{array} \\right]$"
   ]
  },
  {
   "cell_type": "code",
<<<<<<< HEAD
   "execution_count": 4,
=======
   "execution_count": 13,
>>>>>>> :wq
   "metadata": {
    "ExecuteTime": {
     "end_time": "2018-04-12T21:45:20.706321Z",
     "start_time": "2018-04-12T21:45:20.699868Z"
    }
   },
   "outputs": [],
   "source": [
    "v = np.array([1, 3, 7])\n",
    "w = np.array([1, 0, 1])"
   ]
  },
  {
   "cell_type": "markdown",
   "metadata": {},
   "source": [
    "$\\vec{v} + \\vec{w} =\n",
    "\\left[ \\begin{array}{c}\n",
    "1 \\\\\n",
    "3 \\\\\n",
    "7\n",
    "\\end{array} \\right] + \\left[ \\begin{array}{c}\n",
    "1 \\\\\n",
    "0 \\\\\n",
    "1\n",
    "\\end{array} \\right] = \n",
    "\\left[ \\begin{array}{c}\n",
    "1+1 \\\\\n",
    "3+0 \\\\\n",
    "7+1\n",
    "\\end{array} \\right] = \n",
    "\\left[ \\begin{array}{c}\n",
    "2 \\\\\n",
    "3 \\\\\n",
    "8\n",
    "\\end{array} \\right]\n",
    "$\n",
    "\n",
    "(Subtraction is similar.)"
   ]
  },
  {
   "cell_type": "code",
<<<<<<< HEAD
   "execution_count": 58,
   "metadata": {
    "ExecuteTime": {
     "end_time": "2018-04-12T23:16:33.621191Z",
     "start_time": "2018-04-12T23:16:33.607666Z"
    }
   },
=======
   "execution_count": 14,
   "metadata": {},
>>>>>>> :wq
   "outputs": [
    {
     "data": {
      "text/plain": [
       "array([2, 3, 8])"
      ]
     },
<<<<<<< HEAD
     "execution_count": 58,
=======
     "execution_count": 14,
>>>>>>> :wq
     "metadata": {},
     "output_type": "execute_result"
    }
   ],
   "source": [
    "# Add the vectors together with +.\n",
    "v + w"
   ]
  },
  {
   "cell_type": "markdown",
   "metadata": {},
   "source": [
    "#### Scalar Multiplication\n",
    "We scale a vector with **scalar multiplication**, multiplying a vector by a scalar (single quantity):\n",
    "\n",
    "$ 2 \\cdot \\vec{v} = 2\\left[ \\begin{array}{c}\n",
    "1 \\\\\n",
    "3 \\\\\n",
    "7\n",
    "\\end{array} \\right] = \n",
    " \\left[ \\begin{array}{c}\n",
    "2 \\cdot 1 \\\\\n",
    "2 \\cdot 3 \\\\\n",
    "2 \\cdot 7\n",
    "\\end{array} \\right] = \n",
    " \\left[ \\begin{array}{c}\n",
    "2 \\\\\n",
    "6 \\\\\n",
    "14\n",
    "\\end{array} \\right]$ "
   ]
  },
  {
   "cell_type": "code",
<<<<<<< HEAD
   "execution_count": 60,
   "metadata": {
    "ExecuteTime": {
     "end_time": "2018-04-12T23:19:47.810449Z",
     "start_time": "2018-04-12T23:19:47.792179Z"
    }
   },
=======
   "execution_count": 15,
   "metadata": {},
>>>>>>> :wq
   "outputs": [
    {
     "data": {
      "text/plain": [
<<<<<<< HEAD
       "array([-1, -3, -7])"
      ]
     },
     "execution_count": 60,
=======
       "array([ 2,  6, 14])"
      ]
     },
     "execution_count": 15,
>>>>>>> :wq
     "metadata": {},
     "output_type": "execute_result"
    }
   ],
   "source": [
    "# Multiply v by 2.\n",
<<<<<<< HEAD
    "-1 * v"
=======
    "2 * v"
>>>>>>> :wq
   ]
  },
  {
   "cell_type": "markdown",
   "metadata": {},
   "source": [
    "<a id=\"dot-product\"></a>\n",
    "### Dot Product\n",
    "The **dot product** of two _n_-dimensional vectors is:\n",
    "\n",
    "$ \\vec{v} \\cdot \\vec{w} =\\sum _{i=1}^{n}v_{i}w_{i}=v_{1}w_{1}+v_{2}w_{2}+\\cdots +v_{n}w_{n} $\n",
    "\n",
    "So, if:\n",
    "\n",
    "$\\vec{v} = \\left[ \\begin{array}{c}\n",
    "1 \\\\\n",
    "3 \\\\\n",
    "7\n",
    "\\end{array} \\right], \\vec{w} = \\left[ \\begin{array}{c}\n",
    "1 \\\\\n",
    "0 \\\\\n",
    "1\n",
    "\\end{array} \\right]$\n",
    "\n",
    "$ \\vec{v} \\cdot \\vec{w} = 1 \\cdot 1 + 3 \\cdot 0 + 7 \\cdot 1 = 8 $"
   ]
  },
  {
   "cell_type": "code",
<<<<<<< HEAD
   "execution_count": 7,
   "metadata": {
    "ExecuteTime": {
     "end_time": "2018-04-12T21:45:20.734339Z",
     "start_time": "2018-04-12T21:45:20.728691Z"
    }
   },
   "outputs": [],
=======
   "execution_count": 17,
   "metadata": {},
   "outputs": [
    {
     "data": {
      "text/plain": [
       "8"
      ]
     },
     "execution_count": 17,
     "metadata": {},
     "output_type": "execute_result"
    }
   ],
>>>>>>> :wq
   "source": [
    "v = np.array([1, 3, 7])\n",
    "w = np.array([1, 0, 1])\n",
    "\n",
    "# Calculate the dot product of v and w using np.dot.\n",
    "np.dot(v,w)"
   ]
  },
  {
   "cell_type": "code",
   "execution_count": 61,
   "metadata": {
    "ExecuteTime": {
     "end_time": "2018-04-12T23:21:40.954341Z",
     "start_time": "2018-04-12T23:21:40.944312Z"
    }
   },
   "outputs": [
    {
     "data": {
      "text/plain": [
       "8"
      ]
     },
     "execution_count": 61,
     "metadata": {},
     "output_type": "execute_result"
    }
   ],
   "source": [
    "np.dot(v, w)"
   ]
  },
  {
   "cell_type": "markdown",
   "metadata": {},
   "source": [
    "<a id=\"matrix-multiplication\"></a>\n",
    "### Matrix Multiplication\n",
    "**Matrix multiplication**, $\\mathbf{A}_{mn}$ x $\\mathbf{B}_{ij}$, is valid when the left matrix has the same number of columns as the right matrix has rows ($n = i$). Each entry is the dot product of corresponding row and column vectors.\n",
    "\n",
    "![](assets/images/matrix-multiply-a.gif)\n",
    "(Image: mathisfun.com!)"
   ]
  },
  {
   "cell_type": "markdown",
   "metadata": {},
   "source": [
    "The dot product illustrated above is: $1 \\cdot 7 + 2 \\cdot 9 + 3 \\cdot 11 = 58$. Can you compute the rest of the dot products by hand?\n",
    "\n",
    "If the product is the $2$ x $2$ matrix $\\mathbf{C}_{mj}$, then:\n",
    "\n",
    "+ Matrix entry $c_{12}$ (its FIRST row and SECOND column) is the dot product of the FIRST row of $\\mathbf{A}$ and the SECOND column of $\\mathbf{B}$.\n",
    "\n",
    "+ Matrix entry $c_{21}$ (its SECOND row and FIRST column) is the dot product of the SECOND row of $\\mathbf{A}$ and the FIRST column of $\\mathbf{B}$.\n",
    "\n",
    "Note that if the first matrix is $m$ x $n$ ($m$ rows and $n$ columns) and the second is  $i$ x $j$ (where $n = i$), then the final matrix will be $m$ x $j$. For example, below we have $2$ x $3$ multiplied by $3$ x $2$, which results in a $2$ x $2$ matrix. Can you see why?"
   ]
  },
  {
   "cell_type": "code",
   "execution_count": 8,
   "metadata": {
    "ExecuteTime": {
     "end_time": "2018-04-12T21:45:20.755361Z",
     "start_time": "2018-04-12T21:45:20.738701Z"
    }
   },
   "outputs": [
    {
     "data": {
      "text/plain": [
       "array([[ 58,  64],\n",
       "       [139, 154]])"
      ]
     },
     "execution_count": 8,
     "metadata": {},
     "output_type": "execute_result"
    }
   ],
   "source": [
    "A = np.array([[1, 2, 3], [4, 5, 6]])\n",
    "B = np.array([[7, 8], [9, 10], [11, 12]])\n",
    "\n",
    "A.dot(B)"
   ]
  },
  {
   "cell_type": "markdown",
   "metadata": {},
   "source": [
    "Make sure you can compute this by hand!"
   ]
  },
  {
   "cell_type": "markdown",
   "metadata": {},
   "source": [
    "<a id=\"n-dimensional-space\"></a>\n",
    "### N-Dimensional Space\n",
    "\n",
    "We often refer to vectors as elements of an $n$-dimensional space. The symbol $\\mathbb{R}$ refers to the set of all real numbers (written in uppercase \"blackboard bold\" font). Because this contains all reals, $3$ and $\\pi$ are **contained in** $\\mathbb{R}$. We often write this symbolically as $3 \\in \\mathbb{R}$ and $\\pi \\in \\mathbb{R}$.\n",
    "\n",
    "To get the set of all pairs of real numbers, we would essentially take the product of this set with itself (called the Cartesian product) — $\\mathbb{R}$ x $\\mathbb{R}$, abbreviated as $\\mathbb{R}^2$. This set — $\\mathbb{R}^2$ — contains all pairs of real numbers, so $(1, 3)$ is **contained in** this set. We write this symbolically as $(1, 3) \\in \\mathbb{R}^2$.\n",
    "\n",
    "+ In 2-D space ($\\mathbb{R}^2$), a point is uniquely referred to using two coordinates: $(1, 3) \\in \\mathbb{R}^2$.\n",
    "+ In 3-D space ($\\mathbb{R}^3$), a point is uniquely referred to using three coordinates: $(8, 2, -3) \\in \\mathbb{R}^3$.\n",
    "+ In $n$-dimensional space ($\\mathbb{R}^n$), a point is uniquely referred to using $n$ coordinates.\n",
    "\n",
    "Note that these coordinates of course are isomorphic to our vectors! After all, coordinates are ordered sequences of numbers, just as we define vectors to be ordered sequences of numbers. So, especially in machine learning, we often visualize vectors of length $n$ as points in $n$-dimensional space."
   ]
  },
  {
   "cell_type": "markdown",
   "metadata": {},
   "source": [
    "<a id=\"vector-norm\"></a>\n",
    "### Vector Norm\n",
    "\n",
    "The **magnitude** of a vector, $\\vec{v} \\in \\mathbb{R}^{n}$, can be interpreted as its length in $n$-dimensional space. Therefore it is calculable via the Euclidean distance from the origin:\n",
    "\n",
    "$\\vec{v} = \\left[ \\begin{array}{c}\n",
    "v_{1} \\\\\n",
    "v_{2} \\\\\n",
    "\\vdots \\\\\n",
    "v_{n}\n",
    "\\end{array} \\right]$\n",
    "\n",
    "then $\\| \\vec{v} \\| = \\sqrt{v_{1}^{2} + v_{2}^{2} + ... + v_{n}^{2}} = \\sqrt{v^Tv}$\n",
    "\n",
    "E.g. if $\\vec{v} = \n",
    "\\left[ \\begin{array}{c}\n",
    "3 \\\\\n",
    "4\n",
    "\\end{array} \\right]$, then $\\| \\vec{v} \\| = \\sqrt{3^{2} + 4^{2}} = 5$\n",
    "\n",
    "This is also called the vector **norm**. You will often see this used in machine learning."
   ]
  },
  {
   "cell_type": "code",
<<<<<<< HEAD
   "execution_count": 9,
   "metadata": {
    "ExecuteTime": {
     "end_time": "2018-04-12T21:45:20.765486Z",
     "start_time": "2018-04-12T21:45:20.759543Z"
    }
   },
   "outputs": [],
=======
   "execution_count": 19,
   "metadata": {},
   "outputs": [
    {
     "data": {
      "text/plain": [
       "<function numpy.linalg.linalg.norm>"
      ]
     },
     "execution_count": 19,
     "metadata": {},
     "output_type": "execute_result"
    }
   ],
>>>>>>> :wq
   "source": [
    "x = np.array([3,4])\n",
    "\n",
    "# Calculate the norm of the vector x with np.linalg.norm.\n",
    "np.linalg.norm"
   ]
  },
  {
   "cell_type": "code",
   "execution_count": 62,
   "metadata": {
    "ExecuteTime": {
     "end_time": "2018-04-12T23:32:36.617859Z",
     "start_time": "2018-04-12T23:32:36.603092Z"
    }
   },
   "outputs": [
    {
     "data": {
      "text/plain": [
       "5.0"
      ]
     },
     "execution_count": 62,
     "metadata": {},
     "output_type": "execute_result"
    }
   ],
   "source": [
    "np.linalg.norm(x)"
   ]
  },
  {
   "cell_type": "markdown",
   "metadata": {},
   "source": [
    "<a id=\"linear-algebra-applications-to-machine-learning\"></a>\n",
    "## Linear Algebra Applications to Machine Learning\n",
    "---\n",
    "\n",
    "<a id=\"distance-between-actual-values-and-predicted-values\"></a>\n",
    "### Distance Between Actual Values and Predicted Values\n",
    "We often need to know the difference between predicted values and actual values. In 2-D space, we compute this as:\n",
    "$$\\| \\vec{actual} - \\vec{predicted} \\| =\\sqrt{(actual_1 - predicted_1)^2 + (actual_2 - predicted_2)^2}$$\n",
    "\n",
    "Note that this is just the straight-line distance between the actual point and the predicted point.\n",
    "\n",
    "<a id=\"mean-squared-error\"></a>\n",
    "### Mean Squared Error\n",
    "Often, it's easier to look at the mean of the squared errors. Where $\\hat{y}(\\mathbf{X})$ is a vector of predicted values (a function of the data matrix $\\mathbf{X}$) and $\\vec{y}$ is the actual values:\n",
    "\n",
    "$$MSE = \\frac{1} {n} \\| \\hat{y}(\\mathbf{X}) - \\vec{y} \\|^2$$\n",
    "\n",
    "<a id=\"least-squares\"></a>\n",
    "### Least squares\n",
    "Many machine learning models are based on the following form:\n",
    "\n",
    "$$\\min \\| \\hat{y}(\\mathbf{X}) - \\vec{y} \\|$$\n",
    "\n",
    "The goal is to minimize the distance between model predictions and actual data."
   ]
  },
  {
   "cell_type": "markdown",
   "metadata": {},
   "source": [
    "Let's see this in [scikit-learn](http://scikit-learn.org/stable/modules/linear_model.html)."
   ]
  },
  {
   "cell_type": "markdown",
   "metadata": {},
   "source": [
    "<a id=\"codealong-examining-the-titanic-dataset\"></a>\n",
    "## Code-Along: Examining the Titanic Data Set\n",
    "\n",
    "---"
   ]
  },
  {
   "cell_type": "markdown",
   "metadata": {},
   "source": [
    "#### Objective: Read in the Titanic data and look at a few summary statistics."
   ]
  },
  {
   "cell_type": "code",
<<<<<<< HEAD
   "execution_count": 10,
=======
   "execution_count": 1,
>>>>>>> :wq
   "metadata": {
    "ExecuteTime": {
     "end_time": "2018-04-12T21:45:20.776373Z",
     "start_time": "2018-04-12T21:45:20.770545Z"
    }
   },
   "outputs": [],
   "source": [
    "# Import Pandas\n",
    "import pandas as pd"
   ]
  },
  {
   "cell_type": "code",
<<<<<<< HEAD
   "execution_count": 11,
=======
   "execution_count": 2,
>>>>>>> :wq
   "metadata": {
    "ExecuteTime": {
     "end_time": "2018-04-12T21:45:20.810988Z",
     "start_time": "2018-04-12T21:45:20.780909Z"
    }
   },
   "outputs": [],
   "source": [
    "titanic = pd.read_csv('data/titanic.csv')"
   ]
  },
  {
   "cell_type": "markdown",
   "metadata": {},
   "source": [
    "#### Print out the column names:"
   ]
  },
  {
   "cell_type": "code",
<<<<<<< HEAD
   "execution_count": 12,
=======
   "execution_count": 8,
>>>>>>> :wq
   "metadata": {
    "ExecuteTime": {
     "end_time": "2018-04-12T21:45:20.820724Z",
     "start_time": "2018-04-12T21:45:20.815273Z"
    },
    "scrolled": true
   },
<<<<<<< HEAD
   "outputs": [],
=======
   "outputs": [
    {
     "data": {
      "text/plain": [
       "array(['survived', 'pclass', 'name', 'sex', 'age', 'sibsp', 'parch',\n",
       "       'ticket', 'fare', 'cabin', 'embarked'], dtype=object)"
      ]
     },
     "execution_count": 8,
     "metadata": {},
     "output_type": "execute_result"
    }
   ],
>>>>>>> :wq
   "source": [
    "# Answer:\n",
    "titanic.columns.values"
   ]
  },
  {
   "cell_type": "markdown",
   "metadata": {},
   "source": [
    "#### Print out the dimensions of the DataFrame using the `.shape` attribute:"
   ]
  },
  {
   "cell_type": "code",
<<<<<<< HEAD
   "execution_count": 13,
   "metadata": {
    "ExecuteTime": {
     "end_time": "2018-04-12T21:45:20.833315Z",
     "start_time": "2018-04-12T21:45:20.825922Z"
    }
   },
   "outputs": [],
=======
   "execution_count": 9,
   "metadata": {},
   "outputs": [
    {
     "data": {
      "text/plain": [
       "(891, 11)"
      ]
     },
     "execution_count": 9,
     "metadata": {},
     "output_type": "execute_result"
    }
   ],
>>>>>>> :wq
   "source": [
    "# Preview data dimensions.\n",
    "titanic.shape"
   ]
  },
  {
   "cell_type": "markdown",
   "metadata": {},
   "source": [
    "#### Print out the data types of the columns using the `.dtypes` attribute:"
   ]
  },
  {
   "cell_type": "code",
   "execution_count": 14,
<<<<<<< HEAD
   "metadata": {
    "ExecuteTime": {
     "end_time": "2018-04-12T21:45:20.846503Z",
     "start_time": "2018-04-12T21:45:20.840490Z"
    }
   },
   "outputs": [],
=======
   "metadata": {},
   "outputs": [
    {
     "data": {
      "text/plain": [
       "survived      int64\n",
       "pclass        int64\n",
       "name         object\n",
       "sex          object\n",
       "age         float64\n",
       "sibsp         int64\n",
       "parch         int64\n",
       "ticket       object\n",
       "fare        float64\n",
       "cabin        object\n",
       "embarked     object\n",
       "dtype: object"
      ]
     },
     "execution_count": 14,
     "metadata": {},
     "output_type": "execute_result"
    }
   ],
>>>>>>> :wq
   "source": [
    "# What are the column data types?\n",
    "titanic.dtypes"
   ]
  },
  {
   "cell_type": "markdown",
   "metadata": {},
   "source": [
    "#### Print out the first five rows of the data using the built-in `.head()` function:"
   ]
  },
  {
   "cell_type": "code",
   "execution_count": 15,
   "metadata": {
<<<<<<< HEAD
    "ExecuteTime": {
     "end_time": "2018-04-12T21:45:20.857299Z",
     "start_time": "2018-04-12T21:45:20.851173Z"
    },
=======
>>>>>>> :wq
    "scrolled": false
   },
   "outputs": [
    {
     "data": {
      "text/html": [
       "<div>\n",
       "<style>\n",
       "    .dataframe thead tr:only-child th {\n",
       "        text-align: right;\n",
       "    }\n",
       "\n",
       "    .dataframe thead th {\n",
       "        text-align: left;\n",
       "    }\n",
       "\n",
       "    .dataframe tbody tr th {\n",
       "        vertical-align: top;\n",
       "    }\n",
       "</style>\n",
       "<table border=\"1\" class=\"dataframe\">\n",
       "  <thead>\n",
       "    <tr style=\"text-align: right;\">\n",
       "      <th></th>\n",
       "      <th>survived</th>\n",
       "      <th>pclass</th>\n",
       "      <th>name</th>\n",
       "      <th>sex</th>\n",
       "      <th>age</th>\n",
       "      <th>sibsp</th>\n",
       "      <th>parch</th>\n",
       "      <th>ticket</th>\n",
       "      <th>fare</th>\n",
       "      <th>cabin</th>\n",
       "      <th>embarked</th>\n",
       "    </tr>\n",
       "  </thead>\n",
       "  <tbody>\n",
       "    <tr>\n",
       "      <th>0</th>\n",
       "      <td>0</td>\n",
       "      <td>3</td>\n",
       "      <td>Braund, Mr. Owen Harris</td>\n",
       "      <td>male</td>\n",
       "      <td>22.0</td>\n",
       "      <td>1</td>\n",
       "      <td>0</td>\n",
       "      <td>A/5 21171</td>\n",
       "      <td>7.2500</td>\n",
       "      <td>NaN</td>\n",
       "      <td>S</td>\n",
       "    </tr>\n",
       "    <tr>\n",
       "      <th>1</th>\n",
       "      <td>1</td>\n",
       "      <td>1</td>\n",
       "      <td>Cumings, Mrs. John Bradley (Florence Briggs Th...</td>\n",
       "      <td>female</td>\n",
       "      <td>38.0</td>\n",
       "      <td>1</td>\n",
       "      <td>0</td>\n",
       "      <td>PC 17599</td>\n",
       "      <td>71.2833</td>\n",
       "      <td>C85</td>\n",
       "      <td>C</td>\n",
       "    </tr>\n",
       "    <tr>\n",
       "      <th>2</th>\n",
       "      <td>1</td>\n",
       "      <td>3</td>\n",
       "      <td>Heikkinen, Miss. Laina</td>\n",
       "      <td>female</td>\n",
       "      <td>26.0</td>\n",
       "      <td>0</td>\n",
       "      <td>0</td>\n",
       "      <td>STON/O2. 3101282</td>\n",
       "      <td>7.9250</td>\n",
       "      <td>NaN</td>\n",
       "      <td>S</td>\n",
       "    </tr>\n",
       "    <tr>\n",
       "      <th>3</th>\n",
       "      <td>1</td>\n",
       "      <td>1</td>\n",
       "      <td>Futrelle, Mrs. Jacques Heath (Lily May Peel)</td>\n",
       "      <td>female</td>\n",
       "      <td>35.0</td>\n",
       "      <td>1</td>\n",
       "      <td>0</td>\n",
       "      <td>113803</td>\n",
       "      <td>53.1000</td>\n",
       "      <td>C123</td>\n",
       "      <td>S</td>\n",
       "    </tr>\n",
       "    <tr>\n",
       "      <th>4</th>\n",
       "      <td>0</td>\n",
       "      <td>3</td>\n",
       "      <td>Allen, Mr. William Henry</td>\n",
       "      <td>male</td>\n",
       "      <td>35.0</td>\n",
       "      <td>0</td>\n",
       "      <td>0</td>\n",
       "      <td>373450</td>\n",
       "      <td>8.0500</td>\n",
       "      <td>NaN</td>\n",
       "      <td>S</td>\n",
       "    </tr>\n",
       "  </tbody>\n",
       "</table>\n",
       "</div>"
      ],
      "text/plain": [
       "   survived  pclass                                               name  \\\n",
       "0         0       3                            Braund, Mr. Owen Harris   \n",
       "1         1       1  Cumings, Mrs. John Bradley (Florence Briggs Th...   \n",
       "2         1       3                             Heikkinen, Miss. Laina   \n",
       "3         1       1       Futrelle, Mrs. Jacques Heath (Lily May Peel)   \n",
       "4         0       3                           Allen, Mr. William Henry   \n",
       "\n",
       "      sex   age  sibsp  parch            ticket     fare cabin embarked  \n",
       "0    male  22.0      1      0         A/5 21171   7.2500   NaN        S  \n",
       "1  female  38.0      1      0          PC 17599  71.2833   C85        C  \n",
       "2  female  26.0      0      0  STON/O2. 3101282   7.9250   NaN        S  \n",
       "3  female  35.0      1      0            113803  53.1000  C123        S  \n",
       "4    male  35.0      0      0            373450   8.0500   NaN        S  "
      ]
     },
     "execution_count": 15,
     "metadata": {},
     "output_type": "execute_result"
    }
   ],
   "source": [
    "# Look at the first five rows.\n",
    "titanic.head()"
   ]
  },
  {
   "cell_type": "markdown",
   "metadata": {},
   "source": [
    "#### Use the built-in  `.value_counts()` function to count the values of each type in the `pclass` column:"
   ]
  },
  {
   "cell_type": "code",
   "execution_count": 16,
<<<<<<< HEAD
   "metadata": {
    "ExecuteTime": {
     "end_time": "2018-04-12T21:45:20.867104Z",
     "start_time": "2018-04-12T21:45:20.861250Z"
    }
   },
   "outputs": [],
=======
   "metadata": {},
   "outputs": [
    {
     "data": {
      "text/plain": [
       "3    491\n",
       "1    216\n",
       "2    184\n",
       "Name: pclass, dtype: int64"
      ]
     },
     "execution_count": 16,
     "metadata": {},
     "output_type": "execute_result"
    }
   ],
>>>>>>> :wq
   "source": [
    "# Count the values of the plcass variable.\n",
    "titanic.pclass.value_counts()"
   ]
  },
  {
   "cell_type": "markdown",
   "metadata": {},
   "source": [
    "#### Pull up descriptive statistics for each variable using the built-in `.describe()` function:"
   ]
  },
  {
   "cell_type": "code",
   "execution_count": 17,
<<<<<<< HEAD
   "metadata": {
    "ExecuteTime": {
     "end_time": "2018-04-12T21:45:20.879666Z",
     "start_time": "2018-04-12T21:45:20.873441Z"
    }
   },
   "outputs": [],
=======
   "metadata": {},
   "outputs": [
    {
     "data": {
      "text/html": [
       "<div>\n",
       "<style>\n",
       "    .dataframe thead tr:only-child th {\n",
       "        text-align: right;\n",
       "    }\n",
       "\n",
       "    .dataframe thead th {\n",
       "        text-align: left;\n",
       "    }\n",
       "\n",
       "    .dataframe tbody tr th {\n",
       "        vertical-align: top;\n",
       "    }\n",
       "</style>\n",
       "<table border=\"1\" class=\"dataframe\">\n",
       "  <thead>\n",
       "    <tr style=\"text-align: right;\">\n",
       "      <th></th>\n",
       "      <th>survived</th>\n",
       "      <th>pclass</th>\n",
       "      <th>age</th>\n",
       "      <th>sibsp</th>\n",
       "      <th>parch</th>\n",
       "      <th>fare</th>\n",
       "    </tr>\n",
       "  </thead>\n",
       "  <tbody>\n",
       "    <tr>\n",
       "      <th>count</th>\n",
       "      <td>891.000000</td>\n",
       "      <td>891.000000</td>\n",
       "      <td>714.000000</td>\n",
       "      <td>891.000000</td>\n",
       "      <td>891.000000</td>\n",
       "      <td>891.000000</td>\n",
       "    </tr>\n",
       "    <tr>\n",
       "      <th>mean</th>\n",
       "      <td>0.383838</td>\n",
       "      <td>2.308642</td>\n",
       "      <td>29.699118</td>\n",
       "      <td>0.523008</td>\n",
       "      <td>0.381594</td>\n",
       "      <td>32.204208</td>\n",
       "    </tr>\n",
       "    <tr>\n",
       "      <th>std</th>\n",
       "      <td>0.486592</td>\n",
       "      <td>0.836071</td>\n",
       "      <td>14.526497</td>\n",
       "      <td>1.102743</td>\n",
       "      <td>0.806057</td>\n",
       "      <td>49.693429</td>\n",
       "    </tr>\n",
       "    <tr>\n",
       "      <th>min</th>\n",
       "      <td>0.000000</td>\n",
       "      <td>1.000000</td>\n",
       "      <td>0.420000</td>\n",
       "      <td>0.000000</td>\n",
       "      <td>0.000000</td>\n",
       "      <td>0.000000</td>\n",
       "    </tr>\n",
       "    <tr>\n",
       "      <th>25%</th>\n",
       "      <td>0.000000</td>\n",
       "      <td>2.000000</td>\n",
       "      <td>20.125000</td>\n",
       "      <td>0.000000</td>\n",
       "      <td>0.000000</td>\n",
       "      <td>7.910400</td>\n",
       "    </tr>\n",
       "    <tr>\n",
       "      <th>50%</th>\n",
       "      <td>0.000000</td>\n",
       "      <td>3.000000</td>\n",
       "      <td>28.000000</td>\n",
       "      <td>0.000000</td>\n",
       "      <td>0.000000</td>\n",
       "      <td>14.454200</td>\n",
       "    </tr>\n",
       "    <tr>\n",
       "      <th>75%</th>\n",
       "      <td>1.000000</td>\n",
       "      <td>3.000000</td>\n",
       "      <td>38.000000</td>\n",
       "      <td>1.000000</td>\n",
       "      <td>0.000000</td>\n",
       "      <td>31.000000</td>\n",
       "    </tr>\n",
       "    <tr>\n",
       "      <th>max</th>\n",
       "      <td>1.000000</td>\n",
       "      <td>3.000000</td>\n",
       "      <td>80.000000</td>\n",
       "      <td>8.000000</td>\n",
       "      <td>6.000000</td>\n",
       "      <td>512.329200</td>\n",
       "    </tr>\n",
       "  </tbody>\n",
       "</table>\n",
       "</div>"
      ],
      "text/plain": [
       "         survived      pclass         age       sibsp       parch        fare\n",
       "count  891.000000  891.000000  714.000000  891.000000  891.000000  891.000000\n",
       "mean     0.383838    2.308642   29.699118    0.523008    0.381594   32.204208\n",
       "std      0.486592    0.836071   14.526497    1.102743    0.806057   49.693429\n",
       "min      0.000000    1.000000    0.420000    0.000000    0.000000    0.000000\n",
       "25%      0.000000    2.000000   20.125000    0.000000    0.000000    7.910400\n",
       "50%      0.000000    3.000000   28.000000    0.000000    0.000000   14.454200\n",
       "75%      1.000000    3.000000   38.000000    1.000000    0.000000   31.000000\n",
       "max      1.000000    3.000000   80.000000    8.000000    6.000000  512.329200"
      ]
     },
     "execution_count": 17,
     "metadata": {},
     "output_type": "execute_result"
    }
   ],
>>>>>>> :wq
   "source": [
    "# Pull up descriptive statistics for each variable.\n",
    "titanic.describe()"
   ]
  },
  {
   "cell_type": "markdown",
   "metadata": {},
   "source": [
    "### Diagnosing Data Problems\n",
    "\n",
    "- Whenever you get a new data set, the fastest way to find mistakes and inconsistencies is to look at the descriptive statistics.\n",
    "  - If anything looks too high or too low relative to your experience, there may be issues with the data collection.\n",
    "- Your data may contain a lot of missing values and may need to be cleaned meticulously before they can be combined with other data.\n",
    "  - You can take a quick average or moving average to smooth out the data and combine that to preview your results before you embark on your much longer data-cleaning journey.\n",
    "  - Sometimes filling in missing values with their means or medians will be the best solution for dealing with missing data. Other times, you may want to drop the offending rows or do real imputation."
   ]
  },
  {
   "cell_type": "markdown",
   "metadata": {},
   "source": [
    "<a id=\"descriptive-statistics-fundamentals\"></a>\n",
    "## Descriptive Statistics Fundamentals\n",
    "---\n",
    "\n",
    "- **Objective:** Code summary statistics using NumPy and Pandas: mean, median, mode, max, min, quartile, inter-quartile range, variance, standard deviation, and correlation."
   ]
  },
  {
   "cell_type": "markdown",
   "metadata": {},
   "source": [
    "### A Quick Review of Notation"
   ]
  },
  {
   "cell_type": "markdown",
   "metadata": {},
   "source": [
    "The sum of a constant, $k$, $n$ times:\n",
    "$$\\sum_{i=1}^nk$$"
   ]
  },
  {
   "cell_type": "code",
   "execution_count": 65,
   "metadata": {
    "ExecuteTime": {
     "end_time": "2018-04-12T23:45:50.903985Z",
     "start_time": "2018-04-12T23:45:50.889262Z"
    }
   },
   "outputs": [
    {
     "data": {
      "text/plain": [
       "40"
      ]
     },
     "execution_count": 65,
     "metadata": {},
     "output_type": "execute_result"
    }
   ],
   "source": [
    "# k + k + k + k + ... + k\n",
    "k = 4\n",
    "s = 0\n",
    "for i in range(10):\n",
    "    s += k\n",
    "   \n",
    "s"
   ]
  },
  {
   "cell_type": "markdown",
   "metadata": {},
   "source": [
    "> It is often helpful to think of these sums as `for` loops. For example, the equation can be compactly computed like so:\n",
    "\n",
    "```\n",
    "total = 0\n",
    "\n",
    "# For i from 1 up to and including n, add k to the sum.\n",
    "for i in range(1, n+1):\n",
    "    total += k\n",
    "```\n",
    "\n",
    "> Or, even more succinctly (using a generator comprehension):\n",
    "\n",
    "```\n",
    "total = sum(k for i in range(1, n+1))\n",
    "```"
   ]
  },
  {
   "cell_type": "code",
   "execution_count": 68,
   "metadata": {
    "ExecuteTime": {
     "end_time": "2018-04-12T23:48:47.601010Z",
     "start_time": "2018-04-12T23:48:47.591025Z"
    }
   },
   "outputs": [
    {
     "data": {
      "text/plain": [
       "40"
      ]
     },
     "execution_count": 68,
     "metadata": {},
     "output_type": "execute_result"
    }
   ],
   "source": [
    "n = 10\n",
    "k = 4\n",
    "total = sum(k for i in range(1, n+1))\n",
    "total"
   ]
  },
  {
   "cell_type": "code",
   "execution_count": 70,
   "metadata": {
    "ExecuteTime": {
     "end_time": "2018-04-12T23:49:10.116374Z",
     "start_time": "2018-04-12T23:49:10.107356Z"
    }
   },
   "outputs": [
    {
     "data": {
      "text/plain": [
       "40"
      ]
     },
     "execution_count": 70,
     "metadata": {},
     "output_type": "execute_result"
    }
   ],
   "source": [
    "total = sum([k for i in range(1, n+1)])\n",
    "total"
   ]
  },
  {
   "cell_type": "markdown",
   "metadata": {},
   "source": [
    "The sum of all numbers from 1 up to and including $n$:\n",
    "$$\\sum_{i=1}^ni$$"
   ]
  },
  {
   "cell_type": "code",
<<<<<<< HEAD
   "execution_count": 71,
   "metadata": {
    "ExecuteTime": {
     "end_time": "2018-04-12T23:50:12.276943Z",
     "start_time": "2018-04-12T23:50:12.255900Z"
    }
   },
=======
   "execution_count": 21,
   "metadata": {},
>>>>>>> :wq
   "outputs": [
    {
     "data": {
      "text/plain": [
       "55"
      ]
     },
<<<<<<< HEAD
     "execution_count": 71,
=======
     "execution_count": 21,
>>>>>>> :wq
     "metadata": {},
     "output_type": "execute_result"
    }
   ],
   "source": [
    "# 1 + 2 + 3 + ... + n\n",
<<<<<<< HEAD
    "total = sum(i for i in range(1, n+1))\n",
=======
    "n = 10\n",
    "total = sum(i for i in range(1,n+1))\n",
>>>>>>> :wq
    "total"
   ]
  },
  {
   "cell_type": "markdown",
   "metadata": {},
   "source": [
    "> ```\n",
    "total = sum(i for i in range(1, n+1))\n",
    "```"
   ]
  },
  {
   "cell_type": "markdown",
   "metadata": {},
   "source": [
    "The sum of all $x$ from the first $x$ entry to the $n$th $x$ entry:\n",
    "$$\\sum_{i=0}^nx_i$$"
   ]
  },
  {
   "cell_type": "code",
   "execution_count": 20,
   "metadata": {
    "ExecuteTime": {
     "end_time": "2018-04-12T21:45:20.910163Z",
     "start_time": "2018-04-12T21:45:20.905808Z"
    }
   },
   "outputs": [],
   "source": [
    "# x_1 + x_2 + x_3 + ... + x_n"
   ]
  },
  {
   "cell_type": "markdown",
   "metadata": {},
   "source": [
    "> ```\n",
    "total = sum(xi in x)      # or just sum(x)\n",
    "```"
   ]
  },
  {
   "cell_type": "markdown",
   "metadata": {},
   "source": [
    "#### Code-Along\n",
    "\n",
    "_Optional: Write down the mathematical notation for the following questions:_"
   ]
  },
  {
   "cell_type": "code",
<<<<<<< HEAD
   "execution_count": 21,
   "metadata": {
    "ExecuteTime": {
     "end_time": "2018-04-12T21:45:20.921165Z",
     "start_time": "2018-04-12T21:45:20.915468Z"
    }
   },
   "outputs": [],
=======
   "execution_count": 25,
   "metadata": {},
   "outputs": [
    {
     "data": {
      "text/plain": [
       "28"
      ]
     },
     "execution_count": 25,
     "metadata": {},
     "output_type": "execute_result"
    }
   ],
>>>>>>> :wq
   "source": [
    "# Compute the sum of seven 4s using base Python.\n",
    "n = 7\n",
    "k = 4\n",
    "total = sum(k for i in range(1,n+1))\n",
    "total"
   ]
  },
  {
   "cell_type": "code",
<<<<<<< HEAD
   "execution_count": 76,
   "metadata": {
    "ExecuteTime": {
     "end_time": "2018-04-12T23:58:33.116514Z",
     "start_time": "2018-04-12T23:58:33.097686Z"
    }
   },
=======
   "execution_count": 36,
   "metadata": {},
>>>>>>> :wq
   "outputs": [
    {
     "data": {
      "text/plain": [
<<<<<<< HEAD
       "array([4, 4, 4, 4, 4, 4, 4])"
      ]
     },
     "execution_count": 76,
=======
       "28"
      ]
     },
     "execution_count": 36,
>>>>>>> :wq
     "metadata": {},
     "output_type": "execute_result"
    }
   ],
   "source": [
<<<<<<< HEAD
    "np.array([4] * 7)"
=======
    "# Compute the sum of seven 4s using NumPy.\n",
    "np.array([4]*7)\n",
    "#or\n",
    "np.sum(np.full(7,4))"
>>>>>>> :wq
   ]
  },
  {
   "cell_type": "code",
<<<<<<< HEAD
   "execution_count": 75,
   "metadata": {
    "ExecuteTime": {
     "end_time": "2018-04-12T23:58:10.076518Z",
     "start_time": "2018-04-12T23:58:10.063754Z"
    }
   },
=======
   "execution_count": 37,
   "metadata": {},
>>>>>>> :wq
   "outputs": [
    {
     "data": {
      "text/plain": [
<<<<<<< HEAD
       "array([[4, 4, 4],\n",
       "       [4, 4, 4],\n",
       "       [4, 4, 4],\n",
       "       [4, 4, 4],\n",
       "       [4, 4, 4],\n",
       "       [4, 4, 4],\n",
       "       [4, 4, 4]])"
      ]
     },
     "execution_count": 75,
=======
       "55"
      ]
     },
     "execution_count": 37,
>>>>>>> :wq
     "metadata": {},
     "output_type": "execute_result"
    }
   ],
   "source": [
<<<<<<< HEAD
    "# Compute the sum of seven 4s using NumPy.\n",
    "np.full(shape=(7, 3),fill_value=4)"
=======
    "# Compute the sum of 1 through 10 using base Python.\n",
    "total = sum(i for i in range(1,11))\n",
    "total"
>>>>>>> :wq
   ]
  },
  {
   "cell_type": "code",
<<<<<<< HEAD
   "execution_count": 77,
   "metadata": {
    "ExecuteTime": {
     "end_time": "2018-04-12T23:59:05.161501Z",
     "start_time": "2018-04-12T23:59:05.143015Z"
    }
   },
=======
   "execution_count": 39,
   "metadata": {},
>>>>>>> :wq
   "outputs": [
    {
     "data": {
      "text/plain": [
<<<<<<< HEAD
       "28"
      ]
     },
     "execution_count": 77,
=======
       "28693.949299999967"
      ]
     },
     "execution_count": 39,
>>>>>>> :wq
     "metadata": {},
     "output_type": "execute_result"
    }
   ],
<<<<<<< HEAD
   "source": [
    "np.sum(np.full(7,4))"
   ]
  },
  {
   "cell_type": "code",
   "execution_count": 23,
   "metadata": {
    "ExecuteTime": {
     "end_time": "2018-04-12T21:45:20.945629Z",
     "start_time": "2018-04-12T21:45:20.940602Z"
    }
   },
   "outputs": [],
   "source": [
    "# Compute the sum of 1 through 10 using base Python.\n"
   ]
  },
  {
   "cell_type": "code",
   "execution_count": 78,
   "metadata": {
    "ExecuteTime": {
     "end_time": "2018-04-12T23:59:49.255066Z",
     "start_time": "2018-04-12T23:59:49.228036Z"
    }
   },
   "outputs": [
    {
     "data": {
      "text/plain": [
       "28693.9493"
      ]
     },
     "execution_count": 78,
     "metadata": {},
     "output_type": "execute_result"
    }
   ],
   "source": [
    "# Using the titanic.fare column, compute the total fare paid by passengers.\n",
    "titanic.fare.sum()"
   ]
  },
  {
   "cell_type": "code",
   "execution_count": 79,
   "metadata": {
    "ExecuteTime": {
     "end_time": "2018-04-13T00:00:12.196490Z",
     "start_time": "2018-04-13T00:00:12.183479Z"
    }
   },
   "outputs": [
    {
     "data": {
      "text/plain": [
       "28693.9493"
      ]
     },
     "execution_count": 79,
     "metadata": {},
     "output_type": "execute_result"
    }
   ],
   "source": [
=======
   "source": [
    "# Using the titanic.fare column, compute the total fare paid by passengers.\n",
    "titanic.fare.sum()\n",
    "#or\n",
>>>>>>> :wq
    "np.sum(titanic.fare)"
   ]
  },
  {
   "cell_type": "markdown",
   "metadata": {},
   "source": [
    "<a id=\"measures-of-central-tendency\"></a>\n",
    "### Measures of Central Tendency"
   ]
  },
  {
   "cell_type": "markdown",
   "metadata": {},
   "source": [
    "- Mean\n",
    "- Median\n",
    "- Mode"
   ]
  },
  {
   "cell_type": "markdown",
   "metadata": {},
   "source": [
    "#### Mean\n",
    "The mean — also known as the average or expected value — is defined as:\n",
    "$$E[X] = \\bar{X} =\\frac 1n\\sum_{i=1}^nx_i$$\n",
    "\n",
    "It is determined by summing all data points in a population and then dividing the total by the number of points. The resulting number is known as the mean or the average.\n",
    "\n",
    "Be careful — the mean can be highly affected by outliers. For example, the mean of a very large number and some small numbers will be much larger than the \"typical\" small numbers. Earlier, we saw that the mean squared error (MSE) was used to optimize linear regression. Because this mean is highly affected by outliers, the resulting linear regression model is, too."
   ]
  },
  {
   "cell_type": "markdown",
   "metadata": {},
   "source": [
    "#### Median\n",
    "The median refers to the midpoint in a series of numbers. Notice that the median is not affected by outliers, so it more so represents the \"typical\" value in a set.\n",
    "\n",
    "$$ 0,1,2,[3],5,5,1004 $$\n",
    "\n",
    "$$ 1,3,4,[4,5],5,5,7 $$\n",
    "\n",
    "To find the median:\n",
    "\n",
    "- Arrange the numbers in order from smallest to largest.\n",
    "    - If there is an odd number of values, the middle value is the median.\n",
    "    - If there is an even number of values, the average of the middle two values is the median.\n",
    "\n",
    "Although the median has many useful properties, the mean is easier to use in optimization algorithms. The median is more often used in analysis than in machine learning algorithms."
   ]
  },
  {
   "cell_type": "markdown",
   "metadata": {},
   "source": [
    "#### Mode\n",
    "The mode of a set of values is the value that occurs most often.\n",
    "A set of values may have more than one mode, or no mode at all.\n",
    "\n",
    "$$1,0,1,5,7,8,9,3,4,1$$ \n",
    "\n",
    "$1$ is the mode, as it occurs the most often (three times)."
   ]
  },
  {
   "cell_type": "markdown",
   "metadata": {},
   "source": [
    "#### Code-Along"
   ]
  },
  {
   "cell_type": "code",
<<<<<<< HEAD
   "execution_count": 80,
   "metadata": {
    "ExecuteTime": {
     "end_time": "2018-04-13T00:10:45.060604Z",
     "start_time": "2018-04-13T00:10:45.033893Z"
    }
   },
   "outputs": [
    {
     "data": {
      "text/plain": [
       "0.0"
      ]
     },
     "execution_count": 80,
     "metadata": {},
     "output_type": "execute_result"
    }
   ],
   "source": [
    "titanic.fare.min()"
   ]
  },
  {
   "cell_type": "code",
   "execution_count": 81,
   "metadata": {
    "ExecuteTime": {
     "end_time": "2018-04-13T00:11:10.357490Z",
     "start_time": "2018-04-13T00:11:10.322124Z"
    }
   },
=======
   "execution_count": 47,
   "metadata": {},
>>>>>>> :wq
   "outputs": [
    {
     "data": {
      "text/plain": [
<<<<<<< HEAD
       "0.0"
      ]
     },
     "execution_count": 81,
=======
       "32.2042079685746"
      ]
     },
     "execution_count": 47,
>>>>>>> :wq
     "metadata": {},
     "output_type": "execute_result"
    }
   ],
   "source": [
<<<<<<< HEAD
    "titanic.fare.sort_values().iloc[0]"
=======
    "# Find the mean of the titanic.fare series using base Python:\n",
    "sum(titanic.fare.tolist())/len(titanic.fare)"
>>>>>>> :wq
   ]
  },
  {
   "cell_type": "code",
<<<<<<< HEAD
   "execution_count": 82,
   "metadata": {
    "ExecuteTime": {
     "end_time": "2018-04-13T00:11:31.930171Z",
     "start_time": "2018-04-13T00:11:31.909126Z"
    }
   },
   "outputs": [
    {
     "data": {
      "text/plain": [
       "32.204207968574636"
      ]
     },
     "execution_count": 82,
     "metadata": {},
     "output_type": "execute_result"
    }
   ],
   "source": [
    "titanic.fare.mean()\n"
   ]
  },
  {
   "cell_type": "code",
   "execution_count": 84,
   "metadata": {
    "ExecuteTime": {
     "end_time": "2018-04-13T00:12:22.222636Z",
     "start_time": "2018-04-13T00:12:22.195642Z"
    }
   },
   "outputs": [
    {
     "data": {
      "text/plain": [
       "32.2042079685746"
      ]
     },
     "execution_count": 84,
     "metadata": {},
     "output_type": "execute_result"
    }
   ],
   "source": [
    "# Find the mean of the titanic.fare series using base Python:\n",
    "sum(titanic.fare.tolist())/len(titanic.fare)"
   ]
  },
  {
   "cell_type": "code",
   "execution_count": null,
   "metadata": {},
   "outputs": [],
   "source": []
  },
  {
   "cell_type": "code",
   "execution_count": 85,
   "metadata": {
    "ExecuteTime": {
     "end_time": "2018-04-13T00:15:42.674999Z",
     "start_time": "2018-04-13T00:15:42.646020Z"
    }
   },
=======
   "execution_count": 42,
   "metadata": {},
>>>>>>> :wq
   "outputs": [
    {
     "data": {
      "text/plain": [
<<<<<<< HEAD
       "32.204207968574636"
      ]
     },
     "execution_count": 85,
=======
       "32.2042079685746"
      ]
     },
     "execution_count": 42,
>>>>>>> :wq
     "metadata": {},
     "output_type": "execute_result"
    }
   ],
   "source": [
    "# Find the mean of the titanic.fare series using NumPy:\n",
    "np.mean(titanic.fare)"
   ]
  },
  {
   "cell_type": "code",
<<<<<<< HEAD
   "execution_count": 27,
   "metadata": {
    "ExecuteTime": {
     "end_time": "2018-04-12T21:45:21.001125Z",
     "start_time": "2018-04-12T21:45:20.994752Z"
    }
   },
   "outputs": [],
=======
   "execution_count": 44,
   "metadata": {},
   "outputs": [
    {
     "data": {
      "text/plain": [
       "32.2042079685746"
      ]
     },
     "execution_count": 44,
     "metadata": {},
     "output_type": "execute_result"
    }
   ],
>>>>>>> :wq
   "source": [
    "# Find the mean of the titanic.fare series using Pandas:\n",
    "titanic['fare'].mean()"
   ]
  },
  {
   "cell_type": "code",
<<<<<<< HEAD
   "execution_count": 86,
   "metadata": {
    "ExecuteTime": {
     "end_time": "2018-04-13T00:15:57.082459Z",
     "start_time": "2018-04-13T00:15:57.055406Z"
    }
   },
=======
   "execution_count": 45,
   "metadata": {},
>>>>>>> :wq
   "outputs": [
    {
     "data": {
      "text/plain": [
       "14.4542"
      ]
     },
<<<<<<< HEAD
     "execution_count": 86,
=======
     "execution_count": 45,
>>>>>>> :wq
     "metadata": {},
     "output_type": "execute_result"
    }
   ],
   "source": [
    "# What was the median fare paid (using Pandas)?\n",
<<<<<<< HEAD
    "titanic.fare.median()"
=======
    "titanic['fare'].median()"
>>>>>>> :wq
   ]
  },
  {
   "cell_type": "code",
<<<<<<< HEAD
   "execution_count": 87,
   "metadata": {
    "ExecuteTime": {
     "end_time": "2018-04-13T00:16:06.186027Z",
     "start_time": "2018-04-13T00:16:06.145083Z"
    }
   },
=======
   "execution_count": 46,
   "metadata": {},
>>>>>>> :wq
   "outputs": [
    {
     "data": {
      "text/plain": [
       "0    8.05\n",
       "dtype: float64"
      ]
     },
<<<<<<< HEAD
     "execution_count": 87,
=======
     "execution_count": 46,
>>>>>>> :wq
     "metadata": {},
     "output_type": "execute_result"
    }
   ],
   "source": [
    "# Use Pandas to find the most common fare paid on the Titanic:\n",
<<<<<<< HEAD
    "titanic.fare.mode()"
=======
    "titanic['fare'].mode()"
>>>>>>> :wq
   ]
  },
  {
   "cell_type": "markdown",
   "metadata": {},
   "source": [
    "<a id=\"math-review\"></a>\n",
    "### Math Review\n",
    "\n",
    "#### How Do We Measure Distance?\n",
    "\n",
    "One method is to take the difference between two points:\n",
    "\n",
    "$$X_2 - X_1$$\n",
    "\n",
    "However, this can be inconvenient because of negative numbers.\n",
    "\n",
    "We often use the following square root trick to deal with negative numbers. Note this is equivalent to the absolute value (if the points are 1-D):\n",
    "\n",
    "$$\\sqrt{(X_2-X_1)^2} = | X_2 - X_1 |$$\n",
    "\n",
    "#### What About Distance in Multiple Dimensions?\n",
    "\n",
    "We can turn to the Pythagorean theorem.\n",
    "\n",
    "$$a^2 + b^2 = c^2$$\n",
    "\n",
    "To find the distance along a diagonal, it is sufficient to measure one dimension at a time:\n",
    "\n",
    "$$\\sqrt{a^2 + b^2} = c$$\n",
    "\n",
    "More generally, we can write this as the norm (You'll see this in machine learning papers):\n",
    "\n",
    "$$\\|X\\|_2 = \\sqrt{\\sum{x_i^2}} = c$$\n",
    "\n",
    "What if we want to work with points rather than distances? For points $\\vec{x}: (x_1, x_1)$ and $\\vec{y}: (y_1, y_2)$ we can write:\n",
    "\n",
    "$$\\sqrt{(x_1 - y_1)^2 + (x_2 - y_2)^2} = c$$\n",
    "or\n",
    "$$\\sqrt{\\sum{(x_i - y_i)^2}} = c$$\n",
    "or\n",
    "$$\\| \\vec{x} - \\vec{y} \\| = c$$\n",
    "\n",
    "> You may be more familiar with defining points as $(x, y)$ rather than $(x_1, x_2)$. However, in machine learning it is much more convenient to define each coordinate using the same base letter with a different subscript. This allows us to easily represent a 100-dimensional point, e.g., $(x_1, x_2, ..., x_{100})$. If we use the grade school method, we would soon run out of letters!"
   ]
  },
  {
   "cell_type": "markdown",
   "metadata": {},
   "source": [
    "<a id=\"measures-of-dispersion-standard-deviation-and-variance\"></a>\n",
    "### Measures of Dispersion: Standard Deviation and Variance"
   ]
  },
  {
   "cell_type": "markdown",
   "metadata": {},
   "source": [
    "Standard deviation (SD, $σ$ for population standard deviation, or $s$ for sample standard deviation) is a measure that is used to quantify the amount of variation or dispersion from the mean of a set of data values. A low standard deviation means that most of the numbers are close to the average. A high standard deviation means that the numbers are spread out.\n",
    "\n",
    "Standard deviation is the square root of variance:\n",
    "\n",
    "$$variance = \\frac {\\sum{(x_i - \\bar{X})^2}} {n-1}$$\n",
    "\n",
    "$$s = \\sqrt{\\frac {\\sum{(x_i - \\bar{X})^2}} {n-1}}$$\n",
    "\n",
    "> **Standard deviation** is often used because it is in the same units as the original data! By glancing at the standard deviation, we can immediately estimate how \"typical\" a data point might be by how many standard deviations it is from the mean. Furthermore, standard deviation is the only value that makes sense to visually draw alongside the original data.\n",
    "\n",
    "> **Variance** is often used for efficiency in computations. The square root in the SD always increases with the function to which it is applied. So, removing it can simplify calculations (e.g., taking derivatives), particularly if we are using the variance for tasks such as optimization."
   ]
  },
  {
   "cell_type": "markdown",
   "metadata": {},
   "source": [
    "**That can be a lot to take in, so let's break it down in Python.**\n",
    "\n",
    "#### Assign the first 5 rows of titanic age data to a variable:"
   ]
  },
  {
   "cell_type": "code",
<<<<<<< HEAD
   "execution_count": 88,
   "metadata": {
    "ExecuteTime": {
     "end_time": "2018-04-13T00:26:05.533072Z",
     "start_time": "2018-04-13T00:26:05.514352Z"
    }
   },
=======
   "execution_count": 48,
   "metadata": {},
>>>>>>> :wq
   "outputs": [
    {
     "data": {
      "text/plain": [
<<<<<<< HEAD
       "0     7.2500\n",
       "1    71.2833\n",
       "2     7.9250\n",
       "3    53.1000\n",
       "4     8.0500\n",
       "Name: fare, dtype: float64"
      ]
     },
     "execution_count": 88,
=======
       "0    22.0\n",
       "1    38.0\n",
       "2    26.0\n",
       "3    35.0\n",
       "4    35.0\n",
       "Name: age, dtype: float64"
      ]
     },
     "execution_count": 48,
>>>>>>> :wq
     "metadata": {},
     "output_type": "execute_result"
    }
   ],
   "source": [
    "# Take the first five rows of titanic age data.\n",
<<<<<<< HEAD
    "s = titanic.fare.iloc[:5]\n",
    "s"
=======
    "titanic.age.head()"
>>>>>>> :wq
   ]
  },
  {
   "cell_type": "markdown",
   "metadata": {},
   "source": [
    "#### Calculate the mean by hand:"
   ]
  },
  {
   "cell_type": "code",
<<<<<<< HEAD
   "execution_count": 89,
   "metadata": {
    "ExecuteTime": {
     "end_time": "2018-04-13T00:26:29.564618Z",
     "start_time": "2018-04-13T00:26:29.549241Z"
    }
   },
=======
   "execution_count": 55,
   "metadata": {},
>>>>>>> :wq
   "outputs": [
    {
     "data": {
      "text/plain": [
<<<<<<< HEAD
       "29.521660000000004"
      ]
     },
     "execution_count": 89,
=======
       "29.69911764705882"
      ]
     },
     "execution_count": 55,
>>>>>>> :wq
     "metadata": {},
     "output_type": "execute_result"
    }
   ],
   "source": [
    "# Calculate mean by hand.\n",
<<<<<<< HEAD
    "mean = s.mean()\n",
=======
    "sum = titanic.age.sum()\n",
    "count = titanic.age.count()\n",
    "mean = sum/count\n",
>>>>>>> :wq
    "mean"
   ]
  },
  {
   "cell_type": "markdown",
   "metadata": {},
   "source": [
    "#### Calculate the variance by hand:"
   ]
  },
  {
   "cell_type": "code",
<<<<<<< HEAD
   "execution_count": 90,
=======
   "execution_count": 60,
   "metadata": {},
   "outputs": [],
   "source": [
    "# Calculate variance by hand\n",
    "sss = 0\n",
    "for value in titanic.age.tolist():\n",
    "    sss += (value - mean)**2\n"
   ]
  },
  {
   "cell_type": "code",
   "execution_count": 61,
   "metadata": {},
   "outputs": [
    {
     "data": {
      "text/plain": [
       "nan"
      ]
     },
     "execution_count": 61,
     "metadata": {},
     "output_type": "execute_result"
    }
   ],
   "source": []
  },
  {
   "cell_type": "code",
   "execution_count": null,
>>>>>>> :wq
   "metadata": {
    "ExecuteTime": {
     "end_time": "2018-04-13T00:27:45.672972Z",
     "start_time": "2018-04-13T00:27:45.659046Z"
    }
   },
<<<<<<< HEAD
   "outputs": [
    {
     "data": {
      "text/plain": [
       "3723.447438112"
      ]
     },
     "execution_count": 90,
     "metadata": {},
     "output_type": "execute_result"
    }
   ],
   "source": [
    "# Calculate variance by hand\n",
    "var = 0\n",
    "for value in s.tolist():\n",
    "    var += (value - mean) ** 2\n",
    "var"
   ]
  },
  {
   "cell_type": "code",
   "execution_count": 92,
   "metadata": {
    "ExecuteTime": {
     "end_time": "2018-04-13T00:28:46.259532Z",
     "start_time": "2018-04-13T00:28:46.240910Z"
    }
   },
   "outputs": [
    {
     "data": {
      "text/plain": [
       "930.861859528"
      ]
     },
     "execution_count": 92,
     "metadata": {},
     "output_type": "execute_result"
    }
   ],
   "source": [
    "var /= len(s)-1\n",
    "var"
   ]
=======
   "outputs": [],
   "source": []
>>>>>>> :wq
  },
  {
   "cell_type": "markdown",
   "metadata": {},
   "source": [
    "#### Calculate the variance and the standard deviation using Pandas:"
   ]
  },
  {
   "cell_type": "code",
   "execution_count": 93,
   "metadata": {
    "ExecuteTime": {
     "end_time": "2018-04-13T00:29:04.888835Z",
     "start_time": "2018-04-13T00:29:04.875551Z"
    }
   },
   "outputs": [
    {
     "data": {
      "text/plain": [
       "930.861859528"
      ]
     },
     "execution_count": 93,
     "metadata": {},
     "output_type": "execute_result"
    }
   ],
   "source": [
    "# Verify with Pandas\n",
    "s.var()"
   ]
  },
  {
   "cell_type": "markdown",
   "metadata": {},
   "source": [
    "<a id=\"our-first-model\"></a>\n",
    "## Our First Model\n",
    "---"
   ]
  },
  {
   "cell_type": "markdown",
   "metadata": {},
   "source": [
    "In this section, we will make a **mathematical model** of data. When we say **model**, we mean it in the same sense that a toy car is a **model** of a real car. If we mainly care about appearance, the toy car model is an excellent model. However, the toy car fails to accurately represent other aspects of the car. For example, we cannot use a toy car to test how the actual car would perform in a collision.\n",
    "\n",
    "In data science, we might take a rich, complex person and model that person solely as a two-dimensional vector: _(age, smokes cigarettes)_. For example: $(90, 1)$, $(28, 0)$, and $(52, 1)$, where $1$ indicates \"smokes cigarettes.\" This model of a complex person obviously fails to account for many things. However, if we primarily care about modeling health risk, it might provide valuable insight.\n",
    "\n",
    "Now that we have superficially modeled a complex person, we might determine a formula that evaluates risk. For example, an older person tends to have worse health, as does a person who smokes. So, we might deem someone as having risk should `age + 50*smokes > 100`. \n",
    "\n",
    "This is a **mathematical model**, as we use math to assess risk. It could be mostly accurate. However, there are surely elderly people who smoke who are in excellent health.\n",
    "\n",
    "\n",
    "---"
   ]
  },
  {
   "cell_type": "markdown",
   "metadata": {},
   "source": [
    "Let's make our first model from scratch. We'll use it predict the `fare` column in the Titanic data. So what data will we use? Actually, none."
   ]
  },
  {
   "cell_type": "markdown",
   "metadata": {},
   "source": [
    "The simplest model we can build is an estimation of the mean, median, or most common value. If we have no feature matrix and only an outcome, this is the best approach to make a prediction using only empirical data. "
   ]
  },
  {
   "cell_type": "markdown",
   "metadata": {},
   "source": [
    "This seems silly, but we'll actually use it all the time to create a baseline of how well we do with no data and determine whether or not our more sophisticated models make an improvement."
   ]
  },
  {
   "cell_type": "markdown",
   "metadata": {},
   "source": [
    "You can find out more about dummy estimators [here](http://scikit-learn.org/stable/modules/model_evaluation.html#dummy-estimators)."
   ]
  },
  {
   "cell_type": "markdown",
   "metadata": {},
   "source": [
    "#### Get the `fare` column from the Titanic data and store it in variable `y`:"
   ]
  },
  {
   "cell_type": "code",
<<<<<<< HEAD
   "execution_count": 96,
=======
   "execution_count": 62,
>>>>>>> :wq
   "metadata": {
    "ExecuteTime": {
     "end_time": "2018-04-13T00:48:05.840239Z",
     "start_time": "2018-04-13T00:48:05.832234Z"
    }
   },
   "outputs": [],
   "source": [
    "# Get the fare column from the Titanic data and store it as y:\n",
<<<<<<< HEAD
    "fare = titanic.fare"
   ]
  },
  {
   "cell_type": "code",
   "execution_count": 97,
   "metadata": {
    "ExecuteTime": {
     "end_time": "2018-04-13T00:48:06.829585Z",
     "start_time": "2018-04-13T00:48:06.813066Z"
    }
   },
   "outputs": [
    {
     "data": {
      "text/plain": [
       "0     7.2500\n",
       "1    71.2833\n",
       "2     7.9250\n",
       "3    53.1000\n",
       "4     8.0500\n",
       "Name: fare, dtype: float64"
      ]
     },
     "execution_count": 97,
     "metadata": {},
     "output_type": "execute_result"
    }
   ],
   "source": [
    "fare.head()"
=======
    "y = titanic.fare"
>>>>>>> :wq
   ]
  },
  {
   "cell_type": "markdown",
   "metadata": {},
   "source": [
    "#### Create predictions `y_pred` (in this case just the mean of `y`):"
   ]
  },
  {
   "cell_type": "code",
<<<<<<< HEAD
   "execution_count": 101,
   "metadata": {
    "ExecuteTime": {
     "end_time": "2018-04-13T00:49:28.207620Z",
     "start_time": "2018-04-13T00:49:28.195096Z"
    }
   },
   "outputs": [
    {
     "data": {
      "text/plain": [
       "32.204207968574636"
      ]
     },
     "execution_count": 101,
     "metadata": {},
     "output_type": "execute_result"
    }
   ],
   "source": [
    "# Stored predictions in y_pred:\n",
    "fare_pred = fare.mean()\n",
    "fare_pred"
   ]
  },
  {
   "cell_type": "markdown",
   "metadata": {},
   "source": [
    "#### Find the average squared distance between each prediction and its actual value:\n",
    "\n",
    "This is known as the mean squared error (MSE)."
   ]
  },
  {
   "cell_type": "code",
   "execution_count": 100,
   "metadata": {
    "ExecuteTime": {
     "end_time": "2018-04-13T00:49:08.320266Z",
     "start_time": "2018-04-13T00:49:08.290867Z"
    }
   },
   "outputs": [
    {
     "data": {
      "text/plain": [
       "0   -24.954208\n",
       "1    39.079092\n",
       "2   -24.279208\n",
       "3    20.895792\n",
       "4   -24.154208\n",
       "Name: fare, dtype: float64"
      ]
     },
     "execution_count": 100,
     "metadata": {},
     "output_type": "execute_result"
    }
   ],
   "source": [
    "# Squared error is hard to read; let's look at mean squared error:\n",
    "error = fare - fare_pred\n",
    "error.head()"
   ]
  },
  {
   "cell_type": "code",
   "execution_count": 102,
   "metadata": {
    "ExecuteTime": {
     "end_time": "2018-04-13T00:50:13.948848Z",
     "start_time": "2018-04-13T00:50:13.926391Z"
    }
   },
   "outputs": [
    {
     "data": {
      "text/plain": [
       "0     622.712495\n",
       "1    1527.175434\n",
       "2     589.479940\n",
       "3     436.634125\n",
       "4     583.425763\n",
       "Name: fare, dtype: float64"
      ]
     },
     "execution_count": 102,
     "metadata": {},
     "output_type": "execute_result"
    }
   ],
   "source": [
    "squared_error = error.pow(2)\n",
    "squared_error.head()"
   ]
  },
  {
   "cell_type": "code",
   "execution_count": 103,
   "metadata": {
    "ExecuteTime": {
     "end_time": "2018-04-13T00:50:48.222777Z",
     "start_time": "2018-04-13T00:50:48.214935Z"
    }
   },
=======
   "execution_count": 69,
   "metadata": {},
>>>>>>> :wq
   "outputs": [
    {
     "data": {
      "text/plain": [
<<<<<<< HEAD
       "2466.665311685043"
      ]
     },
     "execution_count": 103,
=======
       "32.2042079685746"
      ]
     },
     "execution_count": 69,
>>>>>>> :wq
     "metadata": {},
     "output_type": "execute_result"
    }
   ],
   "source": [
<<<<<<< HEAD
    "mean_squared_error = squared_error.mean()\n",
    "mean_squared_error"
=======
    "# Stored predictions in y_pred:\n",
    "y_pred = y.mean()\n",
    "y_pred"
>>>>>>> :wq
   ]
  },
  {
   "cell_type": "markdown",
   "metadata": {},
   "source": [
    "#### Calculate the root mean squared error (RMSE), the square root of the MSE:"
   ]
  },
  {
   "cell_type": "code",
<<<<<<< HEAD
   "execution_count": 104,
   "metadata": {
    "ExecuteTime": {
     "end_time": "2018-04-13T00:51:22.223366Z",
     "start_time": "2018-04-13T00:51:22.215389Z"
    }
   },
=======
   "execution_count": 72,
   "metadata": {},
>>>>>>> :wq
   "outputs": [
    {
     "data": {
      "text/plain": [
<<<<<<< HEAD
       "49.6655344447741"
      ]
     },
     "execution_count": 104,
=======
       "49.66553444477411"
      ]
     },
     "execution_count": 72,
>>>>>>> :wq
     "metadata": {},
     "output_type": "execute_result"
    }
   ],
<<<<<<< HEAD
=======
   "source": [
    "# Squared error is hard to read; let's look at mean squared error:\n",
    "error = (y - y_pred)\n",
    "sq_error = error.pow(2)\n",
    "mse = sq_error.mean()\n"
   ]
  },
  {
   "cell_type": "markdown",
   "metadata": {},
>>>>>>> :wq
   "source": [
    "# \n",
    "np.sqrt(mean_squared_error)"
   ]
  },
  {
   "cell_type": "code",
<<<<<<< HEAD
   "execution_count": 105,
   "metadata": {
    "ExecuteTime": {
     "end_time": "2018-04-13T00:52:02.158347Z",
     "start_time": "2018-04-13T00:52:01.212377Z"
    }
   },
   "outputs": [
    {
     "name": "stderr",
     "output_type": "stream",
     "text": [
      "/Users/Stefan/.virtualenvs/datr180320/lib/python3.5/site-packages/matplotlib/axes/_axes.py:6462: UserWarning: The 'normed' kwarg is deprecated, and has been replaced by the 'density' kwarg.\n",
      "  warnings.warn(\"The 'normed' kwarg is deprecated, and has been \"\n"
     ]
    },
    {
     "data": {
      "text/plain": [
       "<matplotlib.axes._subplots.AxesSubplot at 0x109e48ef0>"
      ]
     },
     "execution_count": 105,
     "metadata": {},
     "output_type": "execute_result"
    },
    {
     "data": {
      "image/png": "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\n",
      "text/plain": [
       "<Figure size 432x288 with 1 Axes>"
=======
   "execution_count": 74,
   "metadata": {},
   "outputs": [
    {
     "data": {
      "image/png": "iVBORw0KGgoAAAANSUhEUgAAAaYAAAEGCAYAAAAubTHtAAAABHNCSVQICAgIfAhkiAAAAAlwSFlz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\nRlEwiYjIjPL/AUYlT7TpcpwCAAAAAElFTkSuQmCC\n",
      "text/plain": [
       "<matplotlib.figure.Figure at 0x196e313f5c0>"
>>>>>>> :wq
      ]
     },
     "metadata": {},
     "output_type": "display_data"
    }
   ],
   "source": [
<<<<<<< HEAD
=======
    "rmse = np.sqrt(mse)\n",
>>>>>>> :wq
    "sns.distplot(titanic.fare);"
   ]
  },
  {
   "cell_type": "markdown",
   "metadata": {},
   "source": [
    "<a id=\"a-short-introduction-to-model-bias-and-variance\"></a>\n",
    "## A Short Introduction to Model Bias and Variance \n",
    "\n",
    "---\n",
    "\n",
    "- **Objective:** Describe the bias and variance of statistical estimators."
   ]
  },
  {
   "cell_type": "markdown",
   "metadata": {},
   "source": [
    "In simple terms, **bias** shows how accurate a model is in its predictions. (It has **low bias** if it hits the bullseye!)\n",
    "\n",
    "**Variance** shows how reliable a model is in its performance. (It has **low variance** if the points are predicted consistently!)\n",
    "\n",
    "These characteristics have important interactions, but we will save that for later.\n",
    "\n",
    "![Bias and Variance](assets/images/biasVsVarianceImage.png)"
   ]
  },
  {
   "cell_type": "markdown",
   "metadata": {},
   "source": [
    "Remember how we just calculated mean squared error to determine the accuracy of our prediction? It turns out we can do this for any statistical estimator, including mean, variance, and machine learning models."
   ]
  },
  {
   "cell_type": "markdown",
   "metadata": {},
   "source": [
    "We can even decompose mean squared error to identify where the source of error comes from."
   ]
  },
  {
   "cell_type": "markdown",
   "metadata": {},
   "source": [
    "<a id=\"bias-variance-decomposition\"></a>\n",
    "### Bias-Variance Decomposition"
   ]
  },
  {
   "cell_type": "markdown",
   "metadata": {},
   "source": [
    "In the following notation, $f$ refers to a perfect model, while $\\hat{f}$ refers to our model.\n",
    "\n",
    "**Bias**\n",
    "\n",
    "Error caused by bias is calculated as the difference between the expected prediction of our model and the correct value we are trying to predict:\n",
    "\n",
    "$$Bias = E[\\hat{f}(x)] - f(x)$$\n",
    "\n",
    "**Variance**\n",
    "\n",
    "Error caused by variance is taken as the variability of a model prediction for a given point:\n",
    "\n",
    "$$Variance = E[(\\hat{f}(x) - E[\\hat{f}(x)])^2]$$\n",
    "\n",
    "**Mean Squared Error**\n",
    "$$MSE(\\hat{f}(x)) = Var(\\hat{f}(x)) + Bias(\\hat{f}(x),f(x))^2$$"
   ]
  },
  {
   "cell_type": "markdown",
   "metadata": {},
   "source": [
    "> The MSE is actually composed of three sources of error: The **variance**, **bias**, and some **irreducible error** that the model can never render given the available features.\n",
    "\n",
    "This topic will come up again, but for now it's enough to know that we can decompose MSE into the bias of the estimator and the variance of the estimator."
   ]
  },
  {
   "cell_type": "markdown",
   "metadata": {},
   "source": [
    "<a id=\"example-using-bessels-correction\"></a>\n",
    "### Example Using Bessel's Correction"
   ]
  },
  {
   "cell_type": "markdown",
   "metadata": {},
   "source": [
    "It's rarely practical to measure every single item in a population to gather a statistic. We will usually sample a few items and use those to infer a population value.\n",
    "\n",
    "For example, we can take a class of 200 students and measure their height, but rather than measuring everyone, we select students at random to estimate the average height in the class and the variance of the height in the class.\n",
    "\n",
    "We know we can take the mean as follows:\n",
    "\n",
    "$$E[X] = \\bar{X} =\\frac 1n\\sum_{i=1}^nx_i$$\n",
    "\n",
    "What about the variance?\n",
    "\n",
    "Intuitively and by definition, population variance looks like this (the average distance from the mean):\n",
    "\n",
    "$$\\frac {\\sum{(x_i - \\bar{X})^2}} {n}$$\n",
    "\n",
    "It's actually better to use the following for a sample (why?):\n",
    "\n",
    "$$\\frac {\\sum{(x_i - \\bar{X})^2}} {n-1}$$\n",
    "\n",
    "In some cases, we may even use:\n",
    "\n",
    "$$\\frac {\\sum{(x_i - \\bar{X})^2}} {n+1}$$\n",
    "\n",
    "Detailed explanations can be found here:\n",
    "\n",
    "- [Bessel correction](https://en.wikipedia.org/wiki/Bessel%27s_correction).\n",
    "- [Mean Squared Error](https://en.wikipedia.org/wiki/Mean_squared_error)."
   ]
  },
  {
   "cell_type": "markdown",
   "metadata": {},
   "source": [
    "Let's walk through an example of computing the variance by hand.\n",
    "\n",
    "Suppose we have the following data:\n",
    "\n",
    "$$X = [1, 2, 3, 4, 4, 10]$$\n",
    "\n",
    "First, we compute its mean: \n",
    "\n",
    "$$\\bar{X} = (1/6)(1 + 2 + 3 + 4 + 4 + 10) = 4$$\n",
    "\n",
    "Because this is a sample of data rather than the full population, we'll use the second formula. Let's first \"mean center\" the data:\n",
    "\n",
    "$$X_{centered} = X - \\bar{X} = [-3, -2, -1, 0, 0, 6]$$\n",
    "\n",
    "Now, we'll simply find the average squared distance of each point from the mean:\n",
    "\n",
    "$$variance = \\frac {\\sum{(x_i - \\bar{X})^2}} {n-1} = \\frac {(-3)^2 + (-2)^2 + (-1)^2 + 0^2 + 0^2 + 6^2}{6-1} = \\frac{14 + 36}{5} = 10$$\n",
    "\n",
    "So, the **variance of $X$** is $10$. However, we cannot compare this directly to the original units, because it is in the original units squared. So, we will use the **standard deviation of $X$**, $\\sqrt{10} \\approx 3.16$ to see that the value of $10$ is farther than one standard deviation from the mean of $4$. So, we can conclude it is somewhat far from most of the points (more on what it really might mean later).\n",
    "\n",
    "---\n",
    "\n",
    "A variance of $0$ means there is no spread. If we instead take $X = [1, 1, 1, 1]$, then clearly the mean $\\bar{X} = 1$. So, $X_{centered} = [0, 0, 0, 0]$, which directly leads to a variance of $0$. (Make sure you understand why! Remember that variance is the average squared distance of each point from the mean.)"
   ]
  },
  {
   "cell_type": "code",
<<<<<<< HEAD
   "execution_count": 38,
=======
   "execution_count": 80,
>>>>>>> :wq
   "metadata": {
    "ExecuteTime": {
     "end_time": "2018-04-12T21:45:21.119932Z",
     "start_time": "2018-04-12T21:45:21.111658Z"
    }
   },
   "outputs": [],
   "source": [
    "heights = np.random.rand(200) + 6.5"
   ]
  },
  {
   "cell_type": "code",
<<<<<<< HEAD
   "execution_count": 39,
=======
   "execution_count": 81,
>>>>>>> :wq
   "metadata": {
    "ExecuteTime": {
     "end_time": "2018-04-12T21:45:21.136371Z",
     "start_time": "2018-04-12T21:45:21.123851Z"
    }
   },
   "outputs": [],
   "source": [
    "def plot_means(sample_size):\n",
    "    true_mean = np.mean(heights)\n",
    "    \n",
    "    mean_heights = []\n",
    "    for n in range(5,sample_size):\n",
    "        for j in range(30):\n",
    "            mean_height = np.mean(np.random.choice(heights, n, replace=False))\n",
    "            mean_heights.append((n, mean_height))\n",
    "    \n",
    "    sample_height = pd.DataFrame(mean_heights, columns=['sample_size', 'height'])\n",
    "    sample_height.plot.scatter(x='sample_size', y='height', figsize=(14, 4), alpha=0.5)\n",
    "    \n",
    "    plt.axhline(y=true_mean, c='r')\n",
    "    plt.title(\"The Bias and Variance of the Mean Estimator\")\n",
    "    plt.show()"
   ]
  },
  {
   "cell_type": "code",
<<<<<<< HEAD
   "execution_count": 40,
=======
   "execution_count": 82,
>>>>>>> :wq
   "metadata": {
    "ExecuteTime": {
     "end_time": "2018-04-12T21:45:21.157224Z",
     "start_time": "2018-04-12T21:45:21.140567Z"
    }
   },
   "outputs": [],
   "source": [
    "def plot_variances(sample_size):\n",
    "    true_variance = np.var(heights)\n",
    "    \n",
    "    var_heights = []\n",
    "    for n in range(5,sample_size):\n",
    "        for j in range(30):\n",
    "            var_height1 = np.var(np.random.choice(heights, n, replace=False), ddof=0)\n",
    "            var_height2 = np.var(np.random.choice(heights, n, replace=False), ddof=1)\n",
    "            var_height3 = np.var(np.random.choice(heights, n, replace=False), ddof=-1)\n",
    "            var_heights.append((n, var_height1, var_height2, var_height3))\n",
    "    \n",
    "    sample_var = pd.DataFrame(var_heights, columns=['sample_size', 'variance1', 'variance2', 'variance3'])\n",
    "    sample_var.plot.scatter(x='sample_size', y='variance1', figsize=(14, 3), alpha=0.5)\n",
    "    plt.axhline(y=true_variance, c='r')\n",
    "    plt.title(\"The Bias and Variance of the Population Variance Estimator (n)\")\n",
    "    \n",
    "    sample_var.plot.scatter(x='sample_size', y='variance3', figsize=(14, 3), alpha=0.5)\n",
    "    plt.axhline(y=true_variance, c='r')\n",
    "    plt.title(\"The Bias and Variance of the Biased Sample Variance Estimator (n+1)\")\n",
    "    \n",
    "    sample_var.plot.scatter(x='sample_size', y='variance2', figsize=(14, 3), alpha=0.5)\n",
    "    plt.axhline(y=true_variance, c='r')\n",
    "    plt.title(\"The Bias and Variance of the Sample Variance Estimator (n-1)\")\n",
    "    plt.show()"
   ]
  },
  {
   "cell_type": "code",
<<<<<<< HEAD
   "execution_count": 41,
   "metadata": {
    "ExecuteTime": {
     "end_time": "2018-04-12T21:45:21.671543Z",
     "start_time": "2018-04-12T21:45:21.161762Z"
    }
   },
=======
   "execution_count": 83,
   "metadata": {},
>>>>>>> :wq
   "outputs": [
    {
     "data": {
      "application/vnd.jupyter.widget-view+json": {
<<<<<<< HEAD
       "model_id": "ace6c33e3e8a420ba1c3dc5e8303948e",
=======
       "model_id": "ed0b31d91cda41849de436ef229744b0",
>>>>>>> :wq
       "version_major": 2,
       "version_minor": 0
      },
      "text/plain": [
<<<<<<< HEAD
       "interactive(children=(IntSlider(value=102, description='sample_size', max=200, min=5), Output()), _dom_classes…"
=======
       "A Jupyter Widget"
>>>>>>> :wq
      ]
     },
     "metadata": {},
     "output_type": "display_data"
    }
   ],
   "source": [
    "interact(plot_means, sample_size=(5,200));"
   ]
  },
  {
   "cell_type": "markdown",
   "metadata": {},
   "source": [
    "- The red line in the chart above is the true average height, but because we don't want to ask 200 people about their height, we take a samples.\n",
    "\n",
    "- The blue dots show the estimate of the average height after taking a sample. To give us an idea of how sampling works, we simulate taking multiple samples.\n",
    "\n",
    "- The $X$ axis shows the sample size we take, while the blue dots show the likely average heights we'll conclude for a given sample size.\n",
    "\n",
    "- Even though the true average height is around 7 feet, a small sample may lead us to think that it's actually 6.7 or 7.3 feet. \n",
    "\n",
    "- Notice that the red line is in the center of our estimates. On average, we are correct and have no bias.\n",
    "\n",
    "- If we take a larger sample size, we get a better estimate. This means that the variance of our estimate gets smaller with larger samples sizes."
   ]
  },
  {
   "cell_type": "code",
<<<<<<< HEAD
   "execution_count": 42,
   "metadata": {
    "ExecuteTime": {
     "end_time": "2018-04-12T21:45:23.830834Z",
     "start_time": "2018-04-12T21:45:21.676825Z"
    }
   },
=======
   "execution_count": 84,
   "metadata": {},
>>>>>>> :wq
   "outputs": [
    {
     "data": {
      "application/vnd.jupyter.widget-view+json": {
<<<<<<< HEAD
       "model_id": "d31af9d25ad64cab9e655b25e3b3ceaa",
=======
       "model_id": "d77a2eb52eee4f7e81202d5775d1389d",
>>>>>>> :wq
       "version_major": 2,
       "version_minor": 0
      },
      "text/plain": [
<<<<<<< HEAD
       "interactive(children=(IntSlider(value=102, description='sample_size', max=200, min=5), Output()), _dom_classes…"
=======
       "A Jupyter Widget"
>>>>>>> :wq
      ]
     },
     "metadata": {},
     "output_type": "display_data"
    }
   ],
   "source": [
    "interact(plot_variances, sample_size=(5,200));"
   ]
  },
  {
   "cell_type": "markdown",
   "metadata": {},
   "source": [
    "- Not all estimators are created equal.\n",
    "\n",
    "- The red lines in the charts above show the true variance of height.\n",
    "\n",
    "- The top graph is the population variance estimator, while the bottom graph is the sample variance estimator.\n",
    "\n",
    "- It's subtle, but notice that the population variance estimator is not centered on the red line. It's actually biased and consistently underestimates the true variance, especially at low sample sizes.\n",
    "\n",
    "- You may also notice that the scatter of the population variance estimator is smaller. That means the variance of the population variance estimator is smaller. Essentially, it's the variability of the estimator. \n",
    "\n",
    "- Play around with the sliders to get a good view of the graphs."
   ]
  },
  {
   "cell_type": "markdown",
   "metadata": {},
   "source": [
    "<a id=\"correlation-and-association\"></a>\n",
    "## Correlation and Association\n",
    "---\n",
    "\n",
    "- **Objective:** Describe characteristics and trends in a data set using visualizations.\n",
    "\n",
    "Correlation measures how variables related to each other.\n",
    "\n",
    "Typically, we talk about the Pearson correlation coefficient — a measure of **linear** association.\n",
    "\n",
    "We refer to perfect correlation as **colinearity**.\n",
    "\n",
    "The following are a few correlation coefficients. Note that if both variables trend upward, the coefficient is positive. If one trends opposite the other, it is negative. \n",
    "\n",
    "It is important that you always look at your data visually — the coefficient by itself can be misleading:"
   ]
  },
  {
   "cell_type": "markdown",
   "metadata": {},
   "source": [
    "![Example correlation values](./assets/images/correlation_examples.png)"
   ]
  },
  {
   "cell_type": "markdown",
   "metadata": {},
   "source": [
    "<a id=\"codealong-correlation-in-pandas\"></a>\n",
    "### Code-Along: Correlation in Pandas\n",
    "\n",
    "**Objective:** Explore options for measuring and visualizing correlation in Pandas."
   ]
  },
  {
   "cell_type": "markdown",
   "metadata": {},
   "source": [
    "#### Display the correlation matrix for all Titanic variables:"
   ]
  },
  {
   "cell_type": "code",
<<<<<<< HEAD
   "execution_count": 106,
   "metadata": {
    "ExecuteTime": {
     "end_time": "2018-04-13T01:13:35.690304Z",
     "start_time": "2018-04-13T01:13:35.644150Z"
    }
   },
=======
   "execution_count": 86,
   "metadata": {},
>>>>>>> :wq
   "outputs": [
    {
     "data": {
      "text/html": [
       "<div>\n",
<<<<<<< HEAD
       "<style scoped>\n",
       "    .dataframe tbody tr th:only-of-type {\n",
       "        vertical-align: middle;\n",
       "    }\n",
       "\n",
       "    .dataframe tbody tr th {\n",
       "        vertical-align: top;\n",
       "    }\n",
       "\n",
       "    .dataframe thead th {\n",
       "        text-align: right;\n",
=======
       "<style>\n",
       "    .dataframe thead tr:only-child th {\n",
       "        text-align: right;\n",
       "    }\n",
       "\n",
       "    .dataframe thead th {\n",
       "        text-align: left;\n",
       "    }\n",
       "\n",
       "    .dataframe tbody tr th {\n",
       "        vertical-align: top;\n",
>>>>>>> :wq
       "    }\n",
       "</style>\n",
       "<table border=\"1\" class=\"dataframe\">\n",
       "  <thead>\n",
       "    <tr style=\"text-align: right;\">\n",
       "      <th></th>\n",
       "      <th>survived</th>\n",
       "      <th>pclass</th>\n",
       "      <th>age</th>\n",
       "      <th>sibsp</th>\n",
       "      <th>parch</th>\n",
       "      <th>fare</th>\n",
       "    </tr>\n",
       "  </thead>\n",
       "  <tbody>\n",
       "    <tr>\n",
       "      <th>survived</th>\n",
       "      <td>1.000000</td>\n",
       "      <td>-0.338481</td>\n",
       "      <td>-0.077221</td>\n",
       "      <td>-0.035322</td>\n",
       "      <td>0.081629</td>\n",
       "      <td>0.257307</td>\n",
       "    </tr>\n",
       "    <tr>\n",
       "      <th>pclass</th>\n",
       "      <td>-0.338481</td>\n",
       "      <td>1.000000</td>\n",
       "      <td>-0.369226</td>\n",
       "      <td>0.083081</td>\n",
       "      <td>0.018443</td>\n",
       "      <td>-0.549500</td>\n",
       "    </tr>\n",
       "    <tr>\n",
       "      <th>age</th>\n",
       "      <td>-0.077221</td>\n",
       "      <td>-0.369226</td>\n",
       "      <td>1.000000</td>\n",
       "      <td>-0.308247</td>\n",
       "      <td>-0.189119</td>\n",
       "      <td>0.096067</td>\n",
       "    </tr>\n",
       "    <tr>\n",
       "      <th>sibsp</th>\n",
       "      <td>-0.035322</td>\n",
       "      <td>0.083081</td>\n",
       "      <td>-0.308247</td>\n",
       "      <td>1.000000</td>\n",
       "      <td>0.414838</td>\n",
       "      <td>0.159651</td>\n",
       "    </tr>\n",
       "    <tr>\n",
       "      <th>parch</th>\n",
       "      <td>0.081629</td>\n",
       "      <td>0.018443</td>\n",
       "      <td>-0.189119</td>\n",
       "      <td>0.414838</td>\n",
       "      <td>1.000000</td>\n",
       "      <td>0.216225</td>\n",
       "    </tr>\n",
       "    <tr>\n",
       "      <th>fare</th>\n",
       "      <td>0.257307</td>\n",
       "      <td>-0.549500</td>\n",
       "      <td>0.096067</td>\n",
       "      <td>0.159651</td>\n",
       "      <td>0.216225</td>\n",
       "      <td>1.000000</td>\n",
       "    </tr>\n",
       "  </tbody>\n",
       "</table>\n",
       "</div>"
      ],
      "text/plain": [
       "          survived    pclass       age     sibsp     parch      fare\n",
       "survived  1.000000 -0.338481 -0.077221 -0.035322  0.081629  0.257307\n",
       "pclass   -0.338481  1.000000 -0.369226  0.083081  0.018443 -0.549500\n",
       "age      -0.077221 -0.369226  1.000000 -0.308247 -0.189119  0.096067\n",
       "sibsp    -0.035322  0.083081 -0.308247  1.000000  0.414838  0.159651\n",
       "parch     0.081629  0.018443 -0.189119  0.414838  1.000000  0.216225\n",
       "fare      0.257307 -0.549500  0.096067  0.159651  0.216225  1.000000"
      ]
     },
<<<<<<< HEAD
     "execution_count": 106,
=======
     "execution_count": 86,
>>>>>>> :wq
     "metadata": {},
     "output_type": "execute_result"
    }
   ],
   "source": [
    "# A:\n",
    "titanic.corr()"
   ]
  },
  {
   "cell_type": "markdown",
   "metadata": {},
   "source": [
    "#### Use Seaborn to plot a heat map of the correlation matrix:\n",
    "\n",
    "The `sns.heatmap()` function will accomplish this.\n",
    "\n",
    "- Generate a correlation matrix from the Titanic data using the `.corr()` method.\n",
    "- Pass the correlation matrix into `sns.heatmap()` as its only parameter."
   ]
  },
  {
   "cell_type": "code",
<<<<<<< HEAD
   "execution_count": 110,
   "metadata": {
    "ExecuteTime": {
     "end_time": "2018-04-13T01:15:02.336834Z",
     "start_time": "2018-04-13T01:15:01.429954Z"
    }
   },
   "outputs": [
    {
     "data": {
      "image/png": "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\n",
      "text/plain": [
       "<Figure size 432x288 with 2 Axes>"
=======
   "execution_count": 89,
   "metadata": {},
   "outputs": [
    {
     "data": {
      "image/png": "iVBORw0KGgoAAAANSUhEUgAAAYEAAAD1CAYAAAC2nUlHAAAABHNCSVQICAgIfAhkiAAAAAlwSFlz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\n8/+QrqhJSfHF0QAAAABJRU5ErkJggg==\n",
      "text/plain": [
       "<matplotlib.figure.Figure at 0x196e35134e0>"
>>>>>>> :wq
      ]
     },
     "metadata": {},
     "output_type": "display_data"
    }
   ],
   "source": [
    "# Use Seaborn to plot a correlation heat map\n",
<<<<<<< HEAD
    "sns.heatmap(titanic.corr(), \n",
    "            annot=True,\n",
    "            fmt='.2f',\n",
    "            cmap=sns.diverging_palette(220, 10,as_cmap=True));"
=======
    "sns.heatmap(titanic.corr(),\n",
    "            annot = True,\n",
    "            fmt = '.2f',\n",
    "            cmap=sns.diverging_palette(220,10,as_cmap=True));"
>>>>>>> :wq
   ]
  },
  {
   "cell_type": "code",
<<<<<<< HEAD
   "execution_count": 111,
   "metadata": {
    "ExecuteTime": {
     "end_time": "2018-04-13T01:15:54.570771Z",
     "start_time": "2018-04-13T01:15:54.523700Z"
    }
   },
=======
   "execution_count": 90,
   "metadata": {},
>>>>>>> :wq
   "outputs": [
    {
     "data": {
      "text/html": [
       "<div>\n",
<<<<<<< HEAD
       "<style scoped>\n",
       "    .dataframe tbody tr th:only-of-type {\n",
       "        vertical-align: middle;\n",
       "    }\n",
       "\n",
       "    .dataframe tbody tr th {\n",
       "        vertical-align: top;\n",
       "    }\n",
       "\n",
       "    .dataframe thead th {\n",
       "        text-align: right;\n",
=======
       "<style>\n",
       "    .dataframe thead tr:only-child th {\n",
       "        text-align: right;\n",
       "    }\n",
       "\n",
       "    .dataframe thead th {\n",
       "        text-align: left;\n",
       "    }\n",
       "\n",
       "    .dataframe tbody tr th {\n",
       "        vertical-align: top;\n",
>>>>>>> :wq
       "    }\n",
       "</style>\n",
       "<table border=\"1\" class=\"dataframe\">\n",
       "  <thead>\n",
       "    <tr style=\"text-align: right;\">\n",
       "      <th></th>\n",
       "      <th>survived</th>\n",
       "      <th>pclass</th>\n",
       "      <th>name</th>\n",
       "      <th>sex</th>\n",
       "      <th>age</th>\n",
       "      <th>sibsp</th>\n",
       "      <th>parch</th>\n",
       "      <th>ticket</th>\n",
       "      <th>fare</th>\n",
       "      <th>cabin</th>\n",
       "      <th>embarked</th>\n",
       "    </tr>\n",
       "  </thead>\n",
       "  <tbody>\n",
       "    <tr>\n",
       "      <th>0</th>\n",
       "      <td>0</td>\n",
       "      <td>3</td>\n",
       "      <td>Braund, Mr. Owen Harris</td>\n",
       "      <td>male</td>\n",
       "      <td>22.0</td>\n",
       "      <td>1</td>\n",
       "      <td>0</td>\n",
       "      <td>A/5 21171</td>\n",
       "      <td>7.2500</td>\n",
       "      <td>NaN</td>\n",
       "      <td>S</td>\n",
       "    </tr>\n",
       "    <tr>\n",
       "      <th>1</th>\n",
       "      <td>1</td>\n",
       "      <td>1</td>\n",
       "      <td>Cumings, Mrs. John Bradley (Florence Briggs Th...</td>\n",
       "      <td>female</td>\n",
       "      <td>38.0</td>\n",
       "      <td>1</td>\n",
       "      <td>0</td>\n",
       "      <td>PC 17599</td>\n",
       "      <td>71.2833</td>\n",
       "      <td>C85</td>\n",
       "      <td>C</td>\n",
       "    </tr>\n",
       "    <tr>\n",
       "      <th>2</th>\n",
       "      <td>1</td>\n",
       "      <td>3</td>\n",
       "      <td>Heikkinen, Miss. Laina</td>\n",
       "      <td>female</td>\n",
       "      <td>26.0</td>\n",
       "      <td>0</td>\n",
       "      <td>0</td>\n",
       "      <td>STON/O2. 3101282</td>\n",
       "      <td>7.9250</td>\n",
       "      <td>NaN</td>\n",
       "      <td>S</td>\n",
       "    </tr>\n",
       "    <tr>\n",
       "      <th>3</th>\n",
       "      <td>1</td>\n",
       "      <td>1</td>\n",
       "      <td>Futrelle, Mrs. Jacques Heath (Lily May Peel)</td>\n",
       "      <td>female</td>\n",
       "      <td>35.0</td>\n",
       "      <td>1</td>\n",
       "      <td>0</td>\n",
       "      <td>113803</td>\n",
       "      <td>53.1000</td>\n",
       "      <td>C123</td>\n",
       "      <td>S</td>\n",
       "    </tr>\n",
       "    <tr>\n",
       "      <th>4</th>\n",
       "      <td>0</td>\n",
       "      <td>3</td>\n",
       "      <td>Allen, Mr. William Henry</td>\n",
       "      <td>male</td>\n",
       "      <td>35.0</td>\n",
       "      <td>0</td>\n",
       "      <td>0</td>\n",
       "      <td>373450</td>\n",
       "      <td>8.0500</td>\n",
       "      <td>NaN</td>\n",
       "      <td>S</td>\n",
       "    </tr>\n",
       "  </tbody>\n",
       "</table>\n",
       "</div>"
      ],
      "text/plain": [
       "   survived  pclass                                               name  \\\n",
       "0         0       3                            Braund, Mr. Owen Harris   \n",
       "1         1       1  Cumings, Mrs. John Bradley (Florence Briggs Th...   \n",
       "2         1       3                             Heikkinen, Miss. Laina   \n",
       "3         1       1       Futrelle, Mrs. Jacques Heath (Lily May Peel)   \n",
       "4         0       3                           Allen, Mr. William Henry   \n",
       "\n",
       "      sex   age  sibsp  parch            ticket     fare cabin embarked  \n",
       "0    male  22.0      1      0         A/5 21171   7.2500   NaN        S  \n",
       "1  female  38.0      1      0          PC 17599  71.2833   C85        C  \n",
       "2  female  26.0      0      0  STON/O2. 3101282   7.9250   NaN        S  \n",
       "3  female  35.0      1      0            113803  53.1000  C123        S  \n",
       "4    male  35.0      0      0            373450   8.0500   NaN        S  "
      ]
     },
<<<<<<< HEAD
     "execution_count": 111,
=======
     "execution_count": 90,
>>>>>>> :wq
     "metadata": {},
     "output_type": "execute_result"
    }
   ],
   "source": [
    "# Take a closer look at the survived and fare variables using a scatter plot\n",
    "\n",
    "# Is correlation a good way to inspect the association of fare and survival?\n",
    "titanic.head()"
   ]
  },
  {
   "cell_type": "code",
<<<<<<< HEAD
   "execution_count": 112,
   "metadata": {
    "ExecuteTime": {
     "end_time": "2018-04-13T01:16:38.389757Z",
     "start_time": "2018-04-13T01:16:37.987760Z"
    }
   },
   "outputs": [
    {
     "data": {
      "image/png": "iVBORw0KGgoAAAANSUhEUgAAAaQAAAECCAYAAACxCaPGAAAABHNCSVQICAgIfAhkiAAAAAlwSFlzAAALEgAACxIB0t1+/AAAADl0RVh0U29mdHdhcmUAbWF0cGxvdGxpYiB2ZXJzaW9uIDIuMi4yLCBodHRwOi8vbWF0cGxvdGxpYi5vcmcvhp/UCwAAFlpJREFUeJzt3X2QXXd93/H3d3f1ZMl6ilSiGjfYsAOkjk0yWMXgImMrRE1cMEmaCCaASQYjMO2QTktoeYrapPG0Lp5Jk8yAAJsYZywb07SpUjVYlpCNsRUal4dpEReIDbFlW0bWWjZ62tW3f9yz2qu7T3elPbu/3ft+zXh87nn8nu/u6nPPufecE5mJJEmzrWe2C5AkCQwkSVIhDCRJUhEMJElSEQwkSVIR+ma7gLEMDAz41T9JmsdWrFgR7eM8QpIkFcFAkiQVYV4HUqPRmO0SimAfRtiLEfaiyT6MmO1ezOtAkiTNHQaSJKkIBpIkqQgGkiSpCAaSJKkIBpIkqQi1BlI03RYR17eNf3FEfDkivhYRH6izBknS3FDbrYMiogfYDjw7xuSPA+/PzG9GxI6I2J6ZB6Zr248+d5Ib9h7mwJHFrNt/kGPHT/CN56Zr7ePrAf5i02pet24JDxw4ynU7DzE4wfwre2HVYnj0BRjrXkkLA87vgx+dnHod5/UF2zeu4nXrlpwx7dHnTvKO3YfYf3iQk6fgVMu0BcCfb1rN1390nH/71y+cHn/T5UvZcsnKM9bzJ986fMY8vcB/r/Yd4IEDR9l877McG0oW9wYf/tnz2Po3L3BsqDn/ooAv/sLqM+prX2as+uty9/eO8J69z3GKZv+2vX45v/LS8896vnbDv5PPHB9izaJetm1YyU+dv2DUfO19Hav30kw729/7qYq6nhgbEb3Ay4ArADLztpZp92bmxmr4nUBPZt46PP1c72X3xv9xkH0HT5zLKs7asr7g797+93nx7U/w/ODs3pJvuJZGo0F/fz8weW+W9cWYdR9+1wVnvF556+Pjbg/oaP9b5x9rmfbp06G1F61W3/r4GeHcAxxq2+epzNeuve/r1y7kr65dO2q+sfra3vvpMl4vuo19GHGufx9TMda97Go7QsrMIWB/RFwxxuTWU4UHgJ8bbz1nc+XwgSOL2zaRwKh9r8XRwVM0Gg2ODi6ZsW1OVguM9HF0b0Yv09Rae47xcxi9f63bG73/o38GrfOPtUz79Oky1jpPte3PqTH3ufP52rX3/cCRY+MsN7pvdV49P9tX5pfCPoyYzt/7dpMF/2zd7bv1rfNK4OnxZjybdy7r9h/kh8dajwJmLhiW9PXQ39/Pkodm/whpuJbWdz2jezN6mdF1x+ifwwOj38kPbw8YY/9H/wxa5x9rmfbp02G8d4A9D7S/Axxjn6cwX7v2vq87fzH9/ReOnnFUXztb/9nwyKDJPow417+PczVb37L7TkS8uhq+Dtg5nSvftmEl69cu5MLFp1i/diGvWj6dax9fD7B94yqo/j9Z2q/shYuWjh+XCwPWjP6YoaM6llWfIbXbtmEll63uY1HP6B/+gqrumy5fesb49tdjjeuFM7a3feMqlvUFfdGs5abLl7K4d2T+RcGo+tqXGav+umx7/fLT/Rg+R34u841arvqdvHh5L+vXLmTbhrE/F+qk99JMO9vf+6mq8zOki4BbgZ+sRj0JLMvMV0fEGuA2YA1wV2Z+onXZ6Xoeku98muzDCHsxwl402YcRM9mLmf4M6W+Bq8aZ9gxwbV3bliTNPV4YK0kqgoEkSSqCgSRJKoKBJEkqgoEkSSqCgSRJKoKBJEkqgoEkSSqCgSRJKoKBJEkqgoEkSSqCgSRJKoKBJEkqgoEkSSqCgSRJKoKBJEkqgoEkSSqCgSRJKoKBJEkqgoEkSSqCgSRJKoKBJEkqgoEkSSqCgSRJKoKBJEkqgoEkSSqCgSRJKoKBJEkqgoEkSSqCgSRJKkKtgRQRt0TEvojYERFLW8a/MSK+EhG7I+JPIiLqrEOSVL7aAikirgSGMnM98HngxpbJHwbemJlvAJ4AXlVXHZKkuaHOI6RNwN3V8D3AxpZpPwTeHBEXApcAj9VYhyRpDojMrGfFEZ8Ebs7MRvX6vsy8uhq+HLgDOArszswPtC47MDBwuqhGo1FLfZKkmdXf3396eMWKFaM+qumrcdtPAWuBRkT0AMcBImIRcBNwWWYejYg/iIhfzswvjrWS1h2YqkajcU7Lzxf2YYS9GGEvmuzDiNnuRZ2n7HYAb6uGNwG7q+GFwAKqgAJ+ALyoxjokSXNAbUdImflwRGyKiPuBAWBLRNyZmZsj4jbg/og4CTwNvLOuOiRJc0Odp+zIzK3A1pZRm6vxnwU+W+e2JUlzixfGSpKKYCBJkopgIEmSimAgSZKKYCBJkopgIEmSimAgSZKKYCBJkopgIEmSimAgSZKKYCBJkopgIEmSimAgSZKKYCBJkopgIEmSimAgSZKKYCBJkopgIEmSimAgSZKKYCBJkopgIEmSimAgSZKKYCBJkopgIEmSimAgSZKKYCBJkopgIEmSimAgSZKKYCBJkopgIEmSimAgSZKKUGsgRcQtEbEvInZExNKW8X8vIv4qIh6KiLsiYmGddUiSyldbIEXElcBQZq4HPg/c2DL5I8DHMvM1wK3A2rrqkCTNDXUeIW0C7q6G7wE2tkx7BXBFRNwPvCYzH6+xDknSHBCZWc+KIz4J3JyZjer1fZl5dTX8BPAvMvMLEfEZ4M7M/NLwsgMDA6eLajQatdQnSZpZ/f39p4dXrFgR7dP7xlswIl4/0Yozc+8k236K5qm4RkT0AMdbpj2fmV+ohu8BXgV8iTG07sBUNRqNc1p+vrAPI+zFCHvRZB9GzHYvxg0k4F3V/1cDPwPcT/MU31XALmCyQNoBvB14kObpu90t074aET+bmY8Ab6jWJ0nqYuMGUma+CyAibgcuy8wj1es1wKcnW3FmPhwRm6rPiQaALRFxZ2ZuBj4EfDoilgF/k5k7p2FfJElz2ERHSMMuGg4jgMx8JiI6+lZcZm4FtraM2lyNPwD80lQKlSTNb50E0rci4g7grur1m4D99ZUkSepGnQTS+4Hfovl5UA/Nz4I+WWdRkqTuM2kgZeZgRNwFPJKZ+yJiaWaemIHaJEldZNILYyPizTS/YfeZatRfRsSmWquSJHWdTu7U8CHgCuCZ6vW1wL+prSJJUlfqJJBeaPuW3RFg1BW2kiSdi06+1PB4RFwHRHUN0tuBp+stS5LUbTo5QvrnNK8ZeiXw/4CfA95TZ1GSpO7TyRHSyzLz3cC76y5GktS9OjlC2hIRX42I34+IS2uvSJLUlTq5DumGiOileRPU90fEK4Fdmfm7dRcnSeoeHT2gLzOHgAbwXeB8vA+dJGmadXJh7L+MiIeAncAS4Ncy8/LaK5MkdZVOvtTwYuD9mfm1uouRJHWviZ4YO/wAvf8GnNf+BNkOnhgrSVLHJjpCegfwCHD9GNOSyZ8YK0lSxyZ6YuxvV4MfzMyDM1SPJKlLdfIZ0uciIoAvAvdk5qGaa5IkdaFJv2WXmb8I/AbN03S3R8RfRMT1dRcmSeounV6H9CPgDuBzNK9D+oM6i5IkdZ9OrkN6S0TcSfOi2H8C/AfggroLkyR1l04+Q3o78GfAOzPzeM31SJK6VCeBNJSZX6i9EklSV+vkM6THI+KXa69EktTVOgmky4DbIuJQRPwgIn4YET+ouzBJUnfp5JTd9XUXIUlSJ4GUtVchSep6Hd2pgWYoBbAYuITmoyj+WY11SZK6TCdPjH1D6+uIWA+8p7aKJEldqaM7NbTKzH3AS2uoRZLUxSY9QoqId7S+BP4h8EJtFUmSulInR0gXAS+p/v8PgMeAX+lk5RFxS0Tsi4gdEbF0jOn/MyJ+t/NyJUnzVSeB9AhwDPhjYAvwPuCDky0UEVfSvMvDeuDzwI1t018PHJlqwZKk+amTQPoo8KfAtTSD5RLgTR0stwm4uxq+B9jYNv29wGc6K1OSNN918rXvk5n5ZES8GtiVmRkRnXyGtBY4BJCZJyLi9LYi4heArwCT3qy10Wh0sKn6lp8v7MMIezHCXjTZhxF19qK/v3/C6Z0E0vGI+DDwFmBrdartZAfLPUUzlBoR0cOZ4bMF2AxcMdlKJtuBiTQajXNafr6wDyPsxQh70WQfRsx2Lzo5ZXc9sAZ4X2YeBK6iGSiT2QG8rRreBOwGiIiXVuv7HPAx4Fcj4i1TqlqSNO90cmHsY8Bvt7z+d52sODMfjohNEXE/MABsiYg7M3Mz8I8BIuIq4KrM/K9nU7wkaf7o5JTdWcvMrcDWllGb26bvAfbUWYMkaW6Y8p0aJEmqg4EkSSqCgSRJKoKBJEkqgoEkSSqCgSRJKoKBJEkqgoEkSSqCgSRJKoKBJEkqgoEkSSqCgSRJKoKBJEkqgoEkSSqCgSRJKoKBJEkqgoEkSSqCgSRJKoKBJEkqgoEkSSqCgSRJKoKBJEkqgoEkSSqCgSRJKoKBJEkqgoEkSSqCgSRJKoKBJEkqgoEkSSqCgSRJKoKBJEkqQq2BFBG3RMS+iNgREUtbxr8mIh6MiK9GxO/UWYMkaW6oLZAi4kpgKDPXA58HbmyZvBW4FngtcGVEXFxXHZKkuaHOI6RNwN3V8D3AxpZp783MQ5mZwGPAshrrkCTNAdHMhBpWHPFJ4ObMbFSv78vMq9vmuRD448x8U+v4gYGB00U1Go1a6pMkzaz+/v7TwytWrIj26X01bvspYC3QiIge4HjrxIi4CPgj4DcnWknrDkxVo9E4p+XnC/swwl6MsBdN9mHEbPeizlN2O4C3VcObgN3DEyJiPfCfgesz86kaa5AkzRG1BVJmPgwcjIj7gfcBfxYRd1aT9wDrgLsjYk8VUJKkLlbnKTsycyvNb9QN21yNP6/O7UqS5h4vjJUkFcFAkiQVwUCSJBXBQJIkFcFAkiQVwUCSJBXBQJIkFcFAkiQVwUCSJBXBQJIkFcFAkiQVwUCSJBXBQJIkFcFAkiQVwUCSJBXBQJIkFcFAkiQVwUCSJBXBQJIkFcFAkiQVwUCSJBXBQJIkFcFAkiQVwUCSJBXBQJIkFcFAkiQVwUCSJBXBQJIkFcFAkiQVwUCSJBWh1kCKiFsiYl9E7IiIpS3jL42IhyLif0fEr9dZgyRpbuira8URcSUwlJnrI+KtwI3Af6wmbwWuAw4B90bEn2fm8ena9iV3PM7fnQBYAg88Pl2r7cjyXnhuaOJ5eoC1C+HpE5DAooCLVvTy2MAQR7Oz7SwAfnp1H3969Woy4Ya9h3nm+BBrFvWybcNKfur8BWMu9+hzJ3nH7kPsPzzIqYTeHjiVEAEvX97H7desHnfZsdbV6XYfOHCUX/vSIX48BAG8fHkP29+4puNt1W2ifWmdtqw3iIAjgznpPne6/lYPHDjK5nuf5dhQsrg32L5xFa9bt2Ta91cqUZ1HSJuAu6vhe4CNABGxEFiYmU9m5glgF/Da6dxwM4yg+U/fzJosjABOAU9VYQRwPOHbhzsPI4CTwNcPDfLuLx/mhr2H2XfwBN9/boh9B0/w7i8fHne5G/Ye5huHBjl+Ck4mHBuCE6fg+BB849nBCZcda12dbnfzvc/y46o3CXz7uVNT2lbdJtqX1mnfeHaQrx8a7GifO11/q833Psvzg8lgwvODya/f++y07J80F9R2hASspXkERGaeiIjhbf0E0PrXeAB40XgraTQaZ7HpJcxGGM2GA0eOVUM9Z4xr79vw6wNHFjPR+5Cxlh1/3jPXNdGyRwdH/0ymsq3pNNY2J9qXiXrW6T502qv2Ph0dPFVrj2aj/yWyDyPq7EV/f/+E0+sMpKdohlIjInqA4VNyz9AMpWErge+Ot5LJdmBMM3yabjatO38xAD88duKMcf39F55+3Wg0Tvdx3f6DZ8w71vpal51w223rmmjZJQ89wfODZx4CTmVb06W1F2fUMsG+TNSzTveh016192lJX8/Z/Q10YLxedBv7MGK2e1HnKbsdwNuq4U3AboDMPAn8OCIurIJqA/DgdG74woXDQ1M4BzZNlvdOPk8P8KKFI++DFwW8cmUvS6ZwULcAuGx1H9s2rGTbhpWsX7uQi5f3sn7tQrZtWDnucts2rOSy1X0s6oEFAYt7YWEPLOqFS1f1TbjsWOvqdLvbN67ivKo3Abxiec+UtlW3ifalddqlq/q4bHVfR/vc6fpbbd+4imV9QV/Asr7mZ0hSt4jM+v7RjoiP0/zsaADYAtycmZsj4qXAp4DzgU9k5p2tyw0MDExLUbOd9qWwDyPsxQh70WQfRsxkL1asWDHqLXidp+zIzK00v1E3bHM1/nvANXVuW5I0t3hhrCSpCAaSJKkIBpIkqQgGkiSpCAaSJKkIBpIkqQi1Xod0tqbrOiRJUpnGug7JIyRJUhEMJElSEYo8ZSdJ6j4eIUmSijAvA2m8R6fPd9F0W0RcX72+JiL+unpU/IZq3Isj4ssR8bWI+MCsFlyTqg+fioj7I+K+iHhJN/YiIhZExK0RsScidkXEBd3Yh1YR8dqIGKyGu7IXEXFVRHy7+r3YExG/WkwvMnNe/QdcSfOu4gBvBT442zXN0H730HxC76eA66txXwKW0nzm1H3VuG3Az1TDO4B1s117Db14M/CRavhy4HPd2AvgdS2/C28A/lM39qGtJ7cDD1bDXdkL4Krh34uWcUX0Yj4eIY356PQuEMBHqJ4tFREvA76bmS9k5mHgsYi4CLgoM79ZLXMXzX7NN/cDf1QN/y3Nx5x0XS8y8yuZeVv1cg3Nx8B0XR+GRcQ1wMPAiS7/+wD4RxHxvyLiCxGxnkJ6MR8D6YxHp1PzIzZKkZlDmbm/ZdTpPlSGHxXfM8a4eSUzD1V/WAC/AzxCl/YiIl4eEQ8BN9N8SGZX9qGyhea7fujivw+aT+1+BvhF4A+Bf08hvZiPgTT86HTaHp3ebU73obISeJozH6M7PG5eioiPAk8Ad9ClvcjM/Zn5Gprvbj9El/YhIn4J2JuZw/8edO3fR2Z+KzM/Wr2J3QsspJBezMdAGvPR6d0mM78PXBwRyyPiPOAl1bjvRMSrq9muA3bOWpE1iYi+iPgvwOOZeUu39iIi3ludjgF4EjiPLuxD5Wrgqoi4E/hpmkcFXdmLiPitiLi2Gr6M5u9GEb2Yl9chtT06fXNmPj/LJdWuOud7K/CT1agngY8Bvwcspvnljj0RsQa4jeZnCndl5idmodxaRcQHgQ8A36lG/V+a+3wzXdSLiFgLfJrmZ2hB8wgp6bI+tIuIPZl5VRXWXdeLiFgOfBb4CeDHNE9lrqOAXszLQJIkzT3z8ZSdJGkOMpAkSUUwkCRJRTCQJElFMJAkSUUwkKSaRcRHIuL/RMS/mu1apJL5tW+pZhHxPeDlmTk427VIJeuK+7xJsyEieoFdwAXAvRFxH/DzwCmaF6v+68zcVT0u5FLgFTRvb3NTdduja4AlwM7M/Phs7IM0kwwkqSaZOUTzdjWPVncG+BDwTzPzcERcTPMq+F3V7JuBKzPz+xHxG8DaapkA7omITZk5725jI7UykKSZ85fApyLiAmCQ5pHTsH3V/cMA3gS8IiL2VK+X0zx6MpA0rxlI0gyoTt/tBH4zM3dGxPnAN1tmab3fYi/we5l510zWKM02v2UnzYxl1X97q9fvmWDencBbqxAjmo+lv7Lm+qRZZyBJMyAzB2jeef2hiNgFHAQWjTP7Z4D9wIMR8RVgf2Y+MDOVSrPHr31LkorgEZIkqQgGkiSpCAaSJKkIBpIkqQgGkiSpCAaSJKkIBpIkqQgGkiSpCP8fSE0PM+Tv/bwAAAAASUVORK5CYII=\n",
      "text/plain": [
       "<Figure size 432x288 with 1 Axes>"
=======
   "execution_count": 91,
   "metadata": {},
   "outputs": [
    {
     "data": {
      "text/plain": [
       "<matplotlib.axes._subplots.AxesSubplot at 0x196e37d98d0>"
      ]
     },
     "execution_count": 91,
     "metadata": {},
     "output_type": "execute_result"
    },
    {
     "data": {
      "image/png": "iVBORw0KGgoAAAANSUhEUgAAAaoAAAEGCAYAAAA0UdFjAAAABHNCSVQICAgIfAhkiAAAAAlwSFlz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\n9v8BCT0YxWJOFBQAAAAASUVORK5CYII=\n",
      "text/plain": [
       "<matplotlib.figure.Figure at 0x196e351f588>"
>>>>>>> :wq
      ]
     },
     "metadata": {},
     "output_type": "display_data"
    }
   ],
   "source": [
<<<<<<< HEAD
    "titanic.plot(kind='scatter', x='fare', y='survived');"
=======
    "titanic.plot(kind ='scatter',x = 'fare',y='survived')"
>>>>>>> :wq
   ]
  },
  {
   "cell_type": "code",
<<<<<<< HEAD
   "execution_count": 114,
   "metadata": {
    "ExecuteTime": {
     "end_time": "2018-04-13T01:18:12.801527Z",
     "start_time": "2018-04-13T01:18:12.433081Z"
    }
   },
   "outputs": [
    {
     "data": {
      "image/png": "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\n",
      "text/plain": [
       "<Figure size 432x288 with 1 Axes>"
=======
   "execution_count": 93,
   "metadata": {},
   "outputs": [
    {
     "data": {
      "text/plain": [
       "<matplotlib.axes._subplots.AxesSubplot at 0x196e4ace080>"
      ]
     },
     "execution_count": 93,
     "metadata": {},
     "output_type": "execute_result"
    },
    {
     "data": {
      "image/png": "iVBORw0KGgoAAAANSUhEUgAAAa0AAAEGCAYAAADWjcoaAAAABHNCSVQICAgIfAhkiAAAAAlwSFlz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\nS0RE8sb/B5wdRorDtqR+AAAAAElFTkSuQmCC\n",
      "text/plain": [
       "<matplotlib.figure.Figure at 0x196e37d9ac8>"
>>>>>>> :wq
      ]
     },
     "metadata": {},
     "output_type": "display_data"
    }
   ],
   "source": [
<<<<<<< HEAD
    "sns.violinplot(data=titanic, x='survived', y='fare');"
=======
    "sns.violinplot(data= titanic,x='survived',y='fare')"
>>>>>>> :wq
   ]
  },
  {
   "cell_type": "markdown",
   "metadata": {},
   "source": [
    "<a id=\"the-normal-distribution\"></a>\n",
    "## The Normal Distribution\n",
    "---\n",
    "\n",
    "- **Objective:** Identify a normal distribution within a data set using summary statistics and data visualizations."
   ]
  },
  {
   "cell_type": "markdown",
   "metadata": {},
   "source": [
    "###  Math Review\n",
    "- What is an event space?\n",
    "  - A listing of all possible occurrences.\n",
    "- What is a probability distribution?\n",
    "  - A function that describes how events occur in an event space.\n",
    "- What are general properties of probability distributions?\n",
    "  - All probabilities of an event are between 0 and 1.\n",
    "  - The probability that something occurs is almost certain, or 1.\n",
    "  "
   ]
  },
  {
   "cell_type": "markdown",
   "metadata": {},
   "source": [
    "<a id=\"what-is-the-normal-distribution\"></a>\n",
    "### What is the Normal Distribution?\n",
    "- A normal distribution is often a key assumption to many models.\n",
    "  - In practice, if the normal distribution assumption is not met, it's not the end of the world. Your model is just less efficient in most cases.\n",
    "\n",
    "- The normal distribution depends on the mean and the standard deviation.\n",
    "\n",
    "- The mean determines the center of the distribution. The standard deviation determines the height and width of the distribution.\n",
    "\n",
    "- Normal distributions are symmetric, bell-shaped curves.\n",
    "\n",
    "- When the standard deviation is large, the curve is short and wide.\n",
    "\n",
    "- When the standard deviation is small, the curve is tall and narrow.\n",
    "\n",
    "![normal distribution](assets/images/normal.png)\n"
   ]
  },
  {
   "cell_type": "markdown",
   "metadata": {},
   "source": [
    "#### Why do we care about normal distributions?\n",
    "\n",
    "- They often show up in nature.\n",
    "- Aggregated processes tend to distribute normally, regardless of their underlying distribution — provided that the processes are uncorrelated or weakly correlated (central limit theorem).\n",
    "- They offer effective simplification that makes it easy to make approximations."
   ]
  },
  {
   "cell_type": "markdown",
   "metadata": {},
   "source": [
    "#### Plot a histogram of 1,000 samples from a random normal distribution:\n",
    "\n",
    "The `np.random.randn(numsamples)` function will draw from a random normal distribution with a mean of 0 and a standard deviation of 1.\n",
    "\n",
    "- To plot a histogram, pass a NumPy array with 1000 samples as the only parameter to `plt.hist()`.\n",
    "- Change the number of bins using the keyword argument `bins`, e.g. `plt.hist(mydata, bins=50)`"
   ]
  },
  {
   "cell_type": "code",
<<<<<<< HEAD
   "execution_count": 119,
   "metadata": {
    "ExecuteTime": {
     "end_time": "2018-04-13T01:29:59.664587Z",
     "start_time": "2018-04-13T01:29:59.645815Z"
    }
   },
=======
   "execution_count": 100,
   "metadata": {},
>>>>>>> :wq
   "outputs": [
    {
     "data": {
      "text/plain": [
<<<<<<< HEAD
       "0   -1.355476\n",
       "1    0.184320\n",
       "2    1.118637\n",
       "3   -0.153387\n",
       "4    1.032764\n",
       "dtype: float64"
      ]
     },
     "execution_count": 119,
=======
       "count    10000.000000\n",
       "mean        -0.006106\n",
       "std          0.997352\n",
       "min         -3.467864\n",
       "25%         -0.682406\n",
       "50%         -0.010142\n",
       "75%          0.673979\n",
       "max          3.840356\n",
       "dtype: float64"
      ]
     },
     "execution_count": 100,
>>>>>>> :wq
     "metadata": {},
     "output_type": "execute_result"
    }
   ],
   "source": [
    "# Plot a histogram of several random normal samples from NumPy.\n",
    "numsample = 10000\n",
    "random_sample = pd.Series(np.random.randn(numsample))\n",
<<<<<<< HEAD
    "random_sample.head()"
   ]
  },
  {
   "cell_type": "code",
   "execution_count": 120,
   "metadata": {
    "ExecuteTime": {
     "end_time": "2018-04-13T01:30:01.709923Z",
     "start_time": "2018-04-13T01:30:01.683513Z"
    }
   },
   "outputs": [
    {
     "data": {
      "text/plain": [
       "count    10000.000000\n",
       "mean        -0.009558\n",
       "std          0.999224\n",
       "min         -4.086363\n",
       "25%         -0.677839\n",
       "50%         -0.021027\n",
       "75%          0.659733\n",
       "max          4.655196\n",
       "dtype: float64"
      ]
     },
     "execution_count": 120,
     "metadata": {},
     "output_type": "execute_result"
    }
   ],
   "source": [
=======
    "random_sample.head()\n",
>>>>>>> :wq
    "random_sample.describe()"
   ]
  },
  {
   "cell_type": "code",
<<<<<<< HEAD
   "execution_count": 121,
   "metadata": {
    "ExecuteTime": {
     "end_time": "2018-04-13T01:30:20.322795Z",
     "start_time": "2018-04-13T01:30:18.966640Z"
    }
   },
   "outputs": [
    {
     "name": "stderr",
     "output_type": "stream",
     "text": [
      "/Users/Stefan/.virtualenvs/datr180320/lib/python3.5/site-packages/matplotlib/axes/_axes.py:6462: UserWarning: The 'normed' kwarg is deprecated, and has been replaced by the 'density' kwarg.\n",
      "  warnings.warn(\"The 'normed' kwarg is deprecated, and has been \"\n"
     ]
    },
    {
     "data": {
      "image/png": "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\n",
      "text/plain": [
       "<Figure size 432x288 with 1 Axes>"
      ]
     },
     "metadata": {},
     "output_type": "display_data"
    }
   ],
   "source": [
    "sns.distplot(random_sample);"
   ]
  },
  {
   "cell_type": "code",
   "execution_count": 117,
   "metadata": {
    "ExecuteTime": {
     "end_time": "2018-04-13T01:29:27.364364Z",
     "start_time": "2018-04-13T01:29:26.863824Z"
    }
   },
   "outputs": [
    {
     "data": {
      "text/plain": [
       "<matplotlib.axes._subplots.AxesSubplot at 0x10b38d1d0>"
      ]
     },
     "execution_count": 117,
     "metadata": {},
     "output_type": "execute_result"
    },
    {
     "data": {
      "image/png": "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\n",
      "text/plain": [
       "<Figure size 432x288 with 1 Axes>"
=======
   "execution_count": 101,
   "metadata": {},
   "outputs": [
    {
     "data": {
      "image/png": "iVBORw0KGgoAAAANSUhEUgAAAZ8AAAD1CAYAAACP+vgcAAAABHNCSVQICAgIfAhkiAAAAAlwSFlz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\nAAAASUVORK5CYII=\n",
      "text/plain": [
       "<matplotlib.figure.Figure at 0x196e4a356a0>"
>>>>>>> :wq
      ]
     },
     "metadata": {},
     "output_type": "display_data"
    }
   ],
   "source": [
<<<<<<< HEAD
    "random_sample.hist()"
=======
    "sns.distplot(random_sample);"
>>>>>>> :wq
   ]
  },
  {
   "cell_type": "markdown",
   "metadata": {},
   "source": [
    "<a id=\"skewness\"></a>\n",
    "###  Skewness\n",
    "- Skewness is a measure of the asymmetry of the distribution of a random variable about its mean.\n",
    "- Skewness can be positive or negative, or even undefined.\n",
    "- Notice that the mean, median, and mode are the same when there is no skew.\n",
    "\n",
    "![skewness](assets/images/skewness---mean-median-mode.jpg)"
   ]
  },
  {
   "cell_type": "markdown",
   "metadata": {},
   "source": [
    "#### Plot a lognormal distribution generated with NumPy.\n",
    "\n",
    "Take 1,000 samples using `np.random.lognormal(size=numsamples)` and plot them on a histogram."
   ]
  },
  {
   "cell_type": "code",
<<<<<<< HEAD
   "execution_count": 123,
   "metadata": {
    "ExecuteTime": {
     "end_time": "2018-04-13T01:32:26.890505Z",
     "start_time": "2018-04-13T01:32:26.145193Z"
    }
   },
   "outputs": [
    {
     "name": "stderr",
     "output_type": "stream",
     "text": [
      "/Users/Stefan/.virtualenvs/datr180320/lib/python3.5/site-packages/matplotlib/axes/_axes.py:6462: UserWarning: The 'normed' kwarg is deprecated, and has been replaced by the 'density' kwarg.\n",
      "  warnings.warn(\"The 'normed' kwarg is deprecated, and has been \"\n"
     ]
    },
    {
     "data": {
      "image/png": "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\n",
      "text/plain": [
       "<Figure size 432x288 with 1 Axes>"
=======
   "execution_count": 102,
   "metadata": {},
   "outputs": [
    {
     "data": {
      "image/png": "iVBORw0KGgoAAAANSUhEUgAAAZkAAAD1CAYAAACC5IhbAAAABHNCSVQICAgIfAhkiAAAAAlwSFlz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\nIyIiHaOQERGRjvn/LDzpAaZz4MAAAAAASUVORK5CYII=\n",
      "text/plain": [
       "<matplotlib.figure.Figure at 0x196e34d4a58>"
>>>>>>> :wq
      ]
     },
     "metadata": {},
     "output_type": "display_data"
    }
   ],
   "source": [
    "# Plot a lognormal distribution generated with NumPy\n",
    "numsample = 10000\n",
<<<<<<< HEAD
    "random_sample = pd.Series(np.random.lognormal(size=numsample))\n",
=======
    "random_sample = pd.Series(np.random.lognormal(size = numsample))\n",
>>>>>>> :wq
    "sns.distplot(random_sample);"
   ]
  },
  {
   "cell_type": "markdown",
   "metadata": {},
   "source": [
    "#####  Real World Application - When mindfullness beats complexity\n",
    "- Skewness is surprisingly important.\n",
    "- Most algorithms implicitly use the mean by default when making approximations.\n",
    "- If you know your data is heavily skewed, you may have to either transform your data or set your algorithms to work with the median."
   ]
  },
  {
   "cell_type": "markdown",
   "metadata": {},
   "source": [
    "<a id=\"kurtosis\"></a>\n",
    "### Kurtosis\n",
    "- Kurtosis is a measure of whether the data are peaked or flat, relative to a normal distribution.\n",
    "- Data sets with high kurtosis tend to have a distinct peak near the mean, decline rather rapidly, and have heavy tails. \n",
    "\n",
    "![kurtosis](assets/images/kurtosis.jpg)"
   ]
  },
  {
   "cell_type": "markdown",
   "metadata": {},
   "source": [
    "####  Real-World Application: Risk Analysis\n",
    "- Long-tailed distributions with high kurtosis elude intuition; we naturally think the event is too improbable to pay attention to.\n",
    "- It's often the case that there is a large cost associated with a low-probability event, as is the case with hurricane damage.\n",
    "- It's unlikely you will get hit by a Category 5 hurricane, but when you do, the damage will be catastrophic.\n",
    "- Pay attention to what happens at the tails and whether this influences the problem at hand.\n",
    "- In these cases, understanding the costs may be more important than understanding the risks."
   ]
  },
  {
   "cell_type": "markdown",
   "metadata": {},
   "source": [
    "<a id=\"determining-the-distribution-of-your-data\"></a>\n",
    "## Determining the Distribution of Your Data\n",
    "---\n",
    "\n",
    "**Objective:** Create basic data visualizations, including scatterplots, box plots, and histograms."
   ]
  },
  {
   "cell_type": "markdown",
   "metadata": {},
   "source": [
    "![](./assets/images/distributions.png)"
   ]
  },
  {
   "cell_type": "markdown",
   "metadata": {},
   "source": [
    "#### Use the `.hist()` function of your Titantic DataFrame to plot histograms of all the variables in your data.\n",
    "\n",
    "- The function `plt.hist(data)` calls the Matplotlib library directly.\n",
    "- However, each DataFrame has its own `hist()` method that by default plots one histogram per column. \n",
    "- Given a DataFrame `my_df`, it can be called like this: `my_df.hist()`. "
   ]
  },
  {
   "cell_type": "code",
<<<<<<< HEAD
   "execution_count": 48,
   "metadata": {
    "ExecuteTime": {
     "end_time": "2018-04-12T21:45:23.907013Z",
     "start_time": "2018-04-12T21:45:23.899969Z"
    }
   },
   "outputs": [],
=======
   "execution_count": 112,
   "metadata": {},
   "outputs": [
    {
     "data": {
      "image/png": "iVBORw0KGgoAAAANSUhEUgAAApcAAACZCAYAAAB6+RHIAAAABHNCSVQICAgIfAhkiAAAAAlwSFlz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\nMHRaAAAAAElFTkSuQmCC\n",
      "text/plain": [
       "<matplotlib.figure.Figure at 0x196e60f9978>"
      ]
     },
     "metadata": {},
     "output_type": "display_data"
    }
   ],
>>>>>>> :wq
   "source": [
    "# Plot all variables in the Titanic data set using histograms:\n",
    "titanic.hist(figsize=(10,2),bins = 30);"
   ]
  },
  {
   "cell_type": "markdown",
   "metadata": {},
   "source": [
    "#### Use the built-in `.plot.box()` function of your Titanic DataFrame to plot box plots of your variables.\n",
    "\n",
    "- Given a DataFrame, a box plot can be made where each column is one tick on the x axis.\n",
    "- To do this, it can be called like this: `my_df.plot.box()`.\n",
    "- Try using the keyword argument `showfliers`, e.g. `showfliers=False`."
   ]
  },
  {
   "cell_type": "code",
<<<<<<< HEAD
   "execution_count": 49,
   "metadata": {
    "ExecuteTime": {
     "end_time": "2018-04-12T21:45:23.922171Z",
     "start_time": "2018-04-12T21:45:23.912024Z"
    }
   },
   "outputs": [],
=======
   "execution_count": 105,
   "metadata": {},
   "outputs": [
    {
     "data": {
      "image/png": "iVBORw0KGgoAAAANSUhEUgAAAZYAAAD1CAYAAABz79PWAAAABHNCSVQICAgIfAhkiAAAAAlwSFlz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\nSUVORK5CYII=\n",
      "text/plain": [
       "<matplotlib.figure.Figure at 0x196e4d50d68>"
      ]
     },
     "metadata": {},
     "output_type": "display_data"
    }
   ],
>>>>>>> :wq
   "source": [
    "# Plotting all histograms can be unweildly; box plots can be more concise:\n",
    "titanic.plot.box(showfliers=False);"
   ]
  },
  {
   "cell_type": "markdown",
   "metadata": {},
   "source": [
    "<a id=\"exercise\"></a>\n",
    "### Exercise\n",
    "\n",
    "1. Look at the Titanic data variables.\n",
    "- Are any of them normal?\n",
    "- Are any skewed?\n",
    "- How might this affect our modeling?"
   ]
  },
  {
   "cell_type": "code",
   "execution_count": null,
   "metadata": {
    "collapsed": true
   },
   "outputs": [],
   "source": []
  },
  {
   "cell_type": "markdown",
   "metadata": {},
   "source": [
    "![](./assets/images/visualization_flow_chart.jpg)"
   ]
  },
  {
   "cell_type": "markdown",
   "metadata": {},
   "source": [
    "<a id=\"topic-review\"></a>\n",
    "## Lesson Review\n",
    "---\n",
    "\n",
    "- We covered several different types of summary statistics, what are they?\n",
    "- We covered three different types of visualizations, which ones?\n",
    "- Describe bias and variance and why they are important.\n",
    "- What are some important characteristics of distributions?\n",
    "\n",
    "**Any further questions?**"
   ]
  },
  {
   "cell_type": "code",
   "execution_count": null,
   "metadata": {},
   "outputs": [],
   "source": []
  }
 ],
 "metadata": {
  "celltoolbar": "Slideshow",
  "kernelspec": {
   "display_name": "Python 3",
   "language": "python",
   "name": "python3"
  },
  "language_info": {
   "codemirror_mode": {
    "name": "ipython",
    "version": 3
   },
   "file_extension": ".py",
   "mimetype": "text/x-python",
   "name": "python",
   "nbconvert_exporter": "python",
   "pygments_lexer": "ipython3",
<<<<<<< HEAD
   "version": "3.5.2"
=======
   "version": "3.6.3"
>>>>>>> :wq
  }
 },
 "nbformat": 4,
 "nbformat_minor": 1
}
